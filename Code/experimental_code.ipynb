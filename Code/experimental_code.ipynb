{
 "cells": [
  {
   "cell_type": "markdown",
   "metadata": {},
   "source": [
    "Pip Install Commands"
   ]
  },
  {
   "cell_type": "code",
   "execution_count": 1,
   "metadata": {},
   "outputs": [
    {
     "name": "stdout",
     "output_type": "stream",
     "text": [
      "Requirement already satisfied: shapely in w:\\program files\\python310\\lib\\site-packages (2.0.3)\n",
      "Requirement already satisfied: numpy<2,>=1.14 in w:\\program files\\python310\\lib\\site-packages (from shapely) (1.26.1)\n",
      "\n",
      "[notice] A new release of pip available: 22.1.2 -> 24.0\n",
      "[notice] To update, run: python.exe -m pip install --upgrade pip\n",
      "Note: you may need to restart the kernel to use updated packages.\n"
     ]
    },
    {
     "name": "stderr",
     "output_type": "stream",
     "text": [
      "WARNING: Ignoring invalid distribution -ensorflow-intel (w:\\program files\\python310\\lib\\site-packages)\n",
      "WARNING: Ignoring invalid distribution -ensorflow-intel (w:\\program files\\python310\\lib\\site-packages)\n",
      "WARNING: Ignoring invalid distribution -ensorflow-intel (w:\\program files\\python310\\lib\\site-packages)\n",
      "WARNING: Ignoring invalid distribution -ensorflow-intel (w:\\program files\\python310\\lib\\site-packages)\n",
      "WARNING: Ignoring invalid distribution -ensorflow-intel (w:\\program files\\python310\\lib\\site-packages)\n",
      "WARNING: Ignoring invalid distribution -ensorflow-intel (w:\\program files\\python310\\lib\\site-packages)\n"
     ]
    },
    {
     "name": "stdout",
     "output_type": "stream",
     "text": [
      "Requirement already satisfied: node2vec in w:\\program files\\python310\\lib\\site-packages (0.4.6)\n",
      "Requirement already satisfied: numpy<2.0.0,>=1.19.5 in w:\\program files\\python310\\lib\\site-packages (from node2vec) (1.26.1)\n",
      "Requirement already satisfied: gensim<5.0.0,>=4.1.2 in w:\\program files\\python310\\lib\\site-packages (from node2vec) (4.3.2)\n",
      "Requirement already satisfied: tqdm<5.0.0,>=4.55.1 in w:\\program files\\python310\\lib\\site-packages (from node2vec) (4.66.1)\n",
      "Requirement already satisfied: networkx<3.0,>=2.5 in w:\\program files\\python310\\lib\\site-packages (from node2vec) (2.8.8)\n",
      "Requirement already satisfied: joblib<2.0.0,>=1.1.0 in w:\\program files\\python310\\lib\\site-packages (from node2vec) (1.3.2)\n",
      "Requirement already satisfied: smart-open>=1.8.1 in w:\\program files\\python310\\lib\\site-packages (from gensim<5.0.0,>=4.1.2->node2vec) (6.4.0)\n",
      "Requirement already satisfied: scipy>=1.7.0 in w:\\program files\\python310\\lib\\site-packages (from gensim<5.0.0,>=4.1.2->node2vec) (1.12.0)\n",
      "Requirement already satisfied: colorama in w:\\program files\\python310\\lib\\site-packages (from tqdm<5.0.0,>=4.55.1->node2vec) (0.4.6)\n",
      "\n",
      "[notice] A new release of pip available: 22.1.2 -> 24.0\n",
      "[notice] To update, run: python.exe -m pip install --upgrade pip\n",
      "Note: you may need to restart the kernel to use updated packages.\n"
     ]
    },
    {
     "name": "stderr",
     "output_type": "stream",
     "text": [
      "WARNING: Ignoring invalid distribution -ensorflow-intel (w:\\program files\\python310\\lib\\site-packages)\n",
      "WARNING: Ignoring invalid distribution -ensorflow-intel (w:\\program files\\python310\\lib\\site-packages)\n",
      "WARNING: Ignoring invalid distribution -ensorflow-intel (w:\\program files\\python310\\lib\\site-packages)\n",
      "WARNING: Ignoring invalid distribution -ensorflow-intel (w:\\program files\\python310\\lib\\site-packages)\n",
      "WARNING: Ignoring invalid distribution -ensorflow-intel (w:\\program files\\python310\\lib\\site-packages)\n",
      "WARNING: Ignoring invalid distribution -ensorflow-intel (w:\\program files\\python310\\lib\\site-packages)\n"
     ]
    }
   ],
   "source": [
    "%pip install shapely\n",
    "%pip install node2vec"
   ]
  },
  {
   "cell_type": "markdown",
   "metadata": {},
   "source": [
    "Libraries"
   ]
  },
  {
   "cell_type": "code",
   "execution_count": 2,
   "metadata": {
    "ExecuteTime": {
     "end_time": "2024-05-19T01:33:28.414764Z",
     "start_time": "2024-05-19T01:33:28.408600Z"
    }
   },
   "outputs": [
    {
     "name": "stderr",
     "output_type": "stream",
     "text": [
      "w:\\Program Files\\Python310\\lib\\site-packages\\tqdm\\auto.py:21: TqdmWarning: IProgress not found. Please update jupyter and ipywidgets. See https://ipywidgets.readthedocs.io/en/stable/user_install.html\n",
      "  from .autonotebook import tqdm as notebook_tqdm\n"
     ]
    }
   ],
   "source": [
    "import os\n",
    "import json\n",
    "import requests\n",
    "import numpy as np\n",
    "import pandas as pd\n",
    "import networkx as nx\n",
    "import matplotlib.pyplot as plt\n",
    "from shapely.prepared import prep\n",
    "from shapely.geometry import mapping, shape, Point\n",
    "from node2vec import Node2Vec\n",
    "from sklearn.cluster import KMeans"
   ]
  },
  {
   "cell_type": "markdown",
   "metadata": {},
   "source": [
    "Const Values"
   ]
  },
  {
   "cell_type": "code",
   "execution_count": 3,
   "metadata": {
    "ExecuteTime": {
     "end_time": "2024-05-19T01:27:45.218121Z",
     "start_time": "2024-05-19T01:27:45.210909Z"
    }
   },
   "outputs": [],
   "source": [
    "YEAR_COLUMN = \"year\"\n",
    "TEMPO_COLUMN = \"tempo\"\n",
    "LOUDNESS_COLUMN = \"loudness\"\n",
    "DURATION_COLUMN = \"duration\"\n",
    "SONG_HOTTTNESSS_COLUMN = \"song_hotttnesss\"\n",
    "ARTIST_HOTTTNESSS_COLUMN = \"artist_hotttnesss\"\n",
    "ARTIST_FAMILIARITY_COLUMN = \"artist_familiarity\"\n",
    "DECADE_COLUMN = \"decade\"\n",
    "\n",
    "NUMERIC_COLUMNS_LIST = [\n",
    "    YEAR_COLUMN,\n",
    "    TEMPO_COLUMN,\n",
    "    LOUDNESS_COLUMN,\n",
    "    DURATION_COLUMN,\n",
    "    SONG_HOTTTNESSS_COLUMN,\n",
    "    ARTIST_HOTTTNESSS_COLUMN,\n",
    "    ARTIST_FAMILIARITY_COLUMN,\n",
    "    DECADE_COLUMN\n",
    "]\n",
    "\n",
    "SONG_TITLE_COLUMN = \"song_title\"\n",
    "COUNTRY_COLUMN = \"country\"\n",
    "ARTIST_LONGITUDE_COLUMN = \"artist_longitude\"\n",
    "ARTIST_LATITUDE_COLUMN = \"artist_latitude\"\n",
    "ARTIST_LOCATION_COLUMN = \"artist_location\"\n",
    "ARTIST_ID_COLUMN = \"artist_id\"\n",
    "SONG_ID_COLUMN = \"song_id\"\n",
    "\n",
    "UNKNOWN_COUNTRY_VALUE = \"unknown\"\n",
    "MUSIC_DATA_FOLDER_PATH = \"../Music Data/\"\n",
    "MODELS_FOLDER_PATH = \"../models/\""
   ]
  },
  {
   "cell_type": "code",
   "execution_count": 4,
   "metadata": {
    "ExecuteTime": {
     "end_time": "2024-05-19T01:27:50.576433Z",
     "start_time": "2024-05-19T01:27:50.568989Z"
    }
   },
   "outputs": [],
   "source": [
    "def get_attribute_node_name(node_type, node_value):\n",
    "    return f\"{node_type} {node_value}\""
   ]
  },
  {
   "cell_type": "markdown",
   "metadata": {},
   "source": [
    "Loading Songs & Artists datasets"
   ]
  },
  {
   "cell_type": "code",
   "execution_count": 5,
   "metadata": {
    "ExecuteTime": {
     "end_time": "2024-05-19T01:27:57.190474Z",
     "start_time": "2024-05-19T01:27:53.037398Z"
    }
   },
   "outputs": [],
   "source": [
    "raw_songs_dataset = pd.read_csv(\"../Data/songs_dataset.csv\")\n",
    "raw_artists_dataset = pd.read_csv(\"../Data/artist_terms.csv\")"
   ]
  },
  {
   "cell_type": "markdown",
   "metadata": {
    "collapsed": false
   },
   "source": [
    "Riaz: Merging datasets based on artist_id<br>\n",
    "In the following cell i am removing the duplicate rows based on `artist_id` and only keep the first record"
   ]
  },
  {
   "cell_type": "code",
   "execution_count": 6,
   "metadata": {
    "ExecuteTime": {
     "end_time": "2024-05-19T01:28:02.377791Z",
     "start_time": "2024-05-19T01:28:01.484221Z"
    },
    "collapsed": false
   },
   "outputs": [],
   "source": [
    "# Remove duplicates from the artist dataset based on artist_id\n",
    "raw_artists_dataset = raw_artists_dataset.drop_duplicates(subset=ARTIST_ID_COLUMN, keep='first')\n",
    "\n",
    "# Merge the datasets on artist_id\n",
    "raw_music_dataset = pd.merge(raw_songs_dataset, raw_artists_dataset, on=ARTIST_ID_COLUMN, how='left')"
   ]
  },
  {
   "cell_type": "markdown",
   "metadata": {
    "collapsed": false
   },
   "source": [
    "In the above cell i merged the datasets based on artist_id and merge was on left join:\n",
    "When you specify how='left', it means that all the keys from the left dataframe (in this case, the raw_songs_dataset dataframe) will be included in the merged dataframe, and only the matching keys from the right dataframe (in this case, the artist_dataset dataframe) will be added.\n",
    "\n",
    "In other words:\n",
    "\n",
    "All rows from the left dataframe (raw_songs_dataset) are retained.\n",
    "If there are matching keys (in this case, artist_id) in the right dataframe (artist_dataset), the corresponding data from the right dataframe will be added to the merged dataframe.\n",
    "If there are no matching keys in the right dataframe, the corresponding columns in the merged dataframe will be filled with NaN (missing values)."
   ]
  },
  {
   "cell_type": "code",
   "execution_count": 7,
   "metadata": {
    "ExecuteTime": {
     "end_time": "2024-05-19T01:28:07.260445Z",
     "start_time": "2024-05-19T01:28:07.218709Z"
    },
    "collapsed": false
   },
   "outputs": [
    {
     "data": {
      "text/html": [
       "<div>\n",
       "<style scoped>\n",
       "    .dataframe tbody tr th:only-of-type {\n",
       "        vertical-align: middle;\n",
       "    }\n",
       "\n",
       "    .dataframe tbody tr th {\n",
       "        vertical-align: top;\n",
       "    }\n",
       "\n",
       "    .dataframe thead th {\n",
       "        text-align: right;\n",
       "    }\n",
       "</style>\n",
       "<table border=\"1\" class=\"dataframe\">\n",
       "  <thead>\n",
       "    <tr style=\"text-align: right;\">\n",
       "      <th></th>\n",
       "      <th>song_id</th>\n",
       "      <th>song_title</th>\n",
       "      <th>year</th>\n",
       "      <th>release</th>\n",
       "      <th>tempo</th>\n",
       "      <th>loudness</th>\n",
       "      <th>duration</th>\n",
       "      <th>song_hotttnesss</th>\n",
       "      <th>artist_id</th>\n",
       "      <th>artist_name</th>\n",
       "      <th>artist_latitude</th>\n",
       "      <th>artist_longitude</th>\n",
       "      <th>artist_location</th>\n",
       "      <th>artist_hotttnesss</th>\n",
       "      <th>artist_familiarity</th>\n",
       "      <th>term</th>\n",
       "    </tr>\n",
       "  </thead>\n",
       "  <tbody>\n",
       "    <tr>\n",
       "      <th>0</th>\n",
       "      <td>SOVFVAK12A8C1350D9</td>\n",
       "      <td>Tanssi vaan</td>\n",
       "      <td>1995.0</td>\n",
       "      <td>Karkuteillä</td>\n",
       "      <td>150.778</td>\n",
       "      <td>-10.555</td>\n",
       "      <td>156.55138</td>\n",
       "      <td>0.299877</td>\n",
       "      <td>ARMVN3U1187FB3A1EB</td>\n",
       "      <td>Karkkiautomaatti</td>\n",
       "      <td>NaN</td>\n",
       "      <td>NaN</td>\n",
       "      <td>NaN</td>\n",
       "      <td>0.356992</td>\n",
       "      <td>0.439604</td>\n",
       "      <td>pop rock</td>\n",
       "    </tr>\n",
       "    <tr>\n",
       "      <th>1</th>\n",
       "      <td>SOGTUKN12AB017F4F1</td>\n",
       "      <td>No One Could Ever</td>\n",
       "      <td>2006.0</td>\n",
       "      <td>Butter</td>\n",
       "      <td>177.768</td>\n",
       "      <td>-2.060</td>\n",
       "      <td>138.97098</td>\n",
       "      <td>0.617871</td>\n",
       "      <td>ARGEKB01187FB50750</td>\n",
       "      <td>Hudson Mohawke</td>\n",
       "      <td>55.8578</td>\n",
       "      <td>-4.24251</td>\n",
       "      <td>Glasgow, Scotland</td>\n",
       "      <td>0.437504</td>\n",
       "      <td>0.643681</td>\n",
       "      <td>broken beat</td>\n",
       "    </tr>\n",
       "    <tr>\n",
       "      <th>2</th>\n",
       "      <td>SOBNYVR12A8C13558C</td>\n",
       "      <td>Si Vos Querés</td>\n",
       "      <td>2003.0</td>\n",
       "      <td>De Culo</td>\n",
       "      <td>87.433</td>\n",
       "      <td>-4.654</td>\n",
       "      <td>145.05751</td>\n",
       "      <td>NaN</td>\n",
       "      <td>ARNWYLR1187B9B2F9C</td>\n",
       "      <td>Yerba Brava</td>\n",
       "      <td>NaN</td>\n",
       "      <td>NaN</td>\n",
       "      <td>NaN</td>\n",
       "      <td>0.372349</td>\n",
       "      <td>0.448501</td>\n",
       "      <td>cumbia</td>\n",
       "    </tr>\n",
       "    <tr>\n",
       "      <th>3</th>\n",
       "      <td>SOHSBXH12A8C13B0DF</td>\n",
       "      <td>Tangle Of Aspens</td>\n",
       "      <td>NaN</td>\n",
       "      <td>Rene Ablaze Presents Winter Sessions</td>\n",
       "      <td>140.035</td>\n",
       "      <td>-7.806</td>\n",
       "      <td>514.29832</td>\n",
       "      <td>NaN</td>\n",
       "      <td>AREQDTE1269FB37231</td>\n",
       "      <td>Der Mystic</td>\n",
       "      <td>NaN</td>\n",
       "      <td>NaN</td>\n",
       "      <td>NaN</td>\n",
       "      <td>0.000000</td>\n",
       "      <td>0.000000</td>\n",
       "      <td>hard trance</td>\n",
       "    </tr>\n",
       "    <tr>\n",
       "      <th>4</th>\n",
       "      <td>SOZVAPQ12A8C13B63C</td>\n",
       "      <td>Symphony No. 1 G minor \"Sinfonie Serieuse\"/All...</td>\n",
       "      <td>NaN</td>\n",
       "      <td>Berwald: Symphonies Nos. 1/2/3/4</td>\n",
       "      <td>90.689</td>\n",
       "      <td>-21.420</td>\n",
       "      <td>816.53506</td>\n",
       "      <td>NaN</td>\n",
       "      <td>AR2NS5Y1187FB5879D</td>\n",
       "      <td>David Montgomery</td>\n",
       "      <td>NaN</td>\n",
       "      <td>NaN</td>\n",
       "      <td>NaN</td>\n",
       "      <td>0.109626</td>\n",
       "      <td>0.361287</td>\n",
       "      <td>ragtime</td>\n",
       "    </tr>\n",
       "  </tbody>\n",
       "</table>\n",
       "</div>"
      ],
      "text/plain": [
       "              song_id                                         song_title  \\\n",
       "0  SOVFVAK12A8C1350D9                                        Tanssi vaan   \n",
       "1  SOGTUKN12AB017F4F1                                  No One Could Ever   \n",
       "2  SOBNYVR12A8C13558C                                      Si Vos Querés   \n",
       "3  SOHSBXH12A8C13B0DF                                   Tangle Of Aspens   \n",
       "4  SOZVAPQ12A8C13B63C  Symphony No. 1 G minor \"Sinfonie Serieuse\"/All...   \n",
       "\n",
       "     year                               release    tempo  loudness   duration  \\\n",
       "0  1995.0                           Karkuteillä  150.778   -10.555  156.55138   \n",
       "1  2006.0                                Butter  177.768    -2.060  138.97098   \n",
       "2  2003.0                               De Culo   87.433    -4.654  145.05751   \n",
       "3     NaN  Rene Ablaze Presents Winter Sessions  140.035    -7.806  514.29832   \n",
       "4     NaN      Berwald: Symphonies Nos. 1/2/3/4   90.689   -21.420  816.53506   \n",
       "\n",
       "   song_hotttnesss           artist_id       artist_name  artist_latitude  \\\n",
       "0         0.299877  ARMVN3U1187FB3A1EB  Karkkiautomaatti              NaN   \n",
       "1         0.617871  ARGEKB01187FB50750    Hudson Mohawke          55.8578   \n",
       "2              NaN  ARNWYLR1187B9B2F9C       Yerba Brava              NaN   \n",
       "3              NaN  AREQDTE1269FB37231        Der Mystic              NaN   \n",
       "4              NaN  AR2NS5Y1187FB5879D  David Montgomery              NaN   \n",
       "\n",
       "   artist_longitude    artist_location  artist_hotttnesss  artist_familiarity  \\\n",
       "0               NaN                NaN           0.356992            0.439604   \n",
       "1          -4.24251  Glasgow, Scotland           0.437504            0.643681   \n",
       "2               NaN                NaN           0.372349            0.448501   \n",
       "3               NaN                NaN           0.000000            0.000000   \n",
       "4               NaN                NaN           0.109626            0.361287   \n",
       "\n",
       "          term  \n",
       "0     pop rock  \n",
       "1  broken beat  \n",
       "2       cumbia  \n",
       "3  hard trance  \n",
       "4      ragtime  "
      ]
     },
     "execution_count": 7,
     "metadata": {},
     "output_type": "execute_result"
    }
   ],
   "source": [
    "raw_music_dataset.head()"
   ]
  },
  {
   "cell_type": "code",
   "execution_count": 8,
   "metadata": {
    "ExecuteTime": {
     "end_time": "2024-05-19T01:28:11.059206Z",
     "start_time": "2024-05-19T01:28:10.505427Z"
    }
   },
   "outputs": [
    {
     "data": {
      "text/plain": [
       "song_id                    0\n",
       "song_title                 2\n",
       "year                  484270\n",
       "release                    7\n",
       "tempo                      0\n",
       "loudness                   0\n",
       "duration                   0\n",
       "song_hotttnesss       417782\n",
       "artist_id                  0\n",
       "artist_name                0\n",
       "artist_latitude       641766\n",
       "artist_longitude      641766\n",
       "artist_location       487546\n",
       "artist_hotttnesss         12\n",
       "artist_familiarity       185\n",
       "term                    3767\n",
       "dtype: int64"
      ]
     },
     "execution_count": 8,
     "metadata": {},
     "output_type": "execute_result"
    }
   ],
   "source": [
    "raw_music_dataset.isna().sum()"
   ]
  },
  {
   "cell_type": "code",
   "execution_count": 9,
   "metadata": {
    "ExecuteTime": {
     "end_time": "2024-05-19T01:28:13.725921Z",
     "start_time": "2024-05-19T01:28:13.169005Z"
    }
   },
   "outputs": [
    {
     "data": {
      "text/plain": [
       "2677103"
      ]
     },
     "execution_count": 9,
     "metadata": {},
     "output_type": "execute_result"
    }
   ],
   "source": [
    "raw_music_dataset.isna().sum().sum()"
   ]
  },
  {
   "cell_type": "markdown",
   "metadata": {},
   "source": [
    "Shartil: For now I am going to delete all rows with missing data."
   ]
  },
  {
   "cell_type": "code",
   "execution_count": 10,
   "metadata": {
    "ExecuteTime": {
     "end_time": "2024-05-19T01:28:17.833561Z",
     "start_time": "2024-05-19T01:28:16.724382Z"
    }
   },
   "outputs": [],
   "source": [
    "music_dataset = raw_music_dataset.dropna()"
   ]
  },
  {
   "cell_type": "code",
   "execution_count": 11,
   "metadata": {
    "ExecuteTime": {
     "end_time": "2024-05-19T01:28:19.254323Z",
     "start_time": "2024-05-19T01:28:19.234570Z"
    }
   },
   "outputs": [
    {
     "data": {
      "text/plain": [
       "126903"
      ]
     },
     "execution_count": 11,
     "metadata": {},
     "output_type": "execute_result"
    }
   ],
   "source": [
    "len(music_dataset)"
   ]
  },
  {
   "cell_type": "markdown",
   "metadata": {},
   "source": [
    "Shartil: Evenly selecing over 1000 songs, and saving them as the final dataframe"
   ]
  },
  {
   "cell_type": "code",
   "execution_count": 12,
   "metadata": {
    "ExecuteTime": {
     "end_time": "2024-05-19T01:28:22.820595Z",
     "start_time": "2024-05-19T01:28:22.769727Z"
    }
   },
   "outputs": [
    {
     "name": "stdout",
     "output_type": "stream",
     "text": [
      "(126903, 16)\n",
      "(1058, 16)\n"
     ]
    }
   ],
   "source": [
    "print(music_dataset.shape)\n",
    "\n",
    "music_dataset = music_dataset.iloc[::120] # returns dataframe with (1058, 13)\n",
    "\n",
    "print(music_dataset.shape)"
   ]
  },
  {
   "cell_type": "markdown",
   "metadata": {},
   "source": [
    "Najeeb: Introducing a new column \"country\" based on Latitude and Longitude."
   ]
  },
  {
   "cell_type": "markdown",
   "metadata": {},
   "source": [
    "This code is used to load geographical data from a Local GeoJSON file, process it, and subsequently determine which country a given set of Latitudes and Logitudes coordinates falls into. The country names extracted from GeoJSON file are then inserted into a new column in a dataset.\n",
    "\n",
    "- The \"json.load\" function reads the file and convert it into a Python dictionary ('geojson_data').\n",
    "\n",
    "- An Empty dictionary named 'countries' is initiated to store the coordinated data associated with each country.\n",
    "\n",
    "- The script iterates over each feature in the 'features' array of the 'geojson_data'. Each features represents a country.\n",
    "\n",
    "- For each feature, the geometry ('geom') and the administrative name of the country is extracted.\n",
    "\n",
    "- The geometry is then processed with a function 'prep' applied to 'shape(geom)'. This likely involves creating a geometric shape from the geometry data and preparing it for fast spatial queries. The processed geometry is dtored in the 'countries' dictionary with the country name as key.\n",
    "\n",
    "- A function 'get_country' is defined which takes longitudes ('lon') and latitude ('lat') as arguments and creates a ('Point') object from coordinates.\n",
    "\n",
    "- It then iterates  over the 'countries' dictionary and check whether the point is contained within any of the country geometrics using the 'contains' method of the geometry.\n",
    "\n",
    "- if a containing country is found, the function returns the country's name. if no containing country is found, it returns a value 'UNKNOWN_COUNTRY_VALUE'\n",
    "\n",
    "- A new column in the dataset ('msic_dataset') is populated by applying 'get_country' function to each row. In this way the country column is added to music_dataset based on latitude and logitude columns.\n"
   ]
  },
  {
   "cell_type": "code",
   "execution_count": 13,
   "metadata": {
    "ExecuteTime": {
     "end_time": "2024-05-19T01:28:31.927310Z",
     "start_time": "2024-05-19T01:28:28.636849Z"
    }
   },
   "outputs": [],
   "source": [
    "# Fetch and process the geojson data from a local file\n",
    "with open(r'../Data/countries.geojson.json', 'r') as file:\n",
    "    geojson_data = json.load(file)\n",
    "\n",
    "countries = {}\n",
    "for feature in geojson_data[\"features\"]:\n",
    "    geom = feature[\"geometry\"]\n",
    "    country = feature[\"properties\"][\"ADMIN\"]\n",
    "    countries[country] = prep(shape(geom))\n",
    "\n",
    "# Function to get country name from latitude and longitude\n",
    "def get_country(lon, lat):\n",
    "    point = Point(lon, lat)\n",
    "    for country, geom in countries.items():\n",
    "        if geom.contains(point):\n",
    "            return country\n",
    "\n",
    "    return UNKNOWN_COUNTRY_VALUE\n",
    "\n",
    "# Apply the function to create a new 'country' column\n",
    "music_dataset[COUNTRY_COLUMN] = music_dataset.apply(\n",
    "    lambda row: get_country(row[ARTIST_LONGITUDE_COLUMN], \n",
    "    row[ARTIST_LATITUDE_COLUMN]), \n",
    "    axis=1\n",
    "    )"
   ]
  },
  {
   "cell_type": "markdown",
   "metadata": {},
   "source": [
    "Shartil: Deleting redundant columns "
   ]
  },
  {
   "cell_type": "code",
   "execution_count": 14,
   "metadata": {
    "ExecuteTime": {
     "end_time": "2024-05-19T01:28:35.140195Z",
     "start_time": "2024-05-19T01:28:35.119153Z"
    }
   },
   "outputs": [],
   "source": [
    "music_dataset = music_dataset.drop(\n",
    "    [\n",
    "        ARTIST_LATITUDE_COLUMN,\n",
    "        ARTIST_LONGITUDE_COLUMN,\n",
    "        ARTIST_LOCATION_COLUMN,\n",
    "        SONG_ID_COLUMN,\n",
    "        ARTIST_ID_COLUMN\n",
    "    ], \n",
    "    axis=1)"
   ]
  },
  {
   "cell_type": "markdown",
   "metadata": {},
   "source": [
    "Shartil: Deleting all rows with \"unknown\" as the country value"
   ]
  },
  {
   "cell_type": "code",
   "execution_count": 15,
   "metadata": {
    "ExecuteTime": {
     "end_time": "2024-05-19T01:28:44.825230Z",
     "start_time": "2024-05-19T01:28:44.804263Z"
    }
   },
   "outputs": [],
   "source": [
    "music_dataset = music_dataset[music_dataset[COUNTRY_COLUMN] != UNKNOWN_COUNTRY_VALUE]"
   ]
  },
  {
   "cell_type": "code",
   "execution_count": 16,
   "metadata": {
    "ExecuteTime": {
     "end_time": "2024-05-19T01:28:47.206995Z",
     "start_time": "2024-05-19T01:28:47.193955Z"
    }
   },
   "outputs": [
    {
     "data": {
      "text/html": [
       "<div>\n",
       "<style scoped>\n",
       "    .dataframe tbody tr th:only-of-type {\n",
       "        vertical-align: middle;\n",
       "    }\n",
       "\n",
       "    .dataframe tbody tr th {\n",
       "        vertical-align: top;\n",
       "    }\n",
       "\n",
       "    .dataframe thead th {\n",
       "        text-align: right;\n",
       "    }\n",
       "</style>\n",
       "<table border=\"1\" class=\"dataframe\">\n",
       "  <thead>\n",
       "    <tr style=\"text-align: right;\">\n",
       "      <th></th>\n",
       "      <th>song_title</th>\n",
       "      <th>year</th>\n",
       "      <th>release</th>\n",
       "      <th>tempo</th>\n",
       "      <th>loudness</th>\n",
       "      <th>duration</th>\n",
       "      <th>song_hotttnesss</th>\n",
       "      <th>artist_name</th>\n",
       "      <th>artist_hotttnesss</th>\n",
       "      <th>artist_familiarity</th>\n",
       "      <th>term</th>\n",
       "      <th>country</th>\n",
       "    </tr>\n",
       "  </thead>\n",
       "  <tbody>\n",
       "    <tr>\n",
       "      <th>0</th>\n",
       "      <td>No One Could Ever</td>\n",
       "      <td>2006.0</td>\n",
       "      <td>Butter</td>\n",
       "      <td>177.768</td>\n",
       "      <td>-2.060</td>\n",
       "      <td>138.97098</td>\n",
       "      <td>0.617871</td>\n",
       "      <td>Hudson Mohawke</td>\n",
       "      <td>0.437504</td>\n",
       "      <td>0.643681</td>\n",
       "      <td>broken beat</td>\n",
       "      <td>United Kingdom</td>\n",
       "    </tr>\n",
       "    <tr>\n",
       "      <th>1</th>\n",
       "      <td>Don't Save It All For Christmas Day</td>\n",
       "      <td>2004.0</td>\n",
       "      <td>Merry Christmas With Love</td>\n",
       "      <td>127.397</td>\n",
       "      <td>-9.149</td>\n",
       "      <td>273.08363</td>\n",
       "      <td>0.732281</td>\n",
       "      <td>Clay Aiken</td>\n",
       "      <td>0.500596</td>\n",
       "      <td>0.852100</td>\n",
       "      <td>teen pop</td>\n",
       "      <td>United States of America</td>\n",
       "    </tr>\n",
       "    <tr>\n",
       "      <th>2</th>\n",
       "      <td>White Lies</td>\n",
       "      <td>2006.0</td>\n",
       "      <td>Rocinate</td>\n",
       "      <td>92.103</td>\n",
       "      <td>-9.323</td>\n",
       "      <td>388.80608</td>\n",
       "      <td>0.417314</td>\n",
       "      <td>Ester Drang</td>\n",
       "      <td>0.330889</td>\n",
       "      <td>0.525616</td>\n",
       "      <td>shoegaze</td>\n",
       "      <td>United States of America</td>\n",
       "    </tr>\n",
       "    <tr>\n",
       "      <th>3</th>\n",
       "      <td>Guess Who I Saw In Paris</td>\n",
       "      <td>1999.0</td>\n",
       "      <td>Sugar Me</td>\n",
       "      <td>105.054</td>\n",
       "      <td>-18.484</td>\n",
       "      <td>170.31791</td>\n",
       "      <td>0.368414</td>\n",
       "      <td>Claudine Longet</td>\n",
       "      <td>0.377489</td>\n",
       "      <td>0.563184</td>\n",
       "      <td>easy listening</td>\n",
       "      <td>France</td>\n",
       "    </tr>\n",
       "    <tr>\n",
       "      <th>4</th>\n",
       "      <td>No More Birthdays (Phil Spector Folk) / San Fr...</td>\n",
       "      <td>2006.0</td>\n",
       "      <td>Born To Please</td>\n",
       "      <td>95.658</td>\n",
       "      <td>-6.141</td>\n",
       "      <td>280.45016</td>\n",
       "      <td>0.000000</td>\n",
       "      <td>Sound Team</td>\n",
       "      <td>0.368423</td>\n",
       "      <td>0.590111</td>\n",
       "      <td>art rock</td>\n",
       "      <td>United States of America</td>\n",
       "    </tr>\n",
       "  </tbody>\n",
       "</table>\n",
       "</div>"
      ],
      "text/plain": [
       "                                          song_title    year  \\\n",
       "0                                  No One Could Ever  2006.0   \n",
       "1                Don't Save It All For Christmas Day  2004.0   \n",
       "2                                         White Lies  2006.0   \n",
       "3                           Guess Who I Saw In Paris  1999.0   \n",
       "4  No More Birthdays (Phil Spector Folk) / San Fr...  2006.0   \n",
       "\n",
       "                     release    tempo  loudness   duration  song_hotttnesss  \\\n",
       "0                     Butter  177.768    -2.060  138.97098         0.617871   \n",
       "1  Merry Christmas With Love  127.397    -9.149  273.08363         0.732281   \n",
       "2                   Rocinate   92.103    -9.323  388.80608         0.417314   \n",
       "3                   Sugar Me  105.054   -18.484  170.31791         0.368414   \n",
       "4             Born To Please   95.658    -6.141  280.45016         0.000000   \n",
       "\n",
       "       artist_name  artist_hotttnesss  artist_familiarity            term  \\\n",
       "0   Hudson Mohawke           0.437504            0.643681     broken beat   \n",
       "1       Clay Aiken           0.500596            0.852100        teen pop   \n",
       "2      Ester Drang           0.330889            0.525616        shoegaze   \n",
       "3  Claudine Longet           0.377489            0.563184  easy listening   \n",
       "4       Sound Team           0.368423            0.590111        art rock   \n",
       "\n",
       "                    country  \n",
       "0            United Kingdom  \n",
       "1  United States of America  \n",
       "2  United States of America  \n",
       "3                    France  \n",
       "4  United States of America  "
      ]
     },
     "execution_count": 16,
     "metadata": {},
     "output_type": "execute_result"
    }
   ],
   "source": [
    "music_dataset.reset_index(drop=True, inplace=True)\n",
    "music_dataset.head()"
   ]
  },
  {
   "cell_type": "code",
   "execution_count": 17,
   "metadata": {
    "ExecuteTime": {
     "end_time": "2024-05-19T01:28:50.600313Z",
     "start_time": "2024-05-19T01:28:50.580561Z"
    }
   },
   "outputs": [
    {
     "data": {
      "text/plain": [
       "(1035, 12)"
      ]
     },
     "execution_count": 17,
     "metadata": {},
     "output_type": "execute_result"
    }
   ],
   "source": [
    "music_dataset.shape"
   ]
  },
  {
   "cell_type": "markdown",
   "metadata": {},
   "source": [
    "Shartil: making sure the final dataset contains 1000 songs"
   ]
  },
  {
   "cell_type": "code",
   "execution_count": 18,
   "metadata": {
    "ExecuteTime": {
     "end_time": "2024-05-19T01:28:54.020927Z",
     "start_time": "2024-05-19T01:28:54.002049Z"
    }
   },
   "outputs": [
    {
     "name": "stdout",
     "output_type": "stream",
     "text": [
      "(1000, 12)\n"
     ]
    }
   ],
   "source": [
    "music_dataset = music_dataset.iloc[:1000] # returns dataframe with 1000 songs\n",
    "\n",
    "print(music_dataset.shape)"
   ]
  },
  {
   "cell_type": "markdown",
   "metadata": {},
   "source": [
    "Shartil: Adding decade column to dataset"
   ]
  },
  {
   "cell_type": "code",
   "execution_count": 19,
   "metadata": {
    "ExecuteTime": {
     "end_time": "2024-05-19T01:28:57.837457Z",
     "start_time": "2024-05-19T01:28:57.827580Z"
    }
   },
   "outputs": [
    {
     "data": {
      "text/html": [
       "<div>\n",
       "<style scoped>\n",
       "    .dataframe tbody tr th:only-of-type {\n",
       "        vertical-align: middle;\n",
       "    }\n",
       "\n",
       "    .dataframe tbody tr th {\n",
       "        vertical-align: top;\n",
       "    }\n",
       "\n",
       "    .dataframe thead th {\n",
       "        text-align: right;\n",
       "    }\n",
       "</style>\n",
       "<table border=\"1\" class=\"dataframe\">\n",
       "  <thead>\n",
       "    <tr style=\"text-align: right;\">\n",
       "      <th></th>\n",
       "      <th>song_title</th>\n",
       "      <th>year</th>\n",
       "      <th>release</th>\n",
       "      <th>tempo</th>\n",
       "      <th>loudness</th>\n",
       "      <th>duration</th>\n",
       "      <th>song_hotttnesss</th>\n",
       "      <th>artist_name</th>\n",
       "      <th>artist_hotttnesss</th>\n",
       "      <th>artist_familiarity</th>\n",
       "      <th>term</th>\n",
       "      <th>country</th>\n",
       "      <th>decade</th>\n",
       "    </tr>\n",
       "  </thead>\n",
       "  <tbody>\n",
       "    <tr>\n",
       "      <th>0</th>\n",
       "      <td>No One Could Ever</td>\n",
       "      <td>2006.0</td>\n",
       "      <td>Butter</td>\n",
       "      <td>177.768</td>\n",
       "      <td>-2.060</td>\n",
       "      <td>138.97098</td>\n",
       "      <td>0.617871</td>\n",
       "      <td>Hudson Mohawke</td>\n",
       "      <td>0.437504</td>\n",
       "      <td>0.643681</td>\n",
       "      <td>broken beat</td>\n",
       "      <td>United Kingdom</td>\n",
       "      <td>2000</td>\n",
       "    </tr>\n",
       "    <tr>\n",
       "      <th>1</th>\n",
       "      <td>Don't Save It All For Christmas Day</td>\n",
       "      <td>2004.0</td>\n",
       "      <td>Merry Christmas With Love</td>\n",
       "      <td>127.397</td>\n",
       "      <td>-9.149</td>\n",
       "      <td>273.08363</td>\n",
       "      <td>0.732281</td>\n",
       "      <td>Clay Aiken</td>\n",
       "      <td>0.500596</td>\n",
       "      <td>0.852100</td>\n",
       "      <td>teen pop</td>\n",
       "      <td>United States of America</td>\n",
       "      <td>2000</td>\n",
       "    </tr>\n",
       "    <tr>\n",
       "      <th>2</th>\n",
       "      <td>White Lies</td>\n",
       "      <td>2006.0</td>\n",
       "      <td>Rocinate</td>\n",
       "      <td>92.103</td>\n",
       "      <td>-9.323</td>\n",
       "      <td>388.80608</td>\n",
       "      <td>0.417314</td>\n",
       "      <td>Ester Drang</td>\n",
       "      <td>0.330889</td>\n",
       "      <td>0.525616</td>\n",
       "      <td>shoegaze</td>\n",
       "      <td>United States of America</td>\n",
       "      <td>2000</td>\n",
       "    </tr>\n",
       "    <tr>\n",
       "      <th>3</th>\n",
       "      <td>Guess Who I Saw In Paris</td>\n",
       "      <td>1999.0</td>\n",
       "      <td>Sugar Me</td>\n",
       "      <td>105.054</td>\n",
       "      <td>-18.484</td>\n",
       "      <td>170.31791</td>\n",
       "      <td>0.368414</td>\n",
       "      <td>Claudine Longet</td>\n",
       "      <td>0.377489</td>\n",
       "      <td>0.563184</td>\n",
       "      <td>easy listening</td>\n",
       "      <td>France</td>\n",
       "      <td>1990</td>\n",
       "    </tr>\n",
       "    <tr>\n",
       "      <th>4</th>\n",
       "      <td>No More Birthdays (Phil Spector Folk) / San Fr...</td>\n",
       "      <td>2006.0</td>\n",
       "      <td>Born To Please</td>\n",
       "      <td>95.658</td>\n",
       "      <td>-6.141</td>\n",
       "      <td>280.45016</td>\n",
       "      <td>0.000000</td>\n",
       "      <td>Sound Team</td>\n",
       "      <td>0.368423</td>\n",
       "      <td>0.590111</td>\n",
       "      <td>art rock</td>\n",
       "      <td>United States of America</td>\n",
       "      <td>2000</td>\n",
       "    </tr>\n",
       "  </tbody>\n",
       "</table>\n",
       "</div>"
      ],
      "text/plain": [
       "                                          song_title    year  \\\n",
       "0                                  No One Could Ever  2006.0   \n",
       "1                Don't Save It All For Christmas Day  2004.0   \n",
       "2                                         White Lies  2006.0   \n",
       "3                           Guess Who I Saw In Paris  1999.0   \n",
       "4  No More Birthdays (Phil Spector Folk) / San Fr...  2006.0   \n",
       "\n",
       "                     release    tempo  loudness   duration  song_hotttnesss  \\\n",
       "0                     Butter  177.768    -2.060  138.97098         0.617871   \n",
       "1  Merry Christmas With Love  127.397    -9.149  273.08363         0.732281   \n",
       "2                   Rocinate   92.103    -9.323  388.80608         0.417314   \n",
       "3                   Sugar Me  105.054   -18.484  170.31791         0.368414   \n",
       "4             Born To Please   95.658    -6.141  280.45016         0.000000   \n",
       "\n",
       "       artist_name  artist_hotttnesss  artist_familiarity            term  \\\n",
       "0   Hudson Mohawke           0.437504            0.643681     broken beat   \n",
       "1       Clay Aiken           0.500596            0.852100        teen pop   \n",
       "2      Ester Drang           0.330889            0.525616        shoegaze   \n",
       "3  Claudine Longet           0.377489            0.563184  easy listening   \n",
       "4       Sound Team           0.368423            0.590111        art rock   \n",
       "\n",
       "                    country  decade  \n",
       "0            United Kingdom    2000  \n",
       "1  United States of America    2000  \n",
       "2  United States of America    2000  \n",
       "3                    France    1990  \n",
       "4  United States of America    2000  "
      ]
     },
     "execution_count": 19,
     "metadata": {},
     "output_type": "execute_result"
    }
   ],
   "source": [
    "music_dataset = music_dataset.assign(decade=lambda row: (row[YEAR_COLUMN].astype(int) // 10) * 10)\n",
    "music_dataset.head()"
   ]
  },
  {
   "cell_type": "code",
   "execution_count": 20,
   "metadata": {
    "ExecuteTime": {
     "end_time": "2024-05-19T01:29:01.004104Z",
     "start_time": "2024-05-19T01:29:00.996957Z"
    }
   },
   "outputs": [],
   "source": [
    "min_decade = music_dataset[DECADE_COLUMN].min()\n",
    "max_decade = music_dataset[DECADE_COLUMN].max()\n",
    "decade_array = np.arange(min_decade, max_decade + 10, 10, dtype=int)"
   ]
  },
  {
   "cell_type": "markdown",
   "metadata": {},
   "source": [
    "Shartil: Saving music_dataset as a CSV file"
   ]
  },
  {
   "cell_type": "code",
   "execution_count": 21,
   "metadata": {
    "ExecuteTime": {
     "end_time": "2024-05-19T01:29:02.337554Z",
     "start_time": "2024-05-19T01:29:02.280795Z"
    }
   },
   "outputs": [],
   "source": [
    "if not os.path.isdir(MUSIC_DATA_FOLDER_PATH):\n",
    "    os.mkdir(MUSIC_DATA_FOLDER_PATH)\n",
    "\n",
    "music_dataset.to_csv(f\"{MUSIC_DATA_FOLDER_PATH}/music_dataset.csv\", mode='w+')"
   ]
  },
  {
   "cell_type": "markdown",
   "metadata": {},
   "source": [
    "Shartil: I will normalize the numeric columns using min max normalization."
   ]
  },
  {
   "cell_type": "code",
   "execution_count": 22,
   "metadata": {
    "ExecuteTime": {
     "end_time": "2024-05-19T01:29:05.548227Z",
     "start_time": "2024-05-19T01:29:05.531995Z"
    }
   },
   "outputs": [],
   "source": [
    "def min_max_normalize_column(df, column_name):\n",
    "    min_val = df[column_name].min()\n",
    "    max_val = df[column_name].max()\n",
    "    \n",
    "    if min_val == max_val:\n",
    "        raise ValueError(\"Cannot normalize column when all values are the same.\")\n",
    "    \n",
    "    df[column_name] = (df[column_name] - min_val) / (max_val - min_val)"
   ]
  },
  {
   "cell_type": "code",
   "execution_count": 23,
   "metadata": {
    "ExecuteTime": {
     "end_time": "2024-05-19T01:29:06.458735Z",
     "start_time": "2024-05-19T01:29:06.449987Z"
    }
   },
   "outputs": [],
   "source": [
    "normalized_music_dataset = music_dataset.copy()\n",
    "\n",
    "for numeric_column in NUMERIC_COLUMNS_LIST:\n",
    "    min_max_normalize_column(normalized_music_dataset, numeric_column)"
   ]
  },
  {
   "cell_type": "code",
   "execution_count": 24,
   "metadata": {
    "ExecuteTime": {
     "end_time": "2024-05-19T01:29:07.327557Z",
     "start_time": "2024-05-19T01:29:07.312581Z"
    }
   },
   "outputs": [
    {
     "data": {
      "text/html": [
       "<div>\n",
       "<style scoped>\n",
       "    .dataframe tbody tr th:only-of-type {\n",
       "        vertical-align: middle;\n",
       "    }\n",
       "\n",
       "    .dataframe tbody tr th {\n",
       "        vertical-align: top;\n",
       "    }\n",
       "\n",
       "    .dataframe thead th {\n",
       "        text-align: right;\n",
       "    }\n",
       "</style>\n",
       "<table border=\"1\" class=\"dataframe\">\n",
       "  <thead>\n",
       "    <tr style=\"text-align: right;\">\n",
       "      <th></th>\n",
       "      <th>song_title</th>\n",
       "      <th>year</th>\n",
       "      <th>release</th>\n",
       "      <th>tempo</th>\n",
       "      <th>loudness</th>\n",
       "      <th>duration</th>\n",
       "      <th>song_hotttnesss</th>\n",
       "      <th>artist_name</th>\n",
       "      <th>artist_hotttnesss</th>\n",
       "      <th>artist_familiarity</th>\n",
       "      <th>term</th>\n",
       "      <th>country</th>\n",
       "      <th>decade</th>\n",
       "    </tr>\n",
       "  </thead>\n",
       "  <tbody>\n",
       "    <tr>\n",
       "      <th>0</th>\n",
       "      <td>No One Could Ever</td>\n",
       "      <td>0.925926</td>\n",
       "      <td>Butter</td>\n",
       "      <td>0.694103</td>\n",
       "      <td>0.999149</td>\n",
       "      <td>0.076051</td>\n",
       "      <td>0.686709</td>\n",
       "      <td>Hudson Mohawke</td>\n",
       "      <td>0.532471</td>\n",
       "      <td>0.612163</td>\n",
       "      <td>broken beat</td>\n",
       "      <td>United Kingdom</td>\n",
       "      <td>0.833333</td>\n",
       "    </tr>\n",
       "    <tr>\n",
       "      <th>1</th>\n",
       "      <td>Don't Save It All For Christmas Day</td>\n",
       "      <td>0.888889</td>\n",
       "      <td>Merry Christmas With Love</td>\n",
       "      <td>0.455336</td>\n",
       "      <td>0.804487</td>\n",
       "      <td>0.164387</td>\n",
       "      <td>0.813866</td>\n",
       "      <td>Clay Aiken</td>\n",
       "      <td>0.609258</td>\n",
       "      <td>0.889696</td>\n",
       "      <td>teen pop</td>\n",
       "      <td>United States of America</td>\n",
       "      <td>0.833333</td>\n",
       "    </tr>\n",
       "    <tr>\n",
       "      <th>2</th>\n",
       "      <td>White Lies</td>\n",
       "      <td>0.925926</td>\n",
       "      <td>Rocinate</td>\n",
       "      <td>0.288036</td>\n",
       "      <td>0.799709</td>\n",
       "      <td>0.240610</td>\n",
       "      <td>0.463807</td>\n",
       "      <td>Ester Drang</td>\n",
       "      <td>0.402714</td>\n",
       "      <td>0.454948</td>\n",
       "      <td>shoegaze</td>\n",
       "      <td>United States of America</td>\n",
       "      <td>0.833333</td>\n",
       "    </tr>\n",
       "    <tr>\n",
       "      <th>3</th>\n",
       "      <td>Guess Who I Saw In Paris</td>\n",
       "      <td>0.796296</td>\n",
       "      <td>Sugar Me</td>\n",
       "      <td>0.349426</td>\n",
       "      <td>0.548151</td>\n",
       "      <td>0.096698</td>\n",
       "      <td>0.409459</td>\n",
       "      <td>Claudine Longet</td>\n",
       "      <td>0.459429</td>\n",
       "      <td>0.504973</td>\n",
       "      <td>easy listening</td>\n",
       "      <td>France</td>\n",
       "      <td>0.666667</td>\n",
       "    </tr>\n",
       "    <tr>\n",
       "      <th>4</th>\n",
       "      <td>No More Birthdays (Phil Spector Folk) / San Fr...</td>\n",
       "      <td>0.925926</td>\n",
       "      <td>Born To Please</td>\n",
       "      <td>0.304888</td>\n",
       "      <td>0.887086</td>\n",
       "      <td>0.169239</td>\n",
       "      <td>0.000000</td>\n",
       "      <td>Sound Team</td>\n",
       "      <td>0.448395</td>\n",
       "      <td>0.540830</td>\n",
       "      <td>art rock</td>\n",
       "      <td>United States of America</td>\n",
       "      <td>0.833333</td>\n",
       "    </tr>\n",
       "  </tbody>\n",
       "</table>\n",
       "</div>"
      ],
      "text/plain": [
       "                                          song_title      year  \\\n",
       "0                                  No One Could Ever  0.925926   \n",
       "1                Don't Save It All For Christmas Day  0.888889   \n",
       "2                                         White Lies  0.925926   \n",
       "3                           Guess Who I Saw In Paris  0.796296   \n",
       "4  No More Birthdays (Phil Spector Folk) / San Fr...  0.925926   \n",
       "\n",
       "                     release     tempo  loudness  duration  song_hotttnesss  \\\n",
       "0                     Butter  0.694103  0.999149  0.076051         0.686709   \n",
       "1  Merry Christmas With Love  0.455336  0.804487  0.164387         0.813866   \n",
       "2                   Rocinate  0.288036  0.799709  0.240610         0.463807   \n",
       "3                   Sugar Me  0.349426  0.548151  0.096698         0.409459   \n",
       "4             Born To Please  0.304888  0.887086  0.169239         0.000000   \n",
       "\n",
       "       artist_name  artist_hotttnesss  artist_familiarity            term  \\\n",
       "0   Hudson Mohawke           0.532471            0.612163     broken beat   \n",
       "1       Clay Aiken           0.609258            0.889696        teen pop   \n",
       "2      Ester Drang           0.402714            0.454948        shoegaze   \n",
       "3  Claudine Longet           0.459429            0.504973  easy listening   \n",
       "4       Sound Team           0.448395            0.540830        art rock   \n",
       "\n",
       "                    country    decade  \n",
       "0            United Kingdom  0.833333  \n",
       "1  United States of America  0.833333  \n",
       "2  United States of America  0.833333  \n",
       "3                    France  0.666667  \n",
       "4  United States of America  0.833333  "
      ]
     },
     "execution_count": 24,
     "metadata": {},
     "output_type": "execute_result"
    }
   ],
   "source": [
    "normalized_music_dataset.head()"
   ]
  },
  {
   "cell_type": "markdown",
   "metadata": {},
   "source": [
    "Shartil: Now I am going to create the graph"
   ]
  },
  {
   "cell_type": "code",
   "execution_count": 25,
   "metadata": {
    "ExecuteTime": {
     "end_time": "2024-05-19T01:29:09.123823Z",
     "start_time": "2024-05-19T01:29:09.115098Z"
    }
   },
   "outputs": [],
   "source": [
    "music_graph = nx.Graph()"
   ]
  },
  {
   "cell_type": "code",
   "execution_count": 26,
   "metadata": {
    "ExecuteTime": {
     "end_time": "2024-05-19T01:29:10.648474Z",
     "start_time": "2024-05-19T01:29:10.583903Z"
    }
   },
   "outputs": [],
   "source": [
    "for current_index, current_row in normalized_music_dataset.iterrows():\n",
    "    node_data_dict = {}\n",
    "\n",
    "    for current_column in NUMERIC_COLUMNS_LIST:\n",
    "        node_data_dict[current_column] = current_row[current_column]\n",
    "\n",
    "    music_graph.add_node(str(current_index), **node_data_dict)"
   ]
  },
  {
   "cell_type": "code",
   "execution_count": 27,
   "metadata": {
    "ExecuteTime": {
     "end_time": "2024-05-19T01:29:11.335992Z",
     "start_time": "2024-05-19T01:29:11.312635Z"
    }
   },
   "outputs": [],
   "source": [
    "# Shartil: adding empty nodes for the decades, which function as main nodes\n",
    "# i.e., all the songs from 1950 will be connected to the 1950 node.\n",
    "# This will save complex logic of connecting all the songs from the decade, and ensuring that the resulted graph will be less complicated.\n",
    "for current_decade in decade_array:\n",
    "    node_name = get_attribute_node_name(DECADE_COLUMN, current_decade)\n",
    "    music_graph.add_node(node_name)"
   ]
  },
  {
   "cell_type": "markdown",
   "metadata": {},
   "source": [
    "Shartil: for now, the graph only has decade nodes & song nodes that contain their matching ID in the dataframe"
   ]
  },
  {
   "cell_type": "code",
   "execution_count": 28,
   "metadata": {
    "ExecuteTime": {
     "end_time": "2024-05-19T01:29:12.827745Z",
     "start_time": "2024-05-19T01:29:12.712398Z"
    }
   },
   "outputs": [
    {
     "name": "stdout",
     "output_type": "stream",
     "text": [
      "Graph with 1007 nodes and 1000 edges\n"
     ]
    }
   ],
   "source": [
    "for index, row in music_dataset.iterrows():\n",
    "    current_decade = row[DECADE_COLUMN]\n",
    "    node_name = get_attribute_node_name(DECADE_COLUMN, current_decade)\n",
    "    music_graph.add_edge(node_name, str(index))\n",
    "\n",
    "print(music_graph)"
   ]
  },
  {
   "cell_type": "markdown",
   "metadata": {
    "collapsed": false
   },
   "source": [
    "Riaz: Node Embeding using node2vec"
   ]
  },
  {
   "cell_type": "code",
   "execution_count": 29,
   "metadata": {
    "ExecuteTime": {
     "end_time": "2024-05-19T01:41:21.241500Z",
     "start_time": "2024-05-19T01:40:06.593448Z"
    },
    "collapsed": false
   },
   "outputs": [
    {
     "name": "stderr",
     "output_type": "stream",
     "text": [
      "Computing transition probabilities: 100%|██████████| 1007/1007 [00:00<00:00, 1158.46it/s]\n"
     ]
    }
   ],
   "source": [
    "# Precompute probabilities and generate walks - **ON WINDOWS ONLY WORKS WITH workers=1**\n",
    "node2vec = Node2Vec(music_graph, dimensions=64, walk_length=10, num_walks=200, workers=4)  # Use temp_folder for big graphs\n",
    "\n",
    "# Embed nodes\n",
    "model = node2vec.fit(window=10, min_count=1, batch_words=4)  # Any keywords acceptable by gensim.Word2Vec can be passed, `dimensions` and `workers` are automatically passed (from the Node2Vec constructor)"
   ]
  },
  {
   "cell_type": "markdown",
   "metadata": {
    "collapsed": false
   },
   "source": [
    "Saving embedding and model into models folder"
   ]
  },
  {
   "cell_type": "code",
   "execution_count": 30,
   "metadata": {
    "ExecuteTime": {
     "end_time": "2024-05-19T01:41:27.075674Z",
     "start_time": "2024-05-19T01:41:26.973112Z"
    },
    "collapsed": false
   },
   "outputs": [],
   "source": [
    "\n",
    "# Save embeddings for later use\n",
    "model.wv.save_word2vec_format(f\"{MODELS_FOLDER_PATH}/embedding\")\n",
    "\n",
    "# Save model for later use\n",
    "model.save(f\"{MODELS_FOLDER_PATH}/node2vec_model\")\n"
   ]
  },
  {
   "cell_type": "markdown",
   "metadata": {},
   "source": [
    "Shartil: get recommendations for given song number in the music dataset, as a test"
   ]
  },
  {
   "cell_type": "code",
   "execution_count": 31,
   "metadata": {},
   "outputs": [],
   "source": [
    "from sklearn.neighbors import NearestNeighbors"
   ]
  },
  {
   "cell_type": "code",
   "execution_count": 32,
   "metadata": {},
   "outputs": [
    {
     "data": {
      "text/plain": [
       "array([ 0.19432029, -0.6078684 ,  0.19364606, -0.28274998,  0.3815564 ,\n",
       "       -0.24867141,  0.5498054 , -0.06055108, -0.5219199 ,  0.6921623 ,\n",
       "        0.86771387,  0.11738546, -0.62505764, -0.06136509, -0.24979027,\n",
       "        0.6280262 ,  0.263913  ,  0.08176871, -0.5111733 ,  0.5435157 ,\n",
       "        1.1702029 ,  0.46662623,  0.33153722, -0.560647  ,  0.13489594,\n",
       "       -0.4098059 , -1.0291281 ,  0.18990469,  0.25756082, -0.46356827,\n",
       "       -0.22386868, -0.45269015,  0.47823468, -0.2659403 , -0.98744357,\n",
       "        0.2228587 ,  0.5236478 , -0.41995445,  0.44932154,  0.26717713,\n",
       "       -0.17641848,  0.00913733,  0.36620948, -0.81678313,  0.1264561 ,\n",
       "        0.58531505, -0.35452816, -0.28390202, -0.29055917, -0.2626169 ,\n",
       "        0.558421  ,  0.65424407,  0.2719845 , -0.2835746 ,  1.0945141 ,\n",
       "        0.7954498 ,  0.097838  , -1.0948516 ,  0.24484769, -0.5390339 ,\n",
       "        0.09333108, -1.0054102 , -0.2661757 , -0.05902018], dtype=float32)"
      ]
     },
     "execution_count": 32,
     "metadata": {},
     "output_type": "execute_result"
    }
   ],
   "source": [
    "user_song = \"166\" # song id\n",
    "user_song_embed = model.wv[user_song]\n",
    "user_song_embed"
   ]
  },
  {
   "cell_type": "code",
   "execution_count": 33,
   "metadata": {},
   "outputs": [
    {
     "name": "stdout",
     "output_type": "stream",
     "text": [
      "1007\n",
      "(1007, 64)\n"
     ]
    }
   ],
   "source": [
    "nodes = list(music_graph.nodes())\n",
    "print(len(nodes)) # print for debug reasons\n",
    "\n",
    "embeddings = np.array([model.wv[str(node)] for node in nodes])\n",
    "print(embeddings.shape) # print for debug reasons"
   ]
  },
  {
   "cell_type": "code",
   "execution_count": 34,
   "metadata": {},
   "outputs": [
    {
     "name": "stdout",
     "output_type": "stream",
     "text": [
      "[[8.42936956e-08 1.24062859e-01 1.27067015e-01 1.27197608e-01\n",
      "  1.37442157e-01 1.39231443e-01]]\n",
      "[[166 145 299  20 973 472]]\n"
     ]
    }
   ],
   "source": [
    "# current song + 5 other\n",
    "nearestNeighborSelector = NearestNeighbors(n_neighbors=6).fit(embeddings)\n",
    "distances, indices = nearestNeighborSelector.kneighbors([user_song_embed])\n",
    "\n",
    "# print for debug reasons\n",
    "print(distances)\n",
    "print(indices)"
   ]
  },
  {
   "cell_type": "code",
   "execution_count": 35,
   "metadata": {},
   "outputs": [
    {
     "data": {
      "text/html": [
       "<div>\n",
       "<style scoped>\n",
       "    .dataframe tbody tr th:only-of-type {\n",
       "        vertical-align: middle;\n",
       "    }\n",
       "\n",
       "    .dataframe tbody tr th {\n",
       "        vertical-align: top;\n",
       "    }\n",
       "\n",
       "    .dataframe thead th {\n",
       "        text-align: right;\n",
       "    }\n",
       "</style>\n",
       "<table border=\"1\" class=\"dataframe\">\n",
       "  <thead>\n",
       "    <tr style=\"text-align: right;\">\n",
       "      <th></th>\n",
       "      <th>song_title</th>\n",
       "      <th>year</th>\n",
       "      <th>release</th>\n",
       "      <th>tempo</th>\n",
       "      <th>loudness</th>\n",
       "      <th>duration</th>\n",
       "      <th>song_hotttnesss</th>\n",
       "      <th>artist_name</th>\n",
       "      <th>artist_hotttnesss</th>\n",
       "      <th>artist_familiarity</th>\n",
       "      <th>term</th>\n",
       "      <th>country</th>\n",
       "      <th>decade</th>\n",
       "    </tr>\n",
       "  </thead>\n",
       "  <tbody>\n",
       "    <tr>\n",
       "      <th>166</th>\n",
       "      <td>GILDED LAMP OF THE COSMOS</td>\n",
       "      <td>1968.0</td>\n",
       "      <td>Behold &amp; See</td>\n",
       "      <td>95.465</td>\n",
       "      <td>-7.527</td>\n",
       "      <td>182.04689</td>\n",
       "      <td>0.60962</td>\n",
       "      <td>Ultimate Spinach</td>\n",
       "      <td>0.430077</td>\n",
       "      <td>0.492727</td>\n",
       "      <td>psychedelic rock</td>\n",
       "      <td>United States of America</td>\n",
       "      <td>1960</td>\n",
       "    </tr>\n",
       "    <tr>\n",
       "      <th>145</th>\n",
       "      <td>Fur Elise/Moonlight Sonata</td>\n",
       "      <td>1968.0</td>\n",
       "      <td>The Beat Goes On</td>\n",
       "      <td>97.238</td>\n",
       "      <td>-15.433</td>\n",
       "      <td>396.12036</td>\n",
       "      <td>0.265861</td>\n",
       "      <td>Vanilla Fudge</td>\n",
       "      <td>0.367345</td>\n",
       "      <td>0.562902</td>\n",
       "      <td>psychedelic rock</td>\n",
       "      <td>United States of America</td>\n",
       "      <td>1960</td>\n",
       "    </tr>\n",
       "    <tr>\n",
       "      <th>299</th>\n",
       "      <td>You Got The Power - To Turn Me On</td>\n",
       "      <td>1968.0</td>\n",
       "      <td>Time Has Come: The Best Of The Chambers Brothers</td>\n",
       "      <td>104.12</td>\n",
       "      <td>-8.451</td>\n",
       "      <td>203.10159</td>\n",
       "      <td>0.0</td>\n",
       "      <td>The Chambers Brothers</td>\n",
       "      <td>0.445587</td>\n",
       "      <td>0.564637</td>\n",
       "      <td>psychedelic rock</td>\n",
       "      <td>United States of America</td>\n",
       "      <td>1960</td>\n",
       "    </tr>\n",
       "    <tr>\n",
       "      <th>20</th>\n",
       "      <td>Roll With It</td>\n",
       "      <td>1968.0</td>\n",
       "      <td>Children Of The Future</td>\n",
       "      <td>102.926</td>\n",
       "      <td>-7.307</td>\n",
       "      <td>150.04689</td>\n",
       "      <td>0.556207</td>\n",
       "      <td>Steve Miller Band</td>\n",
       "      <td>0.469813</td>\n",
       "      <td>0.771815</td>\n",
       "      <td>classic rock</td>\n",
       "      <td>United States of America</td>\n",
       "      <td>1960</td>\n",
       "    </tr>\n",
       "    <tr>\n",
       "      <th>973</th>\n",
       "      <td>Introduction</td>\n",
       "      <td>1969.0</td>\n",
       "      <td>Che Corazón</td>\n",
       "      <td>45.555</td>\n",
       "      <td>-14.265</td>\n",
       "      <td>38.86975</td>\n",
       "      <td>0.334707</td>\n",
       "      <td>Gato Barbieri</td>\n",
       "      <td>0.404426</td>\n",
       "      <td>0.524892</td>\n",
       "      <td>latin jazz</td>\n",
       "      <td>Argentina</td>\n",
       "      <td>1960</td>\n",
       "    </tr>\n",
       "    <tr>\n",
       "      <th>472</th>\n",
       "      <td>If You Should Walk Away</td>\n",
       "      <td>1967.0</td>\n",
       "      <td>The Motown Anthology</td>\n",
       "      <td>160.011</td>\n",
       "      <td>-13.781</td>\n",
       "      <td>192.65261</td>\n",
       "      <td>0.239629</td>\n",
       "      <td>Chris Clark</td>\n",
       "      <td>0.39847</td>\n",
       "      <td>0.597281</td>\n",
       "      <td>motown</td>\n",
       "      <td>United States of America</td>\n",
       "      <td>1960</td>\n",
       "    </tr>\n",
       "  </tbody>\n",
       "</table>\n",
       "</div>"
      ],
      "text/plain": [
       "                            song_title    year  \\\n",
       "166          GILDED LAMP OF THE COSMOS  1968.0   \n",
       "145         Fur Elise/Moonlight Sonata  1968.0   \n",
       "299  You Got The Power - To Turn Me On  1968.0   \n",
       "20                        Roll With It  1968.0   \n",
       "973                       Introduction  1969.0   \n",
       "472            If You Should Walk Away  1967.0   \n",
       "\n",
       "                                              release    tempo loudness  \\\n",
       "166                                      Behold & See   95.465   -7.527   \n",
       "145                                  The Beat Goes On   97.238  -15.433   \n",
       "299  Time Has Come: The Best Of The Chambers Brothers   104.12   -8.451   \n",
       "20                             Children Of The Future  102.926   -7.307   \n",
       "973                                       Che Corazón   45.555  -14.265   \n",
       "472                              The Motown Anthology  160.011  -13.781   \n",
       "\n",
       "      duration song_hotttnesss            artist_name artist_hotttnesss  \\\n",
       "166  182.04689         0.60962       Ultimate Spinach          0.430077   \n",
       "145  396.12036        0.265861          Vanilla Fudge          0.367345   \n",
       "299  203.10159             0.0  The Chambers Brothers          0.445587   \n",
       "20   150.04689        0.556207      Steve Miller Band          0.469813   \n",
       "973   38.86975        0.334707          Gato Barbieri          0.404426   \n",
       "472  192.65261        0.239629            Chris Clark           0.39847   \n",
       "\n",
       "    artist_familiarity              term                   country decade  \n",
       "166           0.492727  psychedelic rock  United States of America   1960  \n",
       "145           0.562902  psychedelic rock  United States of America   1960  \n",
       "299           0.564637  psychedelic rock  United States of America   1960  \n",
       "20            0.771815      classic rock  United States of America   1960  \n",
       "973           0.524892        latin jazz                 Argentina   1960  \n",
       "472           0.597281            motown  United States of America   1960  "
      ]
     },
     "execution_count": 35,
     "metadata": {},
     "output_type": "execute_result"
    }
   ],
   "source": [
    "song_output = []\n",
    "for current_index in indices[0]:\n",
    "    current_row = music_dataset.loc[current_index]\n",
    "    song_output.append(current_row)\n",
    "\n",
    "pd.concat(song_output, axis=1).T"
   ]
  }
 ],
 "metadata": {
  "kernelspec": {
   "display_name": "Python 3.10.5 64-bit",
   "language": "python",
   "name": "python3"
  },
  "language_info": {
   "codemirror_mode": {
    "name": "ipython",
    "version": 3
   },
   "file_extension": ".py",
   "mimetype": "text/x-python",
   "name": "python",
   "nbconvert_exporter": "python",
   "pygments_lexer": "ipython3",
   "version": "3.10.5"
  },
  "orig_nbformat": 4,
  "vscode": {
   "interpreter": {
    "hash": "3a5cfde8991b0f64e8bcd60a397bea8dc10ed042aefe1441fd3daa2ae2091421"
   }
  }
 },
 "nbformat": 4,
 "nbformat_minor": 2
}
