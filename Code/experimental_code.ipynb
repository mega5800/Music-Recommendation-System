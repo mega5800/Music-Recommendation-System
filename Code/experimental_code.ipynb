{
 "cells": [
  {
   "cell_type": "markdown",
   "metadata": {},
   "source": [
    "Pip Install Commands"
   ]
  },
  {
   "cell_type": "code",
   "execution_count": 1,
   "metadata": {},
   "outputs": [
    {
     "name": "stdout",
     "output_type": "stream",
     "text": [
      "Requirement already satisfied: shapely in c:\\users\\najee\\appdata\\local\\programs\\python\\python312\\lib\\site-packages (2.0.3)\n",
      "Requirement already satisfied: numpy<2,>=1.14 in c:\\users\\najee\\appdata\\local\\programs\\python\\python312\\lib\\site-packages (from shapely) (1.26.2)\n",
      "Note: you may need to restart the kernel to use updated packages.\n"
     ]
    }
   ],
   "source": [
    "%pip install shapely"
   ]
  },
  {
   "cell_type": "markdown",
   "metadata": {},
   "source": [
    "Libraries"
   ]
  },
  {
   "cell_type": "code",
   "execution_count": 2,
   "metadata": {
    "ExecuteTime": {
     "end_time": "2024-05-09T19:53:33.841392Z",
     "start_time": "2024-05-09T19:53:33.832597Z"
    }
   },
   "outputs": [],
   "source": [
    "import os\n",
    "import json\n",
    "import requests\n",
    "import numpy as np\n",
    "import pandas as pd\n",
    "import networkx as nx\n",
    "from shapely.prepared import prep\n",
    "from shapely.geometry import mapping, shape, Point"
   ]
  },
  {
   "cell_type": "markdown",
   "metadata": {},
   "source": [
    "Const Values"
   ]
  },
  {
   "cell_type": "code",
   "execution_count": 3,
   "metadata": {
    "ExecuteTime": {
     "end_time": "2024-05-09T19:53:36.560103Z",
     "start_time": "2024-05-09T19:53:36.548771Z"
    }
   },
   "outputs": [],
   "source": [
    "YEAR_COLUMN_NAME = \"year\"\n",
    "DECADE_COLUMN_NAME = \"decade\"\n",
    "SONG_TITLE_COLUMN_NAME = \"song_title\"\n",
    "COUNTRY_COLUMN_NAME = \"country\"\n",
    "ARTIST_LONGITUDE_COLUMN_NAME = \"artist_longitude\"\n",
    "ARTIST_LATITUDE_COLUMN_NAME = \"artist_latitude\"\n",
    "ARTIST_LOCATION_COLUMN_NAME = \"artist_location\"\n",
    "ARTIST_ID_COLUMN_NAME = \"artist_id\"\n",
    "SONG_ID_COLUMN_NAME = \"song_id\"\n",
    "\n",
    "UNKNOWN_COUNTRY_VALUE = \"unknown\"\n",
    "MUSIC_DATA_FOLDER_PATH = \"../Music Data/\""
   ]
  },
  {
   "cell_type": "markdown",
   "metadata": {},
   "source": [
    "Loading Songs & Artists datasets"
   ]
  },
  {
   "cell_type": "code",
   "execution_count": 4,
   "metadata": {
    "ExecuteTime": {
     "end_time": "2024-05-09T20:11:28.034833Z",
     "start_time": "2024-05-09T20:11:24.011951Z"
    }
   },
   "outputs": [],
   "source": [
    "raw_songs_dataset = pd.read_csv(\"../Data/songs_dataset.csv\")\n",
    "raw_artists_dataset = pd.read_csv(\"../Data/artist_terms.csv\")"
   ]
  },
  {
   "cell_type": "markdown",
   "metadata": {
    "collapsed": false
   },
   "source": [
    "Riaz: Merging datasets based on artist_id<br>\n",
    "In the following cell i am removing the duplicate rows based on `artist_id` and only keep the first record"
   ]
  },
  {
   "cell_type": "code",
   "execution_count": 5,
   "metadata": {
    "ExecuteTime": {
     "end_time": "2024-05-09T21:07:59.142766Z",
     "start_time": "2024-05-09T21:07:59.126261Z"
    },
    "collapsed": false
   },
   "outputs": [],
   "source": [
    "# Remove duplicates from the artist dataset based on artist_id\n",
    "raw_artists_dataset = raw_artists_dataset.drop_duplicates(subset=ARTIST_ID_COLUMN_NAME, keep='first')\n",
    "\n",
    "# Merge the datasets on artist_id\n",
    "raw_music_dataset = pd.merge(raw_songs_dataset, raw_artists_dataset, on=ARTIST_ID_COLUMN_NAME, how='left')"
   ]
  },
  {
   "cell_type": "markdown",
   "metadata": {
    "collapsed": false
   },
   "source": [
    "In the above cell i merged the datasets based on artist_id and merge was on left join:\n",
    "When you specify how='left', it means that all the keys from the left dataframe (in this case, the raw_songs_dataset dataframe) will be included in the merged dataframe, and only the matching keys from the right dataframe (in this case, the artist_dataset dataframe) will be added.\n",
    "\n",
    "In other words:\n",
    "\n",
    "All rows from the left dataframe (raw_songs_dataset) are retained.\n",
    "If there are matching keys (in this case, artist_id) in the right dataframe (artist_dataset), the corresponding data from the right dataframe will be added to the merged dataframe.\n",
    "If there are no matching keys in the right dataframe, the corresponding columns in the merged dataframe will be filled with NaN (missing values)."
   ]
  },
  {
   "cell_type": "code",
   "execution_count": 6,
   "metadata": {
    "ExecuteTime": {
     "end_time": "2024-05-09T21:13:30.414596Z",
     "start_time": "2024-05-09T21:13:30.405029Z"
    },
    "collapsed": false
   },
   "outputs": [
    {
     "data": {
      "text/html": [
       "<div>\n",
       "<style scoped>\n",
       "    .dataframe tbody tr th:only-of-type {\n",
       "        vertical-align: middle;\n",
       "    }\n",
       "\n",
       "    .dataframe tbody tr th {\n",
       "        vertical-align: top;\n",
       "    }\n",
       "\n",
       "    .dataframe thead th {\n",
       "        text-align: right;\n",
       "    }\n",
       "</style>\n",
       "<table border=\"1\" class=\"dataframe\">\n",
       "  <thead>\n",
       "    <tr style=\"text-align: right;\">\n",
       "      <th></th>\n",
       "      <th>song_id</th>\n",
       "      <th>song_title</th>\n",
       "      <th>year</th>\n",
       "      <th>release</th>\n",
       "      <th>tempo</th>\n",
       "      <th>loudness</th>\n",
       "      <th>duration</th>\n",
       "      <th>song_hotttnesss</th>\n",
       "      <th>artist_id</th>\n",
       "      <th>artist_name</th>\n",
       "      <th>artist_latitude</th>\n",
       "      <th>artist_longitude</th>\n",
       "      <th>artist_location</th>\n",
       "      <th>artist_hotttnesss</th>\n",
       "      <th>artist_familiarity</th>\n",
       "      <th>term</th>\n",
       "    </tr>\n",
       "  </thead>\n",
       "  <tbody>\n",
       "    <tr>\n",
       "      <th>0</th>\n",
       "      <td>SOVFVAK12A8C1350D9</td>\n",
       "      <td>Tanssi vaan</td>\n",
       "      <td>1995.0</td>\n",
       "      <td>Karkuteillä</td>\n",
       "      <td>150.778</td>\n",
       "      <td>-10.555</td>\n",
       "      <td>156.55138</td>\n",
       "      <td>0.299877</td>\n",
       "      <td>ARMVN3U1187FB3A1EB</td>\n",
       "      <td>Karkkiautomaatti</td>\n",
       "      <td>NaN</td>\n",
       "      <td>NaN</td>\n",
       "      <td>NaN</td>\n",
       "      <td>0.356992</td>\n",
       "      <td>0.439604</td>\n",
       "      <td>pop rock</td>\n",
       "    </tr>\n",
       "    <tr>\n",
       "      <th>1</th>\n",
       "      <td>SOGTUKN12AB017F4F1</td>\n",
       "      <td>No One Could Ever</td>\n",
       "      <td>2006.0</td>\n",
       "      <td>Butter</td>\n",
       "      <td>177.768</td>\n",
       "      <td>-2.060</td>\n",
       "      <td>138.97098</td>\n",
       "      <td>0.617871</td>\n",
       "      <td>ARGEKB01187FB50750</td>\n",
       "      <td>Hudson Mohawke</td>\n",
       "      <td>55.8578</td>\n",
       "      <td>-4.24251</td>\n",
       "      <td>Glasgow, Scotland</td>\n",
       "      <td>0.437504</td>\n",
       "      <td>0.643681</td>\n",
       "      <td>broken beat</td>\n",
       "    </tr>\n",
       "    <tr>\n",
       "      <th>2</th>\n",
       "      <td>SOBNYVR12A8C13558C</td>\n",
       "      <td>Si Vos Querés</td>\n",
       "      <td>2003.0</td>\n",
       "      <td>De Culo</td>\n",
       "      <td>87.433</td>\n",
       "      <td>-4.654</td>\n",
       "      <td>145.05751</td>\n",
       "      <td>NaN</td>\n",
       "      <td>ARNWYLR1187B9B2F9C</td>\n",
       "      <td>Yerba Brava</td>\n",
       "      <td>NaN</td>\n",
       "      <td>NaN</td>\n",
       "      <td>NaN</td>\n",
       "      <td>0.372349</td>\n",
       "      <td>0.448501</td>\n",
       "      <td>cumbia</td>\n",
       "    </tr>\n",
       "    <tr>\n",
       "      <th>3</th>\n",
       "      <td>SOHSBXH12A8C13B0DF</td>\n",
       "      <td>Tangle Of Aspens</td>\n",
       "      <td>NaN</td>\n",
       "      <td>Rene Ablaze Presents Winter Sessions</td>\n",
       "      <td>140.035</td>\n",
       "      <td>-7.806</td>\n",
       "      <td>514.29832</td>\n",
       "      <td>NaN</td>\n",
       "      <td>AREQDTE1269FB37231</td>\n",
       "      <td>Der Mystic</td>\n",
       "      <td>NaN</td>\n",
       "      <td>NaN</td>\n",
       "      <td>NaN</td>\n",
       "      <td>0.000000</td>\n",
       "      <td>0.000000</td>\n",
       "      <td>hard trance</td>\n",
       "    </tr>\n",
       "    <tr>\n",
       "      <th>4</th>\n",
       "      <td>SOZVAPQ12A8C13B63C</td>\n",
       "      <td>Symphony No. 1 G minor \"Sinfonie Serieuse\"/All...</td>\n",
       "      <td>NaN</td>\n",
       "      <td>Berwald: Symphonies Nos. 1/2/3/4</td>\n",
       "      <td>90.689</td>\n",
       "      <td>-21.420</td>\n",
       "      <td>816.53506</td>\n",
       "      <td>NaN</td>\n",
       "      <td>AR2NS5Y1187FB5879D</td>\n",
       "      <td>David Montgomery</td>\n",
       "      <td>NaN</td>\n",
       "      <td>NaN</td>\n",
       "      <td>NaN</td>\n",
       "      <td>0.109626</td>\n",
       "      <td>0.361287</td>\n",
       "      <td>ragtime</td>\n",
       "    </tr>\n",
       "  </tbody>\n",
       "</table>\n",
       "</div>"
      ],
      "text/plain": [
       "              song_id                                         song_title  \\\n",
       "0  SOVFVAK12A8C1350D9                                        Tanssi vaan   \n",
       "1  SOGTUKN12AB017F4F1                                  No One Could Ever   \n",
       "2  SOBNYVR12A8C13558C                                      Si Vos Querés   \n",
       "3  SOHSBXH12A8C13B0DF                                   Tangle Of Aspens   \n",
       "4  SOZVAPQ12A8C13B63C  Symphony No. 1 G minor \"Sinfonie Serieuse\"/All...   \n",
       "\n",
       "     year                               release    tempo  loudness   duration  \\\n",
       "0  1995.0                           Karkuteillä  150.778   -10.555  156.55138   \n",
       "1  2006.0                                Butter  177.768    -2.060  138.97098   \n",
       "2  2003.0                               De Culo   87.433    -4.654  145.05751   \n",
       "3     NaN  Rene Ablaze Presents Winter Sessions  140.035    -7.806  514.29832   \n",
       "4     NaN      Berwald: Symphonies Nos. 1/2/3/4   90.689   -21.420  816.53506   \n",
       "\n",
       "   song_hotttnesss           artist_id       artist_name  artist_latitude  \\\n",
       "0         0.299877  ARMVN3U1187FB3A1EB  Karkkiautomaatti              NaN   \n",
       "1         0.617871  ARGEKB01187FB50750    Hudson Mohawke          55.8578   \n",
       "2              NaN  ARNWYLR1187B9B2F9C       Yerba Brava              NaN   \n",
       "3              NaN  AREQDTE1269FB37231        Der Mystic              NaN   \n",
       "4              NaN  AR2NS5Y1187FB5879D  David Montgomery              NaN   \n",
       "\n",
       "   artist_longitude    artist_location  artist_hotttnesss  artist_familiarity  \\\n",
       "0               NaN                NaN           0.356992            0.439604   \n",
       "1          -4.24251  Glasgow, Scotland           0.437504            0.643681   \n",
       "2               NaN                NaN           0.372349            0.448501   \n",
       "3               NaN                NaN           0.000000            0.000000   \n",
       "4               NaN                NaN           0.109626            0.361287   \n",
       "\n",
       "          term  \n",
       "0     pop rock  \n",
       "1  broken beat  \n",
       "2       cumbia  \n",
       "3  hard trance  \n",
       "4      ragtime  "
      ]
     },
     "execution_count": 6,
     "metadata": {},
     "output_type": "execute_result"
    }
   ],
   "source": [
    "raw_music_dataset.head()"
   ]
  },
  {
   "cell_type": "code",
   "execution_count": 7,
   "metadata": {},
   "outputs": [
    {
     "data": {
      "text/plain": [
       "song_id                    0\n",
       "song_title                 2\n",
       "year                  484270\n",
       "release                    7\n",
       "tempo                      0\n",
       "loudness                   0\n",
       "duration                   0\n",
       "song_hotttnesss       417782\n",
       "artist_id                  0\n",
       "artist_name                0\n",
       "artist_latitude       641766\n",
       "artist_longitude      641766\n",
       "artist_location       487546\n",
       "artist_hotttnesss         12\n",
       "artist_familiarity       185\n",
       "term                    3767\n",
       "dtype: int64"
      ]
     },
     "execution_count": 7,
     "metadata": {},
     "output_type": "execute_result"
    }
   ],
   "source": [
    "raw_music_dataset.isna().sum()"
   ]
  },
  {
   "cell_type": "code",
   "execution_count": 8,
   "metadata": {},
   "outputs": [
    {
     "data": {
      "text/plain": [
       "2677103"
      ]
     },
     "execution_count": 8,
     "metadata": {},
     "output_type": "execute_result"
    }
   ],
   "source": [
    "raw_music_dataset.isna().sum().sum()"
   ]
  },
  {
   "cell_type": "markdown",
   "metadata": {},
   "source": [
    "Shartil: For now I am going to delete all rows with missing data."
   ]
  },
  {
   "cell_type": "code",
   "execution_count": 9,
   "metadata": {},
   "outputs": [],
   "source": [
    "music_dataset = raw_music_dataset.dropna()"
   ]
  },
  {
   "cell_type": "code",
   "execution_count": 10,
   "metadata": {},
   "outputs": [
    {
     "data": {
      "text/plain": [
       "126903"
      ]
     },
     "execution_count": 10,
     "metadata": {},
     "output_type": "execute_result"
    }
   ],
   "source": [
    "len(music_dataset)"
   ]
  },
  {
   "cell_type": "markdown",
   "metadata": {},
   "source": [
    "Shartil: Adding decade column to dataset"
   ]
  },
  {
   "cell_type": "code",
   "execution_count": 11,
   "metadata": {},
   "outputs": [],
   "source": [
    "music_dataset = music_dataset.assign(decade=lambda row: (row[YEAR_COLUMN_NAME].astype(int) // 10) * 10)"
   ]
  },
  {
   "cell_type": "code",
   "execution_count": 12,
   "metadata": {},
   "outputs": [],
   "source": [
    "min_decade = music_dataset[DECADE_COLUMN_NAME].min()\n",
    "max_decade = music_dataset[DECADE_COLUMN_NAME].max()\n",
    "\n",
    "decade_array = np.linspace(min_decade, max_decade, 10, dtype=int)"
   ]
  },
  {
   "cell_type": "markdown",
   "metadata": {},
   "source": [
    "Shartil: Evenly selecing 1000 songs, and saving them as the final dataframe"
   ]
  },
  {
   "cell_type": "code",
   "execution_count": 13,
   "metadata": {},
   "outputs": [
    {
     "name": "stdout",
     "output_type": "stream",
     "text": [
      "(126903, 17)\n",
      "(1000, 17)\n"
     ]
    }
   ],
   "source": [
    "print(music_dataset.shape)\n",
    "\n",
    "music_dataset = music_dataset.iloc[::127] # returns dataframe with (1000, 13)\n",
    "\n",
    "print(music_dataset.shape)"
   ]
  },
  {
   "cell_type": "markdown",
   "metadata": {},
   "source": [
    "Najeeb: Introducing a new column \"country\" based on Latitude and Longitude."
   ]
  },
  {
   "cell_type": "markdown",
   "metadata": {},
   "source": [
    "This code is used to load geographical data from a Local GeoJSON file, process it, and subsequently determine which country a given set of Latitudes and Logitudes coordinates falls into. The country names extracted from GeoJSON file are then inserted into a new column in a dataset.\n",
    "\n",
    "- The \"json.load\" function reads the file and convert it into a Python dictionary ('geojson_data').\n",
    "\n",
    "- An Empty dictionary named 'countries' is initiated to store the coordinated data associated with each country.\n",
    "\n",
    "- The script iterates over each feature in the 'features' array of the 'geojson_data'. Each features represents a country.\n",
    "\n",
    "- For each feature, the geometry ('geom') and the administrative name of the country is extracted.\n",
    "\n",
    "- The geometry is then processed with a function 'prep' applied to 'shape(geom)'. This likely involves creating a geometric shape from the geometry data and preparing it for fast spatial queries. The processed geometry is dtored in the 'countries' dictionary with the country name as key.\n",
    "\n",
    "- A function 'get_country' is defined which takes longitudes ('lon') and latitude ('lat') as arguments and creates a ('Point') object from coordinates.\n",
    "\n",
    "- It then iterates  over the 'countries' dictionary and check whether the point is contained within any of the country geometrics using the 'contains' method of the geometry.\n",
    "\n",
    "- if a containing country is found, the function returns the country's name. if no containing country is found, it returns a value 'UNKNOWN_COUNTRY_VALUE'\n",
    "\n",
    "- A new column in the dataset ('msic_dataset') is populated by applying 'get_country' function to each row. In this way the country column is added to music_dataset based on latitude and logitude columns.\n"
   ]
  },
  {
   "cell_type": "code",
   "execution_count": 14,
   "metadata": {},
   "outputs": [],
   "source": [
    "# Fetch and process the geojson data from a local file\n",
    "with open(r'..\\Data\\countries.geojson.json', 'r') as file:\n",
    "    geojson_data = json.load(file)\n",
    "\n",
    "countries = {}\n",
    "for feature in geojson_data[\"features\"]:\n",
    "    geom = feature[\"geometry\"]\n",
    "    country = feature[\"properties\"][\"ADMIN\"]\n",
    "    countries[country] = prep(shape(geom))\n",
    "\n",
    "# Function to get country name from latitude and longitude\n",
    "def get_country(lon, lat):\n",
    "    point = Point(lon, lat)\n",
    "    for country, geom in countries.items():\n",
    "        if geom.contains(point):\n",
    "            return country\n",
    "\n",
    "    return UNKNOWN_COUNTRY_VALUE\n",
    "\n",
    "# Apply the function to create a new 'country' column\n",
    "music_dataset[COUNTRY_COLUMN_NAME] = music_dataset.apply(\n",
    "    lambda row: get_country(row[ARTIST_LONGITUDE_COLUMN_NAME], \n",
    "    row[ARTIST_LATITUDE_COLUMN_NAME]), \n",
    "    axis=1\n",
    "    )"
   ]
  },
  {
   "cell_type": "markdown",
   "metadata": {},
   "source": [
    "Shartil: Deleting redundant columns "
   ]
  },
  {
   "cell_type": "code",
   "execution_count": 15,
   "metadata": {},
   "outputs": [],
   "source": [
    "music_dataset = music_dataset.drop(\n",
    "    [\n",
    "        ARTIST_LATITUDE_COLUMN_NAME,\n",
    "        ARTIST_LONGITUDE_COLUMN_NAME,\n",
    "        ARTIST_LOCATION_COLUMN_NAME,\n",
    "        SONG_ID_COLUMN_NAME,\n",
    "        ARTIST_ID_COLUMN_NAME\n",
    "    ], \n",
    "    axis=1)"
   ]
  },
  {
   "cell_type": "markdown",
   "metadata": {},
   "source": [
    "Shartil: Deleting all rows with \"unknown\" as the country value"
   ]
  },
  {
   "cell_type": "code",
   "execution_count": 16,
   "metadata": {},
   "outputs": [],
   "source": [
    "music_dataset = music_dataset[music_dataset[COUNTRY_COLUMN_NAME] != UNKNOWN_COUNTRY_VALUE]"
   ]
  },
  {
   "cell_type": "code",
   "execution_count": 17,
   "metadata": {},
   "outputs": [
    {
     "data": {
      "text/html": [
       "<div>\n",
       "<style scoped>\n",
       "    .dataframe tbody tr th:only-of-type {\n",
       "        vertical-align: middle;\n",
       "    }\n",
       "\n",
       "    .dataframe tbody tr th {\n",
       "        vertical-align: top;\n",
       "    }\n",
       "\n",
       "    .dataframe thead th {\n",
       "        text-align: right;\n",
       "    }\n",
       "</style>\n",
       "<table border=\"1\" class=\"dataframe\">\n",
       "  <thead>\n",
       "    <tr style=\"text-align: right;\">\n",
       "      <th></th>\n",
       "      <th>song_title</th>\n",
       "      <th>year</th>\n",
       "      <th>release</th>\n",
       "      <th>tempo</th>\n",
       "      <th>loudness</th>\n",
       "      <th>duration</th>\n",
       "      <th>song_hotttnesss</th>\n",
       "      <th>artist_name</th>\n",
       "      <th>artist_hotttnesss</th>\n",
       "      <th>artist_familiarity</th>\n",
       "      <th>term</th>\n",
       "      <th>decade</th>\n",
       "      <th>country</th>\n",
       "    </tr>\n",
       "  </thead>\n",
       "  <tbody>\n",
       "    <tr>\n",
       "      <th>0</th>\n",
       "      <td>No One Could Ever</td>\n",
       "      <td>2006.0</td>\n",
       "      <td>Butter</td>\n",
       "      <td>177.768</td>\n",
       "      <td>-2.060</td>\n",
       "      <td>138.97098</td>\n",
       "      <td>0.617871</td>\n",
       "      <td>Hudson Mohawke</td>\n",
       "      <td>0.437504</td>\n",
       "      <td>0.643681</td>\n",
       "      <td>broken beat</td>\n",
       "      <td>2000</td>\n",
       "      <td>United Kingdom</td>\n",
       "    </tr>\n",
       "    <tr>\n",
       "      <th>1</th>\n",
       "      <td>Medicine</td>\n",
       "      <td>2002.0</td>\n",
       "      <td>Closed.</td>\n",
       "      <td>131.246</td>\n",
       "      <td>-8.216</td>\n",
       "      <td>215.14404</td>\n",
       "      <td>0.505487</td>\n",
       "      <td>Drag The River</td>\n",
       "      <td>0.417750</td>\n",
       "      <td>0.612363</td>\n",
       "      <td>alternative country</td>\n",
       "      <td>2000</td>\n",
       "      <td>United States of America</td>\n",
       "    </tr>\n",
       "    <tr>\n",
       "      <th>2</th>\n",
       "      <td>Wild Thing</td>\n",
       "      <td>1966.0</td>\n",
       "      <td>All The Hits Plus More By The Troggs</td>\n",
       "      <td>104.824</td>\n",
       "      <td>-13.375</td>\n",
       "      <td>162.53342</td>\n",
       "      <td>0.424091</td>\n",
       "      <td>The Troggs</td>\n",
       "      <td>0.456893</td>\n",
       "      <td>0.688242</td>\n",
       "      <td>british invasion</td>\n",
       "      <td>1960</td>\n",
       "      <td>United Kingdom</td>\n",
       "    </tr>\n",
       "    <tr>\n",
       "      <th>3</th>\n",
       "      <td>Walk In The Fire</td>\n",
       "      <td>1989.0</td>\n",
       "      <td>Walk In The Fire</td>\n",
       "      <td>92.182</td>\n",
       "      <td>-4.253</td>\n",
       "      <td>213.99465</td>\n",
       "      <td>0.000000</td>\n",
       "      <td>Strangeways</td>\n",
       "      <td>0.401048</td>\n",
       "      <td>0.553699</td>\n",
       "      <td>tech house</td>\n",
       "      <td>1980</td>\n",
       "      <td>United States of America</td>\n",
       "    </tr>\n",
       "    <tr>\n",
       "      <th>4</th>\n",
       "      <td>Barbara Allen</td>\n",
       "      <td>1973.0</td>\n",
       "      <td>Angel Clare</td>\n",
       "      <td>65.116</td>\n",
       "      <td>-13.123</td>\n",
       "      <td>322.19383</td>\n",
       "      <td>0.586669</td>\n",
       "      <td>Art Garfunkel</td>\n",
       "      <td>0.410432</td>\n",
       "      <td>0.663882</td>\n",
       "      <td>soft rock</td>\n",
       "      <td>1970</td>\n",
       "      <td>United States of America</td>\n",
       "    </tr>\n",
       "  </tbody>\n",
       "</table>\n",
       "</div>"
      ],
      "text/plain": [
       "          song_title    year                               release    tempo  \\\n",
       "0  No One Could Ever  2006.0                                Butter  177.768   \n",
       "1           Medicine  2002.0                               Closed.  131.246   \n",
       "2         Wild Thing  1966.0  All The Hits Plus More By The Troggs  104.824   \n",
       "3   Walk In The Fire  1989.0                      Walk In The Fire   92.182   \n",
       "4      Barbara Allen  1973.0                           Angel Clare   65.116   \n",
       "\n",
       "   loudness   duration  song_hotttnesss     artist_name  artist_hotttnesss  \\\n",
       "0    -2.060  138.97098         0.617871  Hudson Mohawke           0.437504   \n",
       "1    -8.216  215.14404         0.505487  Drag The River           0.417750   \n",
       "2   -13.375  162.53342         0.424091      The Troggs           0.456893   \n",
       "3    -4.253  213.99465         0.000000     Strangeways           0.401048   \n",
       "4   -13.123  322.19383         0.586669   Art Garfunkel           0.410432   \n",
       "\n",
       "   artist_familiarity                 term  decade                   country  \n",
       "0            0.643681          broken beat    2000            United Kingdom  \n",
       "1            0.612363  alternative country    2000  United States of America  \n",
       "2            0.688242     british invasion    1960            United Kingdom  \n",
       "3            0.553699           tech house    1980  United States of America  \n",
       "4            0.663882            soft rock    1970  United States of America  "
      ]
     },
     "execution_count": 17,
     "metadata": {},
     "output_type": "execute_result"
    }
   ],
   "source": [
    "music_dataset.reset_index(drop=True, inplace=True)\n",
    "music_dataset.head()"
   ]
  },
  {
   "cell_type": "code",
   "execution_count": 18,
   "metadata": {},
   "outputs": [],
   "source": [
    "if not os.path.isdir(MUSIC_DATA_FOLDER_PATH):\n",
    "    os.mkdir(MUSIC_DATA_FOLDER_PATH)\n",
    "\n",
    "music_dataset.to_csv(f\"{MUSIC_DATA_FOLDER_PATH}/music_dataset.csv\", mode='w+')"
   ]
  },
  {
   "cell_type": "markdown",
   "metadata": {},
   "source": [
    "Shartil: Now I am going to create the graph"
   ]
  },
  {
   "cell_type": "code",
   "execution_count": 19,
   "metadata": {},
   "outputs": [],
   "source": [
    "music_graph = nx.Graph()"
   ]
  },
  {
   "cell_type": "code",
   "execution_count": 20,
   "metadata": {},
   "outputs": [],
   "source": [
    "music_graph.add_nodes_from(decade_array.tolist())\n",
    "music_graph.add_nodes_from(music_dataset[COUNTRY_COLUMN_NAME].unique().tolist())\n",
    "music_graph.add_nodes_from(music_dataset[SONG_TITLE_COLUMN_NAME].tolist())"
   ]
  },
  {
   "cell_type": "code",
   "execution_count": 21,
   "metadata": {},
   "outputs": [],
   "source": [
    "relationships = []\n",
    "for index, row in music_dataset.iterrows():\n",
    "    current_song_title = row[SONG_TITLE_COLUMN_NAME]\n",
    "    current_decade = row[DECADE_COLUMN_NAME]\n",
    "    current_country = row[COUNTRY_COLUMN_NAME]\n",
    "\n",
    "    relationships.append((current_decade, current_song_title, {\"label\": \"release_decade\"}))\n",
    "    relationships.append((current_country, current_song_title, {\"label\": \"release_country\"}))\n",
    "\n",
    "music_graph.add_edges_from(relationships)"
   ]
  },
  {
   "cell_type": "code",
   "execution_count": 22,
   "metadata": {},
   "outputs": [
    {
     "name": "stdout",
     "output_type": "stream",
     "text": [
      "Graph with 1030 nodes and 1960 edges\n"
     ]
    }
   ],
   "source": [
    "print(music_graph)"
   ]
  },
  {
   "cell_type": "code",
   "execution_count": 23,
   "metadata": {},
   "outputs": [],
   "source": [
    "def get_songs_by_criteria(music_graph, given_criteria):\n",
    "    selected_songs = [ song for song in music_graph[given_criteria].keys()]\n",
    "    return selected_songs"
   ]
  },
  {
   "cell_type": "code",
   "execution_count": 24,
   "metadata": {},
   "outputs": [],
   "source": [
    "def print_length_and_items(given_list, amont_of_items = 50):\n",
    "    print(len(given_list))\n",
    "    print(given_list[:amont_of_items])"
   ]
  },
  {
   "cell_type": "code",
   "execution_count": 25,
   "metadata": {},
   "outputs": [
    {
     "name": "stdout",
     "output_type": "stream",
     "text": [
      "247\n",
      "['The Road', 'Cradle', 'Johnny Come Lately', 'Last Train Home', 'Warsong', 'Stranger In Paradise', 'Pain_ Death_ Hate', 'No Wheels', 'Whatchugot (Album Version)', 'The Angel Of The Forever Sleep', 'Oh!', 'Bubble Brain', 'Going Home', 'Can Blue Men Sing The Whites', 'Breaking Up', 'By The Sea (Album Version)', 'Blue', 'Detention', 'Over', 'I Hear A Rhapsody', 'Women Respond To Bass (Vocal)', 'A Famous Rabbit', \"Fastest Healin' Broken Heart\", 'Dedication', 'Down in Spirit', 'Justice Tonight/Kick It Over', 'Peace', 'The Nerve', 'Get Up Little Suzie', 'Visionz', 'Thank You', 'Stop The Wheel', 'Ai Naviganti In Ascolto', 'Here Comes (Album)', 'DND', 'Taken', 'Chalawa', 'A Head With Wings (Album Version)', 'I Still Love You', 'Tomorrow (Live)', 'Through The Night', 'In My House', '1', 'Raindrops', 'Misunderstood', 'Symphony of the dead', 'Rakimou', 'Verge Of A Miracle', 'Zion Youth', 'Endorphin']\n"
     ]
    }
   ],
   "source": [
    "decade_input = 1990\n",
    "\n",
    "decade_songs = get_songs_by_criteria(music_graph, decade_input)\n",
    "print_length_and_items(decade_songs)"
   ]
  },
  {
   "cell_type": "code",
   "execution_count": 26,
   "metadata": {},
   "outputs": [
    {
     "name": "stdout",
     "output_type": "stream",
     "text": [
      "16\n",
      "['Pain_ Death_ Hate', 'Make Me Beautiful', 'When Kingdoms fall', 'Symphony of the dead', 'The second time around', 'Clearly Insane', 'Sov lilla pappa', 'Through Gardens Of Grief', 'Baby!', 'One Step Up', \"Inside what's within behind\", 'Leg 3', 'Begging For Mercy', 'Miracle (Bogdan Irkük Remix)', 'Legions Of The Black Light', 'Black Hearted Son']\n"
     ]
    }
   ],
   "source": [
    "country_input = \"Sweden\"\n",
    "\n",
    "country_songs = get_songs_by_criteria(music_graph, country_input)\n",
    "print_length_and_items(country_songs)"
   ]
  },
  {
   "cell_type": "markdown",
   "metadata": {},
   "source": [
    "Shartil: Now let's get the intersection of the lists<br>\n",
    "This code was taken from this [StackOverflow answer](https://stackoverflow.com/a/3697438/9609586)"
   ]
  },
  {
   "cell_type": "code",
   "execution_count": 27,
   "metadata": {},
   "outputs": [
    {
     "name": "stdout",
     "output_type": "stream",
     "text": [
      "The songs from Sweden that were released in 1990:\n",
      "4\n",
      "['Through Gardens Of Grief', 'Pain_ Death_ Hate', \"Inside what's within behind\", 'Symphony of the dead']\n"
     ]
    }
   ],
   "source": [
    "print(\"The songs from Sweden that were released in 1990:\")\n",
    "\n",
    "result_list = list(set(decade_songs) & set(country_songs))\n",
    "print_length_and_items(result_list)"
   ]
  }
 ],
 "metadata": {
  "kernelspec": {
   "display_name": "Python 3.10.5 64-bit",
   "language": "python",
   "name": "python3"
  },
  "language_info": {
   "codemirror_mode": {
    "name": "ipython",
    "version": 3
   },
   "file_extension": ".py",
   "mimetype": "text/x-python",
   "name": "python",
   "nbconvert_exporter": "python",
   "pygments_lexer": "ipython3",
   "version": "3.12.0"
  },
  "orig_nbformat": 4,
  "vscode": {
   "interpreter": {
    "hash": "3a5cfde8991b0f64e8bcd60a397bea8dc10ed042aefe1441fd3daa2ae2091421"
   }
  }
 },
 "nbformat": 4,
 "nbformat_minor": 2
}
