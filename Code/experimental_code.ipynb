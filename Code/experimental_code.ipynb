{
 "cells": [
  {
   "cell_type": "code",
   "execution_count": 74,
   "metadata": {
    "ExecuteTime": {
     "end_time": "2024-03-06T15:35:02.342624Z",
     "start_time": "2024-03-06T15:35:02.329933Z"
    }
   },
   "outputs": [],
   "source": [
    "import numpy as np\n",
    "import pandas as pd\n",
    "import networkx as nx\n",
    "from collections import Counter\n",
    "from gensim.models import Word2Vec\n",
    "import os\n",
    "#import matplotlib.pyplot as plt"
   ]
  },
  {
   "cell_type": "code",
   "execution_count": 75,
   "metadata": {
    "ExecuteTime": {
     "end_time": "2024-03-06T15:35:07.238768Z",
     "start_time": "2024-03-06T15:35:03.103841Z"
    }
   },
   "outputs": [
    {
     "data": {
      "text/plain": "              song_id                                         song_title  \\\n0  SOVFVAK12A8C1350D9                                        Tanssi vaan   \n1  SOGTUKN12AB017F4F1                                  No One Could Ever   \n2  SOBNYVR12A8C13558C                                      Si Vos Querés   \n3  SOHSBXH12A8C13B0DF                                   Tangle Of Aspens   \n4  SOZVAPQ12A8C13B63C  Symphony No. 1 G minor \"Sinfonie Serieuse\"/All...   \n\n     year                               release    tempo  loudness   duration  \\\n0  1995.0                           Karkuteillä  150.778   -10.555  156.55138   \n1  2006.0                                Butter  177.768    -2.060  138.97098   \n2  2003.0                               De Culo   87.433    -4.654  145.05751   \n3     NaN  Rene Ablaze Presents Winter Sessions  140.035    -7.806  514.29832   \n4     NaN      Berwald: Symphonies Nos. 1/2/3/4   90.689   -21.420  816.53506   \n\n   song_hotttnesss           artist_id       artist_name  artist_latitude  \\\n0         0.299877  ARMVN3U1187FB3A1EB  Karkkiautomaatti              NaN   \n1         0.617871  ARGEKB01187FB50750    Hudson Mohawke          55.8578   \n2              NaN  ARNWYLR1187B9B2F9C       Yerba Brava              NaN   \n3              NaN  AREQDTE1269FB37231        Der Mystic              NaN   \n4              NaN  AR2NS5Y1187FB5879D  David Montgomery              NaN   \n\n   artist_longitude    artist_location  artist_hotttnesss  artist_familiarity  \n0               NaN                NaN           0.356992            0.439604  \n1          -4.24251  Glasgow, Scotland           0.437504            0.643681  \n2               NaN                NaN           0.372349            0.448501  \n3               NaN                NaN           0.000000            0.000000  \n4               NaN                NaN           0.109626            0.361287  ",
      "text/html": "<div>\n<style scoped>\n    .dataframe tbody tr th:only-of-type {\n        vertical-align: middle;\n    }\n\n    .dataframe tbody tr th {\n        vertical-align: top;\n    }\n\n    .dataframe thead th {\n        text-align: right;\n    }\n</style>\n<table border=\"1\" class=\"dataframe\">\n  <thead>\n    <tr style=\"text-align: right;\">\n      <th></th>\n      <th>song_id</th>\n      <th>song_title</th>\n      <th>year</th>\n      <th>release</th>\n      <th>tempo</th>\n      <th>loudness</th>\n      <th>duration</th>\n      <th>song_hotttnesss</th>\n      <th>artist_id</th>\n      <th>artist_name</th>\n      <th>artist_latitude</th>\n      <th>artist_longitude</th>\n      <th>artist_location</th>\n      <th>artist_hotttnesss</th>\n      <th>artist_familiarity</th>\n    </tr>\n  </thead>\n  <tbody>\n    <tr>\n      <th>0</th>\n      <td>SOVFVAK12A8C1350D9</td>\n      <td>Tanssi vaan</td>\n      <td>1995.0</td>\n      <td>Karkuteillä</td>\n      <td>150.778</td>\n      <td>-10.555</td>\n      <td>156.55138</td>\n      <td>0.299877</td>\n      <td>ARMVN3U1187FB3A1EB</td>\n      <td>Karkkiautomaatti</td>\n      <td>NaN</td>\n      <td>NaN</td>\n      <td>NaN</td>\n      <td>0.356992</td>\n      <td>0.439604</td>\n    </tr>\n    <tr>\n      <th>1</th>\n      <td>SOGTUKN12AB017F4F1</td>\n      <td>No One Could Ever</td>\n      <td>2006.0</td>\n      <td>Butter</td>\n      <td>177.768</td>\n      <td>-2.060</td>\n      <td>138.97098</td>\n      <td>0.617871</td>\n      <td>ARGEKB01187FB50750</td>\n      <td>Hudson Mohawke</td>\n      <td>55.8578</td>\n      <td>-4.24251</td>\n      <td>Glasgow, Scotland</td>\n      <td>0.437504</td>\n      <td>0.643681</td>\n    </tr>\n    <tr>\n      <th>2</th>\n      <td>SOBNYVR12A8C13558C</td>\n      <td>Si Vos Querés</td>\n      <td>2003.0</td>\n      <td>De Culo</td>\n      <td>87.433</td>\n      <td>-4.654</td>\n      <td>145.05751</td>\n      <td>NaN</td>\n      <td>ARNWYLR1187B9B2F9C</td>\n      <td>Yerba Brava</td>\n      <td>NaN</td>\n      <td>NaN</td>\n      <td>NaN</td>\n      <td>0.372349</td>\n      <td>0.448501</td>\n    </tr>\n    <tr>\n      <th>3</th>\n      <td>SOHSBXH12A8C13B0DF</td>\n      <td>Tangle Of Aspens</td>\n      <td>NaN</td>\n      <td>Rene Ablaze Presents Winter Sessions</td>\n      <td>140.035</td>\n      <td>-7.806</td>\n      <td>514.29832</td>\n      <td>NaN</td>\n      <td>AREQDTE1269FB37231</td>\n      <td>Der Mystic</td>\n      <td>NaN</td>\n      <td>NaN</td>\n      <td>NaN</td>\n      <td>0.000000</td>\n      <td>0.000000</td>\n    </tr>\n    <tr>\n      <th>4</th>\n      <td>SOZVAPQ12A8C13B63C</td>\n      <td>Symphony No. 1 G minor \"Sinfonie Serieuse\"/All...</td>\n      <td>NaN</td>\n      <td>Berwald: Symphonies Nos. 1/2/3/4</td>\n      <td>90.689</td>\n      <td>-21.420</td>\n      <td>816.53506</td>\n      <td>NaN</td>\n      <td>AR2NS5Y1187FB5879D</td>\n      <td>David Montgomery</td>\n      <td>NaN</td>\n      <td>NaN</td>\n      <td>NaN</td>\n      <td>0.109626</td>\n      <td>0.361287</td>\n    </tr>\n  </tbody>\n</table>\n</div>"
     },
     "execution_count": 75,
     "metadata": {},
     "output_type": "execute_result"
    }
   ],
   "source": [
    "raw_songs_dataset = pd.read_csv(\"../Data/songs_dataset.csv\")\n",
    "\n",
    "\n",
    "raw_songs_dataset.head()"
   ]
  },
  {
   "cell_type": "code",
   "execution_count": 41,
   "outputs": [
    {
     "data": {
      "text/plain": "             artist_id                 term\n0   AR002UA1187B9A637D          garage rock\n1   AR002UA1187B9A637D         country rock\n2   AR002UA1187B9A637D            free jazz\n3   AR002UA1187B9A637D                   oi\n4   AR002UA1187B9A637D           space rock\n5   AR002UA1187B9A637D            power pop\n6   AR002UA1187B9A637D           indie rock\n7   AR002UA1187B9A637D               reggae\n8   AR002UA1187B9A637D             pop rock\n9   AR002UA1187B9A637D                 rock\n10  AR002UA1187B9A637D            indie pop\n11  AR002UA1187B9A637D      female vocalist\n12  AR002UA1187B9A637D     alternative rock\n13  AR002UA1187B9A637D                 jazz\n14  AR002UA1187B9A637D                 punk\n15  AR002UA1187B9A637D                  pop\n16  AR002UA1187B9A637D         experimental\n17  AR002UA1187B9A637D           electronic\n18  AR002UA1187B9A637D                  60s\n19  AR002UA1187B9A637D                noise\n20  AR002UA1187B9A637D              english\n21  AR002UA1187B9A637D                lo-fi\n22  AR002UA1187B9A637D               garage\n23  AR002UA1187B9A637D  garage rock revival\n24  AR002UA1187B9A637D        drum and bass\n25  AR002UA1187B9A637D           medwaybeat\n26  AR002UA1187B9A637D           synth punk",
      "text/html": "<div>\n<style scoped>\n    .dataframe tbody tr th:only-of-type {\n        vertical-align: middle;\n    }\n\n    .dataframe tbody tr th {\n        vertical-align: top;\n    }\n\n    .dataframe thead th {\n        text-align: right;\n    }\n</style>\n<table border=\"1\" class=\"dataframe\">\n  <thead>\n    <tr style=\"text-align: right;\">\n      <th></th>\n      <th>artist_id</th>\n      <th>term</th>\n    </tr>\n  </thead>\n  <tbody>\n    <tr>\n      <th>0</th>\n      <td>AR002UA1187B9A637D</td>\n      <td>garage rock</td>\n    </tr>\n    <tr>\n      <th>1</th>\n      <td>AR002UA1187B9A637D</td>\n      <td>country rock</td>\n    </tr>\n    <tr>\n      <th>2</th>\n      <td>AR002UA1187B9A637D</td>\n      <td>free jazz</td>\n    </tr>\n    <tr>\n      <th>3</th>\n      <td>AR002UA1187B9A637D</td>\n      <td>oi</td>\n    </tr>\n    <tr>\n      <th>4</th>\n      <td>AR002UA1187B9A637D</td>\n      <td>space rock</td>\n    </tr>\n    <tr>\n      <th>5</th>\n      <td>AR002UA1187B9A637D</td>\n      <td>power pop</td>\n    </tr>\n    <tr>\n      <th>6</th>\n      <td>AR002UA1187B9A637D</td>\n      <td>indie rock</td>\n    </tr>\n    <tr>\n      <th>7</th>\n      <td>AR002UA1187B9A637D</td>\n      <td>reggae</td>\n    </tr>\n    <tr>\n      <th>8</th>\n      <td>AR002UA1187B9A637D</td>\n      <td>pop rock</td>\n    </tr>\n    <tr>\n      <th>9</th>\n      <td>AR002UA1187B9A637D</td>\n      <td>rock</td>\n    </tr>\n    <tr>\n      <th>10</th>\n      <td>AR002UA1187B9A637D</td>\n      <td>indie pop</td>\n    </tr>\n    <tr>\n      <th>11</th>\n      <td>AR002UA1187B9A637D</td>\n      <td>female vocalist</td>\n    </tr>\n    <tr>\n      <th>12</th>\n      <td>AR002UA1187B9A637D</td>\n      <td>alternative rock</td>\n    </tr>\n    <tr>\n      <th>13</th>\n      <td>AR002UA1187B9A637D</td>\n      <td>jazz</td>\n    </tr>\n    <tr>\n      <th>14</th>\n      <td>AR002UA1187B9A637D</td>\n      <td>punk</td>\n    </tr>\n    <tr>\n      <th>15</th>\n      <td>AR002UA1187B9A637D</td>\n      <td>pop</td>\n    </tr>\n    <tr>\n      <th>16</th>\n      <td>AR002UA1187B9A637D</td>\n      <td>experimental</td>\n    </tr>\n    <tr>\n      <th>17</th>\n      <td>AR002UA1187B9A637D</td>\n      <td>electronic</td>\n    </tr>\n    <tr>\n      <th>18</th>\n      <td>AR002UA1187B9A637D</td>\n      <td>60s</td>\n    </tr>\n    <tr>\n      <th>19</th>\n      <td>AR002UA1187B9A637D</td>\n      <td>noise</td>\n    </tr>\n    <tr>\n      <th>20</th>\n      <td>AR002UA1187B9A637D</td>\n      <td>english</td>\n    </tr>\n    <tr>\n      <th>21</th>\n      <td>AR002UA1187B9A637D</td>\n      <td>lo-fi</td>\n    </tr>\n    <tr>\n      <th>22</th>\n      <td>AR002UA1187B9A637D</td>\n      <td>garage</td>\n    </tr>\n    <tr>\n      <th>23</th>\n      <td>AR002UA1187B9A637D</td>\n      <td>garage rock revival</td>\n    </tr>\n    <tr>\n      <th>24</th>\n      <td>AR002UA1187B9A637D</td>\n      <td>drum and bass</td>\n    </tr>\n    <tr>\n      <th>25</th>\n      <td>AR002UA1187B9A637D</td>\n      <td>medwaybeat</td>\n    </tr>\n    <tr>\n      <th>26</th>\n      <td>AR002UA1187B9A637D</td>\n      <td>synth punk</td>\n    </tr>\n  </tbody>\n</table>\n</div>"
     },
     "execution_count": 41,
     "metadata": {},
     "output_type": "execute_result"
    }
   ],
   "source": [
    "artist_dataset = pd.read_csv(\"../Data/artist_terms.csv\")\n",
    "\n",
    "artist_dataset.head(27)"
   ],
   "metadata": {
    "collapsed": false,
    "ExecuteTime": {
     "end_time": "2024-03-06T15:09:09.299122Z",
     "start_time": "2024-03-06T15:09:08.912056Z"
    }
   }
  },
  {
   "cell_type": "code",
   "execution_count": 71,
   "outputs": [
    {
     "data": {
      "text/plain": "            artist_id     term\n0  AR002UA1187B9A637D   grunge\n1  AR003FB1187B994355  ramones\n2  AR006821187FB5192B   motown\n3  AR009211187B989185   grunge\n4  AR009SZ1187B9A73F4  rhythms",
      "text/html": "<div>\n<style scoped>\n    .dataframe tbody tr th:only-of-type {\n        vertical-align: middle;\n    }\n\n    .dataframe tbody tr th {\n        vertical-align: top;\n    }\n\n    .dataframe thead th {\n        text-align: right;\n    }\n</style>\n<table border=\"1\" class=\"dataframe\">\n  <thead>\n    <tr style=\"text-align: right;\">\n      <th></th>\n      <th>artist_id</th>\n      <th>term</th>\n    </tr>\n  </thead>\n  <tbody>\n    <tr>\n      <th>0</th>\n      <td>AR002UA1187B9A637D</td>\n      <td>grunge</td>\n    </tr>\n    <tr>\n      <th>1</th>\n      <td>AR003FB1187B994355</td>\n      <td>ramones</td>\n    </tr>\n    <tr>\n      <th>2</th>\n      <td>AR006821187FB5192B</td>\n      <td>motown</td>\n    </tr>\n    <tr>\n      <th>3</th>\n      <td>AR009211187B989185</td>\n      <td>grunge</td>\n    </tr>\n    <tr>\n      <th>4</th>\n      <td>AR009SZ1187B9A73F4</td>\n      <td>rhythms</td>\n    </tr>\n  </tbody>\n</table>\n</div>"
     },
     "execution_count": 71,
     "metadata": {},
     "output_type": "execute_result"
    }
   ],
   "source": [
    "\n",
    "new_artist_dataset = []\n",
    "\n",
    "# Load pre-trained Word2Vec model\n",
    "word2vec_model = Word2Vec.load(os.path.join('../models', 'imdb_w2v.model'))\n",
    "\n",
    "# Function to get vector representation of a genre\n",
    "def get_genre_vector(genre):\n",
    "    try:\n",
    "        return word2vec_model.wv[genre]\n",
    "    except KeyError:\n",
    "        return np.zeros(word2vec_model.vector_size)  # Return zero vector if genre not in vocabulary\n",
    "\n",
    "# Function to calculate average vector for a list of genre vectors\n",
    "def calculate_average_vector(genre_vectors):\n",
    "    return np.mean(genre_vectors, axis=0)\n",
    "\n",
    "# Function to convert vector back to word\n",
    "def vector_to_word(vector):\n",
    "    return word2vec_model.wv.similar_by_vector(vector, topn=1)[0][0]\n",
    "\n",
    "for artist_id,group in artist_dataset.groupby(\"artist_id\"):\n",
    "    \n",
    "    # 1. Convert each genre word into a vector for artist_id and store it in genres_vectors_for_artist_id\n",
    "    genres_vectors_for_artist_id = [get_genre_vector(genre) for genre in group[\"term\"]]\n",
    "    \n",
    "    # 2. Find the average vector for genres_vectors_for_artist_id\n",
    "    avg_vec = calculate_average_vector(genres_vectors_for_artist_id)\n",
    "    \n",
    "    # 3. Convert avg_vec back to a word\n",
    "    avg_genre_word = vector_to_word(avg_vec)\n",
    "    \n",
    "    new_artist_dataset.append({\n",
    "        \"artist_id\": artist_id,\n",
    "        \"term\" : avg_genre_word\n",
    "    })\n",
    "    \n",
    "\n",
    "new_artist_dataset = pd.DataFrame(new_artist_dataset)\n",
    "new_artist_dataset.head()\n"
   ],
   "metadata": {
    "collapsed": false,
    "ExecuteTime": {
     "end_time": "2024-03-06T15:32:56.256130Z",
     "start_time": "2024-03-06T15:30:20.879903Z"
    }
   }
  },
  {
   "cell_type": "code",
   "execution_count": 73,
   "outputs": [],
   "source": [
    "new_artist_dataset.to_csv(\"../Data/new_artist_dataset.csv\",index=False)"
   ],
   "metadata": {
    "collapsed": false,
    "ExecuteTime": {
     "end_time": "2024-03-06T15:34:02.170709Z",
     "start_time": "2024-03-06T15:34:02.096793Z"
    }
   }
  },
  {
   "cell_type": "code",
   "execution_count": 76,
   "outputs": [],
   "source": [
    "merged_dataset = pd.merge(raw_songs_dataset, new_artist_dataset, on='artist_id', how='left')"
   ],
   "metadata": {
    "collapsed": false,
    "ExecuteTime": {
     "end_time": "2024-03-06T15:35:52.624989Z",
     "start_time": "2024-03-06T15:35:52.126301Z"
    }
   }
  },
  {
   "cell_type": "code",
   "execution_count": 80,
   "outputs": [],
   "source": [
    "merged_dataset.to_csv(\"../Data/merged_dataset.csv\",index=False)"
   ],
   "metadata": {
    "collapsed": false,
    "ExecuteTime": {
     "end_time": "2024-03-06T15:38:10.835390Z",
     "start_time": "2024-03-06T15:36:52.897713Z"
    }
   }
  },
  {
   "cell_type": "code",
   "execution_count": 3,
   "metadata": {},
   "outputs": [
    {
     "data": {
      "text/plain": [
       "song_id                    0\n",
       "song_title                 2\n",
       "year                  484270\n",
       "release                    7\n",
       "tempo                      0\n",
       "loudness                   0\n",
       "duration                   0\n",
       "song_hotttnesss       417782\n",
       "artist_id                  0\n",
       "artist_name                0\n",
       "artist_latitude       641766\n",
       "artist_longitude      641766\n",
       "artist_location       487546\n",
       "artist_hotttnesss         12\n",
       "artist_familiarity       185\n",
       "dtype: int64"
      ]
     },
     "execution_count": 3,
     "metadata": {},
     "output_type": "execute_result"
    }
   ],
   "source": [
    "raw_songs_dataset.isna().sum()"
   ]
  },
  {
   "cell_type": "code",
   "execution_count": 4,
   "metadata": {},
   "outputs": [
    {
     "data": {
      "text/plain": [
       "2673336"
      ]
     },
     "execution_count": 4,
     "metadata": {},
     "output_type": "execute_result"
    }
   ],
   "source": [
    "raw_songs_dataset.isna().sum().sum()"
   ]
  },
  {
   "cell_type": "markdown",
   "metadata": {},
   "source": [
    "Shartil: for now I am going to delete all rows with missing data.<br>\n",
    "This is an initial approach, let's discuss it together with Elisa."
   ]
  },
  {
   "cell_type": "code",
   "execution_count": 5,
   "metadata": {},
   "outputs": [
    {
     "data": {
      "text/html": [
       "<div>\n",
       "<style scoped>\n",
       "    .dataframe tbody tr th:only-of-type {\n",
       "        vertical-align: middle;\n",
       "    }\n",
       "\n",
       "    .dataframe tbody tr th {\n",
       "        vertical-align: top;\n",
       "    }\n",
       "\n",
       "    .dataframe thead th {\n",
       "        text-align: right;\n",
       "    }\n",
       "</style>\n",
       "<table border=\"1\" class=\"dataframe\">\n",
       "  <thead>\n",
       "    <tr style=\"text-align: right;\">\n",
       "      <th></th>\n",
       "      <th>song_id</th>\n",
       "      <th>song_title</th>\n",
       "      <th>year</th>\n",
       "      <th>release</th>\n",
       "      <th>tempo</th>\n",
       "      <th>loudness</th>\n",
       "      <th>duration</th>\n",
       "      <th>song_hotttnesss</th>\n",
       "      <th>artist_id</th>\n",
       "      <th>artist_name</th>\n",
       "      <th>artist_latitude</th>\n",
       "      <th>artist_longitude</th>\n",
       "      <th>artist_location</th>\n",
       "      <th>artist_hotttnesss</th>\n",
       "      <th>artist_familiarity</th>\n",
       "    </tr>\n",
       "  </thead>\n",
       "  <tbody>\n",
       "    <tr>\n",
       "      <th>1</th>\n",
       "      <td>SOGTUKN12AB017F4F1</td>\n",
       "      <td>No One Could Ever</td>\n",
       "      <td>2006.0</td>\n",
       "      <td>Butter</td>\n",
       "      <td>177.768</td>\n",
       "      <td>-2.060</td>\n",
       "      <td>138.97098</td>\n",
       "      <td>0.617871</td>\n",
       "      <td>ARGEKB01187FB50750</td>\n",
       "      <td>Hudson Mohawke</td>\n",
       "      <td>55.85780</td>\n",
       "      <td>-4.24251</td>\n",
       "      <td>Glasgow, Scotland</td>\n",
       "      <td>0.437504</td>\n",
       "      <td>0.643681</td>\n",
       "    </tr>\n",
       "    <tr>\n",
       "      <th>14</th>\n",
       "      <td>SOSDCFG12AB0184647</td>\n",
       "      <td>006</td>\n",
       "      <td>1998.0</td>\n",
       "      <td>Lena 20 År</td>\n",
       "      <td>122.332</td>\n",
       "      <td>-3.925</td>\n",
       "      <td>262.26893</td>\n",
       "      <td>0.212045</td>\n",
       "      <td>ARSB5591187B99A848</td>\n",
       "      <td>Lena Philipsson</td>\n",
       "      <td>57.42635</td>\n",
       "      <td>15.08518</td>\n",
       "      <td>Vetlanda, Sweden</td>\n",
       "      <td>0.410229</td>\n",
       "      <td>0.529819</td>\n",
       "    </tr>\n",
       "    <tr>\n",
       "      <th>15</th>\n",
       "      <td>SOBARPM12A8C133DFF</td>\n",
       "      <td>(Looking For) The Heart Of Saturday</td>\n",
       "      <td>1994.0</td>\n",
       "      <td>Cover Girl</td>\n",
       "      <td>99.214</td>\n",
       "      <td>-14.379</td>\n",
       "      <td>216.47628</td>\n",
       "      <td>0.270776</td>\n",
       "      <td>ARDW5AW1187FB55708</td>\n",
       "      <td>Shawn Colvin</td>\n",
       "      <td>42.78668</td>\n",
       "      <td>-96.92803</td>\n",
       "      <td>Vermillion, SD</td>\n",
       "      <td>0.446733</td>\n",
       "      <td>0.685503</td>\n",
       "    </tr>\n",
       "    <tr>\n",
       "      <th>16</th>\n",
       "      <td>SOKOVRQ12A8C142811</td>\n",
       "      <td>Ethos of Coercion</td>\n",
       "      <td>2009.0</td>\n",
       "      <td>Descend Into Depravity</td>\n",
       "      <td>189.346</td>\n",
       "      <td>-6.366</td>\n",
       "      <td>196.02240</td>\n",
       "      <td>0.614766</td>\n",
       "      <td>ARGWPP11187B9AEF43</td>\n",
       "      <td>Dying Fetus</td>\n",
       "      <td>38.82350</td>\n",
       "      <td>-75.92381</td>\n",
       "      <td>Maryland</td>\n",
       "      <td>0.511976</td>\n",
       "      <td>0.734471</td>\n",
       "    </tr>\n",
       "    <tr>\n",
       "      <th>32</th>\n",
       "      <td>SOOLRHW12A8C142643</td>\n",
       "      <td>All of the same blood</td>\n",
       "      <td>2001.0</td>\n",
       "      <td>Violent revolution</td>\n",
       "      <td>191.665</td>\n",
       "      <td>-6.663</td>\n",
       "      <td>372.42730</td>\n",
       "      <td>0.788727</td>\n",
       "      <td>AR79L0D1187FB3AFB6</td>\n",
       "      <td>Kreator</td>\n",
       "      <td>51.45180</td>\n",
       "      <td>7.01062</td>\n",
       "      <td>Essen</td>\n",
       "      <td>0.472691</td>\n",
       "      <td>0.740252</td>\n",
       "    </tr>\n",
       "  </tbody>\n",
       "</table>\n",
       "</div>"
      ],
      "text/plain": [
       "               song_id                           song_title    year  \\\n",
       "1   SOGTUKN12AB017F4F1                    No One Could Ever  2006.0   \n",
       "14  SOSDCFG12AB0184647                                  006  1998.0   \n",
       "15  SOBARPM12A8C133DFF  (Looking For) The Heart Of Saturday  1994.0   \n",
       "16  SOKOVRQ12A8C142811                    Ethos of Coercion  2009.0   \n",
       "32  SOOLRHW12A8C142643                All of the same blood  2001.0   \n",
       "\n",
       "                   release    tempo  loudness   duration  song_hotttnesss  \\\n",
       "1                   Butter  177.768    -2.060  138.97098         0.617871   \n",
       "14              Lena 20 År  122.332    -3.925  262.26893         0.212045   \n",
       "15              Cover Girl   99.214   -14.379  216.47628         0.270776   \n",
       "16  Descend Into Depravity  189.346    -6.366  196.02240         0.614766   \n",
       "32      Violent revolution  191.665    -6.663  372.42730         0.788727   \n",
       "\n",
       "             artist_id      artist_name  artist_latitude  artist_longitude  \\\n",
       "1   ARGEKB01187FB50750   Hudson Mohawke         55.85780          -4.24251   \n",
       "14  ARSB5591187B99A848  Lena Philipsson         57.42635          15.08518   \n",
       "15  ARDW5AW1187FB55708     Shawn Colvin         42.78668         -96.92803   \n",
       "16  ARGWPP11187B9AEF43      Dying Fetus         38.82350         -75.92381   \n",
       "32  AR79L0D1187FB3AFB6          Kreator         51.45180           7.01062   \n",
       "\n",
       "      artist_location  artist_hotttnesss  artist_familiarity  \n",
       "1   Glasgow, Scotland           0.437504            0.643681  \n",
       "14   Vetlanda, Sweden           0.410229            0.529819  \n",
       "15     Vermillion, SD           0.446733            0.685503  \n",
       "16           Maryland           0.511976            0.734471  \n",
       "32              Essen           0.472691            0.740252  "
      ]
     },
     "execution_count": 5,
     "metadata": {},
     "output_type": "execute_result"
    }
   ],
   "source": [
    "songs_dataset = raw_songs_dataset.dropna()\n",
    "\n",
    "songs_dataset.head()"
   ]
  },
  {
   "cell_type": "code",
   "execution_count": 6,
   "metadata": {},
   "outputs": [
    {
     "data": {
      "text/plain": [
       "126910"
      ]
     },
     "execution_count": 6,
     "metadata": {},
     "output_type": "execute_result"
    }
   ],
   "source": [
    "len(songs_dataset)"
   ]
  },
  {
   "cell_type": "markdown",
   "metadata": {},
   "source": [
    "Shartil: I am adding new column called \"decade\"."
   ]
  },
  {
   "cell_type": "code",
   "execution_count": 7,
   "metadata": {},
   "outputs": [],
   "source": [
    "YEAR_COLUMN_NAME = \"year\"\n",
    "DECADE_COLUMN_NAME = \"decade\"\n",
    "SONG_TITLE_COLUMN_NAME = \"song_title\""
   ]
  },
  {
   "cell_type": "code",
   "execution_count": 8,
   "metadata": {},
   "outputs": [
    {
     "data": {
      "text/html": [
       "<div>\n",
       "<style scoped>\n",
       "    .dataframe tbody tr th:only-of-type {\n",
       "        vertical-align: middle;\n",
       "    }\n",
       "\n",
       "    .dataframe tbody tr th {\n",
       "        vertical-align: top;\n",
       "    }\n",
       "\n",
       "    .dataframe thead th {\n",
       "        text-align: right;\n",
       "    }\n",
       "</style>\n",
       "<table border=\"1\" class=\"dataframe\">\n",
       "  <thead>\n",
       "    <tr style=\"text-align: right;\">\n",
       "      <th></th>\n",
       "      <th>song_id</th>\n",
       "      <th>song_title</th>\n",
       "      <th>year</th>\n",
       "      <th>release</th>\n",
       "      <th>tempo</th>\n",
       "      <th>loudness</th>\n",
       "      <th>duration</th>\n",
       "      <th>song_hotttnesss</th>\n",
       "      <th>artist_id</th>\n",
       "      <th>artist_name</th>\n",
       "      <th>artist_latitude</th>\n",
       "      <th>artist_longitude</th>\n",
       "      <th>artist_location</th>\n",
       "      <th>artist_hotttnesss</th>\n",
       "      <th>artist_familiarity</th>\n",
       "      <th>decade</th>\n",
       "    </tr>\n",
       "  </thead>\n",
       "  <tbody>\n",
       "    <tr>\n",
       "      <th>1</th>\n",
       "      <td>SOGTUKN12AB017F4F1</td>\n",
       "      <td>No One Could Ever</td>\n",
       "      <td>2006.0</td>\n",
       "      <td>Butter</td>\n",
       "      <td>177.768</td>\n",
       "      <td>-2.060</td>\n",
       "      <td>138.97098</td>\n",
       "      <td>0.617871</td>\n",
       "      <td>ARGEKB01187FB50750</td>\n",
       "      <td>Hudson Mohawke</td>\n",
       "      <td>55.85780</td>\n",
       "      <td>-4.24251</td>\n",
       "      <td>Glasgow, Scotland</td>\n",
       "      <td>0.437504</td>\n",
       "      <td>0.643681</td>\n",
       "      <td>2000</td>\n",
       "    </tr>\n",
       "    <tr>\n",
       "      <th>14</th>\n",
       "      <td>SOSDCFG12AB0184647</td>\n",
       "      <td>006</td>\n",
       "      <td>1998.0</td>\n",
       "      <td>Lena 20 År</td>\n",
       "      <td>122.332</td>\n",
       "      <td>-3.925</td>\n",
       "      <td>262.26893</td>\n",
       "      <td>0.212045</td>\n",
       "      <td>ARSB5591187B99A848</td>\n",
       "      <td>Lena Philipsson</td>\n",
       "      <td>57.42635</td>\n",
       "      <td>15.08518</td>\n",
       "      <td>Vetlanda, Sweden</td>\n",
       "      <td>0.410229</td>\n",
       "      <td>0.529819</td>\n",
       "      <td>1990</td>\n",
       "    </tr>\n",
       "    <tr>\n",
       "      <th>15</th>\n",
       "      <td>SOBARPM12A8C133DFF</td>\n",
       "      <td>(Looking For) The Heart Of Saturday</td>\n",
       "      <td>1994.0</td>\n",
       "      <td>Cover Girl</td>\n",
       "      <td>99.214</td>\n",
       "      <td>-14.379</td>\n",
       "      <td>216.47628</td>\n",
       "      <td>0.270776</td>\n",
       "      <td>ARDW5AW1187FB55708</td>\n",
       "      <td>Shawn Colvin</td>\n",
       "      <td>42.78668</td>\n",
       "      <td>-96.92803</td>\n",
       "      <td>Vermillion, SD</td>\n",
       "      <td>0.446733</td>\n",
       "      <td>0.685503</td>\n",
       "      <td>1990</td>\n",
       "    </tr>\n",
       "    <tr>\n",
       "      <th>16</th>\n",
       "      <td>SOKOVRQ12A8C142811</td>\n",
       "      <td>Ethos of Coercion</td>\n",
       "      <td>2009.0</td>\n",
       "      <td>Descend Into Depravity</td>\n",
       "      <td>189.346</td>\n",
       "      <td>-6.366</td>\n",
       "      <td>196.02240</td>\n",
       "      <td>0.614766</td>\n",
       "      <td>ARGWPP11187B9AEF43</td>\n",
       "      <td>Dying Fetus</td>\n",
       "      <td>38.82350</td>\n",
       "      <td>-75.92381</td>\n",
       "      <td>Maryland</td>\n",
       "      <td>0.511976</td>\n",
       "      <td>0.734471</td>\n",
       "      <td>2000</td>\n",
       "    </tr>\n",
       "    <tr>\n",
       "      <th>32</th>\n",
       "      <td>SOOLRHW12A8C142643</td>\n",
       "      <td>All of the same blood</td>\n",
       "      <td>2001.0</td>\n",
       "      <td>Violent revolution</td>\n",
       "      <td>191.665</td>\n",
       "      <td>-6.663</td>\n",
       "      <td>372.42730</td>\n",
       "      <td>0.788727</td>\n",
       "      <td>AR79L0D1187FB3AFB6</td>\n",
       "      <td>Kreator</td>\n",
       "      <td>51.45180</td>\n",
       "      <td>7.01062</td>\n",
       "      <td>Essen</td>\n",
       "      <td>0.472691</td>\n",
       "      <td>0.740252</td>\n",
       "      <td>2000</td>\n",
       "    </tr>\n",
       "  </tbody>\n",
       "</table>\n",
       "</div>"
      ],
      "text/plain": [
       "               song_id                           song_title    year  \\\n",
       "1   SOGTUKN12AB017F4F1                    No One Could Ever  2006.0   \n",
       "14  SOSDCFG12AB0184647                                  006  1998.0   \n",
       "15  SOBARPM12A8C133DFF  (Looking For) The Heart Of Saturday  1994.0   \n",
       "16  SOKOVRQ12A8C142811                    Ethos of Coercion  2009.0   \n",
       "32  SOOLRHW12A8C142643                All of the same blood  2001.0   \n",
       "\n",
       "                   release    tempo  loudness   duration  song_hotttnesss  \\\n",
       "1                   Butter  177.768    -2.060  138.97098         0.617871   \n",
       "14              Lena 20 År  122.332    -3.925  262.26893         0.212045   \n",
       "15              Cover Girl   99.214   -14.379  216.47628         0.270776   \n",
       "16  Descend Into Depravity  189.346    -6.366  196.02240         0.614766   \n",
       "32      Violent revolution  191.665    -6.663  372.42730         0.788727   \n",
       "\n",
       "             artist_id      artist_name  artist_latitude  artist_longitude  \\\n",
       "1   ARGEKB01187FB50750   Hudson Mohawke         55.85780          -4.24251   \n",
       "14  ARSB5591187B99A848  Lena Philipsson         57.42635          15.08518   \n",
       "15  ARDW5AW1187FB55708     Shawn Colvin         42.78668         -96.92803   \n",
       "16  ARGWPP11187B9AEF43      Dying Fetus         38.82350         -75.92381   \n",
       "32  AR79L0D1187FB3AFB6          Kreator         51.45180           7.01062   \n",
       "\n",
       "      artist_location  artist_hotttnesss  artist_familiarity  decade  \n",
       "1   Glasgow, Scotland           0.437504            0.643681    2000  \n",
       "14   Vetlanda, Sweden           0.410229            0.529819    1990  \n",
       "15     Vermillion, SD           0.446733            0.685503    1990  \n",
       "16           Maryland           0.511976            0.734471    2000  \n",
       "32              Essen           0.472691            0.740252    2000  "
      ]
     },
     "execution_count": 8,
     "metadata": {},
     "output_type": "execute_result"
    }
   ],
   "source": [
    "songs_dataset = songs_dataset.assign(decade=lambda row: (row[YEAR_COLUMN_NAME].astype(int) // 10) * 10)\n",
    "\n",
    "songs_dataset.head()"
   ]
  },
  {
   "cell_type": "code",
   "execution_count": 9,
   "metadata": {},
   "outputs": [],
   "source": [
    "min_decade = songs_dataset[DECADE_COLUMN_NAME].min()\n",
    "max_decade = songs_dataset[DECADE_COLUMN_NAME].max()\n",
    "\n",
    "decade_array = np.linspace(min_decade, max_decade, 10, dtype=int)"
   ]
  },
  {
   "cell_type": "markdown",
   "metadata": {},
   "source": [
    "Shartil: now I am going to create the graph"
   ]
  },
  {
   "cell_type": "code",
   "execution_count": 10,
   "metadata": {},
   "outputs": [],
   "source": [
    "decade_graph = nx.DiGraph()"
   ]
  },
  {
   "cell_type": "code",
   "execution_count": 11,
   "metadata": {},
   "outputs": [],
   "source": [
    "decade_graph.add_nodes_from(decade_array.tolist())\n",
    "\n",
    "decade_graph.add_nodes_from(songs_dataset[SONG_TITLE_COLUMN_NAME].tolist())"
   ]
  },
  {
   "cell_type": "code",
   "execution_count": 12,
   "metadata": {},
   "outputs": [],
   "source": [
    "relationships = []\n",
    "for index, row in songs_dataset.iterrows():\n",
    "    current_song_title = row[SONG_TITLE_COLUMN_NAME]\n",
    "    current_decade = row[DECADE_COLUMN_NAME]\n",
    "\n",
    "    relationships.append((current_decade, current_song_title, {\"label\": \"release_decade\"}))\n",
    "\n",
    "decade_graph.add_edges_from(relationships)"
   ]
  },
  {
   "cell_type": "code",
   "execution_count": 18,
   "metadata": {},
   "outputs": [
    {
     "name": "stdout",
     "output_type": "stream",
     "text": [
      "DiGraph with 107333 nodes and 115512 edges\n"
     ]
    }
   ],
   "source": [
    "print(decade_graph)"
   ]
  },
  {
   "cell_type": "code",
   "execution_count": 17,
   "metadata": {},
   "outputs": [
    {
     "data": {
      "text/plain": [
       "['Big Fat Mama Blues',\n",
       " 'Keep It Home',\n",
       " 'Jungle Man Blues',\n",
       " \"I'm A Mighty Tight Woman\",\n",
       " 'Big Bill Blues',\n",
       " 'Blue Ghost Blues',\n",
       " \"Ain't Misbehavin'\",\n",
       " 'Fat Mouth Blues',\n",
       " 'Wreck Of The Old 97',\n",
       " \"The Prisoner's Song\",\n",
       " \"Mother's Children Have A Hard Time\",\n",
       " 'Shake That Thing',\n",
       " 'Canned Heat Blues',\n",
       " \"Coffee Grindin' Blues\",\n",
       " \"That's No Way To Get Along\",\n",
       " \"Bessie's Moan\"]"
      ]
     },
     "execution_count": 17,
     "metadata": {},
     "output_type": "execute_result"
    }
   ],
   "source": [
    "decade_input = 1920\n",
    "\n",
    "songs_from_given_decade = [ song for song in decade_graph[decade_input].keys()]\n",
    "songs_from_given_decade"
   ]
  },
  {
   "cell_type": "code",
   "execution_count": null,
   "metadata": {},
   "outputs": [],
   "source": []
  }
 ],
 "metadata": {
  "kernelspec": {
   "display_name": "Python 3.10.5 64-bit",
   "language": "python",
   "name": "python3"
  },
  "language_info": {
   "codemirror_mode": {
    "name": "ipython",
    "version": 3
   },
   "file_extension": ".py",
   "mimetype": "text/x-python",
   "name": "python",
   "nbconvert_exporter": "python",
   "pygments_lexer": "ipython3",
   "version": "3.10.5"
  },
  "orig_nbformat": 4,
  "vscode": {
   "interpreter": {
    "hash": "3a5cfde8991b0f64e8bcd60a397bea8dc10ed042aefe1441fd3daa2ae2091421"
   }
  }
 },
 "nbformat": 4,
 "nbformat_minor": 2
}
