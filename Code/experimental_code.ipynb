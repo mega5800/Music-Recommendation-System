{
 "cells": [
  {
   "cell_type": "markdown",
   "metadata": {},
   "source": [
    "Pip Install Commands"
   ]
  },
  {
   "cell_type": "code",
   "execution_count": 1,
   "metadata": {},
   "outputs": [
    {
     "name": "stdout",
     "output_type": "stream",
     "text": [
      "Requirement already satisfied: shapely in w:\\program files\\python310\\lib\\site-packages (2.0.3)\n",
      "Requirement already satisfied: numpy<2,>=1.14 in w:\\program files\\python310\\lib\\site-packages (from shapely) (1.26.1)\n",
      "\n",
      "[notice] A new release of pip available: 22.1.2 -> 24.0\n",
      "[notice] To update, run: python.exe -m pip install --upgrade pip\n",
      "Note: you may need to restart the kernel to use updated packages.\n"
     ]
    }
   ],
   "source": [
    "%pip install shapely"
   ]
  },
  {
   "cell_type": "markdown",
   "metadata": {},
   "source": [
    "Libraries"
   ]
  },
  {
   "cell_type": "code",
   "execution_count": 51,
   "metadata": {
    "ExecuteTime": {
     "end_time": "2024-03-19T15:04:49.873200Z",
     "start_time": "2024-03-19T15:04:49.865287Z"
    }
   },
   "outputs": [],
   "source": [
    "import json\n",
    "import requests\n",
    "import numpy as np\n",
    "import pandas as pd\n",
    "import networkx as nx\n",
    "from shapely.prepared import prep\n",
    "from shapely.geometry import mapping, shape, Point"
   ]
  },
  {
   "cell_type": "markdown",
   "metadata": {},
   "source": [
    "Const Values"
   ]
  },
  {
   "cell_type": "code",
   "execution_count": 52,
   "metadata": {
    "ExecuteTime": {
     "end_time": "2024-03-19T15:04:51.411632Z",
     "start_time": "2024-03-19T15:04:51.403470Z"
    }
   },
   "outputs": [],
   "source": [
    "YEAR_COLUMN_NAME = \"year\"\n",
    "DECADE_COLUMN_NAME = \"decade\"\n",
    "SONG_TITLE_COLUMN_NAME = \"song_title\"\n",
    "COUNTRY_COLUMN_NAME = \"country\"\n",
    "ARTIST_LONGITUDE_COLUMN_NAME = \"artist_longitude\"\n",
    "ARTIST_LATITUDE_COLUMN_NAME = \"artist_latitude\"\n",
    "ARTIST_LOCATION_COLUMN_NAME = \"artist_location\""
   ]
  },
  {
   "cell_type": "markdown",
   "metadata": {},
   "source": [
    "Loading Songs Dataset"
   ]
  },
  {
   "cell_type": "code",
   "execution_count": 53,
   "metadata": {
    "ExecuteTime": {
     "end_time": "2024-03-19T15:04:59.542260Z",
     "start_time": "2024-03-19T15:04:55.382252Z"
    }
   },
   "outputs": [],
   "source": [
    "raw_songs_dataset = pd.read_csv(\"../Data/songs_dataset.csv\")\n"
   ]
  },
  {
   "cell_type": "code",
   "execution_count": 54,
   "metadata": {
    "ExecuteTime": {
     "end_time": "2024-03-19T15:05:01.329131Z",
     "start_time": "2024-03-19T15:05:00.363373Z"
    }
   },
   "outputs": [
    {
     "data": {
      "text/plain": "song_id                    0\nsong_title                 0\nyear                  484270\nrelease                    5\ntempo                      0\nloudness                   0\nduration                   0\nsong_hotttnesss       417782\nartist_id                  0\nartist_name                0\nartist_latitude       641766\nartist_longitude      641766\nartist_location       487546\nartist_hotttnesss         12\nartist_familiarity       185\ndtype: int64"
     },
     "execution_count": 54,
     "metadata": {},
     "output_type": "execute_result"
    }
   ],
   "source": [
    "raw_songs_dataset.isna().sum()"
   ]
  },
  {
   "cell_type": "code",
   "execution_count": 55,
   "metadata": {
    "ExecuteTime": {
     "end_time": "2024-03-19T15:05:03.828111Z",
     "start_time": "2024-03-19T15:05:03.126398Z"
    }
   },
   "outputs": [
    {
     "data": {
      "text/plain": "2673332"
     },
     "execution_count": 55,
     "metadata": {},
     "output_type": "execute_result"
    }
   ],
   "source": [
    "raw_songs_dataset.isna().sum().sum()"
   ]
  },
  {
   "cell_type": "markdown",
   "metadata": {},
   "source": [
    "Shartil: For now I am going to delete all rows with missing data.<br>\n",
    "This is an initial approach, let's discuss it together with Elisa."
   ]
  },
  {
   "cell_type": "code",
   "execution_count": 56,
   "metadata": {
    "ExecuteTime": {
     "end_time": "2024-03-19T15:05:06.991404Z",
     "start_time": "2024-03-19T15:05:06.275657Z"
    }
   },
   "outputs": [],
   "source": [
    "songs_dataset = raw_songs_dataset.dropna()"
   ]
  },
  {
   "cell_type": "code",
   "execution_count": 57,
   "metadata": {
    "ExecuteTime": {
     "end_time": "2024-03-19T15:05:07.001206Z",
     "start_time": "2024-03-19T15:05:06.994385Z"
    }
   },
   "outputs": [
    {
     "data": {
      "text/plain": "126912"
     },
     "execution_count": 57,
     "metadata": {},
     "output_type": "execute_result"
    }
   ],
   "source": [
    "len(songs_dataset)"
   ]
  },
  {
   "cell_type": "markdown",
   "source": [
    "Riaz - Slitting raw_songs_dataset into songs_dataset and artist_dataset"
   ],
   "metadata": {
    "collapsed": false
   }
  },
  {
   "cell_type": "code",
   "execution_count": 58,
   "outputs": [
    {
     "data": {
      "text/plain": "              song_id                                         song_title  \\\n0  SOVFVAK12A8C1350D9                                        Tanssi vaan   \n1  SOGTUKN12AB017F4F1                                  No One Could Ever   \n2  SOBNYVR12A8C13558C                                      Si Vos Querés   \n3  SOHSBXH12A8C13B0DF                                   Tangle Of Aspens   \n4  SOZVAPQ12A8C13B63C  Symphony No. 1 G minor \"Sinfonie Serieuse\"/All...   \n\n     year                               release    tempo  loudness   duration  \\\n0  1995.0                           Karkuteillä  150.778   -10.555  156.55138   \n1  2006.0                                Butter  177.768    -2.060  138.97098   \n2  2003.0                               De Culo   87.433    -4.654  145.05751   \n3     NaN  Rene Ablaze Presents Winter Sessions  140.035    -7.806  514.29832   \n4     NaN      Berwald: Symphonies Nos. 1/2/3/4   90.689   -21.420  816.53506   \n\n   song_hotttnesss           artist_id       artist_name  artist_latitude  \\\n0         0.299877  ARMVN3U1187FB3A1EB  Karkkiautomaatti              NaN   \n1         0.617871  ARGEKB01187FB50750    Hudson Mohawke          55.8578   \n2              NaN  ARNWYLR1187B9B2F9C       Yerba Brava              NaN   \n3              NaN  AREQDTE1269FB37231        Der Mystic              NaN   \n4              NaN  AR2NS5Y1187FB5879D  David Montgomery              NaN   \n\n   artist_longitude    artist_location  artist_hotttnesss  artist_familiarity  \n0               NaN                NaN           0.356992            0.439604  \n1          -4.24251  Glasgow, Scotland           0.437504            0.643681  \n2               NaN                NaN           0.372349            0.448501  \n3               NaN                NaN           0.000000            0.000000  \n4               NaN                NaN           0.109626            0.361287  ",
      "text/html": "<div>\n<style scoped>\n    .dataframe tbody tr th:only-of-type {\n        vertical-align: middle;\n    }\n\n    .dataframe tbody tr th {\n        vertical-align: top;\n    }\n\n    .dataframe thead th {\n        text-align: right;\n    }\n</style>\n<table border=\"1\" class=\"dataframe\">\n  <thead>\n    <tr style=\"text-align: right;\">\n      <th></th>\n      <th>song_id</th>\n      <th>song_title</th>\n      <th>year</th>\n      <th>release</th>\n      <th>tempo</th>\n      <th>loudness</th>\n      <th>duration</th>\n      <th>song_hotttnesss</th>\n      <th>artist_id</th>\n      <th>artist_name</th>\n      <th>artist_latitude</th>\n      <th>artist_longitude</th>\n      <th>artist_location</th>\n      <th>artist_hotttnesss</th>\n      <th>artist_familiarity</th>\n    </tr>\n  </thead>\n  <tbody>\n    <tr>\n      <th>0</th>\n      <td>SOVFVAK12A8C1350D9</td>\n      <td>Tanssi vaan</td>\n      <td>1995.0</td>\n      <td>Karkuteillä</td>\n      <td>150.778</td>\n      <td>-10.555</td>\n      <td>156.55138</td>\n      <td>0.299877</td>\n      <td>ARMVN3U1187FB3A1EB</td>\n      <td>Karkkiautomaatti</td>\n      <td>NaN</td>\n      <td>NaN</td>\n      <td>NaN</td>\n      <td>0.356992</td>\n      <td>0.439604</td>\n    </tr>\n    <tr>\n      <th>1</th>\n      <td>SOGTUKN12AB017F4F1</td>\n      <td>No One Could Ever</td>\n      <td>2006.0</td>\n      <td>Butter</td>\n      <td>177.768</td>\n      <td>-2.060</td>\n      <td>138.97098</td>\n      <td>0.617871</td>\n      <td>ARGEKB01187FB50750</td>\n      <td>Hudson Mohawke</td>\n      <td>55.8578</td>\n      <td>-4.24251</td>\n      <td>Glasgow, Scotland</td>\n      <td>0.437504</td>\n      <td>0.643681</td>\n    </tr>\n    <tr>\n      <th>2</th>\n      <td>SOBNYVR12A8C13558C</td>\n      <td>Si Vos Querés</td>\n      <td>2003.0</td>\n      <td>De Culo</td>\n      <td>87.433</td>\n      <td>-4.654</td>\n      <td>145.05751</td>\n      <td>NaN</td>\n      <td>ARNWYLR1187B9B2F9C</td>\n      <td>Yerba Brava</td>\n      <td>NaN</td>\n      <td>NaN</td>\n      <td>NaN</td>\n      <td>0.372349</td>\n      <td>0.448501</td>\n    </tr>\n    <tr>\n      <th>3</th>\n      <td>SOHSBXH12A8C13B0DF</td>\n      <td>Tangle Of Aspens</td>\n      <td>NaN</td>\n      <td>Rene Ablaze Presents Winter Sessions</td>\n      <td>140.035</td>\n      <td>-7.806</td>\n      <td>514.29832</td>\n      <td>NaN</td>\n      <td>AREQDTE1269FB37231</td>\n      <td>Der Mystic</td>\n      <td>NaN</td>\n      <td>NaN</td>\n      <td>NaN</td>\n      <td>0.000000</td>\n      <td>0.000000</td>\n    </tr>\n    <tr>\n      <th>4</th>\n      <td>SOZVAPQ12A8C13B63C</td>\n      <td>Symphony No. 1 G minor \"Sinfonie Serieuse\"/All...</td>\n      <td>NaN</td>\n      <td>Berwald: Symphonies Nos. 1/2/3/4</td>\n      <td>90.689</td>\n      <td>-21.420</td>\n      <td>816.53506</td>\n      <td>NaN</td>\n      <td>AR2NS5Y1187FB5879D</td>\n      <td>David Montgomery</td>\n      <td>NaN</td>\n      <td>NaN</td>\n      <td>NaN</td>\n      <td>0.109626</td>\n      <td>0.361287</td>\n    </tr>\n  </tbody>\n</table>\n</div>"
     },
     "execution_count": 58,
     "metadata": {},
     "output_type": "execute_result"
    }
   ],
   "source": [
    "raw_songs_dataset.head()"
   ],
   "metadata": {
    "collapsed": false,
    "ExecuteTime": {
     "end_time": "2024-03-19T15:05:13.374031Z",
     "start_time": "2024-03-19T15:05:13.365388Z"
    }
   }
  },
  {
   "cell_type": "code",
   "execution_count": 59,
   "outputs": [
    {
     "data": {
      "text/plain": "Index(['song_id', 'song_title', 'year', 'release', 'tempo', 'loudness',\n       'duration', 'song_hotttnesss', 'artist_id', 'artist_name',\n       'artist_latitude', 'artist_longitude', 'artist_location',\n       'artist_hotttnesss', 'artist_familiarity'],\n      dtype='object')"
     },
     "execution_count": 59,
     "metadata": {},
     "output_type": "execute_result"
    }
   ],
   "source": [
    "raw_songs_dataset.columns"
   ],
   "metadata": {
    "collapsed": false,
    "ExecuteTime": {
     "end_time": "2024-03-19T15:05:14.741086Z",
     "start_time": "2024-03-19T15:05:14.737078Z"
    }
   }
  },
  {
   "cell_type": "code",
   "execution_count": 60,
   "outputs": [],
   "source": [
    "songs_dataset = raw_songs_dataset.iloc[:,:7]\n",
    "artist_dataset = raw_songs_dataset.iloc[:,8:]"
   ],
   "metadata": {
    "collapsed": false,
    "ExecuteTime": {
     "end_time": "2024-03-19T15:05:15.971407Z",
     "start_time": "2024-03-19T15:05:15.917718Z"
    }
   }
  },
  {
   "cell_type": "code",
   "execution_count": 61,
   "outputs": [
    {
     "data": {
      "text/plain": "              song_id                                         song_title  \\\n0  SOVFVAK12A8C1350D9                                        Tanssi vaan   \n1  SOGTUKN12AB017F4F1                                  No One Could Ever   \n2  SOBNYVR12A8C13558C                                      Si Vos Querés   \n3  SOHSBXH12A8C13B0DF                                   Tangle Of Aspens   \n4  SOZVAPQ12A8C13B63C  Symphony No. 1 G minor \"Sinfonie Serieuse\"/All...   \n\n     year                               release    tempo  loudness   duration  \n0  1995.0                           Karkuteillä  150.778   -10.555  156.55138  \n1  2006.0                                Butter  177.768    -2.060  138.97098  \n2  2003.0                               De Culo   87.433    -4.654  145.05751  \n3     NaN  Rene Ablaze Presents Winter Sessions  140.035    -7.806  514.29832  \n4     NaN      Berwald: Symphonies Nos. 1/2/3/4   90.689   -21.420  816.53506  ",
      "text/html": "<div>\n<style scoped>\n    .dataframe tbody tr th:only-of-type {\n        vertical-align: middle;\n    }\n\n    .dataframe tbody tr th {\n        vertical-align: top;\n    }\n\n    .dataframe thead th {\n        text-align: right;\n    }\n</style>\n<table border=\"1\" class=\"dataframe\">\n  <thead>\n    <tr style=\"text-align: right;\">\n      <th></th>\n      <th>song_id</th>\n      <th>song_title</th>\n      <th>year</th>\n      <th>release</th>\n      <th>tempo</th>\n      <th>loudness</th>\n      <th>duration</th>\n    </tr>\n  </thead>\n  <tbody>\n    <tr>\n      <th>0</th>\n      <td>SOVFVAK12A8C1350D9</td>\n      <td>Tanssi vaan</td>\n      <td>1995.0</td>\n      <td>Karkuteillä</td>\n      <td>150.778</td>\n      <td>-10.555</td>\n      <td>156.55138</td>\n    </tr>\n    <tr>\n      <th>1</th>\n      <td>SOGTUKN12AB017F4F1</td>\n      <td>No One Could Ever</td>\n      <td>2006.0</td>\n      <td>Butter</td>\n      <td>177.768</td>\n      <td>-2.060</td>\n      <td>138.97098</td>\n    </tr>\n    <tr>\n      <th>2</th>\n      <td>SOBNYVR12A8C13558C</td>\n      <td>Si Vos Querés</td>\n      <td>2003.0</td>\n      <td>De Culo</td>\n      <td>87.433</td>\n      <td>-4.654</td>\n      <td>145.05751</td>\n    </tr>\n    <tr>\n      <th>3</th>\n      <td>SOHSBXH12A8C13B0DF</td>\n      <td>Tangle Of Aspens</td>\n      <td>NaN</td>\n      <td>Rene Ablaze Presents Winter Sessions</td>\n      <td>140.035</td>\n      <td>-7.806</td>\n      <td>514.29832</td>\n    </tr>\n    <tr>\n      <th>4</th>\n      <td>SOZVAPQ12A8C13B63C</td>\n      <td>Symphony No. 1 G minor \"Sinfonie Serieuse\"/All...</td>\n      <td>NaN</td>\n      <td>Berwald: Symphonies Nos. 1/2/3/4</td>\n      <td>90.689</td>\n      <td>-21.420</td>\n      <td>816.53506</td>\n    </tr>\n  </tbody>\n</table>\n</div>"
     },
     "execution_count": 61,
     "metadata": {},
     "output_type": "execute_result"
    }
   ],
   "source": [
    "songs_dataset.head()"
   ],
   "metadata": {
    "collapsed": false,
    "ExecuteTime": {
     "end_time": "2024-03-19T15:05:16.992263Z",
     "start_time": "2024-03-19T15:05:16.984685Z"
    }
   }
  },
  {
   "cell_type": "code",
   "execution_count": 62,
   "outputs": [
    {
     "data": {
      "text/plain": "            artist_id       artist_name  artist_latitude  artist_longitude  \\\n0  ARMVN3U1187FB3A1EB  Karkkiautomaatti              NaN               NaN   \n1  ARGEKB01187FB50750    Hudson Mohawke          55.8578          -4.24251   \n2  ARNWYLR1187B9B2F9C       Yerba Brava              NaN               NaN   \n3  AREQDTE1269FB37231        Der Mystic              NaN               NaN   \n4  AR2NS5Y1187FB5879D  David Montgomery              NaN               NaN   \n\n     artist_location  artist_hotttnesss  artist_familiarity  \n0                NaN           0.356992            0.439604  \n1  Glasgow, Scotland           0.437504            0.643681  \n2                NaN           0.372349            0.448501  \n3                NaN           0.000000            0.000000  \n4                NaN           0.109626            0.361287  ",
      "text/html": "<div>\n<style scoped>\n    .dataframe tbody tr th:only-of-type {\n        vertical-align: middle;\n    }\n\n    .dataframe tbody tr th {\n        vertical-align: top;\n    }\n\n    .dataframe thead th {\n        text-align: right;\n    }\n</style>\n<table border=\"1\" class=\"dataframe\">\n  <thead>\n    <tr style=\"text-align: right;\">\n      <th></th>\n      <th>artist_id</th>\n      <th>artist_name</th>\n      <th>artist_latitude</th>\n      <th>artist_longitude</th>\n      <th>artist_location</th>\n      <th>artist_hotttnesss</th>\n      <th>artist_familiarity</th>\n    </tr>\n  </thead>\n  <tbody>\n    <tr>\n      <th>0</th>\n      <td>ARMVN3U1187FB3A1EB</td>\n      <td>Karkkiautomaatti</td>\n      <td>NaN</td>\n      <td>NaN</td>\n      <td>NaN</td>\n      <td>0.356992</td>\n      <td>0.439604</td>\n    </tr>\n    <tr>\n      <th>1</th>\n      <td>ARGEKB01187FB50750</td>\n      <td>Hudson Mohawke</td>\n      <td>55.8578</td>\n      <td>-4.24251</td>\n      <td>Glasgow, Scotland</td>\n      <td>0.437504</td>\n      <td>0.643681</td>\n    </tr>\n    <tr>\n      <th>2</th>\n      <td>ARNWYLR1187B9B2F9C</td>\n      <td>Yerba Brava</td>\n      <td>NaN</td>\n      <td>NaN</td>\n      <td>NaN</td>\n      <td>0.372349</td>\n      <td>0.448501</td>\n    </tr>\n    <tr>\n      <th>3</th>\n      <td>AREQDTE1269FB37231</td>\n      <td>Der Mystic</td>\n      <td>NaN</td>\n      <td>NaN</td>\n      <td>NaN</td>\n      <td>0.000000</td>\n      <td>0.000000</td>\n    </tr>\n    <tr>\n      <th>4</th>\n      <td>AR2NS5Y1187FB5879D</td>\n      <td>David Montgomery</td>\n      <td>NaN</td>\n      <td>NaN</td>\n      <td>NaN</td>\n      <td>0.109626</td>\n      <td>0.361287</td>\n    </tr>\n  </tbody>\n</table>\n</div>"
     },
     "execution_count": 62,
     "metadata": {},
     "output_type": "execute_result"
    }
   ],
   "source": [
    "artist_dataset.head()"
   ],
   "metadata": {
    "collapsed": false,
    "ExecuteTime": {
     "end_time": "2024-03-19T15:05:18.048443Z",
     "start_time": "2024-03-19T15:05:18.041065Z"
    }
   }
  },
  {
   "cell_type": "markdown",
   "metadata": {},
   "source": [
    "Shartil: Adding year column to dataset"
   ]
  },
  {
   "cell_type": "code",
   "execution_count": 9,
   "metadata": {},
   "outputs": [],
   "source": [
    "songs_dataset = songs_dataset.assign(decade=lambda row: (row[YEAR_COLUMN_NAME].astype(int) // 10) * 10)"
   ]
  },
  {
   "cell_type": "code",
   "execution_count": 10,
   "metadata": {},
   "outputs": [],
   "source": [
    "min_decade = songs_dataset[DECADE_COLUMN_NAME].min()\n",
    "max_decade = songs_dataset[DECADE_COLUMN_NAME].max()\n",
    "\n",
    "decade_array = np.linspace(min_decade, max_decade, 10, dtype=int)"
   ]
  },
  {
   "cell_type": "markdown",
   "metadata": {},
   "source": [
    "Najeeb: Introducing a new column \"country\" based on Latitude and Longitude."
   ]
  },
  {
   "cell_type": "code",
   "execution_count": 11,
   "metadata": {},
   "outputs": [],
   "source": [
    "# Fetch and process the geojson data from a local file\n",
    "with open(r'..\\Data\\countries.geojson.json', 'r') as file:\n",
    "    geojson_data = json.load(file)\n",
    "\n",
    "countries = {}\n",
    "for feature in geojson_data[\"features\"]:\n",
    "    geom = feature[\"geometry\"]\n",
    "    country = feature[\"properties\"][\"ADMIN\"]\n",
    "    countries[country] = prep(shape(geom))\n",
    "\n",
    "# Function to get country name from latitude and longitude\n",
    "def get_country(lon, lat):\n",
    "    point = Point(lon, lat)\n",
    "    for country, geom in countries.items():\n",
    "        if geom.contains(point):\n",
    "            return country\n",
    "\n",
    "    return \"unknown\"\n",
    "\n",
    "# Apply the function to create a new 'country' column\n",
    "songs_dataset[COUNTRY_COLUMN_NAME] = songs_dataset.apply(\n",
    "    lambda row: get_country(row[ARTIST_LONGITUDE_COLUMN_NAME], \n",
    "    row[ARTIST_LATITUDE_COLUMN_NAME]), \n",
    "    axis=1\n",
    "    )"
   ]
  },
  {
   "cell_type": "markdown",
   "metadata": {},
   "source": [
    "Shartil: Deleting redundant columns "
   ]
  },
  {
   "cell_type": "code",
   "execution_count": 12,
   "metadata": {},
   "outputs": [
    {
     "data": {
      "text/html": [
       "<div>\n",
       "<style scoped>\n",
       "    .dataframe tbody tr th:only-of-type {\n",
       "        vertical-align: middle;\n",
       "    }\n",
       "\n",
       "    .dataframe tbody tr th {\n",
       "        vertical-align: top;\n",
       "    }\n",
       "\n",
       "    .dataframe thead th {\n",
       "        text-align: right;\n",
       "    }\n",
       "</style>\n",
       "<table border=\"1\" class=\"dataframe\">\n",
       "  <thead>\n",
       "    <tr style=\"text-align: right;\">\n",
       "      <th></th>\n",
       "      <th>song_id</th>\n",
       "      <th>song_title</th>\n",
       "      <th>year</th>\n",
       "      <th>release</th>\n",
       "      <th>tempo</th>\n",
       "      <th>loudness</th>\n",
       "      <th>duration</th>\n",
       "      <th>song_hotttnesss</th>\n",
       "      <th>artist_id</th>\n",
       "      <th>artist_name</th>\n",
       "      <th>artist_hotttnesss</th>\n",
       "      <th>artist_familiarity</th>\n",
       "      <th>decade</th>\n",
       "      <th>country</th>\n",
       "    </tr>\n",
       "  </thead>\n",
       "  <tbody>\n",
       "    <tr>\n",
       "      <th>1</th>\n",
       "      <td>SOGTUKN12AB017F4F1</td>\n",
       "      <td>No One Could Ever</td>\n",
       "      <td>2006.0</td>\n",
       "      <td>Butter</td>\n",
       "      <td>177.768</td>\n",
       "      <td>-2.060</td>\n",
       "      <td>138.97098</td>\n",
       "      <td>0.617871</td>\n",
       "      <td>ARGEKB01187FB50750</td>\n",
       "      <td>Hudson Mohawke</td>\n",
       "      <td>0.437504</td>\n",
       "      <td>0.643681</td>\n",
       "      <td>2000</td>\n",
       "      <td>United Kingdom</td>\n",
       "    </tr>\n",
       "    <tr>\n",
       "      <th>14</th>\n",
       "      <td>SOSDCFG12AB0184647</td>\n",
       "      <td>006</td>\n",
       "      <td>1998.0</td>\n",
       "      <td>Lena 20 År</td>\n",
       "      <td>122.332</td>\n",
       "      <td>-3.925</td>\n",
       "      <td>262.26893</td>\n",
       "      <td>0.212045</td>\n",
       "      <td>ARSB5591187B99A848</td>\n",
       "      <td>Lena Philipsson</td>\n",
       "      <td>0.410229</td>\n",
       "      <td>0.529819</td>\n",
       "      <td>1990</td>\n",
       "      <td>Sweden</td>\n",
       "    </tr>\n",
       "    <tr>\n",
       "      <th>15</th>\n",
       "      <td>SOBARPM12A8C133DFF</td>\n",
       "      <td>(Looking For) The Heart Of Saturday</td>\n",
       "      <td>1994.0</td>\n",
       "      <td>Cover Girl</td>\n",
       "      <td>99.214</td>\n",
       "      <td>-14.379</td>\n",
       "      <td>216.47628</td>\n",
       "      <td>0.270776</td>\n",
       "      <td>ARDW5AW1187FB55708</td>\n",
       "      <td>Shawn Colvin</td>\n",
       "      <td>0.446733</td>\n",
       "      <td>0.685503</td>\n",
       "      <td>1990</td>\n",
       "      <td>United States of America</td>\n",
       "    </tr>\n",
       "    <tr>\n",
       "      <th>16</th>\n",
       "      <td>SOKOVRQ12A8C142811</td>\n",
       "      <td>Ethos of Coercion</td>\n",
       "      <td>2009.0</td>\n",
       "      <td>Descend Into Depravity</td>\n",
       "      <td>189.346</td>\n",
       "      <td>-6.366</td>\n",
       "      <td>196.02240</td>\n",
       "      <td>0.614766</td>\n",
       "      <td>ARGWPP11187B9AEF43</td>\n",
       "      <td>Dying Fetus</td>\n",
       "      <td>0.511976</td>\n",
       "      <td>0.734471</td>\n",
       "      <td>2000</td>\n",
       "      <td>United States of America</td>\n",
       "    </tr>\n",
       "    <tr>\n",
       "      <th>32</th>\n",
       "      <td>SOOLRHW12A8C142643</td>\n",
       "      <td>All of the same blood</td>\n",
       "      <td>2001.0</td>\n",
       "      <td>Violent revolution</td>\n",
       "      <td>191.665</td>\n",
       "      <td>-6.663</td>\n",
       "      <td>372.42730</td>\n",
       "      <td>0.788727</td>\n",
       "      <td>AR79L0D1187FB3AFB6</td>\n",
       "      <td>Kreator</td>\n",
       "      <td>0.472691</td>\n",
       "      <td>0.740252</td>\n",
       "      <td>2000</td>\n",
       "      <td>Germany</td>\n",
       "    </tr>\n",
       "  </tbody>\n",
       "</table>\n",
       "</div>"
      ],
      "text/plain": [
       "               song_id                           song_title    year  \\\n",
       "1   SOGTUKN12AB017F4F1                    No One Could Ever  2006.0   \n",
       "14  SOSDCFG12AB0184647                                  006  1998.0   \n",
       "15  SOBARPM12A8C133DFF  (Looking For) The Heart Of Saturday  1994.0   \n",
       "16  SOKOVRQ12A8C142811                    Ethos of Coercion  2009.0   \n",
       "32  SOOLRHW12A8C142643                All of the same blood  2001.0   \n",
       "\n",
       "                   release    tempo  loudness   duration  song_hotttnesss  \\\n",
       "1                   Butter  177.768    -2.060  138.97098         0.617871   \n",
       "14              Lena 20 År  122.332    -3.925  262.26893         0.212045   \n",
       "15              Cover Girl   99.214   -14.379  216.47628         0.270776   \n",
       "16  Descend Into Depravity  189.346    -6.366  196.02240         0.614766   \n",
       "32      Violent revolution  191.665    -6.663  372.42730         0.788727   \n",
       "\n",
       "             artist_id      artist_name  artist_hotttnesss  \\\n",
       "1   ARGEKB01187FB50750   Hudson Mohawke           0.437504   \n",
       "14  ARSB5591187B99A848  Lena Philipsson           0.410229   \n",
       "15  ARDW5AW1187FB55708     Shawn Colvin           0.446733   \n",
       "16  ARGWPP11187B9AEF43      Dying Fetus           0.511976   \n",
       "32  AR79L0D1187FB3AFB6          Kreator           0.472691   \n",
       "\n",
       "    artist_familiarity  decade                   country  \n",
       "1             0.643681    2000            United Kingdom  \n",
       "14            0.529819    1990                    Sweden  \n",
       "15            0.685503    1990  United States of America  \n",
       "16            0.734471    2000  United States of America  \n",
       "32            0.740252    2000                   Germany  "
      ]
     },
     "execution_count": 12,
     "metadata": {},
     "output_type": "execute_result"
    }
   ],
   "source": [
    "songs_dataset = songs_dataset.drop(\n",
    "    [\n",
    "        ARTIST_LATITUDE_COLUMN_NAME,\n",
    "        ARTIST_LONGITUDE_COLUMN_NAME,\n",
    "        ARTIST_LOCATION_COLUMN_NAME\n",
    "    ], \n",
    "    axis=1)\n",
    "\n",
    "songs_dataset.head()"
   ]
  },
  {
   "cell_type": "markdown",
   "metadata": {},
   "source": [
    "Shartil: Now I am going to create the graph"
   ]
  },
  {
   "cell_type": "code",
   "execution_count": 13,
   "metadata": {},
   "outputs": [],
   "source": [
    "music_graph = nx.Graph()"
   ]
  },
  {
   "cell_type": "code",
   "execution_count": 14,
   "metadata": {},
   "outputs": [],
   "source": [
    "music_graph.add_nodes_from(decade_array.tolist())\n",
    "music_graph.add_nodes_from(songs_dataset[COUNTRY_COLUMN_NAME].unique().tolist())\n",
    "music_graph.add_nodes_from(songs_dataset[SONG_TITLE_COLUMN_NAME].tolist())"
   ]
  },
  {
   "cell_type": "code",
   "execution_count": 15,
   "metadata": {},
   "outputs": [],
   "source": [
    "relationships = []\n",
    "for index, row in songs_dataset.iterrows():\n",
    "    current_song_title = row[SONG_TITLE_COLUMN_NAME]\n",
    "    current_decade = row[DECADE_COLUMN_NAME]\n",
    "    current_country = row[COUNTRY_COLUMN_NAME]\n",
    "\n",
    "    relationships.append((current_decade, current_song_title, {\"label\": \"release_decade\"}))\n",
    "    relationships.append((current_country, current_song_title, {\"label\": \"release_country\"}))\n",
    "\n",
    "music_graph.add_edges_from(relationships)"
   ]
  },
  {
   "cell_type": "code",
   "execution_count": 16,
   "metadata": {},
   "outputs": [
    {
     "name": "stdout",
     "output_type": "stream",
     "text": [
      "Graph with 107405 nodes and 230895 edges\n"
     ]
    }
   ],
   "source": [
    "print(music_graph)"
   ]
  },
  {
   "cell_type": "code",
   "execution_count": 17,
   "metadata": {},
   "outputs": [],
   "source": [
    "def get_songs_by_criteria(music_graph, given_criteria):\n",
    "    selected_songs = [ song for song in music_graph[given_criteria].keys()]\n",
    "    return selected_songs"
   ]
  },
  {
   "cell_type": "code",
   "execution_count": 18,
   "metadata": {},
   "outputs": [],
   "source": [
    "def print_length_and_items(given_list, amont_of_items = 50):\n",
    "    print(len(given_list))\n",
    "    print(given_list[:amont_of_items])"
   ]
  },
  {
   "cell_type": "code",
   "execution_count": 19,
   "metadata": {},
   "outputs": [
    {
     "name": "stdout",
     "output_type": "stream",
     "text": [
      "29714\n",
      "['006', '(Looking For) The Heart Of Saturday', 'One Little Too Little', 'Wonderful Stash', 'Mule Boogie', 'AcroyearII', 'Day', \"When You're Sick With The Blues\", \"Don't Stop Honey (feat. Cedric Burnside)\", 'Sunrise (Album)', \"You Can't Move Into My House\", 'Moonlight', 'Never Knew Love', \"Don't You (Forget About Me) (Album Version)\", 'She Wishes I Were You', \"Love Don't Go Through No Changes On Me\", 'Alguien La Vió Partir', 'Come To The Bower', 'Salt & Velvet', 'Passages', 'Awakening', 'Liberation', 'Crush', 'Logan Braes', 'La fuga de Ruben', 'Country Music / Mexican Cowboy / Tough Cowboy', 'Under Your Spell', 'Blue Moon Nights', 'Breathtaker', 'K.T.', 'How Important Can It Be', 'How Can You Live', 'Give Me Your Word', 'All The Time', 'Years', 'Peaceful Day', 'No More Seances', 'Alone', 'Why Took Your Advice', 'Tainted Past', 'Motherless Child', 'Für immer und ewig', 'The First One To Love You', 'Love Is A Lonely Street', 'All the things you are', 'The Kingdom', 'Strano Il Mio Destino', 'Do I Do', 'Shadowy Bangers From A Shadowy Duplex', 'Why']\n"
     ]
    }
   ],
   "source": [
    "decade_input = 1990\n",
    "\n",
    "decade_songs = get_songs_by_criteria(music_graph, decade_input)\n",
    "print_length_and_items(decade_songs)"
   ]
  },
  {
   "cell_type": "code",
   "execution_count": 20,
   "metadata": {},
   "outputs": [
    {
     "name": "stdout",
     "output_type": "stream",
     "text": [
      "1592\n",
      "['006', 'Day', 'En Sten Vid En Sjö I En Skog', 'Grand finale', 'Oh My God What Have I Done?', 'Yours To Keep', 'Heading north (intro)', \"Stealing Notes From The Devil's Notebook\", 'Greed', \"Let's Get Bleeped Tonight\", 'Microphone', 'Bleed', 'Lemuria', 'Spine', 'My Love (Song for a Butterfly)', 'Swedish Sin', 'Torn', 'När Ska Jag Få Se Dig Naken?', 'Pissed and Poor', 'Eating Me Slowly', 'The Pretty Ones', 'Waterloo', 'Anorak Christmas (Alexander Robotnick Remix)', 'Different Sound', 'Strings Of Grass', 'Embraced', 'A Window', \"I've Been Having Some Strange Dreams\", 'Science', \"Peter's Dream\", \"We'Re Not Gonna Take It\", 'Do You Remember The Riots?', 'Iron cage', 'The Contaminated Void', 'I Saw You on TV', 'For My Demons', 'Into Deep Sleep', 'Bister Verklighet (No Security Cover)', 'Idiots', 'Clean Today', 'The Promise Of Deceit', 'Underground Radio (Album Version)', 'In control', 'Lost', 'Openings To Stories', 'At The Gates', 'Blood Of The Sunsets', 'Casio', 'Overdosing With You', 'Last Blasphemies: Blasphemies Of The Flesh']\n"
     ]
    }
   ],
   "source": [
    "country_input = \"Sweden\"\n",
    "\n",
    "country_songs = get_songs_by_criteria(music_graph, country_input)\n",
    "print_length_and_items(country_songs)"
   ]
  },
  {
   "cell_type": "markdown",
   "metadata": {},
   "source": [
    "Shartil: Now let's get the intersection of the lists<br>\n",
    "This code was taken from this [StackOverflow answer](https://stackoverflow.com/a/3697438/9609586)"
   ]
  },
  {
   "cell_type": "code",
   "execution_count": 21,
   "metadata": {},
   "outputs": [
    {
     "name": "stdout",
     "output_type": "stream",
     "text": [
      "The songs from Sweden that were released in 1990:\n",
      "474\n",
      "['Laura', 'The Fevered Circle', 'Nerve', \"Soon You're Dead\", 'People', 'Ceremonial comedy', 'Shifty Lies', 'Sweetness Dies', 'Evidence', 'Kesäinen kukkiva maa', 'Dismembered', 'Dark Princess Naamah', 'Safe Sex', 'Metro', 'Infinite Submission', 'Underground Radio (Album Version)', 'Nightmares By The Sea', 'Low Life (Album Version)', 'Kill You', 'Chameleon', 'Madhouse', 'Scared', 'Outward Passage', 'Patiently', 'Secrets', 'Call On Me', 'In Death_ A Song', 'Tragic Kingdom', 'Floating Back', 'Spotlight The Sun', 'Thor (The Powerhead)', 'Blood Of The Sunsets', 'Every Time', 'Intro', 'Wasteland Foretold', 'Route 66', 'Non-Divine', 'Spaceless', 'Broken Wings', 'I wish you hell', 'Crossroads', 'Diznee Time', 'Nowhere', 'Eternal Return', 'Miracle', 'Tonight', 'Mark Of Cain', 'War', 'Let the new day begin', 'The Ritualdance Of The Yezidis']\n"
     ]
    }
   ],
   "source": [
    "print(\"The songs from Sweden that were released in 1990:\")\n",
    "\n",
    "result_list = list(set(decade_songs) & set(country_songs))\n",
    "print_length_and_items(result_list)"
   ]
  }
 ],
 "metadata": {
  "kernelspec": {
   "display_name": "Python 3.10.5 64-bit",
   "language": "python",
   "name": "python3"
  },
  "language_info": {
   "codemirror_mode": {
    "name": "ipython",
    "version": 3
   },
   "file_extension": ".py",
   "mimetype": "text/x-python",
   "name": "python",
   "nbconvert_exporter": "python",
   "pygments_lexer": "ipython3",
   "version": "3.10.5"
  },
  "orig_nbformat": 4,
  "vscode": {
   "interpreter": {
    "hash": "3a5cfde8991b0f64e8bcd60a397bea8dc10ed042aefe1441fd3daa2ae2091421"
   }
  }
 },
 "nbformat": 4,
 "nbformat_minor": 2
}
