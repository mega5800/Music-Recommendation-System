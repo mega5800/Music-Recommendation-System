{
 "cells": [
  {
   "cell_type": "markdown",
   "metadata": {},
   "source": [
    "Pip Install Commands"
   ]
  },
  {
   "cell_type": "code",
   "execution_count": 2,
   "metadata": {
    "ExecuteTime": {
     "end_time": "2024-05-21T22:33:32.741775Z",
     "start_time": "2024-05-21T22:33:24.404305Z"
    }
   },
   "outputs": [
    {
     "name": "stdout",
     "output_type": "stream",
     "text": [
      "Requirement already satisfied: shapely in /Users/mac/anaconda3/lib/python3.11/site-packages (2.0.3)\r\n",
      "Requirement already satisfied: numpy<2,>=1.14 in /Users/mac/anaconda3/lib/python3.11/site-packages (from shapely) (1.24.4)\r\n",
      "Note: you may need to restart the kernel to use updated packages.\n",
      "Requirement already satisfied: node2vec in /Users/mac/anaconda3/lib/python3.11/site-packages (0.4.6)\r\n",
      "Requirement already satisfied: gensim<5.0.0,>=4.1.2 in /Users/mac/anaconda3/lib/python3.11/site-packages (from node2vec) (4.3.0)\r\n",
      "Requirement already satisfied: joblib<2.0.0,>=1.1.0 in /Users/mac/anaconda3/lib/python3.11/site-packages (from node2vec) (1.2.0)\r\n",
      "Requirement already satisfied: networkx<3.0,>=2.5 in /Users/mac/anaconda3/lib/python3.11/site-packages (from node2vec) (2.8.8)\r\n",
      "Requirement already satisfied: numpy<2.0.0,>=1.19.5 in /Users/mac/anaconda3/lib/python3.11/site-packages (from node2vec) (1.24.4)\r\n",
      "Requirement already satisfied: tqdm<5.0.0,>=4.55.1 in /Users/mac/anaconda3/lib/python3.11/site-packages (from node2vec) (4.65.0)\r\n",
      "Requirement already satisfied: scipy>=1.7.0 in /Users/mac/anaconda3/lib/python3.11/site-packages (from gensim<5.0.0,>=4.1.2->node2vec) (1.10.1)\r\n",
      "Requirement already satisfied: smart-open>=1.8.1 in /Users/mac/anaconda3/lib/python3.11/site-packages (from gensim<5.0.0,>=4.1.2->node2vec) (5.2.1)\r\n",
      "Requirement already satisfied: FuzzyTM>=0.4.0 in /Users/mac/anaconda3/lib/python3.11/site-packages (from gensim<5.0.0,>=4.1.2->node2vec) (2.0.9)\r\n",
      "Requirement already satisfied: pandas in /Users/mac/anaconda3/lib/python3.11/site-packages (from FuzzyTM>=0.4.0->gensim<5.0.0,>=4.1.2->node2vec) (1.5.3)\r\n",
      "Requirement already satisfied: pyfume in /Users/mac/anaconda3/lib/python3.11/site-packages (from FuzzyTM>=0.4.0->gensim<5.0.0,>=4.1.2->node2vec) (0.3.4)\r\n",
      "Requirement already satisfied: python-dateutil>=2.8.1 in /Users/mac/anaconda3/lib/python3.11/site-packages (from pandas->FuzzyTM>=0.4.0->gensim<5.0.0,>=4.1.2->node2vec) (2.8.2)\r\n",
      "Requirement already satisfied: pytz>=2020.1 in /Users/mac/anaconda3/lib/python3.11/site-packages (from pandas->FuzzyTM>=0.4.0->gensim<5.0.0,>=4.1.2->node2vec) (2022.7)\r\n",
      "Requirement already satisfied: simpful==2.12.0 in /Users/mac/anaconda3/lib/python3.11/site-packages (from pyfume->FuzzyTM>=0.4.0->gensim<5.0.0,>=4.1.2->node2vec) (2.12.0)\r\n",
      "Requirement already satisfied: fst-pso==1.8.1 in /Users/mac/anaconda3/lib/python3.11/site-packages (from pyfume->FuzzyTM>=0.4.0->gensim<5.0.0,>=4.1.2->node2vec) (1.8.1)\r\n",
      "Requirement already satisfied: miniful in /Users/mac/anaconda3/lib/python3.11/site-packages (from fst-pso==1.8.1->pyfume->FuzzyTM>=0.4.0->gensim<5.0.0,>=4.1.2->node2vec) (0.0.6)\r\n",
      "Requirement already satisfied: six>=1.5 in /Users/mac/anaconda3/lib/python3.11/site-packages (from python-dateutil>=2.8.1->pandas->FuzzyTM>=0.4.0->gensim<5.0.0,>=4.1.2->node2vec) (1.16.0)\r\n",
      "Note: you may need to restart the kernel to use updated packages.\n"
     ]
    }
   ],
   "source": [
    "%pip install shapely\n",
    "%pip install node2vec"
   ]
  },
  {
   "cell_type": "markdown",
   "metadata": {},
   "source": [
    "Libraries"
   ]
  },
  {
   "cell_type": "code",
   "execution_count": 3,
   "metadata": {
    "ExecuteTime": {
     "end_time": "2024-05-21T22:33:36.832991Z",
     "start_time": "2024-05-21T22:33:32.746183Z"
    }
   },
   "outputs": [],
   "source": [
    "import os\n",
    "import json\n",
    "import requests\n",
    "import numpy as np\n",
    "import pandas as pd\n",
    "import networkx as nx\n",
    "import matplotlib.pyplot as plt\n",
    "from shapely.prepared import prep\n",
    "from shapely.geometry import mapping, shape, Point\n",
    "from sklearn.neighbors import NearestNeighbors\n",
    "from node2vec import Node2Vec\n",
    "from sklearn.cluster import KMeans"
   ]
  },
  {
   "cell_type": "markdown",
   "metadata": {},
   "source": [
    "Const Values"
   ]
  },
  {
   "cell_type": "code",
   "execution_count": 4,
   "metadata": {
    "ExecuteTime": {
     "end_time": "2024-05-21T22:33:36.845653Z",
     "start_time": "2024-05-21T22:33:36.836377Z"
    }
   },
   "outputs": [],
   "source": [
    "YEAR_COLUMN = \"year\"\n",
    "TEMPO_COLUMN = \"tempo\"\n",
    "LOUDNESS_COLUMN = \"loudness\"\n",
    "DURATION_COLUMN = \"duration\"\n",
    "SONG_HOTTTNESSS_COLUMN = \"song_hotttnesss\"\n",
    "ARTIST_HOTTTNESSS_COLUMN = \"artist_hotttnesss\"\n",
    "ARTIST_FAMILIARITY_COLUMN = \"artist_familiarity\"\n",
    "DECADE_COLUMN = \"decade\"\n",
    "\n",
    "NUMERIC_COLUMNS_LIST = [\n",
    "    YEAR_COLUMN,\n",
    "    TEMPO_COLUMN,\n",
    "    LOUDNESS_COLUMN,\n",
    "    DURATION_COLUMN,\n",
    "    SONG_HOTTTNESSS_COLUMN,\n",
    "    ARTIST_HOTTTNESSS_COLUMN,\n",
    "    ARTIST_FAMILIARITY_COLUMN,\n",
    "    DECADE_COLUMN\n",
    "]\n",
    "\n",
    "SONG_TITLE_COLUMN = \"song_title\"\n",
    "COUNTRY_COLUMN = \"country\"\n",
    "ARTIST_LONGITUDE_COLUMN = \"artist_longitude\"\n",
    "ARTIST_LATITUDE_COLUMN = \"artist_latitude\"\n",
    "ARTIST_LOCATION_COLUMN = \"artist_location\"\n",
    "ARTIST_ID_COLUMN = \"artist_id\"\n",
    "SONG_ID_COLUMN = \"song_id\"\n",
    "\n",
    "UNKNOWN_COUNTRY_VALUE = \"unknown\"\n",
    "MUSIC_DATA_FOLDER_PATH = \"../Music Data/\"\n",
    "MODELS_FOLDER_PATH = \"../models/\""
   ]
  },
  {
   "cell_type": "code",
   "execution_count": 5,
   "metadata": {
    "ExecuteTime": {
     "end_time": "2024-05-21T22:33:36.845974Z",
     "start_time": "2024-05-21T22:33:36.841926Z"
    }
   },
   "outputs": [],
   "source": [
    "def get_attribute_node_name(node_type, node_value):\n",
    "    return f\"{node_type} {node_value}\""
   ]
  },
  {
   "cell_type": "markdown",
   "metadata": {},
   "source": [
    "Loading Songs & Artists datasets"
   ]
  },
  {
   "cell_type": "code",
   "execution_count": 6,
   "metadata": {
    "ExecuteTime": {
     "end_time": "2024-05-21T22:33:41.694796Z",
     "start_time": "2024-05-21T22:33:36.848Z"
    }
   },
   "outputs": [],
   "source": [
    "raw_songs_dataset = pd.read_csv(\"../Data/songs_dataset.csv\")\n",
    "raw_artists_dataset = pd.read_csv(\"../Data/artist_terms.csv\")"
   ]
  },
  {
   "cell_type": "markdown",
   "metadata": {
    "collapsed": false
   },
   "source": [
    "Riaz: Merging datasets based on artist_id<br>\n",
    "In the following cell i am removing the duplicate rows based on `artist_id` and only keep the first record"
   ]
  },
  {
   "cell_type": "code",
   "execution_count": 7,
   "metadata": {
    "collapsed": false,
    "ExecuteTime": {
     "end_time": "2024-05-21T22:33:42.422317Z",
     "start_time": "2024-05-21T22:33:41.735222Z"
    }
   },
   "outputs": [],
   "source": [
    "# Remove duplicates from the artist dataset based on artist_id\n",
    "raw_artists_dataset = raw_artists_dataset.drop_duplicates(subset=ARTIST_ID_COLUMN, keep='first')\n",
    "\n",
    "# Merge the datasets on artist_id\n",
    "raw_music_dataset = pd.merge(raw_songs_dataset, raw_artists_dataset, on=ARTIST_ID_COLUMN, how='left')"
   ]
  },
  {
   "cell_type": "markdown",
   "metadata": {
    "collapsed": false
   },
   "source": [
    "In the above cell i merged the datasets based on artist_id and merge was on left join:\n",
    "When you specify how='left', it means that all the keys from the left dataframe (in this case, the raw_songs_dataset dataframe) will be included in the merged dataframe, and only the matching keys from the right dataframe (in this case, the artist_dataset dataframe) will be added.\n",
    "\n",
    "In other words:\n",
    "\n",
    "All rows from the left dataframe (raw_songs_dataset) are retained.\n",
    "If there are matching keys (in this case, artist_id) in the right dataframe (artist_dataset), the corresponding data from the right dataframe will be added to the merged dataframe.\n",
    "If there are no matching keys in the right dataframe, the corresponding columns in the merged dataframe will be filled with NaN (missing values)."
   ]
  },
  {
   "cell_type": "code",
   "execution_count": 8,
   "metadata": {
    "collapsed": false,
    "ExecuteTime": {
     "end_time": "2024-05-21T22:33:42.461754Z",
     "start_time": "2024-05-21T22:33:42.420507Z"
    }
   },
   "outputs": [
    {
     "data": {
      "text/plain": "              song_id                                         song_title  \\\n0  SOVFVAK12A8C1350D9                                        Tanssi vaan   \n1  SOGTUKN12AB017F4F1                                  No One Could Ever   \n2  SOBNYVR12A8C13558C                                      Si Vos Querés   \n3  SOHSBXH12A8C13B0DF                                   Tangle Of Aspens   \n4  SOZVAPQ12A8C13B63C  Symphony No. 1 G minor \"Sinfonie Serieuse\"/All...   \n\n     year                               release    tempo  loudness   duration  \\\n0  1995.0                           Karkuteillä  150.778   -10.555  156.55138   \n1  2006.0                                Butter  177.768    -2.060  138.97098   \n2  2003.0                               De Culo   87.433    -4.654  145.05751   \n3     NaN  Rene Ablaze Presents Winter Sessions  140.035    -7.806  514.29832   \n4     NaN      Berwald: Symphonies Nos. 1/2/3/4   90.689   -21.420  816.53506   \n\n   song_hotttnesss           artist_id       artist_name  artist_latitude  \\\n0         0.299877  ARMVN3U1187FB3A1EB  Karkkiautomaatti              NaN   \n1         0.617871  ARGEKB01187FB50750    Hudson Mohawke          55.8578   \n2              NaN  ARNWYLR1187B9B2F9C       Yerba Brava              NaN   \n3              NaN  AREQDTE1269FB37231        Der Mystic              NaN   \n4              NaN  AR2NS5Y1187FB5879D  David Montgomery              NaN   \n\n   artist_longitude    artist_location  artist_hotttnesss  artist_familiarity  \\\n0               NaN                NaN           0.356992            0.439604   \n1          -4.24251  Glasgow, Scotland           0.437504            0.643681   \n2               NaN                NaN           0.372349            0.448501   \n3               NaN                NaN           0.000000            0.000000   \n4               NaN                NaN           0.109626            0.361287   \n\n          term  \n0     pop rock  \n1  broken beat  \n2       cumbia  \n3  hard trance  \n4      ragtime  ",
      "text/html": "<div>\n<style scoped>\n    .dataframe tbody tr th:only-of-type {\n        vertical-align: middle;\n    }\n\n    .dataframe tbody tr th {\n        vertical-align: top;\n    }\n\n    .dataframe thead th {\n        text-align: right;\n    }\n</style>\n<table border=\"1\" class=\"dataframe\">\n  <thead>\n    <tr style=\"text-align: right;\">\n      <th></th>\n      <th>song_id</th>\n      <th>song_title</th>\n      <th>year</th>\n      <th>release</th>\n      <th>tempo</th>\n      <th>loudness</th>\n      <th>duration</th>\n      <th>song_hotttnesss</th>\n      <th>artist_id</th>\n      <th>artist_name</th>\n      <th>artist_latitude</th>\n      <th>artist_longitude</th>\n      <th>artist_location</th>\n      <th>artist_hotttnesss</th>\n      <th>artist_familiarity</th>\n      <th>term</th>\n    </tr>\n  </thead>\n  <tbody>\n    <tr>\n      <th>0</th>\n      <td>SOVFVAK12A8C1350D9</td>\n      <td>Tanssi vaan</td>\n      <td>1995.0</td>\n      <td>Karkuteillä</td>\n      <td>150.778</td>\n      <td>-10.555</td>\n      <td>156.55138</td>\n      <td>0.299877</td>\n      <td>ARMVN3U1187FB3A1EB</td>\n      <td>Karkkiautomaatti</td>\n      <td>NaN</td>\n      <td>NaN</td>\n      <td>NaN</td>\n      <td>0.356992</td>\n      <td>0.439604</td>\n      <td>pop rock</td>\n    </tr>\n    <tr>\n      <th>1</th>\n      <td>SOGTUKN12AB017F4F1</td>\n      <td>No One Could Ever</td>\n      <td>2006.0</td>\n      <td>Butter</td>\n      <td>177.768</td>\n      <td>-2.060</td>\n      <td>138.97098</td>\n      <td>0.617871</td>\n      <td>ARGEKB01187FB50750</td>\n      <td>Hudson Mohawke</td>\n      <td>55.8578</td>\n      <td>-4.24251</td>\n      <td>Glasgow, Scotland</td>\n      <td>0.437504</td>\n      <td>0.643681</td>\n      <td>broken beat</td>\n    </tr>\n    <tr>\n      <th>2</th>\n      <td>SOBNYVR12A8C13558C</td>\n      <td>Si Vos Querés</td>\n      <td>2003.0</td>\n      <td>De Culo</td>\n      <td>87.433</td>\n      <td>-4.654</td>\n      <td>145.05751</td>\n      <td>NaN</td>\n      <td>ARNWYLR1187B9B2F9C</td>\n      <td>Yerba Brava</td>\n      <td>NaN</td>\n      <td>NaN</td>\n      <td>NaN</td>\n      <td>0.372349</td>\n      <td>0.448501</td>\n      <td>cumbia</td>\n    </tr>\n    <tr>\n      <th>3</th>\n      <td>SOHSBXH12A8C13B0DF</td>\n      <td>Tangle Of Aspens</td>\n      <td>NaN</td>\n      <td>Rene Ablaze Presents Winter Sessions</td>\n      <td>140.035</td>\n      <td>-7.806</td>\n      <td>514.29832</td>\n      <td>NaN</td>\n      <td>AREQDTE1269FB37231</td>\n      <td>Der Mystic</td>\n      <td>NaN</td>\n      <td>NaN</td>\n      <td>NaN</td>\n      <td>0.000000</td>\n      <td>0.000000</td>\n      <td>hard trance</td>\n    </tr>\n    <tr>\n      <th>4</th>\n      <td>SOZVAPQ12A8C13B63C</td>\n      <td>Symphony No. 1 G minor \"Sinfonie Serieuse\"/All...</td>\n      <td>NaN</td>\n      <td>Berwald: Symphonies Nos. 1/2/3/4</td>\n      <td>90.689</td>\n      <td>-21.420</td>\n      <td>816.53506</td>\n      <td>NaN</td>\n      <td>AR2NS5Y1187FB5879D</td>\n      <td>David Montgomery</td>\n      <td>NaN</td>\n      <td>NaN</td>\n      <td>NaN</td>\n      <td>0.109626</td>\n      <td>0.361287</td>\n      <td>ragtime</td>\n    </tr>\n  </tbody>\n</table>\n</div>"
     },
     "execution_count": 8,
     "metadata": {},
     "output_type": "execute_result"
    }
   ],
   "source": [
    "raw_music_dataset.head()"
   ]
  },
  {
   "cell_type": "code",
   "execution_count": 9,
   "metadata": {
    "ExecuteTime": {
     "end_time": "2024-05-21T22:33:43.745121Z",
     "start_time": "2024-05-21T22:33:42.694117Z"
    }
   },
   "outputs": [
    {
     "data": {
      "text/plain": "song_id                    0\nsong_title                 0\nyear                  484270\nrelease                    5\ntempo                      0\nloudness                   0\nduration                   0\nsong_hotttnesss       417782\nartist_id                  0\nartist_name                0\nartist_latitude       641766\nartist_longitude      641766\nartist_location       487546\nartist_hotttnesss         12\nartist_familiarity       185\nterm                    3767\ndtype: int64"
     },
     "execution_count": 9,
     "metadata": {},
     "output_type": "execute_result"
    }
   ],
   "source": [
    "raw_music_dataset.isna().sum()"
   ]
  },
  {
   "cell_type": "code",
   "execution_count": 10,
   "metadata": {
    "ExecuteTime": {
     "end_time": "2024-05-21T22:33:44.572541Z",
     "start_time": "2024-05-21T22:33:43.735046Z"
    }
   },
   "outputs": [
    {
     "data": {
      "text/plain": "2677099"
     },
     "execution_count": 10,
     "metadata": {},
     "output_type": "execute_result"
    }
   ],
   "source": [
    "raw_music_dataset.isna().sum().sum()"
   ]
  },
  {
   "cell_type": "markdown",
   "metadata": {},
   "source": [
    "Shartil: For now I am going to delete all rows with missing data."
   ]
  },
  {
   "cell_type": "code",
   "execution_count": 11,
   "metadata": {
    "ExecuteTime": {
     "end_time": "2024-05-21T22:33:45.645625Z",
     "start_time": "2024-05-21T22:33:44.575874Z"
    }
   },
   "outputs": [],
   "source": [
    "music_dataset = raw_music_dataset.dropna()"
   ]
  },
  {
   "cell_type": "code",
   "execution_count": 12,
   "metadata": {
    "ExecuteTime": {
     "end_time": "2024-05-21T22:33:45.659272Z",
     "start_time": "2024-05-21T22:33:45.645883Z"
    }
   },
   "outputs": [
    {
     "data": {
      "text/plain": "126905"
     },
     "execution_count": 12,
     "metadata": {},
     "output_type": "execute_result"
    }
   ],
   "source": [
    "len(music_dataset)"
   ]
  },
  {
   "cell_type": "markdown",
   "metadata": {},
   "source": [
    "Shartil: Evenly selecing over 1000 songs, and saving them as the final dataframe"
   ]
  },
  {
   "cell_type": "code",
   "execution_count": 13,
   "metadata": {
    "ExecuteTime": {
     "end_time": "2024-05-21T22:33:45.660158Z",
     "start_time": "2024-05-21T22:33:45.653382Z"
    }
   },
   "outputs": [
    {
     "name": "stdout",
     "output_type": "stream",
     "text": [
      "(126905, 16)\n",
      "(1058, 16)\n"
     ]
    }
   ],
   "source": [
    "print(music_dataset.shape)\n",
    "\n",
    "music_dataset = music_dataset.iloc[::120] # returns dataframe with (1058, 13)\n",
    "\n",
    "print(music_dataset.shape)"
   ]
  },
  {
   "cell_type": "markdown",
   "metadata": {},
   "source": [
    "Najeeb: Introducing a new column \"country\" based on Latitude and Longitude."
   ]
  },
  {
   "cell_type": "markdown",
   "metadata": {},
   "source": [
    "This code is used to load geographical data from a Local GeoJSON file, process it, and subsequently determine which country a given set of Latitudes and Logitudes coordinates falls into. The country names extracted from GeoJSON file are then inserted into a new column in a dataset.\n",
    "\n",
    "- The \"json.load\" function reads the file and convert it into a Python dictionary ('geojson_data').\n",
    "\n",
    "- An Empty dictionary named 'countries' is initiated to store the coordinated data associated with each country.\n",
    "\n",
    "- The script iterates over each feature in the 'features' array of the 'geojson_data'. Each features represents a country.\n",
    "\n",
    "- For each feature, the geometry ('geom') and the administrative name of the country is extracted.\n",
    "\n",
    "- The geometry is then processed with a function 'prep' applied to 'shape(geom)'. This likely involves creating a geometric shape from the geometry data and preparing it for fast spatial queries. The processed geometry is dtored in the 'countries' dictionary with the country name as key.\n",
    "\n",
    "- A function 'get_country' is defined which takes longitudes ('lon') and latitude ('lat') as arguments and creates a ('Point') object from coordinates.\n",
    "\n",
    "- It then iterates  over the 'countries' dictionary and check whether the point is contained within any of the country geometrics using the 'contains' method of the geometry.\n",
    "\n",
    "- if a containing country is found, the function returns the country's name. if no containing country is found, it returns a value 'UNKNOWN_COUNTRY_VALUE'\n",
    "\n",
    "- A new column in the dataset ('msic_dataset') is populated by applying 'get_country' function to each row. In this way the country column is added to music_dataset based on latitude and logitude columns.\n"
   ]
  },
  {
   "cell_type": "code",
   "execution_count": 14,
   "metadata": {
    "ExecuteTime": {
     "end_time": "2024-05-21T22:33:49.205541Z",
     "start_time": "2024-05-21T22:33:45.660881Z"
    }
   },
   "outputs": [],
   "source": [
    "# Fetch and process the geojson data from a local file\n",
    "with open(r'../Data/countries.geojson.json', 'r') as file:\n",
    "    geojson_data = json.load(file)\n",
    "\n",
    "countries = {}\n",
    "for feature in geojson_data[\"features\"]:\n",
    "    geom = feature[\"geometry\"]\n",
    "    country = feature[\"properties\"][\"ADMIN\"]\n",
    "    countries[country] = prep(shape(geom))\n",
    "\n",
    "# Function to get country name from latitude and longitude\n",
    "def get_country(lon, lat):\n",
    "    point = Point(lon, lat)\n",
    "    for country, geom in countries.items():\n",
    "        if geom.contains(point):\n",
    "            return country\n",
    "\n",
    "    return UNKNOWN_COUNTRY_VALUE\n",
    "\n",
    "# Apply the function to create a new 'country' column\n",
    "music_dataset[COUNTRY_COLUMN] = music_dataset.apply(\n",
    "    lambda row: get_country(row[ARTIST_LONGITUDE_COLUMN], \n",
    "    row[ARTIST_LATITUDE_COLUMN]), \n",
    "    axis=1\n",
    "    )"
   ]
  },
  {
   "cell_type": "markdown",
   "metadata": {},
   "source": [
    "Shartil: Deleting redundant columns "
   ]
  },
  {
   "cell_type": "code",
   "execution_count": 15,
   "metadata": {
    "ExecuteTime": {
     "end_time": "2024-05-21T22:33:49.219271Z",
     "start_time": "2024-05-21T22:33:49.216557Z"
    }
   },
   "outputs": [],
   "source": [
    "music_dataset = music_dataset.drop(\n",
    "    [\n",
    "        ARTIST_LATITUDE_COLUMN,\n",
    "        ARTIST_LONGITUDE_COLUMN,\n",
    "        ARTIST_LOCATION_COLUMN,\n",
    "        SONG_ID_COLUMN,\n",
    "        ARTIST_ID_COLUMN\n",
    "    ], \n",
    "    axis=1)"
   ]
  },
  {
   "cell_type": "markdown",
   "metadata": {},
   "source": [
    "Shartil: Deleting all rows with \"unknown\" as the country value and converting year values to int"
   ]
  },
  {
   "cell_type": "code",
   "execution_count": 16,
   "metadata": {
    "ExecuteTime": {
     "end_time": "2024-05-21T22:33:49.235884Z",
     "start_time": "2024-05-21T22:33:49.224122Z"
    }
   },
   "outputs": [],
   "source": [
    "music_dataset = music_dataset[music_dataset[COUNTRY_COLUMN] != UNKNOWN_COUNTRY_VALUE]"
   ]
  },
  {
   "cell_type": "code",
   "execution_count": 17,
   "metadata": {
    "ExecuteTime": {
     "end_time": "2024-05-21T22:33:49.277680Z",
     "start_time": "2024-05-21T22:33:49.228139Z"
    }
   },
   "outputs": [],
   "source": [
    "music_dataset[YEAR_COLUMN] = music_dataset[YEAR_COLUMN].astype(int)"
   ]
  },
  {
   "cell_type": "code",
   "execution_count": 18,
   "metadata": {
    "ExecuteTime": {
     "end_time": "2024-05-21T22:33:49.281188Z",
     "start_time": "2024-05-21T22:33:49.233891Z"
    }
   },
   "outputs": [
    {
     "data": {
      "text/plain": "                                          song_title  year  \\\n0                                  No One Could Ever  2006   \n1                Don't Save It All For Christmas Day  2004   \n2                                         White Lies  2006   \n3                           Guess Who I Saw In Paris  1999   \n4  No More Birthdays (Phil Spector Folk) / San Fr...  2006   \n\n                     release    tempo  loudness   duration  song_hotttnesss  \\\n0                     Butter  177.768    -2.060  138.97098         0.617871   \n1  Merry Christmas With Love  127.397    -9.149  273.08363         0.732281   \n2                   Rocinate   92.103    -9.323  388.80608         0.417314   \n3                   Sugar Me  105.054   -18.484  170.31791         0.368414   \n4             Born To Please   95.658    -6.141  280.45016         0.000000   \n\n       artist_name  artist_hotttnesss  artist_familiarity            term  \\\n0   Hudson Mohawke           0.437504            0.643681     broken beat   \n1       Clay Aiken           0.500596            0.852100        teen pop   \n2      Ester Drang           0.330889            0.525616        shoegaze   \n3  Claudine Longet           0.377489            0.563184  easy listening   \n4       Sound Team           0.368423            0.590111        art rock   \n\n                    country  \n0            United Kingdom  \n1  United States of America  \n2  United States of America  \n3                    France  \n4  United States of America  ",
      "text/html": "<div>\n<style scoped>\n    .dataframe tbody tr th:only-of-type {\n        vertical-align: middle;\n    }\n\n    .dataframe tbody tr th {\n        vertical-align: top;\n    }\n\n    .dataframe thead th {\n        text-align: right;\n    }\n</style>\n<table border=\"1\" class=\"dataframe\">\n  <thead>\n    <tr style=\"text-align: right;\">\n      <th></th>\n      <th>song_title</th>\n      <th>year</th>\n      <th>release</th>\n      <th>tempo</th>\n      <th>loudness</th>\n      <th>duration</th>\n      <th>song_hotttnesss</th>\n      <th>artist_name</th>\n      <th>artist_hotttnesss</th>\n      <th>artist_familiarity</th>\n      <th>term</th>\n      <th>country</th>\n    </tr>\n  </thead>\n  <tbody>\n    <tr>\n      <th>0</th>\n      <td>No One Could Ever</td>\n      <td>2006</td>\n      <td>Butter</td>\n      <td>177.768</td>\n      <td>-2.060</td>\n      <td>138.97098</td>\n      <td>0.617871</td>\n      <td>Hudson Mohawke</td>\n      <td>0.437504</td>\n      <td>0.643681</td>\n      <td>broken beat</td>\n      <td>United Kingdom</td>\n    </tr>\n    <tr>\n      <th>1</th>\n      <td>Don't Save It All For Christmas Day</td>\n      <td>2004</td>\n      <td>Merry Christmas With Love</td>\n      <td>127.397</td>\n      <td>-9.149</td>\n      <td>273.08363</td>\n      <td>0.732281</td>\n      <td>Clay Aiken</td>\n      <td>0.500596</td>\n      <td>0.852100</td>\n      <td>teen pop</td>\n      <td>United States of America</td>\n    </tr>\n    <tr>\n      <th>2</th>\n      <td>White Lies</td>\n      <td>2006</td>\n      <td>Rocinate</td>\n      <td>92.103</td>\n      <td>-9.323</td>\n      <td>388.80608</td>\n      <td>0.417314</td>\n      <td>Ester Drang</td>\n      <td>0.330889</td>\n      <td>0.525616</td>\n      <td>shoegaze</td>\n      <td>United States of America</td>\n    </tr>\n    <tr>\n      <th>3</th>\n      <td>Guess Who I Saw In Paris</td>\n      <td>1999</td>\n      <td>Sugar Me</td>\n      <td>105.054</td>\n      <td>-18.484</td>\n      <td>170.31791</td>\n      <td>0.368414</td>\n      <td>Claudine Longet</td>\n      <td>0.377489</td>\n      <td>0.563184</td>\n      <td>easy listening</td>\n      <td>France</td>\n    </tr>\n    <tr>\n      <th>4</th>\n      <td>No More Birthdays (Phil Spector Folk) / San Fr...</td>\n      <td>2006</td>\n      <td>Born To Please</td>\n      <td>95.658</td>\n      <td>-6.141</td>\n      <td>280.45016</td>\n      <td>0.000000</td>\n      <td>Sound Team</td>\n      <td>0.368423</td>\n      <td>0.590111</td>\n      <td>art rock</td>\n      <td>United States of America</td>\n    </tr>\n  </tbody>\n</table>\n</div>"
     },
     "execution_count": 18,
     "metadata": {},
     "output_type": "execute_result"
    }
   ],
   "source": [
    "music_dataset.reset_index(drop=True, inplace=True)\n",
    "music_dataset.head()"
   ]
  },
  {
   "cell_type": "code",
   "execution_count": 19,
   "metadata": {
    "ExecuteTime": {
     "end_time": "2024-05-21T22:33:49.281679Z",
     "start_time": "2024-05-21T22:33:49.252238Z"
    }
   },
   "outputs": [
    {
     "data": {
      "text/plain": "(1036, 12)"
     },
     "execution_count": 19,
     "metadata": {},
     "output_type": "execute_result"
    }
   ],
   "source": [
    "music_dataset.shape"
   ]
  },
  {
   "cell_type": "markdown",
   "metadata": {},
   "source": [
    "Shartil: making sure the final dataset contains 1000 songs"
   ]
  },
  {
   "cell_type": "code",
   "execution_count": 20,
   "metadata": {
    "ExecuteTime": {
     "end_time": "2024-05-21T22:33:49.282107Z",
     "start_time": "2024-05-21T22:33:49.259653Z"
    }
   },
   "outputs": [
    {
     "name": "stdout",
     "output_type": "stream",
     "text": [
      "(1000, 12)\n"
     ]
    }
   ],
   "source": [
    "music_dataset = music_dataset.iloc[:1000] # returns dataframe with 1000 songs\n",
    "\n",
    "print(music_dataset.shape)"
   ]
  },
  {
   "cell_type": "markdown",
   "metadata": {},
   "source": [
    "Shartil: Adding decade column to dataset"
   ]
  },
  {
   "cell_type": "code",
   "execution_count": 21,
   "metadata": {
    "ExecuteTime": {
     "end_time": "2024-05-21T22:33:49.304234Z",
     "start_time": "2024-05-21T22:33:49.263110Z"
    }
   },
   "outputs": [
    {
     "data": {
      "text/plain": "                                          song_title  year  \\\n0                                  No One Could Ever  2006   \n1                Don't Save It All For Christmas Day  2004   \n2                                         White Lies  2006   \n3                           Guess Who I Saw In Paris  1999   \n4  No More Birthdays (Phil Spector Folk) / San Fr...  2006   \n\n                     release    tempo  loudness   duration  song_hotttnesss  \\\n0                     Butter  177.768    -2.060  138.97098         0.617871   \n1  Merry Christmas With Love  127.397    -9.149  273.08363         0.732281   \n2                   Rocinate   92.103    -9.323  388.80608         0.417314   \n3                   Sugar Me  105.054   -18.484  170.31791         0.368414   \n4             Born To Please   95.658    -6.141  280.45016         0.000000   \n\n       artist_name  artist_hotttnesss  artist_familiarity            term  \\\n0   Hudson Mohawke           0.437504            0.643681     broken beat   \n1       Clay Aiken           0.500596            0.852100        teen pop   \n2      Ester Drang           0.330889            0.525616        shoegaze   \n3  Claudine Longet           0.377489            0.563184  easy listening   \n4       Sound Team           0.368423            0.590111        art rock   \n\n                    country  decade  \n0            United Kingdom    2000  \n1  United States of America    2000  \n2  United States of America    2000  \n3                    France    1990  \n4  United States of America    2000  ",
      "text/html": "<div>\n<style scoped>\n    .dataframe tbody tr th:only-of-type {\n        vertical-align: middle;\n    }\n\n    .dataframe tbody tr th {\n        vertical-align: top;\n    }\n\n    .dataframe thead th {\n        text-align: right;\n    }\n</style>\n<table border=\"1\" class=\"dataframe\">\n  <thead>\n    <tr style=\"text-align: right;\">\n      <th></th>\n      <th>song_title</th>\n      <th>year</th>\n      <th>release</th>\n      <th>tempo</th>\n      <th>loudness</th>\n      <th>duration</th>\n      <th>song_hotttnesss</th>\n      <th>artist_name</th>\n      <th>artist_hotttnesss</th>\n      <th>artist_familiarity</th>\n      <th>term</th>\n      <th>country</th>\n      <th>decade</th>\n    </tr>\n  </thead>\n  <tbody>\n    <tr>\n      <th>0</th>\n      <td>No One Could Ever</td>\n      <td>2006</td>\n      <td>Butter</td>\n      <td>177.768</td>\n      <td>-2.060</td>\n      <td>138.97098</td>\n      <td>0.617871</td>\n      <td>Hudson Mohawke</td>\n      <td>0.437504</td>\n      <td>0.643681</td>\n      <td>broken beat</td>\n      <td>United Kingdom</td>\n      <td>2000</td>\n    </tr>\n    <tr>\n      <th>1</th>\n      <td>Don't Save It All For Christmas Day</td>\n      <td>2004</td>\n      <td>Merry Christmas With Love</td>\n      <td>127.397</td>\n      <td>-9.149</td>\n      <td>273.08363</td>\n      <td>0.732281</td>\n      <td>Clay Aiken</td>\n      <td>0.500596</td>\n      <td>0.852100</td>\n      <td>teen pop</td>\n      <td>United States of America</td>\n      <td>2000</td>\n    </tr>\n    <tr>\n      <th>2</th>\n      <td>White Lies</td>\n      <td>2006</td>\n      <td>Rocinate</td>\n      <td>92.103</td>\n      <td>-9.323</td>\n      <td>388.80608</td>\n      <td>0.417314</td>\n      <td>Ester Drang</td>\n      <td>0.330889</td>\n      <td>0.525616</td>\n      <td>shoegaze</td>\n      <td>United States of America</td>\n      <td>2000</td>\n    </tr>\n    <tr>\n      <th>3</th>\n      <td>Guess Who I Saw In Paris</td>\n      <td>1999</td>\n      <td>Sugar Me</td>\n      <td>105.054</td>\n      <td>-18.484</td>\n      <td>170.31791</td>\n      <td>0.368414</td>\n      <td>Claudine Longet</td>\n      <td>0.377489</td>\n      <td>0.563184</td>\n      <td>easy listening</td>\n      <td>France</td>\n      <td>1990</td>\n    </tr>\n    <tr>\n      <th>4</th>\n      <td>No More Birthdays (Phil Spector Folk) / San Fr...</td>\n      <td>2006</td>\n      <td>Born To Please</td>\n      <td>95.658</td>\n      <td>-6.141</td>\n      <td>280.45016</td>\n      <td>0.000000</td>\n      <td>Sound Team</td>\n      <td>0.368423</td>\n      <td>0.590111</td>\n      <td>art rock</td>\n      <td>United States of America</td>\n      <td>2000</td>\n    </tr>\n  </tbody>\n</table>\n</div>"
     },
     "execution_count": 21,
     "metadata": {},
     "output_type": "execute_result"
    }
   ],
   "source": [
    "music_dataset = music_dataset.assign(decade=lambda row: (row[YEAR_COLUMN].astype(int) // 10) * 10)\n",
    "music_dataset.head()"
   ]
  },
  {
   "cell_type": "code",
   "execution_count": 22,
   "metadata": {
    "ExecuteTime": {
     "end_time": "2024-05-21T22:33:49.325145Z",
     "start_time": "2024-05-21T22:33:49.284095Z"
    }
   },
   "outputs": [],
   "source": [
    "min_decade = music_dataset[DECADE_COLUMN].min()\n",
    "max_decade = music_dataset[DECADE_COLUMN].max()\n",
    "decade_array = np.arange(min_decade, max_decade + 10, 10, dtype=int)"
   ]
  },
  {
   "cell_type": "markdown",
   "metadata": {},
   "source": [
    "Shartil: Saving music_dataset as a CSV file"
   ]
  },
  {
   "cell_type": "code",
   "execution_count": 23,
   "metadata": {
    "ExecuteTime": {
     "end_time": "2024-05-21T22:33:49.389163Z",
     "start_time": "2024-05-21T22:33:49.291240Z"
    }
   },
   "outputs": [],
   "source": [
    "if not os.path.isdir(MUSIC_DATA_FOLDER_PATH):\n",
    "    os.mkdir(MUSIC_DATA_FOLDER_PATH)\n",
    "\n",
    "music_dataset.to_csv(f\"{MUSIC_DATA_FOLDER_PATH}/music_dataset.csv\", mode='w+')"
   ]
  },
  {
   "cell_type": "markdown",
   "metadata": {},
   "source": [
    "Shartil: I will normalize the numeric columns using min max normalization."
   ]
  },
  {
   "cell_type": "code",
   "execution_count": 24,
   "metadata": {
    "ExecuteTime": {
     "end_time": "2024-05-21T22:33:49.389465Z",
     "start_time": "2024-05-21T22:33:49.312193Z"
    }
   },
   "outputs": [],
   "source": [
    "def min_max_normalize_column(df, column_name):\n",
    "    min_val = df[column_name].min()\n",
    "    max_val = df[column_name].max()\n",
    "    \n",
    "    if min_val == max_val:\n",
    "        raise ValueError(\"Cannot normalize column when all values are the same.\")\n",
    "    \n",
    "    df[column_name] = (df[column_name] - min_val) / (max_val - min_val)"
   ]
  },
  {
   "cell_type": "code",
   "execution_count": 25,
   "metadata": {
    "ExecuteTime": {
     "end_time": "2024-05-21T22:33:49.391885Z",
     "start_time": "2024-05-21T22:33:49.317627Z"
    }
   },
   "outputs": [],
   "source": [
    "normalized_music_dataset = music_dataset.copy()\n",
    "\n",
    "for numeric_column in NUMERIC_COLUMNS_LIST:\n",
    "    min_max_normalize_column(normalized_music_dataset, numeric_column)"
   ]
  },
  {
   "cell_type": "code",
   "execution_count": 26,
   "metadata": {
    "ExecuteTime": {
     "end_time": "2024-05-21T22:33:49.468937Z",
     "start_time": "2024-05-21T22:33:49.328856Z"
    }
   },
   "outputs": [
    {
     "data": {
      "text/plain": "                                          song_title      year  \\\n0                                  No One Could Ever  0.927273   \n1                Don't Save It All For Christmas Day  0.890909   \n2                                         White Lies  0.927273   \n3                           Guess Who I Saw In Paris  0.800000   \n4  No More Birthdays (Phil Spector Folk) / San Fr...  0.927273   \n\n                     release     tempo  loudness  duration  song_hotttnesss  \\\n0                     Butter  0.716171  0.961028  0.100247         0.620488   \n1  Merry Christmas With Love  0.513242  0.763265  0.203325         0.735383   \n2                   Rocinate  0.371054  0.758411  0.292268         0.419082   \n3                   Sugar Me  0.423229  0.502846  0.124340         0.369974   \n4             Born To Please  0.385376  0.847180  0.208987         0.000000   \n\n       artist_name  artist_hotttnesss  artist_familiarity            term  \\\n0   Hudson Mohawke           0.511917            0.671199     broken beat   \n1       Clay Aiken           0.585741            0.906486        teen pop   \n2      Ester Drang           0.387169            0.537915        shoegaze   \n3  Claudine Longet           0.441695            0.580325  easy listening   \n4       Sound Team           0.431087            0.610724        art rock   \n\n                    country    decade  \n0            United Kingdom  0.833333  \n1  United States of America  0.833333  \n2  United States of America  0.833333  \n3                    France  0.666667  \n4  United States of America  0.833333  ",
      "text/html": "<div>\n<style scoped>\n    .dataframe tbody tr th:only-of-type {\n        vertical-align: middle;\n    }\n\n    .dataframe tbody tr th {\n        vertical-align: top;\n    }\n\n    .dataframe thead th {\n        text-align: right;\n    }\n</style>\n<table border=\"1\" class=\"dataframe\">\n  <thead>\n    <tr style=\"text-align: right;\">\n      <th></th>\n      <th>song_title</th>\n      <th>year</th>\n      <th>release</th>\n      <th>tempo</th>\n      <th>loudness</th>\n      <th>duration</th>\n      <th>song_hotttnesss</th>\n      <th>artist_name</th>\n      <th>artist_hotttnesss</th>\n      <th>artist_familiarity</th>\n      <th>term</th>\n      <th>country</th>\n      <th>decade</th>\n    </tr>\n  </thead>\n  <tbody>\n    <tr>\n      <th>0</th>\n      <td>No One Could Ever</td>\n      <td>0.927273</td>\n      <td>Butter</td>\n      <td>0.716171</td>\n      <td>0.961028</td>\n      <td>0.100247</td>\n      <td>0.620488</td>\n      <td>Hudson Mohawke</td>\n      <td>0.511917</td>\n      <td>0.671199</td>\n      <td>broken beat</td>\n      <td>United Kingdom</td>\n      <td>0.833333</td>\n    </tr>\n    <tr>\n      <th>1</th>\n      <td>Don't Save It All For Christmas Day</td>\n      <td>0.890909</td>\n      <td>Merry Christmas With Love</td>\n      <td>0.513242</td>\n      <td>0.763265</td>\n      <td>0.203325</td>\n      <td>0.735383</td>\n      <td>Clay Aiken</td>\n      <td>0.585741</td>\n      <td>0.906486</td>\n      <td>teen pop</td>\n      <td>United States of America</td>\n      <td>0.833333</td>\n    </tr>\n    <tr>\n      <th>2</th>\n      <td>White Lies</td>\n      <td>0.927273</td>\n      <td>Rocinate</td>\n      <td>0.371054</td>\n      <td>0.758411</td>\n      <td>0.292268</td>\n      <td>0.419082</td>\n      <td>Ester Drang</td>\n      <td>0.387169</td>\n      <td>0.537915</td>\n      <td>shoegaze</td>\n      <td>United States of America</td>\n      <td>0.833333</td>\n    </tr>\n    <tr>\n      <th>3</th>\n      <td>Guess Who I Saw In Paris</td>\n      <td>0.800000</td>\n      <td>Sugar Me</td>\n      <td>0.423229</td>\n      <td>0.502846</td>\n      <td>0.124340</td>\n      <td>0.369974</td>\n      <td>Claudine Longet</td>\n      <td>0.441695</td>\n      <td>0.580325</td>\n      <td>easy listening</td>\n      <td>France</td>\n      <td>0.666667</td>\n    </tr>\n    <tr>\n      <th>4</th>\n      <td>No More Birthdays (Phil Spector Folk) / San Fr...</td>\n      <td>0.927273</td>\n      <td>Born To Please</td>\n      <td>0.385376</td>\n      <td>0.847180</td>\n      <td>0.208987</td>\n      <td>0.000000</td>\n      <td>Sound Team</td>\n      <td>0.431087</td>\n      <td>0.610724</td>\n      <td>art rock</td>\n      <td>United States of America</td>\n      <td>0.833333</td>\n    </tr>\n  </tbody>\n</table>\n</div>"
     },
     "execution_count": 26,
     "metadata": {},
     "output_type": "execute_result"
    }
   ],
   "source": [
    "normalized_music_dataset.head()"
   ]
  },
  {
   "cell_type": "markdown",
   "metadata": {},
   "source": [
    "Shartil: Now I am going to create the graph"
   ]
  },
  {
   "cell_type": "code",
   "execution_count": 27,
   "metadata": {
    "ExecuteTime": {
     "end_time": "2024-05-21T22:33:49.469303Z",
     "start_time": "2024-05-21T22:33:49.344116Z"
    }
   },
   "outputs": [],
   "source": [
    "music_graph = nx.Graph()"
   ]
  },
  {
   "cell_type": "code",
   "execution_count": 28,
   "metadata": {
    "ExecuteTime": {
     "end_time": "2024-05-21T22:33:49.602573Z",
     "start_time": "2024-05-21T22:33:49.351756Z"
    }
   },
   "outputs": [],
   "source": [
    "for current_index, current_row in normalized_music_dataset.iterrows():\n",
    "    node_data_dict = {}\n",
    "\n",
    "    for current_column in NUMERIC_COLUMNS_LIST:\n",
    "        node_data_dict[current_column] = current_row[current_column]\n",
    "\n",
    "    music_graph.add_node(str(current_index), **node_data_dict)"
   ]
  },
  {
   "cell_type": "code",
   "execution_count": 29,
   "metadata": {
    "ExecuteTime": {
     "end_time": "2024-05-21T22:33:49.604310Z",
     "start_time": "2024-05-21T22:33:49.429719Z"
    }
   },
   "outputs": [],
   "source": [
    "# Shartil: adding empty nodes for the decades, which function as main nodes\n",
    "# i.e., all the songs from 1950 will be connected to the 1950 node.\n",
    "# This will save complex logic of connecting all the songs from the decade, and ensuring that the resulted graph will be less complicated.\n",
    "for current_decade in decade_array:\n",
    "    node_name = get_attribute_node_name(DECADE_COLUMN, current_decade)\n",
    "    music_graph.add_node(node_name)"
   ]
  },
  {
   "cell_type": "markdown",
   "metadata": {},
   "source": [
    "Shartil: for now, the graph only has decade nodes & song nodes that contain their matching ID in the dataframe"
   ]
  },
  {
   "cell_type": "code",
   "execution_count": 30,
   "metadata": {
    "ExecuteTime": {
     "end_time": "2024-05-21T22:33:49.680429Z",
     "start_time": "2024-05-21T22:33:49.432180Z"
    }
   },
   "outputs": [
    {
     "name": "stdout",
     "output_type": "stream",
     "text": [
      "Graph with 1007 nodes and 1000 edges\n"
     ]
    }
   ],
   "source": [
    "for index, row in music_dataset.iterrows():\n",
    "    current_decade = row[DECADE_COLUMN]\n",
    "    node_name = get_attribute_node_name(DECADE_COLUMN, current_decade)\n",
    "    music_graph.add_edge(node_name, str(index))\n",
    "\n",
    "print(music_graph)"
   ]
  },
  {
   "cell_type": "markdown",
   "metadata": {},
   "source": [
    "Shartil: Plotting knowledge graph using code shown in notebook 8"
   ]
  },
  {
   "cell_type": "code",
   "execution_count": 31,
   "metadata": {
    "ExecuteTime": {
     "end_time": "2024-05-21T22:33:55.083430Z",
     "start_time": "2024-05-21T22:33:49.483698Z"
    }
   },
   "outputs": [
    {
     "name": "stderr",
     "output_type": "stream",
     "text": [
      "/Users/mac/anaconda3/lib/python3.11/site-packages/networkx/drawing/nx_pylab.py:433: UserWarning: No data for colormapping provided via 'c'. Parameters 'cmap' will be ignored\n",
      "  node_collection = ax.scatter(\n"
     ]
    },
    {
     "data": {
      "text/plain": "<Figure size 1000x1000 with 1 Axes>",
      "image/png": "[encoded data removed]"
     },
     "metadata": {},
     "output_type": "display_data"
    }
   ],
   "source": [
    "# use spring layout\n",
    "pos = nx.spring_layout(music_graph)\n",
    "\n",
    "# compute degree centrality\n",
    "# degree represents the number of edges from each node,\n",
    "# the centrality allows us to undertsand the more 'popular' nodes\n",
    "cent = nx.degree_centrality(music_graph)\n",
    "cent_array = np.array(list(cent.values()))\n",
    "\n",
    "# size of nodes will be proportional to their popularity\n",
    "node_size = list(map(lambda x: x * 500, cent.values()))\n",
    "\n",
    "\n",
    "plt.figure(figsize=(10, 10))\n",
    "\n",
    "#draw nodes\n",
    "nodes = nx.draw_networkx_nodes(music_graph, pos, node_size=node_size,\n",
    "                               cmap=plt.cm.plasma,\n",
    "                               nodelist=list(cent.keys()))\n",
    "# draw edges\n",
    "edges = nx.draw_networkx_edges(music_graph, pos, width=0.25, alpha=0.3)\n",
    "\n",
    "plt.show()"
   ]
  },
  {
   "cell_type": "markdown",
   "metadata": {
    "collapsed": false
   },
   "source": [
    "Riaz: Node Embeding using node2vec"
   ]
  },
  {
   "cell_type": "code",
   "execution_count": 32,
   "metadata": {
    "collapsed": false,
    "ExecuteTime": {
     "end_time": "2024-05-21T22:34:32.923410Z",
     "start_time": "2024-05-21T22:33:55.079156Z"
    }
   },
   "outputs": [
    {
     "data": {
      "text/plain": "Computing transition probabilities:   0%|          | 0/1007 [00:00<?, ?it/s]",
      "application/vnd.jupyter.widget-view+json": {
       "version_major": 2,
       "version_minor": 0,
       "model_id": "cad410a6ba42486f8453b300c81d56e2"
      }
     },
     "metadata": {},
     "output_type": "display_data"
    },
    {
     "name": "stderr",
     "output_type": "stream",
     "text": [
      "Generating walks (CPU: 2): 100%|██████████| 25/25 [00:04<00:00,  5.46it/s]\n",
      "Generating walks (CPU: 3): 100%|██████████| 25/25 [00:04<00:00,  5.45it/s]\n",
      "Generating walks (CPU: 4): 100%|██████████| 25/25 [00:04<00:00,  5.43it/s]\n",
      "Generating walks (CPU: 1): 100%|██████████| 25/25 [00:04<00:00,  5.38it/s]\n"
     ]
    }
   ],
   "source": [
    "# Precompute probabilities and generate walks - **ON WINDOWS ONLY WORKS WITH workers=1**\n",
    "node2vec = Node2Vec(music_graph, dimensions=64, walk_length=10, num_walks=100, workers=4)  # Use temp_folder for big graphs\n",
    "\n",
    "# Embed nodes\n",
    "model = node2vec.fit(window=10, min_count=1, batch_words=4)  # Any keywords acceptable by gensim.Word2Vec can be passed, `dimensions` and `workers` are automatically passed (from the Node2Vec constructor)"
   ]
  },
  {
   "cell_type": "markdown",
   "metadata": {
    "collapsed": false
   },
   "source": [
    "Saving embedding and model into models folder"
   ]
  },
  {
   "cell_type": "code",
   "execution_count": 33,
   "metadata": {
    "collapsed": false,
    "ExecuteTime": {
     "end_time": "2024-05-21T22:34:32.972481Z",
     "start_time": "2024-05-21T22:34:32.926273Z"
    }
   },
   "outputs": [],
   "source": [
    "# Save embeddings for later use\n",
    "model.wv.save_word2vec_format(f\"{MODELS_FOLDER_PATH}/embedding\")\n",
    "\n",
    "# Save model for later use\n",
    "model.save(f\"{MODELS_FOLDER_PATH}/node2vec_model\")\n"
   ]
  },
  {
   "cell_type": "markdown",
   "metadata": {},
   "source": [
    "Shartil: creating NearestNeighbors selector"
   ]
  },
  {
   "cell_type": "code",
   "execution_count": 34,
   "metadata": {
    "ExecuteTime": {
     "end_time": "2024-05-21T22:34:32.980041Z",
     "start_time": "2024-05-21T22:34:32.976098Z"
    }
   },
   "outputs": [],
   "source": [
    "nodes = list(music_graph.nodes())\n",
    "embeddings = np.array([model.wv[str(node)] for node in nodes])\n",
    "nearestNeighborSelector = NearestNeighbors(n_neighbors=6).fit(embeddings)"
   ]
  },
  {
   "cell_type": "markdown",
   "metadata": {},
   "source": [
    "#### Function used for User input handling"
   ]
  },
  {
   "cell_type": "code",
   "execution_count": 35,
   "metadata": {
    "ExecuteTime": {
     "end_time": "2024-05-21T22:34:32.987874Z",
     "start_time": "2024-05-21T22:34:32.982975Z"
    }
   },
   "outputs": [],
   "source": [
    "def get_song_id(song_title):\n",
    "    matching_songs = music_dataset[music_dataset[SONG_TITLE_COLUMN].str.lower().str.contains(song_title.lower())]\n",
    "    if not matching_songs.empty:\n",
    "        return matching_songs.iloc[0].name\n",
    "    return None"
   ]
  },
  {
   "cell_type": "code",
   "execution_count": 128,
   "outputs": [],
   "source": [
    "def display_graph(songs):\n",
    "    \n",
    "    G = nx.Graph()\n",
    "    G.add_edge(songs.iloc[0].name, songs.iloc[1].name)\n",
    "    G.add_edge(songs.iloc[0].name, songs.iloc[2].name)\n",
    "    G.add_edge(songs.iloc[0].name, songs.iloc[3].name)\n",
    "    G.add_edge(songs.iloc[0].name, songs.iloc[4].name)\n",
    "    G.add_edge(songs.iloc[0].name, songs.iloc[5].name)\n",
    "    # G.add_edge(songs.iloc[0].name, songs.iloc[6].name)\n",
    "    # G.add_edge(songs.iloc[0].name, songs.iloc[].name)\n",
    "\n",
    "    # # explicitly set positions\n",
    "    # pos = {songs.iloc[0].name: (0, 0),songs.iloc[1].name: (-1, 0.3), songs.iloc[2].name: (2, 0.3), songs.iloc[3].name: (4, 0.3), songs.iloc[4].name: (6, 0.3), songs.iloc[5].name: (8, 0.3)}\n",
    "\n",
    "    options = {\n",
    "        \"font_size\": 20,\n",
    "        \"node_size\": 3000,\n",
    "        \"node_color\": \"white\",\n",
    "        \"edgecolors\": \"black\",\n",
    "        \"linewidths\": 5,\n",
    "        \"width\": 5,\n",
    "    }\n",
    "    nx.draw_networkx(G,**options)\n",
    "\n",
    "    # Set margins for the axes so that nodes aren't clipped\n",
    "    ax = plt.gca()\n",
    "    ax.margins(0.20)\n",
    "    plt.axis(\"off\")\n",
    "    plt.show()\n",
    "    "
   ],
   "metadata": {
    "collapsed": false,
    "ExecuteTime": {
     "end_time": "2024-05-21T23:15:02.259384Z",
     "start_time": "2024-05-21T23:15:02.233226Z"
    }
   }
  },
  {
   "cell_type": "code",
   "execution_count": 129,
   "metadata": {
    "ExecuteTime": {
     "end_time": "2024-05-21T23:15:02.448628Z",
     "start_time": "2024-05-21T23:15:02.439095Z"
    }
   },
   "outputs": [],
   "source": [
    "def recommend_songs(query):\n",
    "    user_song_title = query\n",
    "    song_id = get_song_id(user_song_title)\n",
    "\n",
    "    if song_id is not None:\n",
    "        user_song_embed = model.wv[str(song_id)]\n",
    "        distances, indices = nearestNeighborSelector.kneighbors([user_song_embed])\n",
    "        print(\"Similar songs:\")\n",
    "        similar_songs_df = music_dataset.loc[indices[0]]\n",
    "        display(similar_songs_df)\n",
    "        display_graph(similar_songs_df)\n",
    "    else:\n",
    "        print(\"Song not found in the dataset.\")"
   ]
  },
  {
   "cell_type": "code",
   "execution_count": 130,
   "metadata": {
    "ExecuteTime": {
     "end_time": "2024-05-21T23:15:02.611573Z",
     "start_time": "2024-05-21T23:15:02.596552Z"
    }
   },
   "outputs": [],
   "source": [
    "def recommend_songs_by_query(query_type, query):\n",
    "    filtered_music_df = music_dataset[music_dataset[query_type].astype(str).str.lower() == str(query).lower()]\n",
    "    \n",
    "    if len(filtered_music_df) > 0:\n",
    "        chosen_song = filtered_music_df.sample(n=1)\n",
    "        recommend_songs(chosen_song[SONG_TITLE_COLUMN].iloc[0])\n",
    "    else:\n",
    "        print(\"No songs found.\")"
   ]
  },
  {
   "cell_type": "markdown",
   "metadata": {},
   "source": [
    "#### User Interface"
   ]
  },
  {
   "cell_type": "code",
   "execution_count": 139,
   "metadata": {
    "ExecuteTime": {
     "end_time": "2024-05-21T23:28:51.134742Z",
     "start_time": "2024-05-21T23:28:51.117256Z"
    }
   },
   "outputs": [],
   "source": [
    "user_options_dict = {\n",
    "    1 : [\"song_title\", \"song title\"],\n",
    "    2 : [\"artist_name\", \"artist name\"],\n",
    "    3 : [\"decade\", \"decade\"],\n",
    "    4 : [\"country\", \"country\"],\n",
    "    5 : [\"term\", \"term\"],\n",
    "    6 : [\"year\", \"year\"]\n",
    "}"
   ]
  },
  {
   "cell_type": "code",
   "execution_count": 140,
   "metadata": {
    "ExecuteTime": {
     "end_time": "2024-05-21T23:29:35.785044Z",
     "start_time": "2024-05-21T23:28:52.304641Z"
    }
   },
   "outputs": [
    {
     "name": "stdout",
     "output_type": "stream",
     "text": [
      "Query by: song_title, artist_name, decade, country, term (genre) or year\n",
      "Similar songs:\n"
     ]
    },
    {
     "data": {
      "text/plain": "                   song_title  year                release    tempo  loudness  \\\n275       Seven Days Too Long  1980       It Was Like This  151.123    -7.749   \n106                     Blues  1989      Holly-West Crisis  154.225    -3.540   \n990        Fat Lady Wrestlers  1988                 Bummed  107.013   -12.742   \n45                 Toughen Up  1985  I'm Not The Same Girl  128.881    -6.674   \n529             Marriage Tree  1988          House Tornado  234.107   -11.050   \n123  Reprise (Don't Stop Now)  1988             Eden Alley   93.877   -14.298   \n\n      duration  song_hotttnesss              artist_name  artist_hotttnesss  \\\n275  157.75302         0.544751  Dexy's Midnight Runners           0.489458   \n106  167.26159         0.212045               The Cheifs           0.269797   \n990  205.29587         0.531580            Happy Mondays           0.424108   \n45   173.97506         0.237853           Stacy Lattisaw           0.368767   \n529  187.87220         0.552705           Throwing Muses           0.397687   \n123   55.77098         0.375984                 Timbuk 3           0.368895   \n\n     artist_familiarity               term                   country  decade  \n275            0.679794          folk rock            United Kingdom    1980  \n106            0.294380           jam band  United States of America    1980  \n990            0.682101  alternative dance            United Kingdom    1980  \n45             0.516368              disco  United States of America    1980  \n529            0.625464   alternative rock  United States of America    1980  \n123            0.530708      southern rock  United States of America    1980  ",
      "text/html": "<div>\n<style scoped>\n    .dataframe tbody tr th:only-of-type {\n        vertical-align: middle;\n    }\n\n    .dataframe tbody tr th {\n        vertical-align: top;\n    }\n\n    .dataframe thead th {\n        text-align: right;\n    }\n</style>\n<table border=\"1\" class=\"dataframe\">\n  <thead>\n    <tr style=\"text-align: right;\">\n      <th></th>\n      <th>song_title</th>\n      <th>year</th>\n      <th>release</th>\n      <th>tempo</th>\n      <th>loudness</th>\n      <th>duration</th>\n      <th>song_hotttnesss</th>\n      <th>artist_name</th>\n      <th>artist_hotttnesss</th>\n      <th>artist_familiarity</th>\n      <th>term</th>\n      <th>country</th>\n      <th>decade</th>\n    </tr>\n  </thead>\n  <tbody>\n    <tr>\n      <th>275</th>\n      <td>Seven Days Too Long</td>\n      <td>1980</td>\n      <td>It Was Like This</td>\n      <td>151.123</td>\n      <td>-7.749</td>\n      <td>157.75302</td>\n      <td>0.544751</td>\n      <td>Dexy's Midnight Runners</td>\n      <td>0.489458</td>\n      <td>0.679794</td>\n      <td>folk rock</td>\n      <td>United Kingdom</td>\n      <td>1980</td>\n    </tr>\n    <tr>\n      <th>106</th>\n      <td>Blues</td>\n      <td>1989</td>\n      <td>Holly-West Crisis</td>\n      <td>154.225</td>\n      <td>-3.540</td>\n      <td>167.26159</td>\n      <td>0.212045</td>\n      <td>The Cheifs</td>\n      <td>0.269797</td>\n      <td>0.294380</td>\n      <td>jam band</td>\n      <td>United States of America</td>\n      <td>1980</td>\n    </tr>\n    <tr>\n      <th>990</th>\n      <td>Fat Lady Wrestlers</td>\n      <td>1988</td>\n      <td>Bummed</td>\n      <td>107.013</td>\n      <td>-12.742</td>\n      <td>205.29587</td>\n      <td>0.531580</td>\n      <td>Happy Mondays</td>\n      <td>0.424108</td>\n      <td>0.682101</td>\n      <td>alternative dance</td>\n      <td>United Kingdom</td>\n      <td>1980</td>\n    </tr>\n    <tr>\n      <th>45</th>\n      <td>Toughen Up</td>\n      <td>1985</td>\n      <td>I'm Not The Same Girl</td>\n      <td>128.881</td>\n      <td>-6.674</td>\n      <td>173.97506</td>\n      <td>0.237853</td>\n      <td>Stacy Lattisaw</td>\n      <td>0.368767</td>\n      <td>0.516368</td>\n      <td>disco</td>\n      <td>United States of America</td>\n      <td>1980</td>\n    </tr>\n    <tr>\n      <th>529</th>\n      <td>Marriage Tree</td>\n      <td>1988</td>\n      <td>House Tornado</td>\n      <td>234.107</td>\n      <td>-11.050</td>\n      <td>187.87220</td>\n      <td>0.552705</td>\n      <td>Throwing Muses</td>\n      <td>0.397687</td>\n      <td>0.625464</td>\n      <td>alternative rock</td>\n      <td>United States of America</td>\n      <td>1980</td>\n    </tr>\n    <tr>\n      <th>123</th>\n      <td>Reprise (Don't Stop Now)</td>\n      <td>1988</td>\n      <td>Eden Alley</td>\n      <td>93.877</td>\n      <td>-14.298</td>\n      <td>55.77098</td>\n      <td>0.375984</td>\n      <td>Timbuk 3</td>\n      <td>0.368895</td>\n      <td>0.530708</td>\n      <td>southern rock</td>\n      <td>United States of America</td>\n      <td>1980</td>\n    </tr>\n  </tbody>\n</table>\n</div>"
     },
     "metadata": {},
     "output_type": "display_data"
    },
    {
     "data": {
      "text/plain": "<Figure size 640x480 with 1 Axes>",
      "image/png": "[encoded data removed]"
     },
     "metadata": {},
     "output_type": "display_data"
    }
   ],
   "source": [
    "try:\n",
    "    print(\"Query by: song_title, artist_name, decade, country, term (genre) or year\")\n",
    "    input_text = \"Enter your query type (provide number only):\"\n",
    "\n",
    "    for user_option_id, user_option in user_options_dict.items():\n",
    "        input_text += f\"\\n{user_option_id} -> {user_option[0]}\"\n",
    "\n",
    "    user_query_input = int(input(input_text))\n",
    "    query_type = user_options_dict[user_query_input][0]\n",
    "    query = input(f\"Enter value for the {user_options_dict[user_query_input][1]}\")\n",
    "\n",
    "    if query_type == 'song_title':\n",
    "        recommend_songs(query)\n",
    "    else:\n",
    "        recommend_songs_by_query(query_type, query)\n",
    "except ValueError as ex:\n",
    "    print('Please provide valid input')"
   ]
  },
  {
   "cell_type": "code",
   "execution_count": 138,
   "outputs": [
    {
     "ename": "KeyError",
     "evalue": "166",
     "output_type": "error",
     "traceback": [
      "\u001B[0;31m---------------------------------------------------------------------------\u001B[0m",
      "\u001B[0;31mKeyError\u001B[0m                                  Traceback (most recent call last)",
      "Cell \u001B[0;32mIn[138], line 23\u001B[0m\n\u001B[1;32m     21\u001B[0m \u001B[38;5;66;03m# edge weight labels\u001B[39;00m\n\u001B[1;32m     22\u001B[0m edge_labels \u001B[38;5;241m=\u001B[39m nx\u001B[38;5;241m.\u001B[39mget_edge_attributes(G, \u001B[38;5;124m\"\u001B[39m\u001B[38;5;124mweight\u001B[39m\u001B[38;5;124m\"\u001B[39m)\n\u001B[0;32m---> 23\u001B[0m nx\u001B[38;5;241m.\u001B[39mdraw_networkx_edge_labels(G,edge_labels)\n\u001B[1;32m     25\u001B[0m \u001B[38;5;66;03m# Set margins for the axes so that nodes aren't clipped\u001B[39;00m\n\u001B[1;32m     26\u001B[0m ax \u001B[38;5;241m=\u001B[39m plt\u001B[38;5;241m.\u001B[39mgca()\n",
      "File \u001B[0;32m~/anaconda3/lib/python3.11/site-packages/networkx/drawing/nx_pylab.py:1128\u001B[0m, in \u001B[0;36mdraw_networkx_edge_labels\u001B[0;34m(G, pos, edge_labels, label_pos, font_size, font_color, font_family, font_weight, alpha, bbox, horizontalalignment, verticalalignment, ax, rotate, clip_on)\u001B[0m\n\u001B[1;32m   1126\u001B[0m text_items \u001B[38;5;241m=\u001B[39m {}\n\u001B[1;32m   1127\u001B[0m \u001B[38;5;28;01mfor\u001B[39;00m (n1, n2), label \u001B[38;5;129;01min\u001B[39;00m labels\u001B[38;5;241m.\u001B[39mitems():\n\u001B[0;32m-> 1128\u001B[0m     (x1, y1) \u001B[38;5;241m=\u001B[39m pos[n1]\n\u001B[1;32m   1129\u001B[0m     (x2, y2) \u001B[38;5;241m=\u001B[39m pos[n2]\n\u001B[1;32m   1130\u001B[0m     (x, y) \u001B[38;5;241m=\u001B[39m (\n\u001B[1;32m   1131\u001B[0m         x1 \u001B[38;5;241m*\u001B[39m label_pos \u001B[38;5;241m+\u001B[39m x2 \u001B[38;5;241m*\u001B[39m (\u001B[38;5;241m1.0\u001B[39m \u001B[38;5;241m-\u001B[39m label_pos),\n\u001B[1;32m   1132\u001B[0m         y1 \u001B[38;5;241m*\u001B[39m label_pos \u001B[38;5;241m+\u001B[39m y2 \u001B[38;5;241m*\u001B[39m (\u001B[38;5;241m1.0\u001B[39m \u001B[38;5;241m-\u001B[39m label_pos),\n\u001B[1;32m   1133\u001B[0m     )\n",
      "\u001B[0;31mKeyError\u001B[0m: 166"
     ]
    },
    {
     "data": {
      "text/plain": "<Figure size 640x480 with 1 Axes>",
      "image/png": "[encoded data removed]"
     },
     "metadata": {},
     "output_type": "display_data"
    }
   ],
   "source": [
    "# G = nx.Graph()\n",
    "# G.add_edge(166, 292, weight='0.27287593')\n",
    "# G.add_edge(166, 485, weight='0.27780417')\n",
    "# G.add_edge(166, 714, weight='0.2895647')\n",
    "# G.add_edge(166, 993, weight='0.29006833')\n",
    "# G.add_edge(166, 115, weight='0.29313412')\n",
    "# # G.add_edge(songs.iloc[0].name, songs.iloc[6].name)\n",
    "# # G.add_edge(songs.iloc[0].name, songs.iloc[].name)\n",
    "# \n",
    "# # # explicitly set positions\n",
    "# # pos = {songs.iloc[0].name: (0, 0),songs.iloc[1].name: (-1, 0.3), songs.iloc[2].name: (2, 0.3), songs.iloc[3].name: (4, 0.3), songs.iloc[4].name: (6, 0.3), songs.iloc[5].name: (8, 0.3)}\n",
    "# \n",
    "# options = {\n",
    "#     \"font_size\": 20,\n",
    "#     \"node_size\": 3000,\n",
    "#     \"edgecolors\": \"black\",\n",
    "#     \"linewidths\": 5,\n",
    "#     \"width\": 5,\n",
    "# }\n",
    "# \n",
    "# # edge weight labels\n",
    "# edge_labels = nx.get_edge_attributes(G, \"weight\")\n",
    "# nx.draw_networkx_edge_labels(G,edge_labels)\n",
    "# \n",
    "# # Set margins for the axes so that nodes aren't clipped\n",
    "# ax = plt.gca()\n",
    "# ax.margins(0.20)\n",
    "# plt.axis(\"off\")\n",
    "# plt.show()"
   ],
   "metadata": {
    "collapsed": false,
    "ExecuteTime": {
     "end_time": "2024-05-21T23:27:06.560801Z",
     "start_time": "2024-05-21T23:27:06.405175Z"
    }
   }
  },
  {
   "cell_type": "code",
   "execution_count": null,
   "outputs": [],
   "source": [],
   "metadata": {
    "collapsed": false
   }
  }
 ],
 "metadata": {
  "kernelspec": {
   "display_name": "Python 3.10.5 64-bit",
   "language": "python",
   "name": "python3"
  },
  "language_info": {
   "codemirror_mode": {
    "name": "ipython",
    "version": 3
   },
   "file_extension": ".py",
   "mimetype": "text/x-python",
   "name": "python",
   "nbconvert_exporter": "python",
   "pygments_lexer": "ipython3",
   "version": "3.10.5"
  },
  "orig_nbformat": 4,
  "vscode": {
   "interpreter": {
    "hash": "3a5cfde8991b0f64e8bcd60a397bea8dc10ed042aefe1441fd3daa2ae2091421"
   }
  }
 },
 "nbformat": 4,
 "nbformat_minor": 2
}
