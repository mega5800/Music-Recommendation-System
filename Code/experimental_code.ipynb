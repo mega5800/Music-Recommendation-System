{
 "cells": [
  {
   "cell_type": "markdown",
   "metadata": {},
   "source": [
    "Pip Install Commands"
   ]
  },
  {
   "cell_type": "code",
   "execution_count": 1,
   "metadata": {
    "ExecuteTime": {
     "end_time": "2024-05-20T22:47:04.005471Z",
     "start_time": "2024-05-20T22:46:56.064886Z"
    }
   },
   "outputs": [
    {
     "name": "stdout",
     "output_type": "stream",
     "text": [
      "Requirement already satisfied: shapely in w:\\program files\\python310\\lib\\site-packages (2.0.3)\n",
      "Requirement already satisfied: numpy<2,>=1.14 in w:\\program files\\python310\\lib\\site-packages (from shapely) (1.26.1)\n",
      "\n",
      "[notice] A new release of pip available: 22.1.2 -> 24.0\n",
      "[notice] To update, run: python.exe -m pip install --upgrade pip\n",
      "Note: you may need to restart the kernel to use updated packages.\n"
     ]
    },
    {
     "name": "stderr",
     "output_type": "stream",
     "text": [
      "WARNING: Ignoring invalid distribution -ensorflow-intel (w:\\program files\\python310\\lib\\site-packages)\n",
      "WARNING: Ignoring invalid distribution -ensorflow-intel (w:\\program files\\python310\\lib\\site-packages)\n",
      "WARNING: Ignoring invalid distribution -ensorflow-intel (w:\\program files\\python310\\lib\\site-packages)\n",
      "WARNING: Ignoring invalid distribution -ensorflow-intel (w:\\program files\\python310\\lib\\site-packages)\n",
      "WARNING: Ignoring invalid distribution -ensorflow-intel (w:\\program files\\python310\\lib\\site-packages)\n",
      "WARNING: Ignoring invalid distribution -ensorflow-intel (w:\\program files\\python310\\lib\\site-packages)\n"
     ]
    },
    {
     "name": "stdout",
     "output_type": "stream",
     "text": [
      "Requirement already satisfied: node2vec in w:\\program files\\python310\\lib\\site-packages (0.4.6)Note: you may need to restart the kernel to use updated packages.\n",
      "\n",
      "Requirement already satisfied: numpy<2.0.0,>=1.19.5 in w:\\program files\\python310\\lib\\site-packages (from node2vec) (1.26.1)\n",
      "Requirement already satisfied: joblib<2.0.0,>=1.1.0 in w:\\program files\\python310\\lib\\site-packages (from node2vec) (1.3.2)\n",
      "Requirement already satisfied: tqdm<5.0.0,>=4.55.1 in w:\\program files\\python310\\lib\\site-packages (from node2vec) (4.66.1)\n",
      "Requirement already satisfied: gensim<5.0.0,>=4.1.2 in w:\\program files\\python310\\lib\\site-packages (from node2vec) (4.3.2)\n",
      "Requirement already satisfied: networkx<3.0,>=2.5 in w:\\program files\\python310\\lib\\site-packages (from node2vec) (2.8.8)\n",
      "Requirement already satisfied: scipy>=1.7.0 in w:\\program files\\python310\\lib\\site-packages (from gensim<5.0.0,>=4.1.2->node2vec) (1.12.0)\n",
      "Requirement already satisfied: smart-open>=1.8.1 in w:\\program files\\python310\\lib\\site-packages (from gensim<5.0.0,>=4.1.2->node2vec) (6.4.0)\n",
      "Requirement already satisfied: colorama in w:\\program files\\python310\\lib\\site-packages (from tqdm<5.0.0,>=4.55.1->node2vec) (0.4.6)\n",
      "\n",
      "[notice] A new release of pip available: 22.1.2 -> 24.0\n",
      "[notice] To update, run: python.exe -m pip install --upgrade pip\n"
     ]
    },
    {
     "name": "stderr",
     "output_type": "stream",
     "text": [
      "WARNING: Ignoring invalid distribution -ensorflow-intel (w:\\program files\\python310\\lib\\site-packages)\n",
      "WARNING: Ignoring invalid distribution -ensorflow-intel (w:\\program files\\python310\\lib\\site-packages)\n",
      "WARNING: Ignoring invalid distribution -ensorflow-intel (w:\\program files\\python310\\lib\\site-packages)\n",
      "WARNING: Ignoring invalid distribution -ensorflow-intel (w:\\program files\\python310\\lib\\site-packages)\n",
      "WARNING: Ignoring invalid distribution -ensorflow-intel (w:\\program files\\python310\\lib\\site-packages)\n",
      "WARNING: Ignoring invalid distribution -ensorflow-intel (w:\\program files\\python310\\lib\\site-packages)\n"
     ]
    }
   ],
   "source": [
    "%pip install shapely\n",
    "%pip install node2vec"
   ]
  },
  {
   "cell_type": "markdown",
   "metadata": {},
   "source": [
    "Libraries"
   ]
  },
  {
   "cell_type": "code",
   "execution_count": 2,
   "metadata": {
    "ExecuteTime": {
     "end_time": "2024-05-20T22:47:12.665422Z",
     "start_time": "2024-05-20T22:47:04.008726Z"
    }
   },
   "outputs": [
    {
     "name": "stderr",
     "output_type": "stream",
     "text": [
      "w:\\Program Files\\Python310\\lib\\site-packages\\tqdm\\auto.py:21: TqdmWarning: IProgress not found. Please update jupyter and ipywidgets. See https://ipywidgets.readthedocs.io/en/stable/user_install.html\n",
      "  from .autonotebook import tqdm as notebook_tqdm\n"
     ]
    }
   ],
   "source": [
    "import os\n",
    "import json\n",
    "import requests\n",
    "import numpy as np\n",
    "import pandas as pd\n",
    "import networkx as nx\n",
    "import matplotlib.pyplot as plt\n",
    "from shapely.prepared import prep\n",
    "from shapely.geometry import mapping, shape, Point\n",
    "from sklearn.neighbors import NearestNeighbors\n",
    "from node2vec import Node2Vec\n",
    "from sklearn.cluster import KMeans"
   ]
  },
  {
   "cell_type": "markdown",
   "metadata": {},
   "source": [
    "Const Values"
   ]
  },
  {
   "cell_type": "code",
   "execution_count": 3,
   "metadata": {
    "ExecuteTime": {
     "end_time": "2024-05-20T22:47:12.676453Z",
     "start_time": "2024-05-20T22:47:12.669107Z"
    }
   },
   "outputs": [],
   "source": [
    "YEAR_COLUMN = \"year\"\n",
    "TEMPO_COLUMN = \"tempo\"\n",
    "LOUDNESS_COLUMN = \"loudness\"\n",
    "DURATION_COLUMN = \"duration\"\n",
    "SONG_HOTTTNESSS_COLUMN = \"song_hotttnesss\"\n",
    "ARTIST_HOTTTNESSS_COLUMN = \"artist_hotttnesss\"\n",
    "ARTIST_FAMILIARITY_COLUMN = \"artist_familiarity\"\n",
    "DECADE_COLUMN = \"decade\"\n",
    "\n",
    "NUMERIC_COLUMNS_LIST = [\n",
    "    YEAR_COLUMN,\n",
    "    TEMPO_COLUMN,\n",
    "    LOUDNESS_COLUMN,\n",
    "    DURATION_COLUMN,\n",
    "    SONG_HOTTTNESSS_COLUMN,\n",
    "    ARTIST_HOTTTNESSS_COLUMN,\n",
    "    ARTIST_FAMILIARITY_COLUMN,\n",
    "    DECADE_COLUMN\n",
    "]\n",
    "\n",
    "SONG_TITLE_COLUMN = \"song_title\"\n",
    "COUNTRY_COLUMN = \"country\"\n",
    "ARTIST_LONGITUDE_COLUMN = \"artist_longitude\"\n",
    "ARTIST_LATITUDE_COLUMN = \"artist_latitude\"\n",
    "ARTIST_LOCATION_COLUMN = \"artist_location\"\n",
    "ARTIST_ID_COLUMN = \"artist_id\"\n",
    "SONG_ID_COLUMN = \"song_id\"\n",
    "\n",
    "UNKNOWN_COUNTRY_VALUE = \"unknown\"\n",
    "MUSIC_DATA_FOLDER_PATH = \"../Music Data/\"\n",
    "MODELS_FOLDER_PATH = \"../models/\""
   ]
  },
  {
   "cell_type": "code",
   "execution_count": 4,
   "metadata": {
    "ExecuteTime": {
     "end_time": "2024-05-20T22:47:12.679028Z",
     "start_time": "2024-05-20T22:47:12.673337Z"
    }
   },
   "outputs": [],
   "source": [
    "def get_attribute_node_name(node_type, node_value):\n",
    "    return f\"{node_type} {node_value}\""
   ]
  },
  {
   "cell_type": "markdown",
   "metadata": {},
   "source": [
    "Loading Songs & Artists datasets"
   ]
  },
  {
   "cell_type": "code",
   "execution_count": 5,
   "metadata": {
    "ExecuteTime": {
     "end_time": "2024-05-20T22:47:17.122300Z",
     "start_time": "2024-05-20T22:47:12.682009Z"
    }
   },
   "outputs": [],
   "source": [
    "raw_songs_dataset = pd.read_csv(\"../Data/songs_dataset.csv\")\n",
    "raw_artists_dataset = pd.read_csv(\"../Data/artist_terms.csv\")"
   ]
  },
  {
   "cell_type": "markdown",
   "metadata": {
    "collapsed": false
   },
   "source": [
    "Riaz: Merging datasets based on artist_id<br>\n",
    "In the following cell i am removing the duplicate rows based on `artist_id` and only keep the first record"
   ]
  },
  {
   "cell_type": "code",
   "execution_count": 6,
   "metadata": {
    "ExecuteTime": {
     "end_time": "2024-05-20T22:47:17.866101Z",
     "start_time": "2024-05-20T22:47:17.147709Z"
    },
    "collapsed": false
   },
   "outputs": [],
   "source": [
    "# Remove duplicates from the artist dataset based on artist_id\n",
    "raw_artists_dataset = raw_artists_dataset.drop_duplicates(subset=ARTIST_ID_COLUMN, keep='first')\n",
    "\n",
    "# Merge the datasets on artist_id\n",
    "raw_music_dataset = pd.merge(raw_songs_dataset, raw_artists_dataset, on=ARTIST_ID_COLUMN, how='left')"
   ]
  },
  {
   "cell_type": "markdown",
   "metadata": {
    "collapsed": false
   },
   "source": [
    "In the above cell i merged the datasets based on artist_id and merge was on left join:\n",
    "When you specify how='left', it means that all the keys from the left dataframe (in this case, the raw_songs_dataset dataframe) will be included in the merged dataframe, and only the matching keys from the right dataframe (in this case, the artist_dataset dataframe) will be added.\n",
    "\n",
    "In other words:\n",
    "\n",
    "All rows from the left dataframe (raw_songs_dataset) are retained.\n",
    "If there are matching keys (in this case, artist_id) in the right dataframe (artist_dataset), the corresponding data from the right dataframe will be added to the merged dataframe.\n",
    "If there are no matching keys in the right dataframe, the corresponding columns in the merged dataframe will be filled with NaN (missing values)."
   ]
  },
  {
   "cell_type": "code",
   "execution_count": 7,
   "metadata": {
    "ExecuteTime": {
     "end_time": "2024-05-20T22:47:17.895373Z",
     "start_time": "2024-05-20T22:47:17.864482Z"
    },
    "collapsed": false
   },
   "outputs": [
    {
     "data": {
      "text/html": [
       "<div>\n",
       "<style scoped>\n",
       "    .dataframe tbody tr th:only-of-type {\n",
       "        vertical-align: middle;\n",
       "    }\n",
       "\n",
       "    .dataframe tbody tr th {\n",
       "        vertical-align: top;\n",
       "    }\n",
       "\n",
       "    .dataframe thead th {\n",
       "        text-align: right;\n",
       "    }\n",
       "</style>\n",
       "<table border=\"1\" class=\"dataframe\">\n",
       "  <thead>\n",
       "    <tr style=\"text-align: right;\">\n",
       "      <th></th>\n",
       "      <th>song_id</th>\n",
       "      <th>song_title</th>\n",
       "      <th>year</th>\n",
       "      <th>release</th>\n",
       "      <th>tempo</th>\n",
       "      <th>loudness</th>\n",
       "      <th>duration</th>\n",
       "      <th>song_hotttnesss</th>\n",
       "      <th>artist_id</th>\n",
       "      <th>artist_name</th>\n",
       "      <th>artist_latitude</th>\n",
       "      <th>artist_longitude</th>\n",
       "      <th>artist_location</th>\n",
       "      <th>artist_hotttnesss</th>\n",
       "      <th>artist_familiarity</th>\n",
       "      <th>term</th>\n",
       "    </tr>\n",
       "  </thead>\n",
       "  <tbody>\n",
       "    <tr>\n",
       "      <th>0</th>\n",
       "      <td>SOVFVAK12A8C1350D9</td>\n",
       "      <td>Tanssi vaan</td>\n",
       "      <td>1995.0</td>\n",
       "      <td>Karkuteillä</td>\n",
       "      <td>150.778</td>\n",
       "      <td>-10.555</td>\n",
       "      <td>156.55138</td>\n",
       "      <td>0.299877</td>\n",
       "      <td>ARMVN3U1187FB3A1EB</td>\n",
       "      <td>Karkkiautomaatti</td>\n",
       "      <td>NaN</td>\n",
       "      <td>NaN</td>\n",
       "      <td>NaN</td>\n",
       "      <td>0.356992</td>\n",
       "      <td>0.439604</td>\n",
       "      <td>pop rock</td>\n",
       "    </tr>\n",
       "    <tr>\n",
       "      <th>1</th>\n",
       "      <td>SOGTUKN12AB017F4F1</td>\n",
       "      <td>No One Could Ever</td>\n",
       "      <td>2006.0</td>\n",
       "      <td>Butter</td>\n",
       "      <td>177.768</td>\n",
       "      <td>-2.060</td>\n",
       "      <td>138.97098</td>\n",
       "      <td>0.617871</td>\n",
       "      <td>ARGEKB01187FB50750</td>\n",
       "      <td>Hudson Mohawke</td>\n",
       "      <td>55.8578</td>\n",
       "      <td>-4.24251</td>\n",
       "      <td>Glasgow, Scotland</td>\n",
       "      <td>0.437504</td>\n",
       "      <td>0.643681</td>\n",
       "      <td>broken beat</td>\n",
       "    </tr>\n",
       "    <tr>\n",
       "      <th>2</th>\n",
       "      <td>SOBNYVR12A8C13558C</td>\n",
       "      <td>Si Vos Querés</td>\n",
       "      <td>2003.0</td>\n",
       "      <td>De Culo</td>\n",
       "      <td>87.433</td>\n",
       "      <td>-4.654</td>\n",
       "      <td>145.05751</td>\n",
       "      <td>NaN</td>\n",
       "      <td>ARNWYLR1187B9B2F9C</td>\n",
       "      <td>Yerba Brava</td>\n",
       "      <td>NaN</td>\n",
       "      <td>NaN</td>\n",
       "      <td>NaN</td>\n",
       "      <td>0.372349</td>\n",
       "      <td>0.448501</td>\n",
       "      <td>cumbia</td>\n",
       "    </tr>\n",
       "    <tr>\n",
       "      <th>3</th>\n",
       "      <td>SOHSBXH12A8C13B0DF</td>\n",
       "      <td>Tangle Of Aspens</td>\n",
       "      <td>NaN</td>\n",
       "      <td>Rene Ablaze Presents Winter Sessions</td>\n",
       "      <td>140.035</td>\n",
       "      <td>-7.806</td>\n",
       "      <td>514.29832</td>\n",
       "      <td>NaN</td>\n",
       "      <td>AREQDTE1269FB37231</td>\n",
       "      <td>Der Mystic</td>\n",
       "      <td>NaN</td>\n",
       "      <td>NaN</td>\n",
       "      <td>NaN</td>\n",
       "      <td>0.000000</td>\n",
       "      <td>0.000000</td>\n",
       "      <td>hard trance</td>\n",
       "    </tr>\n",
       "    <tr>\n",
       "      <th>4</th>\n",
       "      <td>SOZVAPQ12A8C13B63C</td>\n",
       "      <td>Symphony No. 1 G minor \"Sinfonie Serieuse\"/All...</td>\n",
       "      <td>NaN</td>\n",
       "      <td>Berwald: Symphonies Nos. 1/2/3/4</td>\n",
       "      <td>90.689</td>\n",
       "      <td>-21.420</td>\n",
       "      <td>816.53506</td>\n",
       "      <td>NaN</td>\n",
       "      <td>AR2NS5Y1187FB5879D</td>\n",
       "      <td>David Montgomery</td>\n",
       "      <td>NaN</td>\n",
       "      <td>NaN</td>\n",
       "      <td>NaN</td>\n",
       "      <td>0.109626</td>\n",
       "      <td>0.361287</td>\n",
       "      <td>ragtime</td>\n",
       "    </tr>\n",
       "  </tbody>\n",
       "</table>\n",
       "</div>"
      ],
      "text/plain": [
       "              song_id                                         song_title  \\\n",
       "0  SOVFVAK12A8C1350D9                                        Tanssi vaan   \n",
       "1  SOGTUKN12AB017F4F1                                  No One Could Ever   \n",
       "2  SOBNYVR12A8C13558C                                      Si Vos Querés   \n",
       "3  SOHSBXH12A8C13B0DF                                   Tangle Of Aspens   \n",
       "4  SOZVAPQ12A8C13B63C  Symphony No. 1 G minor \"Sinfonie Serieuse\"/All...   \n",
       "\n",
       "     year                               release    tempo  loudness   duration  \\\n",
       "0  1995.0                           Karkuteillä  150.778   -10.555  156.55138   \n",
       "1  2006.0                                Butter  177.768    -2.060  138.97098   \n",
       "2  2003.0                               De Culo   87.433    -4.654  145.05751   \n",
       "3     NaN  Rene Ablaze Presents Winter Sessions  140.035    -7.806  514.29832   \n",
       "4     NaN      Berwald: Symphonies Nos. 1/2/3/4   90.689   -21.420  816.53506   \n",
       "\n",
       "   song_hotttnesss           artist_id       artist_name  artist_latitude  \\\n",
       "0         0.299877  ARMVN3U1187FB3A1EB  Karkkiautomaatti              NaN   \n",
       "1         0.617871  ARGEKB01187FB50750    Hudson Mohawke          55.8578   \n",
       "2              NaN  ARNWYLR1187B9B2F9C       Yerba Brava              NaN   \n",
       "3              NaN  AREQDTE1269FB37231        Der Mystic              NaN   \n",
       "4              NaN  AR2NS5Y1187FB5879D  David Montgomery              NaN   \n",
       "\n",
       "   artist_longitude    artist_location  artist_hotttnesss  artist_familiarity  \\\n",
       "0               NaN                NaN           0.356992            0.439604   \n",
       "1          -4.24251  Glasgow, Scotland           0.437504            0.643681   \n",
       "2               NaN                NaN           0.372349            0.448501   \n",
       "3               NaN                NaN           0.000000            0.000000   \n",
       "4               NaN                NaN           0.109626            0.361287   \n",
       "\n",
       "          term  \n",
       "0     pop rock  \n",
       "1  broken beat  \n",
       "2       cumbia  \n",
       "3  hard trance  \n",
       "4      ragtime  "
      ]
     },
     "execution_count": 7,
     "metadata": {},
     "output_type": "execute_result"
    }
   ],
   "source": [
    "raw_music_dataset.head()"
   ]
  },
  {
   "cell_type": "code",
   "execution_count": 8,
   "metadata": {
    "ExecuteTime": {
     "end_time": "2024-05-20T22:47:18.737018Z",
     "start_time": "2024-05-20T22:47:17.885026Z"
    }
   },
   "outputs": [
    {
     "data": {
      "text/plain": [
       "song_id                    0\n",
       "song_title                 2\n",
       "year                  484270\n",
       "release                    7\n",
       "tempo                      0\n",
       "loudness                   0\n",
       "duration                   0\n",
       "song_hotttnesss       417782\n",
       "artist_id                  0\n",
       "artist_name                0\n",
       "artist_latitude       641766\n",
       "artist_longitude      641766\n",
       "artist_location       487546\n",
       "artist_hotttnesss         12\n",
       "artist_familiarity       185\n",
       "term                    3767\n",
       "dtype: int64"
      ]
     },
     "execution_count": 8,
     "metadata": {},
     "output_type": "execute_result"
    }
   ],
   "source": [
    "raw_music_dataset.isna().sum()"
   ]
  },
  {
   "cell_type": "code",
   "execution_count": 9,
   "metadata": {
    "ExecuteTime": {
     "end_time": "2024-05-20T22:47:19.529945Z",
     "start_time": "2024-05-20T22:47:18.737198Z"
    }
   },
   "outputs": [
    {
     "data": {
      "text/plain": [
       "2677103"
      ]
     },
     "execution_count": 9,
     "metadata": {},
     "output_type": "execute_result"
    }
   ],
   "source": [
    "raw_music_dataset.isna().sum().sum()"
   ]
  },
  {
   "cell_type": "markdown",
   "metadata": {},
   "source": [
    "Shartil: For now I am going to delete all rows with missing data."
   ]
  },
  {
   "cell_type": "code",
   "execution_count": 10,
   "metadata": {
    "ExecuteTime": {
     "end_time": "2024-05-20T22:47:20.623505Z",
     "start_time": "2024-05-20T22:47:19.758083Z"
    }
   },
   "outputs": [],
   "source": [
    "music_dataset = raw_music_dataset.dropna()"
   ]
  },
  {
   "cell_type": "code",
   "execution_count": 11,
   "metadata": {
    "ExecuteTime": {
     "end_time": "2024-05-20T22:47:20.628171Z",
     "start_time": "2024-05-20T22:47:20.620867Z"
    }
   },
   "outputs": [
    {
     "data": {
      "text/plain": [
       "126903"
      ]
     },
     "execution_count": 11,
     "metadata": {},
     "output_type": "execute_result"
    }
   ],
   "source": [
    "len(music_dataset)"
   ]
  },
  {
   "cell_type": "markdown",
   "metadata": {},
   "source": [
    "Shartil: Evenly selecing over 1000 songs, and saving them as the final dataframe"
   ]
  },
  {
   "cell_type": "code",
   "execution_count": 12,
   "metadata": {
    "ExecuteTime": {
     "end_time": "2024-05-20T22:47:20.648786Z",
     "start_time": "2024-05-20T22:47:20.626640Z"
    }
   },
   "outputs": [
    {
     "name": "stdout",
     "output_type": "stream",
     "text": [
      "(126903, 16)\n",
      "(1058, 16)\n"
     ]
    }
   ],
   "source": [
    "print(music_dataset.shape)\n",
    "\n",
    "music_dataset = music_dataset.iloc[::120] # returns dataframe with (1058, 13)\n",
    "\n",
    "print(music_dataset.shape)"
   ]
  },
  {
   "cell_type": "markdown",
   "metadata": {},
   "source": [
    "Najeeb: Introducing a new column \"country\" based on Latitude and Longitude."
   ]
  },
  {
   "cell_type": "markdown",
   "metadata": {},
   "source": [
    "This code is used to load geographical data from a Local GeoJSON file, process it, and subsequently determine which country a given set of Latitudes and Logitudes coordinates falls into. The country names extracted from GeoJSON file are then inserted into a new column in a dataset.\n",
    "\n",
    "- The \"json.load\" function reads the file and convert it into a Python dictionary ('geojson_data').\n",
    "\n",
    "- An Empty dictionary named 'countries' is initiated to store the coordinated data associated with each country.\n",
    "\n",
    "- The script iterates over each feature in the 'features' array of the 'geojson_data'. Each features represents a country.\n",
    "\n",
    "- For each feature, the geometry ('geom') and the administrative name of the country is extracted.\n",
    "\n",
    "- The geometry is then processed with a function 'prep' applied to 'shape(geom)'. This likely involves creating a geometric shape from the geometry data and preparing it for fast spatial queries. The processed geometry is dtored in the 'countries' dictionary with the country name as key.\n",
    "\n",
    "- A function 'get_country' is defined which takes longitudes ('lon') and latitude ('lat') as arguments and creates a ('Point') object from coordinates.\n",
    "\n",
    "- It then iterates  over the 'countries' dictionary and check whether the point is contained within any of the country geometrics using the 'contains' method of the geometry.\n",
    "\n",
    "- if a containing country is found, the function returns the country's name. if no containing country is found, it returns a value 'UNKNOWN_COUNTRY_VALUE'\n",
    "\n",
    "- A new column in the dataset ('msic_dataset') is populated by applying 'get_country' function to each row. In this way the country column is added to music_dataset based on latitude and logitude columns.\n"
   ]
  },
  {
   "cell_type": "code",
   "execution_count": 13,
   "metadata": {
    "ExecuteTime": {
     "end_time": "2024-05-20T22:47:23.848225Z",
     "start_time": "2024-05-20T22:47:20.635505Z"
    }
   },
   "outputs": [],
   "source": [
    "# Fetch and process the geojson data from a local file\n",
    "with open(r'../Data/countries.geojson.json', 'r') as file:\n",
    "    geojson_data = json.load(file)\n",
    "\n",
    "countries = {}\n",
    "for feature in geojson_data[\"features\"]:\n",
    "    geom = feature[\"geometry\"]\n",
    "    country = feature[\"properties\"][\"ADMIN\"]\n",
    "    countries[country] = prep(shape(geom))\n",
    "\n",
    "# Function to get country name from latitude and longitude\n",
    "def get_country(lon, lat):\n",
    "    point = Point(lon, lat)\n",
    "    for country, geom in countries.items():\n",
    "        if geom.contains(point):\n",
    "            return country\n",
    "\n",
    "    return UNKNOWN_COUNTRY_VALUE\n",
    "\n",
    "# Apply the function to create a new 'country' column\n",
    "music_dataset[COUNTRY_COLUMN] = music_dataset.apply(\n",
    "    lambda row: get_country(row[ARTIST_LONGITUDE_COLUMN], \n",
    "    row[ARTIST_LATITUDE_COLUMN]), \n",
    "    axis=1\n",
    "    )"
   ]
  },
  {
   "cell_type": "markdown",
   "metadata": {},
   "source": [
    "Shartil: Deleting redundant columns "
   ]
  },
  {
   "cell_type": "code",
   "execution_count": 14,
   "metadata": {
    "ExecuteTime": {
     "end_time": "2024-05-20T22:47:23.862898Z",
     "start_time": "2024-05-20T22:47:23.854310Z"
    }
   },
   "outputs": [],
   "source": [
    "music_dataset = music_dataset.drop(\n",
    "    [\n",
    "        ARTIST_LATITUDE_COLUMN,\n",
    "        ARTIST_LONGITUDE_COLUMN,\n",
    "        ARTIST_LOCATION_COLUMN,\n",
    "        SONG_ID_COLUMN,\n",
    "        ARTIST_ID_COLUMN\n",
    "    ], \n",
    "    axis=1)"
   ]
  },
  {
   "cell_type": "markdown",
   "metadata": {},
   "source": [
    "Shartil: Deleting all rows with \"unknown\" as the country value and converting year values to int"
   ]
  },
  {
   "cell_type": "code",
   "execution_count": 15,
   "metadata": {
    "ExecuteTime": {
     "end_time": "2024-05-20T22:47:23.865467Z",
     "start_time": "2024-05-20T22:47:23.857982Z"
    }
   },
   "outputs": [],
   "source": [
    "music_dataset = music_dataset[music_dataset[COUNTRY_COLUMN] != UNKNOWN_COUNTRY_VALUE]"
   ]
  },
  {
   "cell_type": "code",
   "execution_count": 16,
   "metadata": {
    "ExecuteTime": {
     "end_time": "2024-05-20T22:47:23.908299Z",
     "start_time": "2024-05-20T22:47:23.866232Z"
    }
   },
   "outputs": [],
   "source": [
    "music_dataset[YEAR_COLUMN] = music_dataset[YEAR_COLUMN].astype(int)"
   ]
  },
  {
   "cell_type": "code",
   "execution_count": 17,
   "metadata": {
    "ExecuteTime": {
     "end_time": "2024-05-20T22:47:23.909772Z",
     "start_time": "2024-05-20T22:47:23.871407Z"
    }
   },
   "outputs": [
    {
     "data": {
      "text/html": [
       "<div>\n",
       "<style scoped>\n",
       "    .dataframe tbody tr th:only-of-type {\n",
       "        vertical-align: middle;\n",
       "    }\n",
       "\n",
       "    .dataframe tbody tr th {\n",
       "        vertical-align: top;\n",
       "    }\n",
       "\n",
       "    .dataframe thead th {\n",
       "        text-align: right;\n",
       "    }\n",
       "</style>\n",
       "<table border=\"1\" class=\"dataframe\">\n",
       "  <thead>\n",
       "    <tr style=\"text-align: right;\">\n",
       "      <th></th>\n",
       "      <th>song_title</th>\n",
       "      <th>year</th>\n",
       "      <th>release</th>\n",
       "      <th>tempo</th>\n",
       "      <th>loudness</th>\n",
       "      <th>duration</th>\n",
       "      <th>song_hotttnesss</th>\n",
       "      <th>artist_name</th>\n",
       "      <th>artist_hotttnesss</th>\n",
       "      <th>artist_familiarity</th>\n",
       "      <th>term</th>\n",
       "      <th>country</th>\n",
       "    </tr>\n",
       "  </thead>\n",
       "  <tbody>\n",
       "    <tr>\n",
       "      <th>0</th>\n",
       "      <td>No One Could Ever</td>\n",
       "      <td>2006</td>\n",
       "      <td>Butter</td>\n",
       "      <td>177.768</td>\n",
       "      <td>-2.060</td>\n",
       "      <td>138.97098</td>\n",
       "      <td>0.617871</td>\n",
       "      <td>Hudson Mohawke</td>\n",
       "      <td>0.437504</td>\n",
       "      <td>0.643681</td>\n",
       "      <td>broken beat</td>\n",
       "      <td>United Kingdom</td>\n",
       "    </tr>\n",
       "    <tr>\n",
       "      <th>1</th>\n",
       "      <td>Don't Save It All For Christmas Day</td>\n",
       "      <td>2004</td>\n",
       "      <td>Merry Christmas With Love</td>\n",
       "      <td>127.397</td>\n",
       "      <td>-9.149</td>\n",
       "      <td>273.08363</td>\n",
       "      <td>0.732281</td>\n",
       "      <td>Clay Aiken</td>\n",
       "      <td>0.500596</td>\n",
       "      <td>0.852100</td>\n",
       "      <td>teen pop</td>\n",
       "      <td>United States of America</td>\n",
       "    </tr>\n",
       "    <tr>\n",
       "      <th>2</th>\n",
       "      <td>White Lies</td>\n",
       "      <td>2006</td>\n",
       "      <td>Rocinate</td>\n",
       "      <td>92.103</td>\n",
       "      <td>-9.323</td>\n",
       "      <td>388.80608</td>\n",
       "      <td>0.417314</td>\n",
       "      <td>Ester Drang</td>\n",
       "      <td>0.330889</td>\n",
       "      <td>0.525616</td>\n",
       "      <td>shoegaze</td>\n",
       "      <td>United States of America</td>\n",
       "    </tr>\n",
       "    <tr>\n",
       "      <th>3</th>\n",
       "      <td>Guess Who I Saw In Paris</td>\n",
       "      <td>1999</td>\n",
       "      <td>Sugar Me</td>\n",
       "      <td>105.054</td>\n",
       "      <td>-18.484</td>\n",
       "      <td>170.31791</td>\n",
       "      <td>0.368414</td>\n",
       "      <td>Claudine Longet</td>\n",
       "      <td>0.377489</td>\n",
       "      <td>0.563184</td>\n",
       "      <td>easy listening</td>\n",
       "      <td>France</td>\n",
       "    </tr>\n",
       "    <tr>\n",
       "      <th>4</th>\n",
       "      <td>No More Birthdays (Phil Spector Folk) / San Fr...</td>\n",
       "      <td>2006</td>\n",
       "      <td>Born To Please</td>\n",
       "      <td>95.658</td>\n",
       "      <td>-6.141</td>\n",
       "      <td>280.45016</td>\n",
       "      <td>0.000000</td>\n",
       "      <td>Sound Team</td>\n",
       "      <td>0.368423</td>\n",
       "      <td>0.590111</td>\n",
       "      <td>art rock</td>\n",
       "      <td>United States of America</td>\n",
       "    </tr>\n",
       "  </tbody>\n",
       "</table>\n",
       "</div>"
      ],
      "text/plain": [
       "                                          song_title  year  \\\n",
       "0                                  No One Could Ever  2006   \n",
       "1                Don't Save It All For Christmas Day  2004   \n",
       "2                                         White Lies  2006   \n",
       "3                           Guess Who I Saw In Paris  1999   \n",
       "4  No More Birthdays (Phil Spector Folk) / San Fr...  2006   \n",
       "\n",
       "                     release    tempo  loudness   duration  song_hotttnesss  \\\n",
       "0                     Butter  177.768    -2.060  138.97098         0.617871   \n",
       "1  Merry Christmas With Love  127.397    -9.149  273.08363         0.732281   \n",
       "2                   Rocinate   92.103    -9.323  388.80608         0.417314   \n",
       "3                   Sugar Me  105.054   -18.484  170.31791         0.368414   \n",
       "4             Born To Please   95.658    -6.141  280.45016         0.000000   \n",
       "\n",
       "       artist_name  artist_hotttnesss  artist_familiarity            term  \\\n",
       "0   Hudson Mohawke           0.437504            0.643681     broken beat   \n",
       "1       Clay Aiken           0.500596            0.852100        teen pop   \n",
       "2      Ester Drang           0.330889            0.525616        shoegaze   \n",
       "3  Claudine Longet           0.377489            0.563184  easy listening   \n",
       "4       Sound Team           0.368423            0.590111        art rock   \n",
       "\n",
       "                    country  \n",
       "0            United Kingdom  \n",
       "1  United States of America  \n",
       "2  United States of America  \n",
       "3                    France  \n",
       "4  United States of America  "
      ]
     },
     "execution_count": 17,
     "metadata": {},
     "output_type": "execute_result"
    }
   ],
   "source": [
    "music_dataset.reset_index(drop=True, inplace=True)\n",
    "music_dataset.head()"
   ]
  },
  {
   "cell_type": "code",
   "execution_count": 18,
   "metadata": {
    "ExecuteTime": {
     "end_time": "2024-05-20T22:47:23.910351Z",
     "start_time": "2024-05-20T22:47:23.885031Z"
    }
   },
   "outputs": [
    {
     "data": {
      "text/plain": [
       "(1035, 12)"
      ]
     },
     "execution_count": 18,
     "metadata": {},
     "output_type": "execute_result"
    }
   ],
   "source": [
    "music_dataset.shape"
   ]
  },
  {
   "cell_type": "markdown",
   "metadata": {},
   "source": [
    "Shartil: making sure the final dataset contains 1000 songs"
   ]
  },
  {
   "cell_type": "code",
   "execution_count": 19,
   "metadata": {
    "ExecuteTime": {
     "end_time": "2024-05-20T22:47:23.910766Z",
     "start_time": "2024-05-20T22:47:23.890626Z"
    }
   },
   "outputs": [
    {
     "name": "stdout",
     "output_type": "stream",
     "text": [
      "(1000, 12)\n"
     ]
    }
   ],
   "source": [
    "music_dataset = music_dataset.iloc[:1000] # returns dataframe with 1000 songs\n",
    "\n",
    "print(music_dataset.shape)"
   ]
  },
  {
   "cell_type": "markdown",
   "metadata": {},
   "source": [
    "Shartil: Adding decade column to dataset"
   ]
  },
  {
   "cell_type": "code",
   "execution_count": 20,
   "metadata": {
    "ExecuteTime": {
     "end_time": "2024-05-20T22:47:23.911888Z",
     "start_time": "2024-05-20T22:47:23.895586Z"
    }
   },
   "outputs": [
    {
     "data": {
      "text/html": [
       "<div>\n",
       "<style scoped>\n",
       "    .dataframe tbody tr th:only-of-type {\n",
       "        vertical-align: middle;\n",
       "    }\n",
       "\n",
       "    .dataframe tbody tr th {\n",
       "        vertical-align: top;\n",
       "    }\n",
       "\n",
       "    .dataframe thead th {\n",
       "        text-align: right;\n",
       "    }\n",
       "</style>\n",
       "<table border=\"1\" class=\"dataframe\">\n",
       "  <thead>\n",
       "    <tr style=\"text-align: right;\">\n",
       "      <th></th>\n",
       "      <th>song_title</th>\n",
       "      <th>year</th>\n",
       "      <th>release</th>\n",
       "      <th>tempo</th>\n",
       "      <th>loudness</th>\n",
       "      <th>duration</th>\n",
       "      <th>song_hotttnesss</th>\n",
       "      <th>artist_name</th>\n",
       "      <th>artist_hotttnesss</th>\n",
       "      <th>artist_familiarity</th>\n",
       "      <th>term</th>\n",
       "      <th>country</th>\n",
       "      <th>decade</th>\n",
       "    </tr>\n",
       "  </thead>\n",
       "  <tbody>\n",
       "    <tr>\n",
       "      <th>0</th>\n",
       "      <td>No One Could Ever</td>\n",
       "      <td>2006</td>\n",
       "      <td>Butter</td>\n",
       "      <td>177.768</td>\n",
       "      <td>-2.060</td>\n",
       "      <td>138.97098</td>\n",
       "      <td>0.617871</td>\n",
       "      <td>Hudson Mohawke</td>\n",
       "      <td>0.437504</td>\n",
       "      <td>0.643681</td>\n",
       "      <td>broken beat</td>\n",
       "      <td>United Kingdom</td>\n",
       "      <td>2000</td>\n",
       "    </tr>\n",
       "    <tr>\n",
       "      <th>1</th>\n",
       "      <td>Don't Save It All For Christmas Day</td>\n",
       "      <td>2004</td>\n",
       "      <td>Merry Christmas With Love</td>\n",
       "      <td>127.397</td>\n",
       "      <td>-9.149</td>\n",
       "      <td>273.08363</td>\n",
       "      <td>0.732281</td>\n",
       "      <td>Clay Aiken</td>\n",
       "      <td>0.500596</td>\n",
       "      <td>0.852100</td>\n",
       "      <td>teen pop</td>\n",
       "      <td>United States of America</td>\n",
       "      <td>2000</td>\n",
       "    </tr>\n",
       "    <tr>\n",
       "      <th>2</th>\n",
       "      <td>White Lies</td>\n",
       "      <td>2006</td>\n",
       "      <td>Rocinate</td>\n",
       "      <td>92.103</td>\n",
       "      <td>-9.323</td>\n",
       "      <td>388.80608</td>\n",
       "      <td>0.417314</td>\n",
       "      <td>Ester Drang</td>\n",
       "      <td>0.330889</td>\n",
       "      <td>0.525616</td>\n",
       "      <td>shoegaze</td>\n",
       "      <td>United States of America</td>\n",
       "      <td>2000</td>\n",
       "    </tr>\n",
       "    <tr>\n",
       "      <th>3</th>\n",
       "      <td>Guess Who I Saw In Paris</td>\n",
       "      <td>1999</td>\n",
       "      <td>Sugar Me</td>\n",
       "      <td>105.054</td>\n",
       "      <td>-18.484</td>\n",
       "      <td>170.31791</td>\n",
       "      <td>0.368414</td>\n",
       "      <td>Claudine Longet</td>\n",
       "      <td>0.377489</td>\n",
       "      <td>0.563184</td>\n",
       "      <td>easy listening</td>\n",
       "      <td>France</td>\n",
       "      <td>1990</td>\n",
       "    </tr>\n",
       "    <tr>\n",
       "      <th>4</th>\n",
       "      <td>No More Birthdays (Phil Spector Folk) / San Fr...</td>\n",
       "      <td>2006</td>\n",
       "      <td>Born To Please</td>\n",
       "      <td>95.658</td>\n",
       "      <td>-6.141</td>\n",
       "      <td>280.45016</td>\n",
       "      <td>0.000000</td>\n",
       "      <td>Sound Team</td>\n",
       "      <td>0.368423</td>\n",
       "      <td>0.590111</td>\n",
       "      <td>art rock</td>\n",
       "      <td>United States of America</td>\n",
       "      <td>2000</td>\n",
       "    </tr>\n",
       "  </tbody>\n",
       "</table>\n",
       "</div>"
      ],
      "text/plain": [
       "                                          song_title  year  \\\n",
       "0                                  No One Could Ever  2006   \n",
       "1                Don't Save It All For Christmas Day  2004   \n",
       "2                                         White Lies  2006   \n",
       "3                           Guess Who I Saw In Paris  1999   \n",
       "4  No More Birthdays (Phil Spector Folk) / San Fr...  2006   \n",
       "\n",
       "                     release    tempo  loudness   duration  song_hotttnesss  \\\n",
       "0                     Butter  177.768    -2.060  138.97098         0.617871   \n",
       "1  Merry Christmas With Love  127.397    -9.149  273.08363         0.732281   \n",
       "2                   Rocinate   92.103    -9.323  388.80608         0.417314   \n",
       "3                   Sugar Me  105.054   -18.484  170.31791         0.368414   \n",
       "4             Born To Please   95.658    -6.141  280.45016         0.000000   \n",
       "\n",
       "       artist_name  artist_hotttnesss  artist_familiarity            term  \\\n",
       "0   Hudson Mohawke           0.437504            0.643681     broken beat   \n",
       "1       Clay Aiken           0.500596            0.852100        teen pop   \n",
       "2      Ester Drang           0.330889            0.525616        shoegaze   \n",
       "3  Claudine Longet           0.377489            0.563184  easy listening   \n",
       "4       Sound Team           0.368423            0.590111        art rock   \n",
       "\n",
       "                    country  decade  \n",
       "0            United Kingdom    2000  \n",
       "1  United States of America    2000  \n",
       "2  United States of America    2000  \n",
       "3                    France    1990  \n",
       "4  United States of America    2000  "
      ]
     },
     "execution_count": 20,
     "metadata": {},
     "output_type": "execute_result"
    }
   ],
   "source": [
    "music_dataset = music_dataset.assign(decade=lambda row: (row[YEAR_COLUMN].astype(int) // 10) * 10)\n",
    "music_dataset.head()"
   ]
  },
  {
   "cell_type": "code",
   "execution_count": 21,
   "metadata": {
    "ExecuteTime": {
     "end_time": "2024-05-20T22:47:23.973536Z",
     "start_time": "2024-05-20T22:47:23.911263Z"
    }
   },
   "outputs": [],
   "source": [
    "min_decade = music_dataset[DECADE_COLUMN].min()\n",
    "max_decade = music_dataset[DECADE_COLUMN].max()\n",
    "decade_array = np.arange(min_decade, max_decade + 10, 10, dtype=int)"
   ]
  },
  {
   "cell_type": "markdown",
   "metadata": {},
   "source": [
    "Shartil: Saving music_dataset as a CSV file"
   ]
  },
  {
   "cell_type": "code",
   "execution_count": 22,
   "metadata": {
    "ExecuteTime": {
     "end_time": "2024-05-20T22:47:24.017712Z",
     "start_time": "2024-05-20T22:47:23.920849Z"
    }
   },
   "outputs": [],
   "source": [
    "if not os.path.isdir(MUSIC_DATA_FOLDER_PATH):\n",
    "    os.mkdir(MUSIC_DATA_FOLDER_PATH)\n",
    "\n",
    "music_dataset.to_csv(f\"{MUSIC_DATA_FOLDER_PATH}/music_dataset.csv\", mode='w+')"
   ]
  },
  {
   "cell_type": "markdown",
   "metadata": {},
   "source": [
    "Shartil: I will normalize the numeric columns using min max normalization."
   ]
  },
  {
   "cell_type": "code",
   "execution_count": 23,
   "metadata": {
    "ExecuteTime": {
     "end_time": "2024-05-20T22:47:24.018013Z",
     "start_time": "2024-05-20T22:47:23.941222Z"
    }
   },
   "outputs": [],
   "source": [
    "def min_max_normalize_column(df, column_name):\n",
    "    min_val = df[column_name].min()\n",
    "    max_val = df[column_name].max()\n",
    "    \n",
    "    if min_val == max_val:\n",
    "        raise ValueError(\"Cannot normalize column when all values are the same.\")\n",
    "    \n",
    "    df[column_name] = (df[column_name] - min_val) / (max_val - min_val)"
   ]
  },
  {
   "cell_type": "code",
   "execution_count": 24,
   "metadata": {
    "ExecuteTime": {
     "end_time": "2024-05-20T22:47:24.018223Z",
     "start_time": "2024-05-20T22:47:23.948644Z"
    }
   },
   "outputs": [],
   "source": [
    "normalized_music_dataset = music_dataset.copy()\n",
    "\n",
    "for numeric_column in NUMERIC_COLUMNS_LIST:\n",
    "    min_max_normalize_column(normalized_music_dataset, numeric_column)"
   ]
  },
  {
   "cell_type": "code",
   "execution_count": 25,
   "metadata": {
    "ExecuteTime": {
     "end_time": "2024-05-20T22:47:24.019322Z",
     "start_time": "2024-05-20T22:47:23.954639Z"
    }
   },
   "outputs": [
    {
     "data": {
      "text/html": [
       "<div>\n",
       "<style scoped>\n",
       "    .dataframe tbody tr th:only-of-type {\n",
       "        vertical-align: middle;\n",
       "    }\n",
       "\n",
       "    .dataframe tbody tr th {\n",
       "        vertical-align: top;\n",
       "    }\n",
       "\n",
       "    .dataframe thead th {\n",
       "        text-align: right;\n",
       "    }\n",
       "</style>\n",
       "<table border=\"1\" class=\"dataframe\">\n",
       "  <thead>\n",
       "    <tr style=\"text-align: right;\">\n",
       "      <th></th>\n",
       "      <th>song_title</th>\n",
       "      <th>year</th>\n",
       "      <th>release</th>\n",
       "      <th>tempo</th>\n",
       "      <th>loudness</th>\n",
       "      <th>duration</th>\n",
       "      <th>song_hotttnesss</th>\n",
       "      <th>artist_name</th>\n",
       "      <th>artist_hotttnesss</th>\n",
       "      <th>artist_familiarity</th>\n",
       "      <th>term</th>\n",
       "      <th>country</th>\n",
       "      <th>decade</th>\n",
       "    </tr>\n",
       "  </thead>\n",
       "  <tbody>\n",
       "    <tr>\n",
       "      <th>0</th>\n",
       "      <td>No One Could Ever</td>\n",
       "      <td>0.925926</td>\n",
       "      <td>Butter</td>\n",
       "      <td>0.694103</td>\n",
       "      <td>0.999149</td>\n",
       "      <td>0.076051</td>\n",
       "      <td>0.686709</td>\n",
       "      <td>Hudson Mohawke</td>\n",
       "      <td>0.532471</td>\n",
       "      <td>0.612163</td>\n",
       "      <td>broken beat</td>\n",
       "      <td>United Kingdom</td>\n",
       "      <td>0.833333</td>\n",
       "    </tr>\n",
       "    <tr>\n",
       "      <th>1</th>\n",
       "      <td>Don't Save It All For Christmas Day</td>\n",
       "      <td>0.888889</td>\n",
       "      <td>Merry Christmas With Love</td>\n",
       "      <td>0.455336</td>\n",
       "      <td>0.804487</td>\n",
       "      <td>0.164387</td>\n",
       "      <td>0.813866</td>\n",
       "      <td>Clay Aiken</td>\n",
       "      <td>0.609258</td>\n",
       "      <td>0.889696</td>\n",
       "      <td>teen pop</td>\n",
       "      <td>United States of America</td>\n",
       "      <td>0.833333</td>\n",
       "    </tr>\n",
       "    <tr>\n",
       "      <th>2</th>\n",
       "      <td>White Lies</td>\n",
       "      <td>0.925926</td>\n",
       "      <td>Rocinate</td>\n",
       "      <td>0.288036</td>\n",
       "      <td>0.799709</td>\n",
       "      <td>0.240610</td>\n",
       "      <td>0.463807</td>\n",
       "      <td>Ester Drang</td>\n",
       "      <td>0.402714</td>\n",
       "      <td>0.454948</td>\n",
       "      <td>shoegaze</td>\n",
       "      <td>United States of America</td>\n",
       "      <td>0.833333</td>\n",
       "    </tr>\n",
       "    <tr>\n",
       "      <th>3</th>\n",
       "      <td>Guess Who I Saw In Paris</td>\n",
       "      <td>0.796296</td>\n",
       "      <td>Sugar Me</td>\n",
       "      <td>0.349426</td>\n",
       "      <td>0.548151</td>\n",
       "      <td>0.096698</td>\n",
       "      <td>0.409459</td>\n",
       "      <td>Claudine Longet</td>\n",
       "      <td>0.459429</td>\n",
       "      <td>0.504973</td>\n",
       "      <td>easy listening</td>\n",
       "      <td>France</td>\n",
       "      <td>0.666667</td>\n",
       "    </tr>\n",
       "    <tr>\n",
       "      <th>4</th>\n",
       "      <td>No More Birthdays (Phil Spector Folk) / San Fr...</td>\n",
       "      <td>0.925926</td>\n",
       "      <td>Born To Please</td>\n",
       "      <td>0.304888</td>\n",
       "      <td>0.887086</td>\n",
       "      <td>0.169239</td>\n",
       "      <td>0.000000</td>\n",
       "      <td>Sound Team</td>\n",
       "      <td>0.448395</td>\n",
       "      <td>0.540830</td>\n",
       "      <td>art rock</td>\n",
       "      <td>United States of America</td>\n",
       "      <td>0.833333</td>\n",
       "    </tr>\n",
       "  </tbody>\n",
       "</table>\n",
       "</div>"
      ],
      "text/plain": [
       "                                          song_title      year  \\\n",
       "0                                  No One Could Ever  0.925926   \n",
       "1                Don't Save It All For Christmas Day  0.888889   \n",
       "2                                         White Lies  0.925926   \n",
       "3                           Guess Who I Saw In Paris  0.796296   \n",
       "4  No More Birthdays (Phil Spector Folk) / San Fr...  0.925926   \n",
       "\n",
       "                     release     tempo  loudness  duration  song_hotttnesss  \\\n",
       "0                     Butter  0.694103  0.999149  0.076051         0.686709   \n",
       "1  Merry Christmas With Love  0.455336  0.804487  0.164387         0.813866   \n",
       "2                   Rocinate  0.288036  0.799709  0.240610         0.463807   \n",
       "3                   Sugar Me  0.349426  0.548151  0.096698         0.409459   \n",
       "4             Born To Please  0.304888  0.887086  0.169239         0.000000   \n",
       "\n",
       "       artist_name  artist_hotttnesss  artist_familiarity            term  \\\n",
       "0   Hudson Mohawke           0.532471            0.612163     broken beat   \n",
       "1       Clay Aiken           0.609258            0.889696        teen pop   \n",
       "2      Ester Drang           0.402714            0.454948        shoegaze   \n",
       "3  Claudine Longet           0.459429            0.504973  easy listening   \n",
       "4       Sound Team           0.448395            0.540830        art rock   \n",
       "\n",
       "                    country    decade  \n",
       "0            United Kingdom  0.833333  \n",
       "1  United States of America  0.833333  \n",
       "2  United States of America  0.833333  \n",
       "3                    France  0.666667  \n",
       "4  United States of America  0.833333  "
      ]
     },
     "execution_count": 25,
     "metadata": {},
     "output_type": "execute_result"
    }
   ],
   "source": [
    "normalized_music_dataset.head()"
   ]
  },
  {
   "cell_type": "markdown",
   "metadata": {},
   "source": [
    "Shartil: Now I am going to create the graph"
   ]
  },
  {
   "cell_type": "code",
   "execution_count": 26,
   "metadata": {
    "ExecuteTime": {
     "end_time": "2024-05-20T22:47:24.019546Z",
     "start_time": "2024-05-20T22:47:23.968355Z"
    }
   },
   "outputs": [],
   "source": [
    "music_graph = nx.Graph()"
   ]
  },
  {
   "cell_type": "code",
   "execution_count": 27,
   "metadata": {
    "ExecuteTime": {
     "end_time": "2024-05-20T22:47:24.201330Z",
     "start_time": "2024-05-20T22:47:23.971229Z"
    }
   },
   "outputs": [],
   "source": [
    "for current_index, current_row in normalized_music_dataset.iterrows():\n",
    "    node_data_dict = {}\n",
    "\n",
    "    for current_column in NUMERIC_COLUMNS_LIST:\n",
    "        node_data_dict[current_column] = current_row[current_column]\n",
    "\n",
    "    music_graph.add_node(str(current_index), **node_data_dict)"
   ]
  },
  {
   "cell_type": "code",
   "execution_count": 28,
   "metadata": {
    "ExecuteTime": {
     "end_time": "2024-05-20T22:47:24.233760Z",
     "start_time": "2024-05-20T22:47:24.036507Z"
    }
   },
   "outputs": [],
   "source": [
    "# Shartil: adding empty nodes for the decades, which function as main nodes\n",
    "# i.e., all the songs from 1950 will be connected to the 1950 node.\n",
    "# This will save complex logic of connecting all the songs from the decade, and ensuring that the resulted graph will be less complicated.\n",
    "for current_decade in decade_array:\n",
    "    node_name = get_attribute_node_name(DECADE_COLUMN, current_decade)\n",
    "    music_graph.add_node(node_name)"
   ]
  },
  {
   "cell_type": "markdown",
   "metadata": {},
   "source": [
    "Shartil: for now, the graph only has decade nodes & song nodes that contain their matching ID in the dataframe"
   ]
  },
  {
   "cell_type": "code",
   "execution_count": 29,
   "metadata": {
    "ExecuteTime": {
     "end_time": "2024-05-20T22:47:24.340477Z",
     "start_time": "2024-05-20T22:47:24.047122Z"
    }
   },
   "outputs": [
    {
     "name": "stdout",
     "output_type": "stream",
     "text": [
      "Graph with 1007 nodes and 1000 edges\n"
     ]
    }
   ],
   "source": [
    "for index, row in music_dataset.iterrows():\n",
    "    current_decade = row[DECADE_COLUMN]\n",
    "    node_name = get_attribute_node_name(DECADE_COLUMN, current_decade)\n",
    "    music_graph.add_edge(node_name, str(index))\n",
    "\n",
    "print(music_graph)"
   ]
  },
  {
   "cell_type": "markdown",
   "metadata": {},
   "source": [
    "Shartil: Plotting knowledge graph using code shown in notebook 8"
   ]
  },
  {
   "cell_type": "code",
   "execution_count": 30,
   "metadata": {},
   "outputs": [
    {
     "name": "stderr",
     "output_type": "stream",
     "text": [
      "w:\\Program Files\\Python310\\lib\\site-packages\\networkx\\drawing\\nx_pylab.py:433: UserWarning: No data for colormapping provided via 'c'. Parameters 'cmap' will be ignored\n",
      "  node_collection = ax.scatter(\n"
     ]
    },
    {
     "data": {
      "image/png": "[encoded data removed]",
      "text/plain": [
       "<Figure size 1000x1000 with 1 Axes>"
      ]
     },
     "metadata": {},
     "output_type": "display_data"
    }
   ],
   "source": [
    "# use spring layout\n",
    "pos = nx.spring_layout(music_graph)\n",
    "\n",
    "# compute degree centrality\n",
    "# degree represents the number of edges from each node,\n",
    "# the centrality allows us to undertsand the more 'popular' nodes\n",
    "cent = nx.degree_centrality(music_graph)\n",
    "cent_array = np.array(list(cent.values()))\n",
    "\n",
    "# size of nodes will be proportional to their popularity\n",
    "node_size = list(map(lambda x: x * 500, cent.values()))\n",
    "\n",
    "\n",
    "plt.figure(figsize=(10, 10))\n",
    "\n",
    "#draw nodes\n",
    "nodes = nx.draw_networkx_nodes(music_graph, pos, node_size=node_size,\n",
    "                               cmap=plt.cm.plasma,\n",
    "                               nodelist=list(cent.keys()))\n",
    "# draw edges\n",
    "edges = nx.draw_networkx_edges(music_graph, pos, width=0.25, alpha=0.3)\n",
    "\n",
    "plt.show()"
   ]
  },
  {
   "cell_type": "markdown",
   "metadata": {
    "collapsed": false
   },
   "source": [
    "Riaz: Node Embeding using node2vec"
   ]
  },
  {
   "cell_type": "code",
   "execution_count": 31,
   "metadata": {
    "ExecuteTime": {
     "end_time": "2024-05-20T22:47:58.663830Z",
     "start_time": "2024-05-20T22:47:24.090940Z"
    },
    "collapsed": false
   },
   "outputs": [
    {
     "name": "stderr",
     "output_type": "stream",
     "text": [
      "Computing transition probabilities: 100%|██████████| 1007/1007 [00:00<00:00, 1352.91it/s]\n"
     ]
    }
   ],
   "source": [
    "# Precompute probabilities and generate walks - **ON WINDOWS ONLY WORKS WITH workers=1**\n",
    "node2vec = Node2Vec(music_graph, dimensions=64, walk_length=10, num_walks=100, workers=4)  # Use temp_folder for big graphs\n",
    "\n",
    "# Embed nodes\n",
    "model = node2vec.fit(window=10, min_count=1, batch_words=4)  # Any keywords acceptable by gensim.Word2Vec can be passed, `dimensions` and `workers` are automatically passed (from the Node2Vec constructor)"
   ]
  },
  {
   "cell_type": "markdown",
   "metadata": {
    "collapsed": false
   },
   "source": [
    "Saving embedding and model into models folder"
   ]
  },
  {
   "cell_type": "code",
   "execution_count": 32,
   "metadata": {
    "ExecuteTime": {
     "end_time": "2024-05-20T22:47:58.728557Z",
     "start_time": "2024-05-20T22:47:58.664151Z"
    },
    "collapsed": false
   },
   "outputs": [],
   "source": [
    "# Save embeddings for later use\n",
    "model.wv.save_word2vec_format(f\"{MODELS_FOLDER_PATH}/embedding\")\n",
    "\n",
    "# Save model for later use\n",
    "model.save(f\"{MODELS_FOLDER_PATH}/node2vec_model\")\n"
   ]
  },
  {
   "cell_type": "markdown",
   "metadata": {},
   "source": [
    "Shartil: creating NearestNeighbors selector"
   ]
  },
  {
   "cell_type": "code",
   "execution_count": 33,
   "metadata": {
    "ExecuteTime": {
     "end_time": "2024-05-20T22:47:58.740141Z",
     "start_time": "2024-05-20T22:47:58.730699Z"
    }
   },
   "outputs": [],
   "source": [
    "nodes = list(music_graph.nodes())\n",
    "embeddings = np.array([model.wv[str(node)] for node in nodes])\n",
    "nearestNeighborSelector = NearestNeighbors(n_neighbors=6).fit(embeddings)"
   ]
  },
  {
   "cell_type": "markdown",
   "metadata": {},
   "source": [
    "#### Function used for User input handling"
   ]
  },
  {
   "cell_type": "code",
   "execution_count": 34,
   "metadata": {
    "ExecuteTime": {
     "end_time": "2024-05-20T23:14:09.774416Z",
     "start_time": "2024-05-20T23:14:09.733344Z"
    }
   },
   "outputs": [],
   "source": [
    "def get_song_id(song_title):\n",
    "    matching_songs = music_dataset[music_dataset[SONG_TITLE_COLUMN].str.lower().str.contains(song_title.lower())]\n",
    "    if not matching_songs.empty:\n",
    "        return matching_songs.iloc[0].name\n",
    "    return None"
   ]
  },
  {
   "cell_type": "code",
   "execution_count": 35,
   "metadata": {
    "ExecuteTime": {
     "end_time": "2024-05-20T23:01:19.643734Z",
     "start_time": "2024-05-20T23:01:19.623487Z"
    }
   },
   "outputs": [],
   "source": [
    "def recommend_songs(query):\n",
    "    user_song_title = query\n",
    "    song_id = get_song_id(user_song_title)\n",
    "\n",
    "    if song_id is not None:\n",
    "        user_song_embed = model.wv[str(song_id)]\n",
    "        distances, indices = nearestNeighborSelector.kneighbors([user_song_embed])\n",
    "        print(\"Similar songs:\")\n",
    "        similar_songs_df = music_dataset.loc[indices[0]]\n",
    "        display(similar_songs_df)\n",
    "    else:\n",
    "        print(\"Song not found in the dataset.\")"
   ]
  },
  {
   "cell_type": "code",
   "execution_count": 36,
   "metadata": {
    "ExecuteTime": {
     "end_time": "2024-05-20T23:01:22.586568Z",
     "start_time": "2024-05-20T23:01:22.566599Z"
    }
   },
   "outputs": [],
   "source": [
    "def recommend_songs_by_query(query_type, query):\n",
    "    filtered_music_df = music_dataset[music_dataset[query_type].astype(str).str.lower() == str(query).lower()]\n",
    "    \n",
    "    if len(filtered_music_df) > 0:\n",
    "        chosen_song = filtered_music_df.sample(n=1)\n",
    "        recommend_songs(chosen_song[SONG_TITLE_COLUMN].iloc[0])\n",
    "    else:\n",
    "        print(\"No songs found.\")"
   ]
  },
  {
   "cell_type": "markdown",
   "metadata": {},
   "source": [
    "#### User Interface"
   ]
  },
  {
   "cell_type": "code",
   "execution_count": 37,
   "metadata": {},
   "outputs": [],
   "source": [
    "user_options_dict = {\n",
    "    1 : [\"song_title\", \"song title\"],\n",
    "    2 : [\"artist_name\", \"artist name\"],\n",
    "    3 : [\"decade\", \"decade\"],\n",
    "    4 : [\"country\", \"country\"],\n",
    "    5 : [\"term (genre)\", \"term\"],\n",
    "    6 : [\"year\", \"year\"]\n",
    "}"
   ]
  },
  {
   "cell_type": "code",
   "execution_count": 38,
   "metadata": {
    "ExecuteTime": {
     "end_time": "2024-05-21T00:05:45.902911Z",
     "start_time": "2024-05-21T00:05:35.180878Z"
    }
   },
   "outputs": [
    {
     "name": "stdout",
     "output_type": "stream",
     "text": [
      "Query by: song_title, artist_name, decade, country, term (genre) or year\n",
      "Similar songs:\n"
     ]
    },
    {
     "data": {
      "text/html": [
       "<div>\n",
       "<style scoped>\n",
       "    .dataframe tbody tr th:only-of-type {\n",
       "        vertical-align: middle;\n",
       "    }\n",
       "\n",
       "    .dataframe tbody tr th {\n",
       "        vertical-align: top;\n",
       "    }\n",
       "\n",
       "    .dataframe thead th {\n",
       "        text-align: right;\n",
       "    }\n",
       "</style>\n",
       "<table border=\"1\" class=\"dataframe\">\n",
       "  <thead>\n",
       "    <tr style=\"text-align: right;\">\n",
       "      <th></th>\n",
       "      <th>song_title</th>\n",
       "      <th>year</th>\n",
       "      <th>release</th>\n",
       "      <th>tempo</th>\n",
       "      <th>loudness</th>\n",
       "      <th>duration</th>\n",
       "      <th>song_hotttnesss</th>\n",
       "      <th>artist_name</th>\n",
       "      <th>artist_hotttnesss</th>\n",
       "      <th>artist_familiarity</th>\n",
       "      <th>term</th>\n",
       "      <th>country</th>\n",
       "      <th>decade</th>\n",
       "    </tr>\n",
       "  </thead>\n",
       "  <tbody>\n",
       "    <tr>\n",
       "      <th>770</th>\n",
       "      <td>Teachers</td>\n",
       "      <td>1967</td>\n",
       "      <td>Songs of L. Cohen / Songs of love and hate / N...</td>\n",
       "      <td>101.936</td>\n",
       "      <td>-12.113</td>\n",
       "      <td>182.54322</td>\n",
       "      <td>0.662568</td>\n",
       "      <td>Leonard Cohen</td>\n",
       "      <td>0.564623</td>\n",
       "      <td>0.800189</td>\n",
       "      <td>folk rock</td>\n",
       "      <td>United States of America</td>\n",
       "      <td>1960</td>\n",
       "    </tr>\n",
       "    <tr>\n",
       "      <th>292</th>\n",
       "      <td>My Heart Belongs To Only You</td>\n",
       "      <td>1964</td>\n",
       "      <td>The Best Of Bobby Vinton</td>\n",
       "      <td>108.132</td>\n",
       "      <td>-11.061</td>\n",
       "      <td>164.04853</td>\n",
       "      <td>0.594483</td>\n",
       "      <td>Bobby Vinton</td>\n",
       "      <td>0.389242</td>\n",
       "      <td>0.614827</td>\n",
       "      <td>oldies</td>\n",
       "      <td>United States of America</td>\n",
       "      <td>1960</td>\n",
       "    </tr>\n",
       "    <tr>\n",
       "      <th>284</th>\n",
       "      <td>Key To The Highway</td>\n",
       "      <td>1968</td>\n",
       "      <td>Blue All The Way</td>\n",
       "      <td>120.829</td>\n",
       "      <td>-11.703</td>\n",
       "      <td>163.65669</td>\n",
       "      <td>0.265861</td>\n",
       "      <td>Tina Britt</td>\n",
       "      <td>0.000000</td>\n",
       "      <td>0.360614</td>\n",
       "      <td>chicago blues</td>\n",
       "      <td>United States of America</td>\n",
       "      <td>1960</td>\n",
       "    </tr>\n",
       "    <tr>\n",
       "      <th>167</th>\n",
       "      <td>Oddjob's Pressing Engagement (2003 Digital Rem...</td>\n",
       "      <td>1964</td>\n",
       "      <td>Goldfinger</td>\n",
       "      <td>124.321</td>\n",
       "      <td>-12.097</td>\n",
       "      <td>188.31628</td>\n",
       "      <td>0.287515</td>\n",
       "      <td>John Barry</td>\n",
       "      <td>0.419381</td>\n",
       "      <td>0.616638</td>\n",
       "      <td>easy listening</td>\n",
       "      <td>United Kingdom</td>\n",
       "      <td>1960</td>\n",
       "    </tr>\n",
       "    <tr>\n",
       "      <th>341</th>\n",
       "      <td>Magic Town</td>\n",
       "      <td>1966</td>\n",
       "      <td>Back to Back - The Vogues &amp; The Equals</td>\n",
       "      <td>91.035</td>\n",
       "      <td>-12.414</td>\n",
       "      <td>180.81914</td>\n",
       "      <td>0.543365</td>\n",
       "      <td>The Vogues</td>\n",
       "      <td>0.411501</td>\n",
       "      <td>0.583415</td>\n",
       "      <td>brill building pop</td>\n",
       "      <td>United States of America</td>\n",
       "      <td>1960</td>\n",
       "    </tr>\n",
       "    <tr>\n",
       "      <th>501</th>\n",
       "      <td>I Want A Boy</td>\n",
       "      <td>1965</td>\n",
       "      <td>Featuring Veronica</td>\n",
       "      <td>127.229</td>\n",
       "      <td>-10.718</td>\n",
       "      <td>126.06649</td>\n",
       "      <td>0.434838</td>\n",
       "      <td>The Ronettes</td>\n",
       "      <td>0.533886</td>\n",
       "      <td>0.661506</td>\n",
       "      <td>brill building pop</td>\n",
       "      <td>United States of America</td>\n",
       "      <td>1960</td>\n",
       "    </tr>\n",
       "  </tbody>\n",
       "</table>\n",
       "</div>"
      ],
      "text/plain": [
       "                                            song_title  year  \\\n",
       "770                                           Teachers  1967   \n",
       "292                       My Heart Belongs To Only You  1964   \n",
       "284                                 Key To The Highway  1968   \n",
       "167  Oddjob's Pressing Engagement (2003 Digital Rem...  1964   \n",
       "341                                         Magic Town  1966   \n",
       "501                                       I Want A Boy  1965   \n",
       "\n",
       "                                               release    tempo  loudness  \\\n",
       "770  Songs of L. Cohen / Songs of love and hate / N...  101.936   -12.113   \n",
       "292                           The Best Of Bobby Vinton  108.132   -11.061   \n",
       "284                                   Blue All The Way  120.829   -11.703   \n",
       "167                                         Goldfinger  124.321   -12.097   \n",
       "341             Back to Back - The Vogues & The Equals   91.035   -12.414   \n",
       "501                                 Featuring Veronica  127.229   -10.718   \n",
       "\n",
       "      duration  song_hotttnesss    artist_name  artist_hotttnesss  \\\n",
       "770  182.54322         0.662568  Leonard Cohen           0.564623   \n",
       "292  164.04853         0.594483   Bobby Vinton           0.389242   \n",
       "284  163.65669         0.265861     Tina Britt           0.000000   \n",
       "167  188.31628         0.287515     John Barry           0.419381   \n",
       "341  180.81914         0.543365     The Vogues           0.411501   \n",
       "501  126.06649         0.434838   The Ronettes           0.533886   \n",
       "\n",
       "     artist_familiarity                term                   country  decade  \n",
       "770            0.800189           folk rock  United States of America    1960  \n",
       "292            0.614827              oldies  United States of America    1960  \n",
       "284            0.360614       chicago blues  United States of America    1960  \n",
       "167            0.616638      easy listening            United Kingdom    1960  \n",
       "341            0.583415  brill building pop  United States of America    1960  \n",
       "501            0.661506  brill building pop  United States of America    1960  "
      ]
     },
     "metadata": {},
     "output_type": "display_data"
    }
   ],
   "source": [
    "try:\n",
    "    print(\"Query by: song_title, artist_name, decade, country, term (genre) or year\")\n",
    "    input_text = \"Enter your query type (provide number only):\"\n",
    "\n",
    "    for user_option_id, user_option in user_options_dict.items():\n",
    "        input_text += f\"\\n{user_option_id} -> {user_option[0]}\"\n",
    "\n",
    "    user_query_input = int(input(input_text))\n",
    "    query_type = user_options_dict[user_query_input][0]\n",
    "    query = input(f\"Enter value for the {user_options_dict[user_query_input][1]}\")\n",
    "\n",
    "    if query_type == 'song_title':\n",
    "        recommend_songs(query)\n",
    "    else:\n",
    "        recommend_songs_by_query(query_type, query)\n",
    "except ValueError as ex:\n",
    "    print('Please provide valid input')"
   ]
  }
 ],
 "metadata": {
  "kernelspec": {
   "display_name": "Python 3.10.5 64-bit",
   "language": "python",
   "name": "python3"
  },
  "language_info": {
   "codemirror_mode": {
    "name": "ipython",
    "version": 3
   },
   "file_extension": ".py",
   "mimetype": "text/x-python",
   "name": "python",
   "nbconvert_exporter": "python",
   "pygments_lexer": "ipython3",
   "version": "3.10.5"
  },
  "orig_nbformat": 4,
  "vscode": {
   "interpreter": {
    "hash": "3a5cfde8991b0f64e8bcd60a397bea8dc10ed042aefe1441fd3daa2ae2091421"
   }
  }
 },
 "nbformat": 4,
 "nbformat_minor": 2
}
