{
 "cells": [
  {
   "cell_type": "code",
   "execution_count": 5,
   "metadata": {},
   "outputs": [],
   "source": [
    "import pandas as pd"
   ]
  },
  {
   "cell_type": "code",
   "execution_count": 6,
   "metadata": {},
   "outputs": [
    {
     "data": {
      "text/html": [
       "<div>\n",
       "<style scoped>\n",
       "    .dataframe tbody tr th:only-of-type {\n",
       "        vertical-align: middle;\n",
       "    }\n",
       "\n",
       "    .dataframe tbody tr th {\n",
       "        vertical-align: top;\n",
       "    }\n",
       "\n",
       "    .dataframe thead th {\n",
       "        text-align: right;\n",
       "    }\n",
       "</style>\n",
       "<table border=\"1\" class=\"dataframe\">\n",
       "  <thead>\n",
       "    <tr style=\"text-align: right;\">\n",
       "      <th></th>\n",
       "      <th>song_id</th>\n",
       "      <th>song_title</th>\n",
       "      <th>year</th>\n",
       "      <th>release</th>\n",
       "      <th>tempo</th>\n",
       "      <th>loudness</th>\n",
       "      <th>duration</th>\n",
       "      <th>song_hotttnesss</th>\n",
       "      <th>artist_id</th>\n",
       "      <th>artist_name</th>\n",
       "      <th>artist_latitude</th>\n",
       "      <th>artist_longitude</th>\n",
       "      <th>artist_location</th>\n",
       "      <th>artist_hotttnesss</th>\n",
       "      <th>artist_familiarity</th>\n",
       "    </tr>\n",
       "  </thead>\n",
       "  <tbody>\n",
       "    <tr>\n",
       "      <th>0</th>\n",
       "      <td>SOVFVAK12A8C1350D9</td>\n",
       "      <td>Tanssi vaan</td>\n",
       "      <td>1995.0</td>\n",
       "      <td>Karkuteillä</td>\n",
       "      <td>150.778</td>\n",
       "      <td>-10.555</td>\n",
       "      <td>156.55138</td>\n",
       "      <td>0.299877</td>\n",
       "      <td>ARMVN3U1187FB3A1EB</td>\n",
       "      <td>Karkkiautomaatti</td>\n",
       "      <td>NaN</td>\n",
       "      <td>NaN</td>\n",
       "      <td>NaN</td>\n",
       "      <td>0.356992</td>\n",
       "      <td>0.439604</td>\n",
       "    </tr>\n",
       "    <tr>\n",
       "      <th>1</th>\n",
       "      <td>SOGTUKN12AB017F4F1</td>\n",
       "      <td>No One Could Ever</td>\n",
       "      <td>2006.0</td>\n",
       "      <td>Butter</td>\n",
       "      <td>177.768</td>\n",
       "      <td>-2.060</td>\n",
       "      <td>138.97098</td>\n",
       "      <td>0.617871</td>\n",
       "      <td>ARGEKB01187FB50750</td>\n",
       "      <td>Hudson Mohawke</td>\n",
       "      <td>55.8578</td>\n",
       "      <td>-4.24251</td>\n",
       "      <td>Glasgow, Scotland</td>\n",
       "      <td>0.437504</td>\n",
       "      <td>0.643681</td>\n",
       "    </tr>\n",
       "    <tr>\n",
       "      <th>2</th>\n",
       "      <td>SOBNYVR12A8C13558C</td>\n",
       "      <td>Si Vos Querés</td>\n",
       "      <td>2003.0</td>\n",
       "      <td>De Culo</td>\n",
       "      <td>87.433</td>\n",
       "      <td>-4.654</td>\n",
       "      <td>145.05751</td>\n",
       "      <td>NaN</td>\n",
       "      <td>ARNWYLR1187B9B2F9C</td>\n",
       "      <td>Yerba Brava</td>\n",
       "      <td>NaN</td>\n",
       "      <td>NaN</td>\n",
       "      <td>NaN</td>\n",
       "      <td>0.372349</td>\n",
       "      <td>0.448501</td>\n",
       "    </tr>\n",
       "    <tr>\n",
       "      <th>3</th>\n",
       "      <td>SOHSBXH12A8C13B0DF</td>\n",
       "      <td>Tangle Of Aspens</td>\n",
       "      <td>NaN</td>\n",
       "      <td>Rene Ablaze Presents Winter Sessions</td>\n",
       "      <td>140.035</td>\n",
       "      <td>-7.806</td>\n",
       "      <td>514.29832</td>\n",
       "      <td>NaN</td>\n",
       "      <td>AREQDTE1269FB37231</td>\n",
       "      <td>Der Mystic</td>\n",
       "      <td>NaN</td>\n",
       "      <td>NaN</td>\n",
       "      <td>NaN</td>\n",
       "      <td>0.000000</td>\n",
       "      <td>0.000000</td>\n",
       "    </tr>\n",
       "    <tr>\n",
       "      <th>4</th>\n",
       "      <td>SOZVAPQ12A8C13B63C</td>\n",
       "      <td>Symphony No. 1 G minor \"Sinfonie Serieuse\"/All...</td>\n",
       "      <td>NaN</td>\n",
       "      <td>Berwald: Symphonies Nos. 1/2/3/4</td>\n",
       "      <td>90.689</td>\n",
       "      <td>-21.420</td>\n",
       "      <td>816.53506</td>\n",
       "      <td>NaN</td>\n",
       "      <td>AR2NS5Y1187FB5879D</td>\n",
       "      <td>David Montgomery</td>\n",
       "      <td>NaN</td>\n",
       "      <td>NaN</td>\n",
       "      <td>NaN</td>\n",
       "      <td>0.109626</td>\n",
       "      <td>0.361287</td>\n",
       "    </tr>\n",
       "  </tbody>\n",
       "</table>\n",
       "</div>"
      ],
      "text/plain": [
       "              song_id                                         song_title  \\\n",
       "0  SOVFVAK12A8C1350D9                                        Tanssi vaan   \n",
       "1  SOGTUKN12AB017F4F1                                  No One Could Ever   \n",
       "2  SOBNYVR12A8C13558C                                      Si Vos Querés   \n",
       "3  SOHSBXH12A8C13B0DF                                   Tangle Of Aspens   \n",
       "4  SOZVAPQ12A8C13B63C  Symphony No. 1 G minor \"Sinfonie Serieuse\"/All...   \n",
       "\n",
       "     year                               release    tempo  loudness   duration  \\\n",
       "0  1995.0                           Karkuteillä  150.778   -10.555  156.55138   \n",
       "1  2006.0                                Butter  177.768    -2.060  138.97098   \n",
       "2  2003.0                               De Culo   87.433    -4.654  145.05751   \n",
       "3     NaN  Rene Ablaze Presents Winter Sessions  140.035    -7.806  514.29832   \n",
       "4     NaN      Berwald: Symphonies Nos. 1/2/3/4   90.689   -21.420  816.53506   \n",
       "\n",
       "   song_hotttnesss           artist_id       artist_name  artist_latitude  \\\n",
       "0         0.299877  ARMVN3U1187FB3A1EB  Karkkiautomaatti              NaN   \n",
       "1         0.617871  ARGEKB01187FB50750    Hudson Mohawke          55.8578   \n",
       "2              NaN  ARNWYLR1187B9B2F9C       Yerba Brava              NaN   \n",
       "3              NaN  AREQDTE1269FB37231        Der Mystic              NaN   \n",
       "4              NaN  AR2NS5Y1187FB5879D  David Montgomery              NaN   \n",
       "\n",
       "   artist_longitude    artist_location  artist_hotttnesss  artist_familiarity  \n",
       "0               NaN                NaN           0.356992            0.439604  \n",
       "1          -4.24251  Glasgow, Scotland           0.437504            0.643681  \n",
       "2               NaN                NaN           0.372349            0.448501  \n",
       "3               NaN                NaN           0.000000            0.000000  \n",
       "4               NaN                NaN           0.109626            0.361287  "
      ]
     },
     "execution_count": 6,
     "metadata": {},
     "output_type": "execute_result"
    }
   ],
   "source": [
    "raw_songs_dataset = pd.read_csv(\"../Data/songs_dataset.csv\")\n",
    "\n",
    "raw_songs_dataset.head()"
   ]
  },
  {
   "cell_type": "code",
   "execution_count": 7,
   "metadata": {},
   "outputs": [
    {
     "data": {
      "text/plain": [
       "song_id                    0\n",
       "song_title                 2\n",
       "year                  484270\n",
       "release                    7\n",
       "tempo                      0\n",
       "loudness                   0\n",
       "duration                   0\n",
       "song_hotttnesss       417782\n",
       "artist_id                  0\n",
       "artist_name                0\n",
       "artist_latitude       641766\n",
       "artist_longitude      641766\n",
       "artist_location       487546\n",
       "artist_hotttnesss         12\n",
       "artist_familiarity       185\n",
       "dtype: int64"
      ]
     },
     "execution_count": 7,
     "metadata": {},
     "output_type": "execute_result"
    }
   ],
   "source": [
    "raw_songs_dataset.isna().sum()"
   ]
  },
  {
   "cell_type": "code",
   "execution_count": 8,
   "metadata": {},
   "outputs": [
    {
     "data": {
      "text/plain": [
       "2673336"
      ]
     },
     "execution_count": 8,
     "metadata": {},
     "output_type": "execute_result"
    }
   ],
   "source": [
    "raw_songs_dataset.isna().sum().sum()"
   ]
  },
  {
   "cell_type": "code",
   "execution_count": null,
   "metadata": {},
   "outputs": [],
   "source": []
  }
 ],
 "metadata": {
  "kernelspec": {
   "display_name": "Python 3.10.5 64-bit",
   "language": "python",
   "name": "python3"
  },
  "language_info": {
   "codemirror_mode": {
    "name": "ipython",
    "version": 3
   },
   "file_extension": ".py",
   "mimetype": "text/x-python",
   "name": "python",
   "nbconvert_exporter": "python",
   "pygments_lexer": "ipython3",
   "version": "3.10.5"
  },
  "orig_nbformat": 4,
  "vscode": {
   "interpreter": {
    "hash": "3a5cfde8991b0f64e8bcd60a397bea8dc10ed042aefe1441fd3daa2ae2091421"
   }
  }
 },
 "nbformat": 4,
 "nbformat_minor": 2
}
