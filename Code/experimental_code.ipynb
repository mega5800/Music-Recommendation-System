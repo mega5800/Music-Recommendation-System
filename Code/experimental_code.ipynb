{
 "cells": [
  {
   "cell_type": "markdown",
   "metadata": {},
   "source": [
    "Pip Install Commands"
   ]
  },
  {
   "cell_type": "code",
   "execution_count": 1,
   "metadata": {
    "ExecuteTime": {
     "end_time": "2024-05-20T22:47:04.005471Z",
     "start_time": "2024-05-20T22:46:56.064886Z"
    }
   },
   "outputs": [
    {
     "name": "stdout",
     "output_type": "stream",
     "text": [
      "Requirement already satisfied: shapely in /Users/mac/anaconda3/lib/python3.11/site-packages (2.0.3)\r\n",
      "Requirement already satisfied: numpy<2,>=1.14 in /Users/mac/anaconda3/lib/python3.11/site-packages (from shapely) (1.24.4)\r\n",
      "Note: you may need to restart the kernel to use updated packages.\n",
      "Requirement already satisfied: node2vec in /Users/mac/anaconda3/lib/python3.11/site-packages (0.4.6)\r\n",
      "Requirement already satisfied: gensim<5.0.0,>=4.1.2 in /Users/mac/anaconda3/lib/python3.11/site-packages (from node2vec) (4.3.0)\r\n",
      "Requirement already satisfied: joblib<2.0.0,>=1.1.0 in /Users/mac/anaconda3/lib/python3.11/site-packages (from node2vec) (1.2.0)\r\n",
      "Requirement already satisfied: networkx<3.0,>=2.5 in /Users/mac/anaconda3/lib/python3.11/site-packages (from node2vec) (2.8.8)\r\n",
      "Requirement already satisfied: numpy<2.0.0,>=1.19.5 in /Users/mac/anaconda3/lib/python3.11/site-packages (from node2vec) (1.24.4)\r\n",
      "Requirement already satisfied: tqdm<5.0.0,>=4.55.1 in /Users/mac/anaconda3/lib/python3.11/site-packages (from node2vec) (4.65.0)\r\n",
      "Requirement already satisfied: scipy>=1.7.0 in /Users/mac/anaconda3/lib/python3.11/site-packages (from gensim<5.0.0,>=4.1.2->node2vec) (1.10.1)\r\n",
      "Requirement already satisfied: smart-open>=1.8.1 in /Users/mac/anaconda3/lib/python3.11/site-packages (from gensim<5.0.0,>=4.1.2->node2vec) (5.2.1)\r\n",
      "Requirement already satisfied: FuzzyTM>=0.4.0 in /Users/mac/anaconda3/lib/python3.11/site-packages (from gensim<5.0.0,>=4.1.2->node2vec) (2.0.9)\r\n",
      "Requirement already satisfied: pandas in /Users/mac/anaconda3/lib/python3.11/site-packages (from FuzzyTM>=0.4.0->gensim<5.0.0,>=4.1.2->node2vec) (1.5.3)\r\n",
      "Requirement already satisfied: pyfume in /Users/mac/anaconda3/lib/python3.11/site-packages (from FuzzyTM>=0.4.0->gensim<5.0.0,>=4.1.2->node2vec) (0.3.4)\r\n",
      "Requirement already satisfied: python-dateutil>=2.8.1 in /Users/mac/anaconda3/lib/python3.11/site-packages (from pandas->FuzzyTM>=0.4.0->gensim<5.0.0,>=4.1.2->node2vec) (2.8.2)\r\n",
      "Requirement already satisfied: pytz>=2020.1 in /Users/mac/anaconda3/lib/python3.11/site-packages (from pandas->FuzzyTM>=0.4.0->gensim<5.0.0,>=4.1.2->node2vec) (2022.7)\r\n",
      "Requirement already satisfied: simpful==2.12.0 in /Users/mac/anaconda3/lib/python3.11/site-packages (from pyfume->FuzzyTM>=0.4.0->gensim<5.0.0,>=4.1.2->node2vec) (2.12.0)\r\n",
      "Requirement already satisfied: fst-pso==1.8.1 in /Users/mac/anaconda3/lib/python3.11/site-packages (from pyfume->FuzzyTM>=0.4.0->gensim<5.0.0,>=4.1.2->node2vec) (1.8.1)\r\n",
      "Requirement already satisfied: miniful in /Users/mac/anaconda3/lib/python3.11/site-packages (from fst-pso==1.8.1->pyfume->FuzzyTM>=0.4.0->gensim<5.0.0,>=4.1.2->node2vec) (0.0.6)\r\n",
      "Requirement already satisfied: six>=1.5 in /Users/mac/anaconda3/lib/python3.11/site-packages (from python-dateutil>=2.8.1->pandas->FuzzyTM>=0.4.0->gensim<5.0.0,>=4.1.2->node2vec) (1.16.0)\r\n",
      "Note: you may need to restart the kernel to use updated packages.\n"
     ]
    }
   ],
   "source": [
    "%pip install shapely\n",
    "%pip install node2vec"
   ]
  },
  {
   "cell_type": "markdown",
   "metadata": {},
   "source": [
    "Libraries"
   ]
  },
  {
   "cell_type": "code",
   "execution_count": 2,
   "metadata": {
    "ExecuteTime": {
     "end_time": "2024-05-20T22:47:12.665422Z",
     "start_time": "2024-05-20T22:47:04.008726Z"
    }
   },
   "outputs": [],
   "source": [
    "import os\n",
    "import json\n",
    "import requests\n",
    "import numpy as np\n",
    "import pandas as pd\n",
    "import networkx as nx\n",
    "import matplotlib.pyplot as plt\n",
    "from shapely.prepared import prep\n",
    "from shapely.geometry import mapping, shape, Point\n",
    "from sklearn.neighbors import NearestNeighbors\n",
    "from node2vec import Node2Vec\n",
    "from sklearn.cluster import KMeans"
   ]
  },
  {
   "cell_type": "markdown",
   "metadata": {},
   "source": [
    "Const Values"
   ]
  },
  {
   "cell_type": "code",
   "execution_count": 3,
   "metadata": {
    "ExecuteTime": {
     "end_time": "2024-05-20T22:47:12.676453Z",
     "start_time": "2024-05-20T22:47:12.669107Z"
    }
   },
   "outputs": [],
   "source": [
    "YEAR_COLUMN = \"year\"\n",
    "TEMPO_COLUMN = \"tempo\"\n",
    "LOUDNESS_COLUMN = \"loudness\"\n",
    "DURATION_COLUMN = \"duration\"\n",
    "SONG_HOTTTNESSS_COLUMN = \"song_hotttnesss\"\n",
    "ARTIST_HOTTTNESSS_COLUMN = \"artist_hotttnesss\"\n",
    "ARTIST_FAMILIARITY_COLUMN = \"artist_familiarity\"\n",
    "DECADE_COLUMN = \"decade\"\n",
    "\n",
    "NUMERIC_COLUMNS_LIST = [\n",
    "    YEAR_COLUMN,\n",
    "    TEMPO_COLUMN,\n",
    "    LOUDNESS_COLUMN,\n",
    "    DURATION_COLUMN,\n",
    "    SONG_HOTTTNESSS_COLUMN,\n",
    "    ARTIST_HOTTTNESSS_COLUMN,\n",
    "    ARTIST_FAMILIARITY_COLUMN,\n",
    "    DECADE_COLUMN\n",
    "]\n",
    "\n",
    "SONG_TITLE_COLUMN = \"song_title\"\n",
    "COUNTRY_COLUMN = \"country\"\n",
    "ARTIST_LONGITUDE_COLUMN = \"artist_longitude\"\n",
    "ARTIST_LATITUDE_COLUMN = \"artist_latitude\"\n",
    "ARTIST_LOCATION_COLUMN = \"artist_location\"\n",
    "ARTIST_ID_COLUMN = \"artist_id\"\n",
    "SONG_ID_COLUMN = \"song_id\"\n",
    "\n",
    "UNKNOWN_COUNTRY_VALUE = \"unknown\"\n",
    "MUSIC_DATA_FOLDER_PATH = \"../Music Data/\"\n",
    "MODELS_FOLDER_PATH = \"../models/\""
   ]
  },
  {
   "cell_type": "code",
   "execution_count": 4,
   "metadata": {
    "ExecuteTime": {
     "end_time": "2024-05-20T22:47:12.679028Z",
     "start_time": "2024-05-20T22:47:12.673337Z"
    }
   },
   "outputs": [],
   "source": [
    "def get_attribute_node_name(node_type, node_value):\n",
    "    return f\"{node_type} {node_value}\""
   ]
  },
  {
   "cell_type": "markdown",
   "metadata": {},
   "source": [
    "Loading Songs & Artists datasets"
   ]
  },
  {
   "cell_type": "code",
   "execution_count": 5,
   "metadata": {
    "ExecuteTime": {
     "end_time": "2024-05-20T22:47:17.122300Z",
     "start_time": "2024-05-20T22:47:12.682009Z"
    }
   },
   "outputs": [],
   "source": [
    "raw_songs_dataset = pd.read_csv(\"../Data/songs_dataset.csv\")\n",
    "raw_artists_dataset = pd.read_csv(\"../Data/artist_terms.csv\")"
   ]
  },
  {
   "cell_type": "markdown",
   "metadata": {
    "collapsed": false
   },
   "source": [
    "Riaz: Merging datasets based on artist_id<br>\n",
    "In the following cell i am removing the duplicate rows based on `artist_id` and only keep the first record"
   ]
  },
  {
   "cell_type": "code",
   "execution_count": 6,
   "metadata": {
    "collapsed": false,
    "ExecuteTime": {
     "end_time": "2024-05-20T22:47:17.866101Z",
     "start_time": "2024-05-20T22:47:17.147709Z"
    }
   },
   "outputs": [],
   "source": [
    "# Remove duplicates from the artist dataset based on artist_id\n",
    "raw_artists_dataset = raw_artists_dataset.drop_duplicates(subset=ARTIST_ID_COLUMN, keep='first')\n",
    "\n",
    "# Merge the datasets on artist_id\n",
    "raw_music_dataset = pd.merge(raw_songs_dataset, raw_artists_dataset, on=ARTIST_ID_COLUMN, how='left')"
   ]
  },
  {
   "cell_type": "markdown",
   "metadata": {
    "collapsed": false
   },
   "source": [
    "In the above cell i merged the datasets based on artist_id and merge was on left join:\n",
    "When you specify how='left', it means that all the keys from the left dataframe (in this case, the raw_songs_dataset dataframe) will be included in the merged dataframe, and only the matching keys from the right dataframe (in this case, the artist_dataset dataframe) will be added.\n",
    "\n",
    "In other words:\n",
    "\n",
    "All rows from the left dataframe (raw_songs_dataset) are retained.\n",
    "If there are matching keys (in this case, artist_id) in the right dataframe (artist_dataset), the corresponding data from the right dataframe will be added to the merged dataframe.\n",
    "If there are no matching keys in the right dataframe, the corresponding columns in the merged dataframe will be filled with NaN (missing values)."
   ]
  },
  {
   "cell_type": "code",
   "execution_count": 7,
   "metadata": {
    "collapsed": false,
    "ExecuteTime": {
     "end_time": "2024-05-20T22:47:17.895373Z",
     "start_time": "2024-05-20T22:47:17.864482Z"
    }
   },
   "outputs": [
    {
     "data": {
      "text/plain": "              song_id                                         song_title  \\\n0  SOVFVAK12A8C1350D9                                        Tanssi vaan   \n1  SOGTUKN12AB017F4F1                                  No One Could Ever   \n2  SOBNYVR12A8C13558C                                      Si Vos Querés   \n3  SOHSBXH12A8C13B0DF                                   Tangle Of Aspens   \n4  SOZVAPQ12A8C13B63C  Symphony No. 1 G minor \"Sinfonie Serieuse\"/All...   \n\n     year                               release    tempo  loudness   duration  \\\n0  1995.0                           Karkuteillä  150.778   -10.555  156.55138   \n1  2006.0                                Butter  177.768    -2.060  138.97098   \n2  2003.0                               De Culo   87.433    -4.654  145.05751   \n3     NaN  Rene Ablaze Presents Winter Sessions  140.035    -7.806  514.29832   \n4     NaN      Berwald: Symphonies Nos. 1/2/3/4   90.689   -21.420  816.53506   \n\n   song_hotttnesss           artist_id       artist_name  artist_latitude  \\\n0         0.299877  ARMVN3U1187FB3A1EB  Karkkiautomaatti              NaN   \n1         0.617871  ARGEKB01187FB50750    Hudson Mohawke          55.8578   \n2              NaN  ARNWYLR1187B9B2F9C       Yerba Brava              NaN   \n3              NaN  AREQDTE1269FB37231        Der Mystic              NaN   \n4              NaN  AR2NS5Y1187FB5879D  David Montgomery              NaN   \n\n   artist_longitude    artist_location  artist_hotttnesss  artist_familiarity  \\\n0               NaN                NaN           0.356992            0.439604   \n1          -4.24251  Glasgow, Scotland           0.437504            0.643681   \n2               NaN                NaN           0.372349            0.448501   \n3               NaN                NaN           0.000000            0.000000   \n4               NaN                NaN           0.109626            0.361287   \n\n          term  \n0     pop rock  \n1  broken beat  \n2       cumbia  \n3  hard trance  \n4      ragtime  ",
      "text/html": "<div>\n<style scoped>\n    .dataframe tbody tr th:only-of-type {\n        vertical-align: middle;\n    }\n\n    .dataframe tbody tr th {\n        vertical-align: top;\n    }\n\n    .dataframe thead th {\n        text-align: right;\n    }\n</style>\n<table border=\"1\" class=\"dataframe\">\n  <thead>\n    <tr style=\"text-align: right;\">\n      <th></th>\n      <th>song_id</th>\n      <th>song_title</th>\n      <th>year</th>\n      <th>release</th>\n      <th>tempo</th>\n      <th>loudness</th>\n      <th>duration</th>\n      <th>song_hotttnesss</th>\n      <th>artist_id</th>\n      <th>artist_name</th>\n      <th>artist_latitude</th>\n      <th>artist_longitude</th>\n      <th>artist_location</th>\n      <th>artist_hotttnesss</th>\n      <th>artist_familiarity</th>\n      <th>term</th>\n    </tr>\n  </thead>\n  <tbody>\n    <tr>\n      <th>0</th>\n      <td>SOVFVAK12A8C1350D9</td>\n      <td>Tanssi vaan</td>\n      <td>1995.0</td>\n      <td>Karkuteillä</td>\n      <td>150.778</td>\n      <td>-10.555</td>\n      <td>156.55138</td>\n      <td>0.299877</td>\n      <td>ARMVN3U1187FB3A1EB</td>\n      <td>Karkkiautomaatti</td>\n      <td>NaN</td>\n      <td>NaN</td>\n      <td>NaN</td>\n      <td>0.356992</td>\n      <td>0.439604</td>\n      <td>pop rock</td>\n    </tr>\n    <tr>\n      <th>1</th>\n      <td>SOGTUKN12AB017F4F1</td>\n      <td>No One Could Ever</td>\n      <td>2006.0</td>\n      <td>Butter</td>\n      <td>177.768</td>\n      <td>-2.060</td>\n      <td>138.97098</td>\n      <td>0.617871</td>\n      <td>ARGEKB01187FB50750</td>\n      <td>Hudson Mohawke</td>\n      <td>55.8578</td>\n      <td>-4.24251</td>\n      <td>Glasgow, Scotland</td>\n      <td>0.437504</td>\n      <td>0.643681</td>\n      <td>broken beat</td>\n    </tr>\n    <tr>\n      <th>2</th>\n      <td>SOBNYVR12A8C13558C</td>\n      <td>Si Vos Querés</td>\n      <td>2003.0</td>\n      <td>De Culo</td>\n      <td>87.433</td>\n      <td>-4.654</td>\n      <td>145.05751</td>\n      <td>NaN</td>\n      <td>ARNWYLR1187B9B2F9C</td>\n      <td>Yerba Brava</td>\n      <td>NaN</td>\n      <td>NaN</td>\n      <td>NaN</td>\n      <td>0.372349</td>\n      <td>0.448501</td>\n      <td>cumbia</td>\n    </tr>\n    <tr>\n      <th>3</th>\n      <td>SOHSBXH12A8C13B0DF</td>\n      <td>Tangle Of Aspens</td>\n      <td>NaN</td>\n      <td>Rene Ablaze Presents Winter Sessions</td>\n      <td>140.035</td>\n      <td>-7.806</td>\n      <td>514.29832</td>\n      <td>NaN</td>\n      <td>AREQDTE1269FB37231</td>\n      <td>Der Mystic</td>\n      <td>NaN</td>\n      <td>NaN</td>\n      <td>NaN</td>\n      <td>0.000000</td>\n      <td>0.000000</td>\n      <td>hard trance</td>\n    </tr>\n    <tr>\n      <th>4</th>\n      <td>SOZVAPQ12A8C13B63C</td>\n      <td>Symphony No. 1 G minor \"Sinfonie Serieuse\"/All...</td>\n      <td>NaN</td>\n      <td>Berwald: Symphonies Nos. 1/2/3/4</td>\n      <td>90.689</td>\n      <td>-21.420</td>\n      <td>816.53506</td>\n      <td>NaN</td>\n      <td>AR2NS5Y1187FB5879D</td>\n      <td>David Montgomery</td>\n      <td>NaN</td>\n      <td>NaN</td>\n      <td>NaN</td>\n      <td>0.109626</td>\n      <td>0.361287</td>\n      <td>ragtime</td>\n    </tr>\n  </tbody>\n</table>\n</div>"
     },
     "execution_count": 7,
     "metadata": {},
     "output_type": "execute_result"
    }
   ],
   "source": [
    "raw_music_dataset.head()"
   ]
  },
  {
   "cell_type": "code",
   "execution_count": 8,
   "metadata": {
    "ExecuteTime": {
     "end_time": "2024-05-20T22:47:18.737018Z",
     "start_time": "2024-05-20T22:47:17.885026Z"
    }
   },
   "outputs": [
    {
     "data": {
      "text/plain": "song_id                    0\nsong_title                 0\nyear                  484270\nrelease                    5\ntempo                      0\nloudness                   0\nduration                   0\nsong_hotttnesss       417782\nartist_id                  0\nartist_name                0\nartist_latitude       641766\nartist_longitude      641766\nartist_location       487546\nartist_hotttnesss         12\nartist_familiarity       185\nterm                    3767\ndtype: int64"
     },
     "execution_count": 8,
     "metadata": {},
     "output_type": "execute_result"
    }
   ],
   "source": [
    "raw_music_dataset.isna().sum()"
   ]
  },
  {
   "cell_type": "code",
   "execution_count": 9,
   "metadata": {
    "ExecuteTime": {
     "end_time": "2024-05-20T22:47:19.529945Z",
     "start_time": "2024-05-20T22:47:18.737198Z"
    }
   },
   "outputs": [
    {
     "data": {
      "text/plain": "2677099"
     },
     "execution_count": 9,
     "metadata": {},
     "output_type": "execute_result"
    }
   ],
   "source": [
    "raw_music_dataset.isna().sum().sum()"
   ]
  },
  {
   "cell_type": "markdown",
   "metadata": {},
   "source": [
    "Shartil: For now I am going to delete all rows with missing data."
   ]
  },
  {
   "cell_type": "code",
   "execution_count": 10,
   "metadata": {
    "ExecuteTime": {
     "end_time": "2024-05-20T22:47:20.623505Z",
     "start_time": "2024-05-20T22:47:19.758083Z"
    }
   },
   "outputs": [],
   "source": [
    "music_dataset = raw_music_dataset.dropna()"
   ]
  },
  {
   "cell_type": "code",
   "execution_count": 11,
   "metadata": {
    "ExecuteTime": {
     "end_time": "2024-05-20T22:47:20.628171Z",
     "start_time": "2024-05-20T22:47:20.620867Z"
    }
   },
   "outputs": [
    {
     "data": {
      "text/plain": "126905"
     },
     "execution_count": 11,
     "metadata": {},
     "output_type": "execute_result"
    }
   ],
   "source": [
    "len(music_dataset)"
   ]
  },
  {
   "cell_type": "markdown",
   "metadata": {},
   "source": [
    "Shartil: Evenly selecing over 1000 songs, and saving them as the final dataframe"
   ]
  },
  {
   "cell_type": "code",
   "execution_count": 12,
   "metadata": {
    "ExecuteTime": {
     "end_time": "2024-05-20T22:47:20.648786Z",
     "start_time": "2024-05-20T22:47:20.626640Z"
    }
   },
   "outputs": [
    {
     "name": "stdout",
     "output_type": "stream",
     "text": [
      "(126905, 16)\n",
      "(1058, 16)\n"
     ]
    }
   ],
   "source": [
    "print(music_dataset.shape)\n",
    "\n",
    "music_dataset = music_dataset.iloc[::120] # returns dataframe with (1058, 13)\n",
    "\n",
    "print(music_dataset.shape)"
   ]
  },
  {
   "cell_type": "markdown",
   "metadata": {},
   "source": [
    "Najeeb: Introducing a new column \"country\" based on Latitude and Longitude."
   ]
  },
  {
   "cell_type": "markdown",
   "metadata": {},
   "source": [
    "This code is used to load geographical data from a Local GeoJSON file, process it, and subsequently determine which country a given set of Latitudes and Logitudes coordinates falls into. The country names extracted from GeoJSON file are then inserted into a new column in a dataset.\n",
    "\n",
    "- The \"json.load\" function reads the file and convert it into a Python dictionary ('geojson_data').\n",
    "\n",
    "- An Empty dictionary named 'countries' is initiated to store the coordinated data associated with each country.\n",
    "\n",
    "- The script iterates over each feature in the 'features' array of the 'geojson_data'. Each features represents a country.\n",
    "\n",
    "- For each feature, the geometry ('geom') and the administrative name of the country is extracted.\n",
    "\n",
    "- The geometry is then processed with a function 'prep' applied to 'shape(geom)'. This likely involves creating a geometric shape from the geometry data and preparing it for fast spatial queries. The processed geometry is dtored in the 'countries' dictionary with the country name as key.\n",
    "\n",
    "- A function 'get_country' is defined which takes longitudes ('lon') and latitude ('lat') as arguments and creates a ('Point') object from coordinates.\n",
    "\n",
    "- It then iterates  over the 'countries' dictionary and check whether the point is contained within any of the country geometrics using the 'contains' method of the geometry.\n",
    "\n",
    "- if a containing country is found, the function returns the country's name. if no containing country is found, it returns a value 'UNKNOWN_COUNTRY_VALUE'\n",
    "\n",
    "- A new column in the dataset ('msic_dataset') is populated by applying 'get_country' function to each row. In this way the country column is added to music_dataset based on latitude and logitude columns.\n"
   ]
  },
  {
   "cell_type": "code",
   "execution_count": 13,
   "metadata": {
    "ExecuteTime": {
     "end_time": "2024-05-20T22:47:23.848225Z",
     "start_time": "2024-05-20T22:47:20.635505Z"
    }
   },
   "outputs": [],
   "source": [
    "# Fetch and process the geojson data from a local file\n",
    "with open(r'../Data/countries.geojson.json', 'r') as file:\n",
    "    geojson_data = json.load(file)\n",
    "\n",
    "countries = {}\n",
    "for feature in geojson_data[\"features\"]:\n",
    "    geom = feature[\"geometry\"]\n",
    "    country = feature[\"properties\"][\"ADMIN\"]\n",
    "    countries[country] = prep(shape(geom))\n",
    "\n",
    "# Function to get country name from latitude and longitude\n",
    "def get_country(lon, lat):\n",
    "    point = Point(lon, lat)\n",
    "    for country, geom in countries.items():\n",
    "        if geom.contains(point):\n",
    "            return country\n",
    "\n",
    "    return UNKNOWN_COUNTRY_VALUE\n",
    "\n",
    "# Apply the function to create a new 'country' column\n",
    "music_dataset[COUNTRY_COLUMN] = music_dataset.apply(\n",
    "    lambda row: get_country(row[ARTIST_LONGITUDE_COLUMN], \n",
    "    row[ARTIST_LATITUDE_COLUMN]), \n",
    "    axis=1\n",
    "    )"
   ]
  },
  {
   "cell_type": "markdown",
   "metadata": {},
   "source": [
    "Shartil: Deleting redundant columns "
   ]
  },
  {
   "cell_type": "code",
   "execution_count": 14,
   "metadata": {
    "ExecuteTime": {
     "end_time": "2024-05-20T22:47:23.862898Z",
     "start_time": "2024-05-20T22:47:23.854310Z"
    }
   },
   "outputs": [],
   "source": [
    "music_dataset = music_dataset.drop(\n",
    "    [\n",
    "        ARTIST_LATITUDE_COLUMN,\n",
    "        ARTIST_LONGITUDE_COLUMN,\n",
    "        ARTIST_LOCATION_COLUMN,\n",
    "        SONG_ID_COLUMN,\n",
    "        ARTIST_ID_COLUMN\n",
    "    ], \n",
    "    axis=1)"
   ]
  },
  {
   "cell_type": "markdown",
   "metadata": {},
   "source": [
    "Shartil: Deleting all rows with \"unknown\" as the country value and converting year values to int"
   ]
  },
  {
   "cell_type": "code",
   "execution_count": 15,
   "metadata": {
    "ExecuteTime": {
     "end_time": "2024-05-20T22:47:23.865467Z",
     "start_time": "2024-05-20T22:47:23.857982Z"
    }
   },
   "outputs": [],
   "source": [
    "music_dataset = music_dataset[music_dataset[COUNTRY_COLUMN] != UNKNOWN_COUNTRY_VALUE]"
   ]
  },
  {
   "cell_type": "code",
   "execution_count": 16,
   "metadata": {
    "ExecuteTime": {
     "end_time": "2024-05-20T22:47:23.908299Z",
     "start_time": "2024-05-20T22:47:23.866232Z"
    }
   },
   "outputs": [],
   "source": [
    "music_dataset[YEAR_COLUMN] = music_dataset[YEAR_COLUMN].astype(int)"
   ]
  },
  {
   "cell_type": "code",
   "execution_count": 17,
   "metadata": {
    "ExecuteTime": {
     "end_time": "2024-05-20T22:47:23.909772Z",
     "start_time": "2024-05-20T22:47:23.871407Z"
    }
   },
   "outputs": [
    {
     "data": {
      "text/plain": "                                          song_title  year  \\\n0                                  No One Could Ever  2006   \n1                Don't Save It All For Christmas Day  2004   \n2                                         White Lies  2006   \n3                           Guess Who I Saw In Paris  1999   \n4  No More Birthdays (Phil Spector Folk) / San Fr...  2006   \n\n                     release    tempo  loudness   duration  song_hotttnesss  \\\n0                     Butter  177.768    -2.060  138.97098         0.617871   \n1  Merry Christmas With Love  127.397    -9.149  273.08363         0.732281   \n2                   Rocinate   92.103    -9.323  388.80608         0.417314   \n3                   Sugar Me  105.054   -18.484  170.31791         0.368414   \n4             Born To Please   95.658    -6.141  280.45016         0.000000   \n\n       artist_name  artist_hotttnesss  artist_familiarity            term  \\\n0   Hudson Mohawke           0.437504            0.643681     broken beat   \n1       Clay Aiken           0.500596            0.852100        teen pop   \n2      Ester Drang           0.330889            0.525616        shoegaze   \n3  Claudine Longet           0.377489            0.563184  easy listening   \n4       Sound Team           0.368423            0.590111        art rock   \n\n                    country  \n0            United Kingdom  \n1  United States of America  \n2  United States of America  \n3                    France  \n4  United States of America  ",
      "text/html": "<div>\n<style scoped>\n    .dataframe tbody tr th:only-of-type {\n        vertical-align: middle;\n    }\n\n    .dataframe tbody tr th {\n        vertical-align: top;\n    }\n\n    .dataframe thead th {\n        text-align: right;\n    }\n</style>\n<table border=\"1\" class=\"dataframe\">\n  <thead>\n    <tr style=\"text-align: right;\">\n      <th></th>\n      <th>song_title</th>\n      <th>year</th>\n      <th>release</th>\n      <th>tempo</th>\n      <th>loudness</th>\n      <th>duration</th>\n      <th>song_hotttnesss</th>\n      <th>artist_name</th>\n      <th>artist_hotttnesss</th>\n      <th>artist_familiarity</th>\n      <th>term</th>\n      <th>country</th>\n    </tr>\n  </thead>\n  <tbody>\n    <tr>\n      <th>0</th>\n      <td>No One Could Ever</td>\n      <td>2006</td>\n      <td>Butter</td>\n      <td>177.768</td>\n      <td>-2.060</td>\n      <td>138.97098</td>\n      <td>0.617871</td>\n      <td>Hudson Mohawke</td>\n      <td>0.437504</td>\n      <td>0.643681</td>\n      <td>broken beat</td>\n      <td>United Kingdom</td>\n    </tr>\n    <tr>\n      <th>1</th>\n      <td>Don't Save It All For Christmas Day</td>\n      <td>2004</td>\n      <td>Merry Christmas With Love</td>\n      <td>127.397</td>\n      <td>-9.149</td>\n      <td>273.08363</td>\n      <td>0.732281</td>\n      <td>Clay Aiken</td>\n      <td>0.500596</td>\n      <td>0.852100</td>\n      <td>teen pop</td>\n      <td>United States of America</td>\n    </tr>\n    <tr>\n      <th>2</th>\n      <td>White Lies</td>\n      <td>2006</td>\n      <td>Rocinate</td>\n      <td>92.103</td>\n      <td>-9.323</td>\n      <td>388.80608</td>\n      <td>0.417314</td>\n      <td>Ester Drang</td>\n      <td>0.330889</td>\n      <td>0.525616</td>\n      <td>shoegaze</td>\n      <td>United States of America</td>\n    </tr>\n    <tr>\n      <th>3</th>\n      <td>Guess Who I Saw In Paris</td>\n      <td>1999</td>\n      <td>Sugar Me</td>\n      <td>105.054</td>\n      <td>-18.484</td>\n      <td>170.31791</td>\n      <td>0.368414</td>\n      <td>Claudine Longet</td>\n      <td>0.377489</td>\n      <td>0.563184</td>\n      <td>easy listening</td>\n      <td>France</td>\n    </tr>\n    <tr>\n      <th>4</th>\n      <td>No More Birthdays (Phil Spector Folk) / San Fr...</td>\n      <td>2006</td>\n      <td>Born To Please</td>\n      <td>95.658</td>\n      <td>-6.141</td>\n      <td>280.45016</td>\n      <td>0.000000</td>\n      <td>Sound Team</td>\n      <td>0.368423</td>\n      <td>0.590111</td>\n      <td>art rock</td>\n      <td>United States of America</td>\n    </tr>\n  </tbody>\n</table>\n</div>"
     },
     "execution_count": 17,
     "metadata": {},
     "output_type": "execute_result"
    }
   ],
   "source": [
    "music_dataset.reset_index(drop=True, inplace=True)\n",
    "music_dataset.head()"
   ]
  },
  {
   "cell_type": "code",
   "execution_count": 18,
   "metadata": {
    "ExecuteTime": {
     "end_time": "2024-05-20T22:47:23.910351Z",
     "start_time": "2024-05-20T22:47:23.885031Z"
    }
   },
   "outputs": [
    {
     "data": {
      "text/plain": "(1036, 12)"
     },
     "execution_count": 18,
     "metadata": {},
     "output_type": "execute_result"
    }
   ],
   "source": [
    "music_dataset.shape"
   ]
  },
  {
   "cell_type": "markdown",
   "metadata": {},
   "source": [
    "Shartil: making sure the final dataset contains 1000 songs"
   ]
  },
  {
   "cell_type": "code",
   "execution_count": 19,
   "metadata": {
    "ExecuteTime": {
     "end_time": "2024-05-20T22:47:23.910766Z",
     "start_time": "2024-05-20T22:47:23.890626Z"
    }
   },
   "outputs": [
    {
     "name": "stdout",
     "output_type": "stream",
     "text": [
      "(1000, 12)\n"
     ]
    }
   ],
   "source": [
    "music_dataset = music_dataset.iloc[:1000] # returns dataframe with 1000 songs\n",
    "\n",
    "print(music_dataset.shape)"
   ]
  },
  {
   "cell_type": "markdown",
   "metadata": {},
   "source": [
    "Shartil: Adding decade column to dataset"
   ]
  },
  {
   "cell_type": "code",
   "execution_count": 20,
   "metadata": {
    "ExecuteTime": {
     "end_time": "2024-05-20T22:47:23.911888Z",
     "start_time": "2024-05-20T22:47:23.895586Z"
    }
   },
   "outputs": [
    {
     "data": {
      "text/plain": "                                          song_title  year  \\\n0                                  No One Could Ever  2006   \n1                Don't Save It All For Christmas Day  2004   \n2                                         White Lies  2006   \n3                           Guess Who I Saw In Paris  1999   \n4  No More Birthdays (Phil Spector Folk) / San Fr...  2006   \n\n                     release    tempo  loudness   duration  song_hotttnesss  \\\n0                     Butter  177.768    -2.060  138.97098         0.617871   \n1  Merry Christmas With Love  127.397    -9.149  273.08363         0.732281   \n2                   Rocinate   92.103    -9.323  388.80608         0.417314   \n3                   Sugar Me  105.054   -18.484  170.31791         0.368414   \n4             Born To Please   95.658    -6.141  280.45016         0.000000   \n\n       artist_name  artist_hotttnesss  artist_familiarity            term  \\\n0   Hudson Mohawke           0.437504            0.643681     broken beat   \n1       Clay Aiken           0.500596            0.852100        teen pop   \n2      Ester Drang           0.330889            0.525616        shoegaze   \n3  Claudine Longet           0.377489            0.563184  easy listening   \n4       Sound Team           0.368423            0.590111        art rock   \n\n                    country  decade  \n0            United Kingdom    2000  \n1  United States of America    2000  \n2  United States of America    2000  \n3                    France    1990  \n4  United States of America    2000  ",
      "text/html": "<div>\n<style scoped>\n    .dataframe tbody tr th:only-of-type {\n        vertical-align: middle;\n    }\n\n    .dataframe tbody tr th {\n        vertical-align: top;\n    }\n\n    .dataframe thead th {\n        text-align: right;\n    }\n</style>\n<table border=\"1\" class=\"dataframe\">\n  <thead>\n    <tr style=\"text-align: right;\">\n      <th></th>\n      <th>song_title</th>\n      <th>year</th>\n      <th>release</th>\n      <th>tempo</th>\n      <th>loudness</th>\n      <th>duration</th>\n      <th>song_hotttnesss</th>\n      <th>artist_name</th>\n      <th>artist_hotttnesss</th>\n      <th>artist_familiarity</th>\n      <th>term</th>\n      <th>country</th>\n      <th>decade</th>\n    </tr>\n  </thead>\n  <tbody>\n    <tr>\n      <th>0</th>\n      <td>No One Could Ever</td>\n      <td>2006</td>\n      <td>Butter</td>\n      <td>177.768</td>\n      <td>-2.060</td>\n      <td>138.97098</td>\n      <td>0.617871</td>\n      <td>Hudson Mohawke</td>\n      <td>0.437504</td>\n      <td>0.643681</td>\n      <td>broken beat</td>\n      <td>United Kingdom</td>\n      <td>2000</td>\n    </tr>\n    <tr>\n      <th>1</th>\n      <td>Don't Save It All For Christmas Day</td>\n      <td>2004</td>\n      <td>Merry Christmas With Love</td>\n      <td>127.397</td>\n      <td>-9.149</td>\n      <td>273.08363</td>\n      <td>0.732281</td>\n      <td>Clay Aiken</td>\n      <td>0.500596</td>\n      <td>0.852100</td>\n      <td>teen pop</td>\n      <td>United States of America</td>\n      <td>2000</td>\n    </tr>\n    <tr>\n      <th>2</th>\n      <td>White Lies</td>\n      <td>2006</td>\n      <td>Rocinate</td>\n      <td>92.103</td>\n      <td>-9.323</td>\n      <td>388.80608</td>\n      <td>0.417314</td>\n      <td>Ester Drang</td>\n      <td>0.330889</td>\n      <td>0.525616</td>\n      <td>shoegaze</td>\n      <td>United States of America</td>\n      <td>2000</td>\n    </tr>\n    <tr>\n      <th>3</th>\n      <td>Guess Who I Saw In Paris</td>\n      <td>1999</td>\n      <td>Sugar Me</td>\n      <td>105.054</td>\n      <td>-18.484</td>\n      <td>170.31791</td>\n      <td>0.368414</td>\n      <td>Claudine Longet</td>\n      <td>0.377489</td>\n      <td>0.563184</td>\n      <td>easy listening</td>\n      <td>France</td>\n      <td>1990</td>\n    </tr>\n    <tr>\n      <th>4</th>\n      <td>No More Birthdays (Phil Spector Folk) / San Fr...</td>\n      <td>2006</td>\n      <td>Born To Please</td>\n      <td>95.658</td>\n      <td>-6.141</td>\n      <td>280.45016</td>\n      <td>0.000000</td>\n      <td>Sound Team</td>\n      <td>0.368423</td>\n      <td>0.590111</td>\n      <td>art rock</td>\n      <td>United States of America</td>\n      <td>2000</td>\n    </tr>\n  </tbody>\n</table>\n</div>"
     },
     "execution_count": 20,
     "metadata": {},
     "output_type": "execute_result"
    }
   ],
   "source": [
    "music_dataset = music_dataset.assign(decade=lambda row: (row[YEAR_COLUMN].astype(int) // 10) * 10)\n",
    "music_dataset.head()"
   ]
  },
  {
   "cell_type": "code",
   "execution_count": 21,
   "metadata": {
    "ExecuteTime": {
     "end_time": "2024-05-20T22:47:23.973536Z",
     "start_time": "2024-05-20T22:47:23.911263Z"
    }
   },
   "outputs": [],
   "source": [
    "min_decade = music_dataset[DECADE_COLUMN].min()\n",
    "max_decade = music_dataset[DECADE_COLUMN].max()\n",
    "decade_array = np.arange(min_decade, max_decade + 10, 10, dtype=int)"
   ]
  },
  {
   "cell_type": "markdown",
   "metadata": {},
   "source": [
    "Shartil: Saving music_dataset as a CSV file"
   ]
  },
  {
   "cell_type": "code",
   "execution_count": 22,
   "metadata": {
    "ExecuteTime": {
     "end_time": "2024-05-20T22:47:24.017712Z",
     "start_time": "2024-05-20T22:47:23.920849Z"
    }
   },
   "outputs": [],
   "source": [
    "if not os.path.isdir(MUSIC_DATA_FOLDER_PATH):\n",
    "    os.mkdir(MUSIC_DATA_FOLDER_PATH)\n",
    "\n",
    "music_dataset.to_csv(f\"{MUSIC_DATA_FOLDER_PATH}/music_dataset.csv\", mode='w+')"
   ]
  },
  {
   "cell_type": "markdown",
   "metadata": {},
   "source": [
    "Shartil: I will normalize the numeric columns using min max normalization."
   ]
  },
  {
   "cell_type": "code",
   "execution_count": 23,
   "metadata": {
    "ExecuteTime": {
     "end_time": "2024-05-20T22:47:24.018013Z",
     "start_time": "2024-05-20T22:47:23.941222Z"
    }
   },
   "outputs": [],
   "source": [
    "def min_max_normalize_column(df, column_name):\n",
    "    min_val = df[column_name].min()\n",
    "    max_val = df[column_name].max()\n",
    "    \n",
    "    if min_val == max_val:\n",
    "        raise ValueError(\"Cannot normalize column when all values are the same.\")\n",
    "    \n",
    "    df[column_name] = (df[column_name] - min_val) / (max_val - min_val)"
   ]
  },
  {
   "cell_type": "code",
   "execution_count": 24,
   "metadata": {
    "ExecuteTime": {
     "end_time": "2024-05-20T22:47:24.018223Z",
     "start_time": "2024-05-20T22:47:23.948644Z"
    }
   },
   "outputs": [],
   "source": [
    "normalized_music_dataset = music_dataset.copy()\n",
    "\n",
    "for numeric_column in NUMERIC_COLUMNS_LIST:\n",
    "    min_max_normalize_column(normalized_music_dataset, numeric_column)"
   ]
  },
  {
   "cell_type": "code",
   "execution_count": 25,
   "metadata": {
    "ExecuteTime": {
     "end_time": "2024-05-20T22:47:24.019322Z",
     "start_time": "2024-05-20T22:47:23.954639Z"
    }
   },
   "outputs": [
    {
     "data": {
      "text/plain": "                                          song_title      year  \\\n0                                  No One Could Ever  0.927273   \n1                Don't Save It All For Christmas Day  0.890909   \n2                                         White Lies  0.927273   \n3                           Guess Who I Saw In Paris  0.800000   \n4  No More Birthdays (Phil Spector Folk) / San Fr...  0.927273   \n\n                     release     tempo  loudness  duration  song_hotttnesss  \\\n0                     Butter  0.716171  0.961028  0.100247         0.620488   \n1  Merry Christmas With Love  0.513242  0.763265  0.203325         0.735383   \n2                   Rocinate  0.371054  0.758411  0.292268         0.419082   \n3                   Sugar Me  0.423229  0.502846  0.124340         0.369974   \n4             Born To Please  0.385376  0.847180  0.208987         0.000000   \n\n       artist_name  artist_hotttnesss  artist_familiarity            term  \\\n0   Hudson Mohawke           0.511917            0.671199     broken beat   \n1       Clay Aiken           0.585741            0.906486        teen pop   \n2      Ester Drang           0.387169            0.537915        shoegaze   \n3  Claudine Longet           0.441695            0.580325  easy listening   \n4       Sound Team           0.431087            0.610724        art rock   \n\n                    country    decade  \n0            United Kingdom  0.833333  \n1  United States of America  0.833333  \n2  United States of America  0.833333  \n3                    France  0.666667  \n4  United States of America  0.833333  ",
      "text/html": "<div>\n<style scoped>\n    .dataframe tbody tr th:only-of-type {\n        vertical-align: middle;\n    }\n\n    .dataframe tbody tr th {\n        vertical-align: top;\n    }\n\n    .dataframe thead th {\n        text-align: right;\n    }\n</style>\n<table border=\"1\" class=\"dataframe\">\n  <thead>\n    <tr style=\"text-align: right;\">\n      <th></th>\n      <th>song_title</th>\n      <th>year</th>\n      <th>release</th>\n      <th>tempo</th>\n      <th>loudness</th>\n      <th>duration</th>\n      <th>song_hotttnesss</th>\n      <th>artist_name</th>\n      <th>artist_hotttnesss</th>\n      <th>artist_familiarity</th>\n      <th>term</th>\n      <th>country</th>\n      <th>decade</th>\n    </tr>\n  </thead>\n  <tbody>\n    <tr>\n      <th>0</th>\n      <td>No One Could Ever</td>\n      <td>0.927273</td>\n      <td>Butter</td>\n      <td>0.716171</td>\n      <td>0.961028</td>\n      <td>0.100247</td>\n      <td>0.620488</td>\n      <td>Hudson Mohawke</td>\n      <td>0.511917</td>\n      <td>0.671199</td>\n      <td>broken beat</td>\n      <td>United Kingdom</td>\n      <td>0.833333</td>\n    </tr>\n    <tr>\n      <th>1</th>\n      <td>Don't Save It All For Christmas Day</td>\n      <td>0.890909</td>\n      <td>Merry Christmas With Love</td>\n      <td>0.513242</td>\n      <td>0.763265</td>\n      <td>0.203325</td>\n      <td>0.735383</td>\n      <td>Clay Aiken</td>\n      <td>0.585741</td>\n      <td>0.906486</td>\n      <td>teen pop</td>\n      <td>United States of America</td>\n      <td>0.833333</td>\n    </tr>\n    <tr>\n      <th>2</th>\n      <td>White Lies</td>\n      <td>0.927273</td>\n      <td>Rocinate</td>\n      <td>0.371054</td>\n      <td>0.758411</td>\n      <td>0.292268</td>\n      <td>0.419082</td>\n      <td>Ester Drang</td>\n      <td>0.387169</td>\n      <td>0.537915</td>\n      <td>shoegaze</td>\n      <td>United States of America</td>\n      <td>0.833333</td>\n    </tr>\n    <tr>\n      <th>3</th>\n      <td>Guess Who I Saw In Paris</td>\n      <td>0.800000</td>\n      <td>Sugar Me</td>\n      <td>0.423229</td>\n      <td>0.502846</td>\n      <td>0.124340</td>\n      <td>0.369974</td>\n      <td>Claudine Longet</td>\n      <td>0.441695</td>\n      <td>0.580325</td>\n      <td>easy listening</td>\n      <td>France</td>\n      <td>0.666667</td>\n    </tr>\n    <tr>\n      <th>4</th>\n      <td>No More Birthdays (Phil Spector Folk) / San Fr...</td>\n      <td>0.927273</td>\n      <td>Born To Please</td>\n      <td>0.385376</td>\n      <td>0.847180</td>\n      <td>0.208987</td>\n      <td>0.000000</td>\n      <td>Sound Team</td>\n      <td>0.431087</td>\n      <td>0.610724</td>\n      <td>art rock</td>\n      <td>United States of America</td>\n      <td>0.833333</td>\n    </tr>\n  </tbody>\n</table>\n</div>"
     },
     "execution_count": 25,
     "metadata": {},
     "output_type": "execute_result"
    }
   ],
   "source": [
    "normalized_music_dataset.head()"
   ]
  },
  {
   "cell_type": "markdown",
   "metadata": {},
   "source": [
    "Shartil: Now I am going to create the graph"
   ]
  },
  {
   "cell_type": "code",
   "execution_count": 26,
   "metadata": {
    "ExecuteTime": {
     "end_time": "2024-05-20T22:47:24.019546Z",
     "start_time": "2024-05-20T22:47:23.968355Z"
    }
   },
   "outputs": [],
   "source": [
    "music_graph = nx.Graph()"
   ]
  },
  {
   "cell_type": "code",
   "execution_count": 27,
   "metadata": {
    "ExecuteTime": {
     "end_time": "2024-05-20T22:47:24.201330Z",
     "start_time": "2024-05-20T22:47:23.971229Z"
    }
   },
   "outputs": [],
   "source": [
    "for current_index, current_row in normalized_music_dataset.iterrows():\n",
    "    node_data_dict = {}\n",
    "\n",
    "    for current_column in NUMERIC_COLUMNS_LIST:\n",
    "        node_data_dict[current_column] = current_row[current_column]\n",
    "\n",
    "    music_graph.add_node(str(current_index), **node_data_dict)"
   ]
  },
  {
   "cell_type": "code",
   "execution_count": 28,
   "metadata": {
    "ExecuteTime": {
     "end_time": "2024-05-20T22:47:24.233760Z",
     "start_time": "2024-05-20T22:47:24.036507Z"
    }
   },
   "outputs": [],
   "source": [
    "# Shartil: adding empty nodes for the decades, which function as main nodes\n",
    "# i.e., all the songs from 1950 will be connected to the 1950 node.\n",
    "# This will save complex logic of connecting all the songs from the decade, and ensuring that the resulted graph will be less complicated.\n",
    "for current_decade in decade_array:\n",
    "    node_name = get_attribute_node_name(DECADE_COLUMN, current_decade)\n",
    "    music_graph.add_node(node_name)"
   ]
  },
  {
   "cell_type": "markdown",
   "metadata": {},
   "source": [
    "Shartil: for now, the graph only has decade nodes & song nodes that contain their matching ID in the dataframe"
   ]
  },
  {
   "cell_type": "code",
   "execution_count": 29,
   "metadata": {
    "ExecuteTime": {
     "end_time": "2024-05-20T22:47:24.340477Z",
     "start_time": "2024-05-20T22:47:24.047122Z"
    }
   },
   "outputs": [
    {
     "name": "stdout",
     "output_type": "stream",
     "text": [
      "Graph with 1007 nodes and 1000 edges\n"
     ]
    }
   ],
   "source": [
    "for index, row in music_dataset.iterrows():\n",
    "    current_decade = row[DECADE_COLUMN]\n",
    "    node_name = get_attribute_node_name(DECADE_COLUMN, current_decade)\n",
    "    music_graph.add_edge(node_name, str(index))\n",
    "\n",
    "print(music_graph)"
   ]
  },
  {
   "cell_type": "markdown",
   "metadata": {
    "collapsed": false
   },
   "source": [
    "Riaz: Node Embeding using node2vec"
   ]
  },
  {
   "cell_type": "code",
   "execution_count": 30,
   "metadata": {
    "collapsed": false,
    "ExecuteTime": {
     "end_time": "2024-05-20T22:47:58.663830Z",
     "start_time": "2024-05-20T22:47:24.090940Z"
    }
   },
   "outputs": [
    {
     "data": {
      "text/plain": "Computing transition probabilities:   0%|          | 0/1007 [00:00<?, ?it/s]",
      "application/vnd.jupyter.widget-view+json": {
       "version_major": 2,
       "version_minor": 0,
       "model_id": "29151c5e8c4847dcb5ea7b662af8622b"
      }
     },
     "metadata": {},
     "output_type": "display_data"
    },
    {
     "name": "stderr",
     "output_type": "stream",
     "text": [
      "Generating walks (CPU: 3): 100%|██████████| 25/25 [00:03<00:00,  6.76it/s]\n",
      "Generating walks (CPU: 1): 100%|██████████| 25/25 [00:03<00:00,  6.72it/s]\n",
      "Generating walks (CPU: 4): 100%|██████████| 25/25 [00:03<00:00,  6.69it/s]\n",
      "Generating walks (CPU: 2): 100%|██████████| 25/25 [00:03<00:00,  6.67it/s]\n"
     ]
    }
   ],
   "source": [
    "# Precompute probabilities and generate walks - **ON WINDOWS ONLY WORKS WITH workers=1**\n",
    "node2vec = Node2Vec(music_graph, dimensions=64, walk_length=10, num_walks=100, workers=4)  # Use temp_folder for big graphs\n",
    "\n",
    "# Embed nodes\n",
    "model = node2vec.fit(window=10, min_count=1, batch_words=4)  # Any keywords acceptable by gensim.Word2Vec can be passed, `dimensions` and `workers` are automatically passed (from the Node2Vec constructor)"
   ]
  },
  {
   "cell_type": "markdown",
   "metadata": {
    "collapsed": false
   },
   "source": [
    "Saving embedding and model into models folder"
   ]
  },
  {
   "cell_type": "code",
   "execution_count": 31,
   "metadata": {
    "collapsed": false,
    "ExecuteTime": {
     "end_time": "2024-05-20T22:47:58.728557Z",
     "start_time": "2024-05-20T22:47:58.664151Z"
    }
   },
   "outputs": [],
   "source": [
    "# Save embeddings for later use\n",
    "model.wv.save_word2vec_format(f\"{MODELS_FOLDER_PATH}/embedding\")\n",
    "\n",
    "# Save model for later use\n",
    "model.save(f\"{MODELS_FOLDER_PATH}/node2vec_model\")\n"
   ]
  },
  {
   "cell_type": "markdown",
   "metadata": {},
   "source": [
    "Shartil: creating NearestNeighbors selector"
   ]
  },
  {
   "cell_type": "code",
   "execution_count": 32,
   "metadata": {
    "ExecuteTime": {
     "end_time": "2024-05-20T22:47:58.740141Z",
     "start_time": "2024-05-20T22:47:58.730699Z"
    }
   },
   "outputs": [],
   "source": [
    "nodes = list(music_graph.nodes())\n",
    "embeddings = np.array([model.wv[str(node)] for node in nodes])\n",
    "nearestNeighborSelector = NearestNeighbors(n_neighbors=6).fit(embeddings)"
   ]
  },
  {
   "cell_type": "markdown",
   "metadata": {},
   "source": [
    "#### Function used for User input handling"
   ]
  },
  {
   "cell_type": "code",
   "execution_count": 74,
   "metadata": {
    "ExecuteTime": {
     "end_time": "2024-05-20T23:14:09.774416Z",
     "start_time": "2024-05-20T23:14:09.733344Z"
    }
   },
   "outputs": [],
   "source": [
    "def get_song_id(song_title):\n",
    "    matching_songs = music_dataset[music_dataset[SONG_TITLE_COLUMN].str.lower().str.contains(song_title.lower())]\n",
    "    if not matching_songs.empty:\n",
    "        return matching_songs.iloc[0].name\n",
    "    return None"
   ]
  },
  {
   "cell_type": "code",
   "execution_count": 50,
   "metadata": {
    "ExecuteTime": {
     "end_time": "2024-05-20T23:01:19.643734Z",
     "start_time": "2024-05-20T23:01:19.623487Z"
    }
   },
   "outputs": [],
   "source": [
    "def recommend_songs(query):\n",
    "    user_song_title = query\n",
    "    song_id = get_song_id(user_song_title)\n",
    "\n",
    "    if song_id is not None:\n",
    "        user_song_embed = model.wv[str(song_id)]\n",
    "        distances, indices = nearestNeighborSelector.kneighbors([user_song_embed])\n",
    "        print(\"Similar songs:\")\n",
    "        similar_songs_df = music_dataset.loc[indices[0]]\n",
    "        display(similar_songs_df)\n",
    "    else:\n",
    "        print(\"Song not found in the dataset.\")"
   ]
  },
  {
   "cell_type": "code",
   "execution_count": 51,
   "metadata": {
    "ExecuteTime": {
     "end_time": "2024-05-20T23:01:22.586568Z",
     "start_time": "2024-05-20T23:01:22.566599Z"
    }
   },
   "outputs": [],
   "source": [
    "def recommend_songs_by_query(query_type, query):\n",
    "    filtered_music_df = music_dataset[music_dataset[query_type].astype(str).str.lower() == str(query).lower()]\n",
    "    \n",
    "    if len(filtered_music_df) > 0:\n",
    "        chosen_song = filtered_music_df.sample(n=1)\n",
    "        recommend_songs(chosen_song[SONG_TITLE_COLUMN].iloc[0])\n",
    "    else:\n",
    "        print(\"No songs found.\")"
   ]
  },
  {
   "cell_type": "markdown",
   "metadata": {},
   "source": [
    "#### User Interface"
   ]
  },
  {
   "cell_type": "code",
   "execution_count": 96,
   "metadata": {
    "ExecuteTime": {
     "end_time": "2024-05-21T00:05:45.902911Z",
     "start_time": "2024-05-21T00:05:35.180878Z"
    }
   },
   "outputs": [
    {
     "name": "stdout",
     "output_type": "stream",
     "text": [
      "Query by: song_title, artist_name, decade, country, term (genre), or year\n",
      "Similar songs:\n"
     ]
    },
    {
     "data": {
      "text/plain": "                            song_title  year           release    tempo  \\\n166                You Got Me Knockin'  1999      Supernatural   78.721   \n292    I Regret (Live) (Album Version)  1999         1989-1999  140.939   \n485                Singing In My Sleep  1990   Submarine Bells  123.947   \n714                    Dem Rebens Tanz  1999  Heart Of Klezmer  171.617   \n993                   Keep Comin' Back  1995        Souled Out  110.242   \n115  In-A-Gadda-Da-Vida (Live Version)  1995              Live  130.526   \n\n     loudness    duration  song_hotttnesss          artist_name  \\\n166   -12.246   370.72934         0.473347          Robben Ford   \n292    -3.834   264.88118         0.334419        Life Of Agony   \n485   -10.333   160.49587         0.542899           The Chills   \n714   -14.711   189.12608         0.000000  Ot Azoj Klezmerband   \n993    -6.332   227.10812         0.642189       Tower Of Power   \n115   -18.285  1129.45587         0.634759       Iron Butterfly   \n\n     artist_hotttnesss  artist_familiarity              term  \\\n166           0.383877            0.604820        blues-rock   \n292           0.397484            0.667077       post-grunge   \n485           0.383653            0.550724          pop rock   \n714           0.335415            0.370594           klezmer   \n993           0.413751            0.645518       quiet storm   \n115           0.420252            0.675618  psychedelic rock   \n\n                      country  decade  \n166  United States of America    1990  \n292  United States of America    1990  \n485               New Zealand    1990  \n714               Netherlands    1990  \n993  United States of America    1990  \n115  United States of America    1990  ",
      "text/html": "<div>\n<style scoped>\n    .dataframe tbody tr th:only-of-type {\n        vertical-align: middle;\n    }\n\n    .dataframe tbody tr th {\n        vertical-align: top;\n    }\n\n    .dataframe thead th {\n        text-align: right;\n    }\n</style>\n<table border=\"1\" class=\"dataframe\">\n  <thead>\n    <tr style=\"text-align: right;\">\n      <th></th>\n      <th>song_title</th>\n      <th>year</th>\n      <th>release</th>\n      <th>tempo</th>\n      <th>loudness</th>\n      <th>duration</th>\n      <th>song_hotttnesss</th>\n      <th>artist_name</th>\n      <th>artist_hotttnesss</th>\n      <th>artist_familiarity</th>\n      <th>term</th>\n      <th>country</th>\n      <th>decade</th>\n    </tr>\n  </thead>\n  <tbody>\n    <tr>\n      <th>166</th>\n      <td>You Got Me Knockin'</td>\n      <td>1999</td>\n      <td>Supernatural</td>\n      <td>78.721</td>\n      <td>-12.246</td>\n      <td>370.72934</td>\n      <td>0.473347</td>\n      <td>Robben Ford</td>\n      <td>0.383877</td>\n      <td>0.604820</td>\n      <td>blues-rock</td>\n      <td>United States of America</td>\n      <td>1990</td>\n    </tr>\n    <tr>\n      <th>292</th>\n      <td>I Regret (Live) (Album Version)</td>\n      <td>1999</td>\n      <td>1989-1999</td>\n      <td>140.939</td>\n      <td>-3.834</td>\n      <td>264.88118</td>\n      <td>0.334419</td>\n      <td>Life Of Agony</td>\n      <td>0.397484</td>\n      <td>0.667077</td>\n      <td>post-grunge</td>\n      <td>United States of America</td>\n      <td>1990</td>\n    </tr>\n    <tr>\n      <th>485</th>\n      <td>Singing In My Sleep</td>\n      <td>1990</td>\n      <td>Submarine Bells</td>\n      <td>123.947</td>\n      <td>-10.333</td>\n      <td>160.49587</td>\n      <td>0.542899</td>\n      <td>The Chills</td>\n      <td>0.383653</td>\n      <td>0.550724</td>\n      <td>pop rock</td>\n      <td>New Zealand</td>\n      <td>1990</td>\n    </tr>\n    <tr>\n      <th>714</th>\n      <td>Dem Rebens Tanz</td>\n      <td>1999</td>\n      <td>Heart Of Klezmer</td>\n      <td>171.617</td>\n      <td>-14.711</td>\n      <td>189.12608</td>\n      <td>0.000000</td>\n      <td>Ot Azoj Klezmerband</td>\n      <td>0.335415</td>\n      <td>0.370594</td>\n      <td>klezmer</td>\n      <td>Netherlands</td>\n      <td>1990</td>\n    </tr>\n    <tr>\n      <th>993</th>\n      <td>Keep Comin' Back</td>\n      <td>1995</td>\n      <td>Souled Out</td>\n      <td>110.242</td>\n      <td>-6.332</td>\n      <td>227.10812</td>\n      <td>0.642189</td>\n      <td>Tower Of Power</td>\n      <td>0.413751</td>\n      <td>0.645518</td>\n      <td>quiet storm</td>\n      <td>United States of America</td>\n      <td>1990</td>\n    </tr>\n    <tr>\n      <th>115</th>\n      <td>In-A-Gadda-Da-Vida (Live Version)</td>\n      <td>1995</td>\n      <td>Live</td>\n      <td>130.526</td>\n      <td>-18.285</td>\n      <td>1129.45587</td>\n      <td>0.634759</td>\n      <td>Iron Butterfly</td>\n      <td>0.420252</td>\n      <td>0.675618</td>\n      <td>psychedelic rock</td>\n      <td>United States of America</td>\n      <td>1990</td>\n    </tr>\n  </tbody>\n</table>\n</div>"
     },
     "metadata": {},
     "output_type": "display_data"
    }
   ],
   "source": [
    "try:\n",
    "    print(\"Query by: song_title, artist_name, decade, country, term (genre), or year\")\n",
    "    query_type = int(input(\"\"\"Enter your query type (provide number only): \n",
    "    1 -> song_title\n",
    "    2 -> artist_name\n",
    "    3 -> decade\n",
    "    4 -> country\n",
    "    5 -> term (genre)\n",
    "    6 -> year\n",
    "    \"\"\"))\n",
    "    \n",
    "    query_type = 'song_title' if query_type == 1 else 'artist_name' if query_type == 2 else 'decade' if query_type == 3 else 'country' if query_type == 4 else 'term' if query_type == 5 else 'year'\n",
    "    \n",
    "    query = input(f\"Enter value for the {'song title' if query_type == 1 else 'artist name' if query_type == 2 else 'decade' if query_type == 3 else 'country' if query_type == 4 else 'term' if query_type == 5 else 'year'}\")\n",
    "\n",
    "    if query_type == 'song_title':\n",
    "        recommend_songs(query)\n",
    "    else:\n",
    "        recommend_songs_by_query(query_type, query)\n",
    "except ValueError as ex:\n",
    "    print('Please provide valid input')"
   ]
  },
  {
   "cell_type": "markdown",
   "metadata": {},
   "source": [
    "Shartil: here is a demo code that shows distance between the original song and song  recommendation"
   ]
  },
  {
   "cell_type": "code",
   "execution_count": 37,
   "metadata": {
    "ExecuteTime": {
     "end_time": "2024-05-20T22:48:18.126184Z",
     "start_time": "2024-05-20T22:48:17.585841Z"
    }
   },
   "outputs": [
    {
     "ename": "Exception",
     "evalue": "",
     "output_type": "error",
     "traceback": [
      "\u001B[0;31m---------------------------------------------------------------------------\u001B[0m",
      "\u001B[0;31mException\u001B[0m                                 Traceback (most recent call last)",
      "Cell \u001B[0;32mIn[37], line 2\u001B[0m\n\u001B[1;32m      1\u001B[0m \u001B[38;5;66;03m# this is just a stop Exception\u001B[39;00m\n\u001B[0;32m----> 2\u001B[0m \u001B[38;5;28;01mraise\u001B[39;00m \u001B[38;5;167;01mException\u001B[39;00m\n",
      "\u001B[0;31mException\u001B[0m: "
     ]
    }
   ],
   "source": [
    "# this is just a stop Exception\n",
    "raise Exception"
   ]
  },
  {
   "cell_type": "code",
   "execution_count": 38,
   "metadata": {
    "ExecuteTime": {
     "end_time": "2024-05-20T22:48:42.058498Z",
     "start_time": "2024-05-20T22:48:42.034188Z"
    }
   },
   "outputs": [
    {
     "data": {
      "text/plain": "array([-0.14834417, -0.04340413,  0.29379237,  0.25876933,  0.04552229,\n       -0.19913995,  0.0175029 ,  0.16461599, -0.5745348 , -0.20134705,\n        0.32565764,  0.06381766,  0.08708382, -0.10140607, -0.453728  ,\n       -0.6084779 , -0.37326592,  0.12651686, -0.37113824,  0.7757135 ,\n       -0.21295469, -0.21407068,  0.19126421, -0.270584  ,  0.19175011,\n        0.8450865 , -0.09246229,  0.152307  , -0.22552314, -0.08106352,\n       -0.01758423, -0.1385667 , -0.22526354, -0.48180246,  0.2965578 ,\n        0.20272727, -0.10850181,  0.1021373 ,  0.34985787,  0.46243823,\n        0.26167014, -0.29367885, -0.27553043,  0.00683417, -0.22196998,\n       -0.30624744, -0.00233509, -0.06690075, -0.37612522,  0.4113861 ,\n        0.06500415,  0.55980045, -0.02357988,  0.7179071 ,  0.33129838,\n        0.07126696, -0.01304819, -0.6027151 , -0.07119231,  0.30707252,\n       -0.10202857,  0.55426854, -0.6492725 , -0.22595127], dtype=float32)"
     },
     "execution_count": 38,
     "metadata": {},
     "output_type": "execute_result"
    }
   ],
   "source": [
    "# first insert an original song ID, like \"166\"\n",
    "user_song = \"166\"\n",
    "user_song_embed = model.wv[user_song]\n",
    "user_song_embed"
   ]
  },
  {
   "cell_type": "code",
   "execution_count": 39,
   "metadata": {
    "ExecuteTime": {
     "end_time": "2024-05-20T22:48:43.878350Z",
     "start_time": "2024-05-20T22:48:43.860465Z"
    }
   },
   "outputs": [
    {
     "name": "stdout",
     "output_type": "stream",
     "text": [
      "1007\n",
      "(1007, 64)\n"
     ]
    }
   ],
   "source": [
    "nodes = list(music_graph.nodes())\n",
    "print(len(nodes)) # print for debug reasons\n",
    "\n",
    "embeddings = np.array([model.wv[str(node)] for node in nodes])\n",
    "print(embeddings.shape) # print for debug reasons"
   ]
  },
  {
   "cell_type": "code",
   "execution_count": 40,
   "metadata": {
    "ExecuteTime": {
     "end_time": "2024-05-20T22:48:45.324628Z",
     "start_time": "2024-05-20T22:48:45.229047Z"
    }
   },
   "outputs": [
    {
     "name": "stdout",
     "output_type": "stream",
     "text": [
      "[[0.         0.27287593 0.27780417 0.2895647  0.29006833 0.29313412]]\n",
      "[[166 292 485 714 993 115]]\n"
     ]
    }
   ],
   "source": [
    "# current song + 5 other\n",
    "nearestNeighborSelector = NearestNeighbors(n_neighbors=6).fit(embeddings)\n",
    "distances, indices = nearestNeighborSelector.kneighbors([user_song_embed])\n",
    "\n",
    "# print for debug reasons\n",
    "print(distances)\n",
    "print(indices)"
   ]
  },
  {
   "cell_type": "code",
   "execution_count": 41,
   "metadata": {
    "ExecuteTime": {
     "end_time": "2024-05-20T22:50:26.029350Z",
     "start_time": "2024-05-20T22:50:25.949419Z"
    }
   },
   "outputs": [
    {
     "data": {
      "text/plain": "                            song_title  year           release    tempo  \\\n166                You Got Me Knockin'  1999      Supernatural   78.721   \n292    I Regret (Live) (Album Version)  1999         1989-1999  140.939   \n485                Singing In My Sleep  1990   Submarine Bells  123.947   \n714                    Dem Rebens Tanz  1999  Heart Of Klezmer  171.617   \n993                   Keep Comin' Back  1995        Souled Out  110.242   \n115  In-A-Gadda-Da-Vida (Live Version)  1995              Live  130.526   \n\n    loudness    duration song_hotttnesss          artist_name  \\\n166  -12.246   370.72934        0.473347          Robben Ford   \n292   -3.834   264.88118        0.334419        Life Of Agony   \n485  -10.333   160.49587        0.542899           The Chills   \n714  -14.711   189.12608             0.0  Ot Azoj Klezmerband   \n993   -6.332   227.10812        0.642189       Tower Of Power   \n115  -18.285  1129.45587        0.634759       Iron Butterfly   \n\n    artist_hotttnesss artist_familiarity              term  \\\n166          0.383877            0.60482        blues-rock   \n292          0.397484           0.667077       post-grunge   \n485          0.383653           0.550724          pop rock   \n714          0.335415           0.370594           klezmer   \n993          0.413751           0.645518       quiet storm   \n115          0.420252           0.675618  psychedelic rock   \n\n                      country decade  \n166  United States of America   1990  \n292  United States of America   1990  \n485               New Zealand   1990  \n714               Netherlands   1990  \n993  United States of America   1990  \n115  United States of America   1990  ",
      "text/html": "<div>\n<style scoped>\n    .dataframe tbody tr th:only-of-type {\n        vertical-align: middle;\n    }\n\n    .dataframe tbody tr th {\n        vertical-align: top;\n    }\n\n    .dataframe thead th {\n        text-align: right;\n    }\n</style>\n<table border=\"1\" class=\"dataframe\">\n  <thead>\n    <tr style=\"text-align: right;\">\n      <th></th>\n      <th>song_title</th>\n      <th>year</th>\n      <th>release</th>\n      <th>tempo</th>\n      <th>loudness</th>\n      <th>duration</th>\n      <th>song_hotttnesss</th>\n      <th>artist_name</th>\n      <th>artist_hotttnesss</th>\n      <th>artist_familiarity</th>\n      <th>term</th>\n      <th>country</th>\n      <th>decade</th>\n    </tr>\n  </thead>\n  <tbody>\n    <tr>\n      <th>166</th>\n      <td>You Got Me Knockin'</td>\n      <td>1999</td>\n      <td>Supernatural</td>\n      <td>78.721</td>\n      <td>-12.246</td>\n      <td>370.72934</td>\n      <td>0.473347</td>\n      <td>Robben Ford</td>\n      <td>0.383877</td>\n      <td>0.60482</td>\n      <td>blues-rock</td>\n      <td>United States of America</td>\n      <td>1990</td>\n    </tr>\n    <tr>\n      <th>292</th>\n      <td>I Regret (Live) (Album Version)</td>\n      <td>1999</td>\n      <td>1989-1999</td>\n      <td>140.939</td>\n      <td>-3.834</td>\n      <td>264.88118</td>\n      <td>0.334419</td>\n      <td>Life Of Agony</td>\n      <td>0.397484</td>\n      <td>0.667077</td>\n      <td>post-grunge</td>\n      <td>United States of America</td>\n      <td>1990</td>\n    </tr>\n    <tr>\n      <th>485</th>\n      <td>Singing In My Sleep</td>\n      <td>1990</td>\n      <td>Submarine Bells</td>\n      <td>123.947</td>\n      <td>-10.333</td>\n      <td>160.49587</td>\n      <td>0.542899</td>\n      <td>The Chills</td>\n      <td>0.383653</td>\n      <td>0.550724</td>\n      <td>pop rock</td>\n      <td>New Zealand</td>\n      <td>1990</td>\n    </tr>\n    <tr>\n      <th>714</th>\n      <td>Dem Rebens Tanz</td>\n      <td>1999</td>\n      <td>Heart Of Klezmer</td>\n      <td>171.617</td>\n      <td>-14.711</td>\n      <td>189.12608</td>\n      <td>0.0</td>\n      <td>Ot Azoj Klezmerband</td>\n      <td>0.335415</td>\n      <td>0.370594</td>\n      <td>klezmer</td>\n      <td>Netherlands</td>\n      <td>1990</td>\n    </tr>\n    <tr>\n      <th>993</th>\n      <td>Keep Comin' Back</td>\n      <td>1995</td>\n      <td>Souled Out</td>\n      <td>110.242</td>\n      <td>-6.332</td>\n      <td>227.10812</td>\n      <td>0.642189</td>\n      <td>Tower Of Power</td>\n      <td>0.413751</td>\n      <td>0.645518</td>\n      <td>quiet storm</td>\n      <td>United States of America</td>\n      <td>1990</td>\n    </tr>\n    <tr>\n      <th>115</th>\n      <td>In-A-Gadda-Da-Vida (Live Version)</td>\n      <td>1995</td>\n      <td>Live</td>\n      <td>130.526</td>\n      <td>-18.285</td>\n      <td>1129.45587</td>\n      <td>0.634759</td>\n      <td>Iron Butterfly</td>\n      <td>0.420252</td>\n      <td>0.675618</td>\n      <td>psychedelic rock</td>\n      <td>United States of America</td>\n      <td>1990</td>\n    </tr>\n  </tbody>\n</table>\n</div>"
     },
     "execution_count": 41,
     "metadata": {},
     "output_type": "execute_result"
    }
   ],
   "source": [
    "song_output = []\n",
    "\n",
    "for current_index in indices[0]:\n",
    "    current_row = music_dataset.loc[current_index]\n",
    "    song_output.append(current_row)\n",
    "\n",
    "pd.concat(song_output, axis=1).T"
   ]
  }
 ],
 "metadata": {
  "kernelspec": {
   "display_name": "Python 3.10.5 64-bit",
   "language": "python",
   "name": "python3"
  },
  "language_info": {
   "codemirror_mode": {
    "name": "ipython",
    "version": 3
   },
   "file_extension": ".py",
   "mimetype": "text/x-python",
   "name": "python",
   "nbconvert_exporter": "python",
   "pygments_lexer": "ipython3",
   "version": "3.12.0"
  },
  "orig_nbformat": 4,
  "vscode": {
   "interpreter": {
    "hash": "3a5cfde8991b0f64e8bcd60a397bea8dc10ed042aefe1441fd3daa2ae2091421"
   }
  }
 },
 "nbformat": 4,
 "nbformat_minor": 2
}
