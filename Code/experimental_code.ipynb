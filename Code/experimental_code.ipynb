{
 "cells": [
  {
   "cell_type": "markdown",
   "metadata": {},
   "source": [
    "Pip Install Commands"
   ]
  },
  {
   "cell_type": "code",
   "execution_count": 1,
   "metadata": {},
   "outputs": [
    {
     "name": "stdout",
     "output_type": "stream",
     "text": [
      "Requirement already satisfied: shapely in w:\\program files\\python310\\lib\\site-packages (2.0.3)Note: you may need to restart the kernel to use updated packages.\n",
      "\n",
      "Requirement already satisfied: numpy<2,>=1.14 in w:\\program files\\python310\\lib\\site-packages (from shapely) (1.26.1)\n",
      "\n",
      "[notice] A new release of pip available: 22.1.2 -> 24.0\n",
      "[notice] To update, run: python.exe -m pip install --upgrade pip\n"
     ]
    },
    {
     "name": "stderr",
     "output_type": "stream",
     "text": [
      "WARNING: Ignoring invalid distribution -ensorflow-intel (w:\\program files\\python310\\lib\\site-packages)\n",
      "WARNING: Ignoring invalid distribution -ensorflow-intel (w:\\program files\\python310\\lib\\site-packages)\n",
      "WARNING: Ignoring invalid distribution -ensorflow-intel (w:\\program files\\python310\\lib\\site-packages)\n",
      "WARNING: Ignoring invalid distribution -ensorflow-intel (w:\\program files\\python310\\lib\\site-packages)\n",
      "WARNING: Ignoring invalid distribution -ensorflow-intel (w:\\program files\\python310\\lib\\site-packages)\n",
      "WARNING: Ignoring invalid distribution -ensorflow-intel (w:\\program files\\python310\\lib\\site-packages)\n"
     ]
    }
   ],
   "source": [
    "%pip install shapely"
   ]
  },
  {
   "cell_type": "markdown",
   "metadata": {},
   "source": [
    "Libraries"
   ]
  },
  {
   "cell_type": "code",
   "execution_count": 2,
   "metadata": {
    "ExecuteTime": {
     "end_time": "2024-05-09T19:53:33.841392Z",
     "start_time": "2024-05-09T19:53:33.832597Z"
    }
   },
   "outputs": [],
   "source": [
    "import os\n",
    "import json\n",
    "import requests\n",
    "import numpy as np\n",
    "import pandas as pd\n",
    "import networkx as nx\n",
    "import matplotlib.pyplot as plt\n",
    "from shapely.prepared import prep\n",
    "from shapely.geometry import mapping, shape, Point"
   ]
  },
  {
   "cell_type": "markdown",
   "metadata": {},
   "source": [
    "Const Values"
   ]
  },
  {
   "cell_type": "code",
   "execution_count": 3,
   "metadata": {
    "ExecuteTime": {
     "end_time": "2024-05-09T19:53:36.560103Z",
     "start_time": "2024-05-09T19:53:36.548771Z"
    }
   },
   "outputs": [],
   "source": [
    "YEAR_COLUMN = \"year\"\n",
    "TEMPO_COLUMN = \"tempo\"\n",
    "LOUDNESS_COLUMN = \"loudness\"\n",
    "DURATION_COLUMN = \"duration\"\n",
    "SONG_HOTTTNESSS_COLUMN = \"song_hotttnesss\"\n",
    "ARTIST_HOTTTNESSS_COLUMN = \"artist_hotttnesss\"\n",
    "ARTIST_FAMILIARITY_COLUMN = \"artist_familiarity\"\n",
    "DECADE_COLUMN = \"decade\"\n",
    "\n",
    "NUMERIC_COLUMNS_LIST = [\n",
    "    YEAR_COLUMN,\n",
    "    TEMPO_COLUMN,\n",
    "    LOUDNESS_COLUMN,\n",
    "    DURATION_COLUMN,\n",
    "    SONG_HOTTTNESSS_COLUMN,\n",
    "    ARTIST_HOTTTNESSS_COLUMN,\n",
    "    ARTIST_FAMILIARITY_COLUMN,\n",
    "    DECADE_COLUMN\n",
    "]\n",
    "\n",
    "SONG_TITLE_COLUMN = \"song_title\"\n",
    "COUNTRY_COLUMN = \"country\"\n",
    "ARTIST_LONGITUDE_COLUMN = \"artist_longitude\"\n",
    "ARTIST_LATITUDE_COLUMN = \"artist_latitude\"\n",
    "ARTIST_LOCATION_COLUMN = \"artist_location\"\n",
    "ARTIST_ID_COLUMN = \"artist_id\"\n",
    "SONG_ID_COLUMN = \"song_id\"\n",
    "\n",
    "UNKNOWN_COUNTRY_VALUE = \"unknown\"\n",
    "MUSIC_DATA_FOLDER_PATH = \"../Music Data/\""
   ]
  },
  {
   "cell_type": "markdown",
   "metadata": {},
   "source": [
    "Loading Songs & Artists datasets"
   ]
  },
  {
   "cell_type": "code",
   "execution_count": 4,
   "metadata": {
    "ExecuteTime": {
     "end_time": "2024-05-09T20:11:28.034833Z",
     "start_time": "2024-05-09T20:11:24.011951Z"
    }
   },
   "outputs": [],
   "source": [
    "raw_songs_dataset = pd.read_csv(\"../Data/songs_dataset.csv\")\n",
    "raw_artists_dataset = pd.read_csv(\"../Data/artist_terms.csv\")"
   ]
  },
  {
   "cell_type": "markdown",
   "metadata": {
    "collapsed": false
   },
   "source": [
    "Riaz: Merging datasets based on artist_id<br>\n",
    "In the following cell i am removing the duplicate rows based on `artist_id` and only keep the first record"
   ]
  },
  {
   "cell_type": "code",
   "execution_count": 5,
   "metadata": {
    "ExecuteTime": {
     "end_time": "2024-05-09T21:07:59.142766Z",
     "start_time": "2024-05-09T21:07:59.126261Z"
    },
    "collapsed": false
   },
   "outputs": [],
   "source": [
    "# Remove duplicates from the artist dataset based on artist_id\n",
    "raw_artists_dataset = raw_artists_dataset.drop_duplicates(subset=ARTIST_ID_COLUMN, keep='first')\n",
    "\n",
    "# Merge the datasets on artist_id\n",
    "raw_music_dataset = pd.merge(raw_songs_dataset, raw_artists_dataset, on=ARTIST_ID_COLUMN, how='left')"
   ]
  },
  {
   "cell_type": "markdown",
   "metadata": {
    "collapsed": false
   },
   "source": [
    "In the above cell i merged the datasets based on artist_id and merge was on left join:\n",
    "When you specify how='left', it means that all the keys from the left dataframe (in this case, the raw_songs_dataset dataframe) will be included in the merged dataframe, and only the matching keys from the right dataframe (in this case, the artist_dataset dataframe) will be added.\n",
    "\n",
    "In other words:\n",
    "\n",
    "All rows from the left dataframe (raw_songs_dataset) are retained.\n",
    "If there are matching keys (in this case, artist_id) in the right dataframe (artist_dataset), the corresponding data from the right dataframe will be added to the merged dataframe.\n",
    "If there are no matching keys in the right dataframe, the corresponding columns in the merged dataframe will be filled with NaN (missing values)."
   ]
  },
  {
   "cell_type": "code",
   "execution_count": 6,
   "metadata": {
    "ExecuteTime": {
     "end_time": "2024-05-09T21:13:30.414596Z",
     "start_time": "2024-05-09T21:13:30.405029Z"
    },
    "collapsed": false
   },
   "outputs": [
    {
     "data": {
      "text/html": [
       "<div>\n",
       "<style scoped>\n",
       "    .dataframe tbody tr th:only-of-type {\n",
       "        vertical-align: middle;\n",
       "    }\n",
       "\n",
       "    .dataframe tbody tr th {\n",
       "        vertical-align: top;\n",
       "    }\n",
       "\n",
       "    .dataframe thead th {\n",
       "        text-align: right;\n",
       "    }\n",
       "</style>\n",
       "<table border=\"1\" class=\"dataframe\">\n",
       "  <thead>\n",
       "    <tr style=\"text-align: right;\">\n",
       "      <th></th>\n",
       "      <th>song_id</th>\n",
       "      <th>song_title</th>\n",
       "      <th>year</th>\n",
       "      <th>release</th>\n",
       "      <th>tempo</th>\n",
       "      <th>loudness</th>\n",
       "      <th>duration</th>\n",
       "      <th>song_hotttnesss</th>\n",
       "      <th>artist_id</th>\n",
       "      <th>artist_name</th>\n",
       "      <th>artist_latitude</th>\n",
       "      <th>artist_longitude</th>\n",
       "      <th>artist_location</th>\n",
       "      <th>artist_hotttnesss</th>\n",
       "      <th>artist_familiarity</th>\n",
       "      <th>term</th>\n",
       "    </tr>\n",
       "  </thead>\n",
       "  <tbody>\n",
       "    <tr>\n",
       "      <th>0</th>\n",
       "      <td>SOVFVAK12A8C1350D9</td>\n",
       "      <td>Tanssi vaan</td>\n",
       "      <td>1995.0</td>\n",
       "      <td>Karkuteillä</td>\n",
       "      <td>150.778</td>\n",
       "      <td>-10.555</td>\n",
       "      <td>156.55138</td>\n",
       "      <td>0.299877</td>\n",
       "      <td>ARMVN3U1187FB3A1EB</td>\n",
       "      <td>Karkkiautomaatti</td>\n",
       "      <td>NaN</td>\n",
       "      <td>NaN</td>\n",
       "      <td>NaN</td>\n",
       "      <td>0.356992</td>\n",
       "      <td>0.439604</td>\n",
       "      <td>pop rock</td>\n",
       "    </tr>\n",
       "    <tr>\n",
       "      <th>1</th>\n",
       "      <td>SOGTUKN12AB017F4F1</td>\n",
       "      <td>No One Could Ever</td>\n",
       "      <td>2006.0</td>\n",
       "      <td>Butter</td>\n",
       "      <td>177.768</td>\n",
       "      <td>-2.060</td>\n",
       "      <td>138.97098</td>\n",
       "      <td>0.617871</td>\n",
       "      <td>ARGEKB01187FB50750</td>\n",
       "      <td>Hudson Mohawke</td>\n",
       "      <td>55.8578</td>\n",
       "      <td>-4.24251</td>\n",
       "      <td>Glasgow, Scotland</td>\n",
       "      <td>0.437504</td>\n",
       "      <td>0.643681</td>\n",
       "      <td>broken beat</td>\n",
       "    </tr>\n",
       "    <tr>\n",
       "      <th>2</th>\n",
       "      <td>SOBNYVR12A8C13558C</td>\n",
       "      <td>Si Vos Querés</td>\n",
       "      <td>2003.0</td>\n",
       "      <td>De Culo</td>\n",
       "      <td>87.433</td>\n",
       "      <td>-4.654</td>\n",
       "      <td>145.05751</td>\n",
       "      <td>NaN</td>\n",
       "      <td>ARNWYLR1187B9B2F9C</td>\n",
       "      <td>Yerba Brava</td>\n",
       "      <td>NaN</td>\n",
       "      <td>NaN</td>\n",
       "      <td>NaN</td>\n",
       "      <td>0.372349</td>\n",
       "      <td>0.448501</td>\n",
       "      <td>cumbia</td>\n",
       "    </tr>\n",
       "    <tr>\n",
       "      <th>3</th>\n",
       "      <td>SOHSBXH12A8C13B0DF</td>\n",
       "      <td>Tangle Of Aspens</td>\n",
       "      <td>NaN</td>\n",
       "      <td>Rene Ablaze Presents Winter Sessions</td>\n",
       "      <td>140.035</td>\n",
       "      <td>-7.806</td>\n",
       "      <td>514.29832</td>\n",
       "      <td>NaN</td>\n",
       "      <td>AREQDTE1269FB37231</td>\n",
       "      <td>Der Mystic</td>\n",
       "      <td>NaN</td>\n",
       "      <td>NaN</td>\n",
       "      <td>NaN</td>\n",
       "      <td>0.000000</td>\n",
       "      <td>0.000000</td>\n",
       "      <td>hard trance</td>\n",
       "    </tr>\n",
       "    <tr>\n",
       "      <th>4</th>\n",
       "      <td>SOZVAPQ12A8C13B63C</td>\n",
       "      <td>Symphony No. 1 G minor \"Sinfonie Serieuse\"/All...</td>\n",
       "      <td>NaN</td>\n",
       "      <td>Berwald: Symphonies Nos. 1/2/3/4</td>\n",
       "      <td>90.689</td>\n",
       "      <td>-21.420</td>\n",
       "      <td>816.53506</td>\n",
       "      <td>NaN</td>\n",
       "      <td>AR2NS5Y1187FB5879D</td>\n",
       "      <td>David Montgomery</td>\n",
       "      <td>NaN</td>\n",
       "      <td>NaN</td>\n",
       "      <td>NaN</td>\n",
       "      <td>0.109626</td>\n",
       "      <td>0.361287</td>\n",
       "      <td>ragtime</td>\n",
       "    </tr>\n",
       "  </tbody>\n",
       "</table>\n",
       "</div>"
      ],
      "text/plain": [
       "              song_id                                         song_title  \\\n",
       "0  SOVFVAK12A8C1350D9                                        Tanssi vaan   \n",
       "1  SOGTUKN12AB017F4F1                                  No One Could Ever   \n",
       "2  SOBNYVR12A8C13558C                                      Si Vos Querés   \n",
       "3  SOHSBXH12A8C13B0DF                                   Tangle Of Aspens   \n",
       "4  SOZVAPQ12A8C13B63C  Symphony No. 1 G minor \"Sinfonie Serieuse\"/All...   \n",
       "\n",
       "     year                               release    tempo  loudness   duration  \\\n",
       "0  1995.0                           Karkuteillä  150.778   -10.555  156.55138   \n",
       "1  2006.0                                Butter  177.768    -2.060  138.97098   \n",
       "2  2003.0                               De Culo   87.433    -4.654  145.05751   \n",
       "3     NaN  Rene Ablaze Presents Winter Sessions  140.035    -7.806  514.29832   \n",
       "4     NaN      Berwald: Symphonies Nos. 1/2/3/4   90.689   -21.420  816.53506   \n",
       "\n",
       "   song_hotttnesss           artist_id       artist_name  artist_latitude  \\\n",
       "0         0.299877  ARMVN3U1187FB3A1EB  Karkkiautomaatti              NaN   \n",
       "1         0.617871  ARGEKB01187FB50750    Hudson Mohawke          55.8578   \n",
       "2              NaN  ARNWYLR1187B9B2F9C       Yerba Brava              NaN   \n",
       "3              NaN  AREQDTE1269FB37231        Der Mystic              NaN   \n",
       "4              NaN  AR2NS5Y1187FB5879D  David Montgomery              NaN   \n",
       "\n",
       "   artist_longitude    artist_location  artist_hotttnesss  artist_familiarity  \\\n",
       "0               NaN                NaN           0.356992            0.439604   \n",
       "1          -4.24251  Glasgow, Scotland           0.437504            0.643681   \n",
       "2               NaN                NaN           0.372349            0.448501   \n",
       "3               NaN                NaN           0.000000            0.000000   \n",
       "4               NaN                NaN           0.109626            0.361287   \n",
       "\n",
       "          term  \n",
       "0     pop rock  \n",
       "1  broken beat  \n",
       "2       cumbia  \n",
       "3  hard trance  \n",
       "4      ragtime  "
      ]
     },
     "execution_count": 6,
     "metadata": {},
     "output_type": "execute_result"
    }
   ],
   "source": [
    "raw_music_dataset.head()"
   ]
  },
  {
   "cell_type": "code",
   "execution_count": 7,
   "metadata": {},
   "outputs": [
    {
     "data": {
      "text/plain": [
       "song_id                    0\n",
       "song_title                 2\n",
       "year                  484270\n",
       "release                    7\n",
       "tempo                      0\n",
       "loudness                   0\n",
       "duration                   0\n",
       "song_hotttnesss       417782\n",
       "artist_id                  0\n",
       "artist_name                0\n",
       "artist_latitude       641766\n",
       "artist_longitude      641766\n",
       "artist_location       487546\n",
       "artist_hotttnesss         12\n",
       "artist_familiarity       185\n",
       "term                    3767\n",
       "dtype: int64"
      ]
     },
     "execution_count": 7,
     "metadata": {},
     "output_type": "execute_result"
    }
   ],
   "source": [
    "raw_music_dataset.isna().sum()"
   ]
  },
  {
   "cell_type": "code",
   "execution_count": 8,
   "metadata": {},
   "outputs": [
    {
     "data": {
      "text/plain": [
       "2677103"
      ]
     },
     "execution_count": 8,
     "metadata": {},
     "output_type": "execute_result"
    }
   ],
   "source": [
    "raw_music_dataset.isna().sum().sum()"
   ]
  },
  {
   "cell_type": "markdown",
   "metadata": {},
   "source": [
    "Shartil: For now I am going to delete all rows with missing data."
   ]
  },
  {
   "cell_type": "code",
   "execution_count": 9,
   "metadata": {},
   "outputs": [],
   "source": [
    "music_dataset = raw_music_dataset.dropna()"
   ]
  },
  {
   "cell_type": "code",
   "execution_count": 10,
   "metadata": {},
   "outputs": [
    {
     "data": {
      "text/plain": [
       "126903"
      ]
     },
     "execution_count": 10,
     "metadata": {},
     "output_type": "execute_result"
    }
   ],
   "source": [
    "len(music_dataset)"
   ]
  },
  {
   "cell_type": "markdown",
   "metadata": {},
   "source": [
    "Shartil: Evenly selecing over 1000 songs, and saving them as the final dataframe"
   ]
  },
  {
   "cell_type": "code",
   "execution_count": 11,
   "metadata": {},
   "outputs": [
    {
     "name": "stdout",
     "output_type": "stream",
     "text": [
      "(126903, 16)\n",
      "(1058, 16)\n"
     ]
    }
   ],
   "source": [
    "print(music_dataset.shape)\n",
    "\n",
    "music_dataset = music_dataset.iloc[::120] # returns dataframe with (1058, 13)\n",
    "\n",
    "print(music_dataset.shape)"
   ]
  },
  {
   "cell_type": "markdown",
   "metadata": {},
   "source": [
    "Najeeb: Introducing a new column \"country\" based on Latitude and Longitude."
   ]
  },
  {
   "cell_type": "markdown",
   "metadata": {},
   "source": [
    "This code is used to load geographical data from a Local GeoJSON file, process it, and subsequently determine which country a given set of Latitudes and Logitudes coordinates falls into. The country names extracted from GeoJSON file are then inserted into a new column in a dataset.\n",
    "\n",
    "- The \"json.load\" function reads the file and convert it into a Python dictionary ('geojson_data').\n",
    "\n",
    "- An Empty dictionary named 'countries' is initiated to store the coordinated data associated with each country.\n",
    "\n",
    "- The script iterates over each feature in the 'features' array of the 'geojson_data'. Each features represents a country.\n",
    "\n",
    "- For each feature, the geometry ('geom') and the administrative name of the country is extracted.\n",
    "\n",
    "- The geometry is then processed with a function 'prep' applied to 'shape(geom)'. This likely involves creating a geometric shape from the geometry data and preparing it for fast spatial queries. The processed geometry is dtored in the 'countries' dictionary with the country name as key.\n",
    "\n",
    "- A function 'get_country' is defined which takes longitudes ('lon') and latitude ('lat') as arguments and creates a ('Point') object from coordinates.\n",
    "\n",
    "- It then iterates  over the 'countries' dictionary and check whether the point is contained within any of the country geometrics using the 'contains' method of the geometry.\n",
    "\n",
    "- if a containing country is found, the function returns the country's name. if no containing country is found, it returns a value 'UNKNOWN_COUNTRY_VALUE'\n",
    "\n",
    "- A new column in the dataset ('msic_dataset') is populated by applying 'get_country' function to each row. In this way the country column is added to music_dataset based on latitude and logitude columns.\n"
   ]
  },
  {
   "cell_type": "code",
   "execution_count": 12,
   "metadata": {},
   "outputs": [],
   "source": [
    "# Fetch and process the geojson data from a local file\n",
    "with open(r'..\\Data\\countries.geojson.json', 'r') as file:\n",
    "    geojson_data = json.load(file)\n",
    "\n",
    "countries = {}\n",
    "for feature in geojson_data[\"features\"]:\n",
    "    geom = feature[\"geometry\"]\n",
    "    country = feature[\"properties\"][\"ADMIN\"]\n",
    "    countries[country] = prep(shape(geom))\n",
    "\n",
    "# Function to get country name from latitude and longitude\n",
    "def get_country(lon, lat):\n",
    "    point = Point(lon, lat)\n",
    "    for country, geom in countries.items():\n",
    "        if geom.contains(point):\n",
    "            return country\n",
    "\n",
    "    return UNKNOWN_COUNTRY_VALUE\n",
    "\n",
    "# Apply the function to create a new 'country' column\n",
    "music_dataset[COUNTRY_COLUMN] = music_dataset.apply(\n",
    "    lambda row: get_country(row[ARTIST_LONGITUDE_COLUMN], \n",
    "    row[ARTIST_LATITUDE_COLUMN]), \n",
    "    axis=1\n",
    "    )"
   ]
  },
  {
   "cell_type": "markdown",
   "metadata": {},
   "source": [
    "Shartil: Deleting redundant columns "
   ]
  },
  {
   "cell_type": "code",
   "execution_count": 13,
   "metadata": {},
   "outputs": [],
   "source": [
    "music_dataset = music_dataset.drop(\n",
    "    [\n",
    "        ARTIST_LATITUDE_COLUMN,\n",
    "        ARTIST_LONGITUDE_COLUMN,\n",
    "        ARTIST_LOCATION_COLUMN,\n",
    "        SONG_ID_COLUMN,\n",
    "        ARTIST_ID_COLUMN\n",
    "    ], \n",
    "    axis=1)"
   ]
  },
  {
   "cell_type": "markdown",
   "metadata": {},
   "source": [
    "Shartil: Deleting all rows with \"unknown\" as the country value"
   ]
  },
  {
   "cell_type": "code",
   "execution_count": 14,
   "metadata": {},
   "outputs": [],
   "source": [
    "music_dataset = music_dataset[music_dataset[COUNTRY_COLUMN] != UNKNOWN_COUNTRY_VALUE]"
   ]
  },
  {
   "cell_type": "code",
   "execution_count": 15,
   "metadata": {},
   "outputs": [
    {
     "data": {
      "text/html": [
       "<div>\n",
       "<style scoped>\n",
       "    .dataframe tbody tr th:only-of-type {\n",
       "        vertical-align: middle;\n",
       "    }\n",
       "\n",
       "    .dataframe tbody tr th {\n",
       "        vertical-align: top;\n",
       "    }\n",
       "\n",
       "    .dataframe thead th {\n",
       "        text-align: right;\n",
       "    }\n",
       "</style>\n",
       "<table border=\"1\" class=\"dataframe\">\n",
       "  <thead>\n",
       "    <tr style=\"text-align: right;\">\n",
       "      <th></th>\n",
       "      <th>song_title</th>\n",
       "      <th>year</th>\n",
       "      <th>release</th>\n",
       "      <th>tempo</th>\n",
       "      <th>loudness</th>\n",
       "      <th>duration</th>\n",
       "      <th>song_hotttnesss</th>\n",
       "      <th>artist_name</th>\n",
       "      <th>artist_hotttnesss</th>\n",
       "      <th>artist_familiarity</th>\n",
       "      <th>term</th>\n",
       "      <th>country</th>\n",
       "    </tr>\n",
       "  </thead>\n",
       "  <tbody>\n",
       "    <tr>\n",
       "      <th>0</th>\n",
       "      <td>No One Could Ever</td>\n",
       "      <td>2006.0</td>\n",
       "      <td>Butter</td>\n",
       "      <td>177.768</td>\n",
       "      <td>-2.060</td>\n",
       "      <td>138.97098</td>\n",
       "      <td>0.617871</td>\n",
       "      <td>Hudson Mohawke</td>\n",
       "      <td>0.437504</td>\n",
       "      <td>0.643681</td>\n",
       "      <td>broken beat</td>\n",
       "      <td>United Kingdom</td>\n",
       "    </tr>\n",
       "    <tr>\n",
       "      <th>1</th>\n",
       "      <td>Don't Save It All For Christmas Day</td>\n",
       "      <td>2004.0</td>\n",
       "      <td>Merry Christmas With Love</td>\n",
       "      <td>127.397</td>\n",
       "      <td>-9.149</td>\n",
       "      <td>273.08363</td>\n",
       "      <td>0.732281</td>\n",
       "      <td>Clay Aiken</td>\n",
       "      <td>0.500596</td>\n",
       "      <td>0.852100</td>\n",
       "      <td>teen pop</td>\n",
       "      <td>United States of America</td>\n",
       "    </tr>\n",
       "    <tr>\n",
       "      <th>2</th>\n",
       "      <td>White Lies</td>\n",
       "      <td>2006.0</td>\n",
       "      <td>Rocinate</td>\n",
       "      <td>92.103</td>\n",
       "      <td>-9.323</td>\n",
       "      <td>388.80608</td>\n",
       "      <td>0.417314</td>\n",
       "      <td>Ester Drang</td>\n",
       "      <td>0.330889</td>\n",
       "      <td>0.525616</td>\n",
       "      <td>shoegaze</td>\n",
       "      <td>United States of America</td>\n",
       "    </tr>\n",
       "    <tr>\n",
       "      <th>3</th>\n",
       "      <td>Guess Who I Saw In Paris</td>\n",
       "      <td>1999.0</td>\n",
       "      <td>Sugar Me</td>\n",
       "      <td>105.054</td>\n",
       "      <td>-18.484</td>\n",
       "      <td>170.31791</td>\n",
       "      <td>0.368414</td>\n",
       "      <td>Claudine Longet</td>\n",
       "      <td>0.377489</td>\n",
       "      <td>0.563184</td>\n",
       "      <td>easy listening</td>\n",
       "      <td>France</td>\n",
       "    </tr>\n",
       "    <tr>\n",
       "      <th>4</th>\n",
       "      <td>No More Birthdays (Phil Spector Folk) / San Fr...</td>\n",
       "      <td>2006.0</td>\n",
       "      <td>Born To Please</td>\n",
       "      <td>95.658</td>\n",
       "      <td>-6.141</td>\n",
       "      <td>280.45016</td>\n",
       "      <td>0.000000</td>\n",
       "      <td>Sound Team</td>\n",
       "      <td>0.368423</td>\n",
       "      <td>0.590111</td>\n",
       "      <td>art rock</td>\n",
       "      <td>United States of America</td>\n",
       "    </tr>\n",
       "  </tbody>\n",
       "</table>\n",
       "</div>"
      ],
      "text/plain": [
       "                                          song_title    year  \\\n",
       "0                                  No One Could Ever  2006.0   \n",
       "1                Don't Save It All For Christmas Day  2004.0   \n",
       "2                                         White Lies  2006.0   \n",
       "3                           Guess Who I Saw In Paris  1999.0   \n",
       "4  No More Birthdays (Phil Spector Folk) / San Fr...  2006.0   \n",
       "\n",
       "                     release    tempo  loudness   duration  song_hotttnesss  \\\n",
       "0                     Butter  177.768    -2.060  138.97098         0.617871   \n",
       "1  Merry Christmas With Love  127.397    -9.149  273.08363         0.732281   \n",
       "2                   Rocinate   92.103    -9.323  388.80608         0.417314   \n",
       "3                   Sugar Me  105.054   -18.484  170.31791         0.368414   \n",
       "4             Born To Please   95.658    -6.141  280.45016         0.000000   \n",
       "\n",
       "       artist_name  artist_hotttnesss  artist_familiarity            term  \\\n",
       "0   Hudson Mohawke           0.437504            0.643681     broken beat   \n",
       "1       Clay Aiken           0.500596            0.852100        teen pop   \n",
       "2      Ester Drang           0.330889            0.525616        shoegaze   \n",
       "3  Claudine Longet           0.377489            0.563184  easy listening   \n",
       "4       Sound Team           0.368423            0.590111        art rock   \n",
       "\n",
       "                    country  \n",
       "0            United Kingdom  \n",
       "1  United States of America  \n",
       "2  United States of America  \n",
       "3                    France  \n",
       "4  United States of America  "
      ]
     },
     "execution_count": 15,
     "metadata": {},
     "output_type": "execute_result"
    }
   ],
   "source": [
    "music_dataset.reset_index(drop=True, inplace=True)\n",
    "music_dataset.head()"
   ]
  },
  {
   "cell_type": "code",
   "execution_count": 16,
   "metadata": {},
   "outputs": [
    {
     "data": {
      "text/plain": [
       "(1035, 12)"
      ]
     },
     "execution_count": 16,
     "metadata": {},
     "output_type": "execute_result"
    }
   ],
   "source": [
    "music_dataset.shape"
   ]
  },
  {
   "cell_type": "markdown",
   "metadata": {},
   "source": [
    "Shartil: making sure the final dataset contains 1000 songs"
   ]
  },
  {
   "cell_type": "code",
   "execution_count": 17,
   "metadata": {},
   "outputs": [
    {
     "name": "stdout",
     "output_type": "stream",
     "text": [
      "(1000, 12)\n"
     ]
    }
   ],
   "source": [
    "music_dataset = music_dataset.iloc[:1000] # returns dataframe with 1000 songs\n",
    "\n",
    "print(music_dataset.shape)"
   ]
  },
  {
   "cell_type": "markdown",
   "metadata": {},
   "source": [
    "Shartil: Adding decade column to dataset"
   ]
  },
  {
   "cell_type": "code",
   "execution_count": 18,
   "metadata": {},
   "outputs": [
    {
     "data": {
      "text/html": [
       "<div>\n",
       "<style scoped>\n",
       "    .dataframe tbody tr th:only-of-type {\n",
       "        vertical-align: middle;\n",
       "    }\n",
       "\n",
       "    .dataframe tbody tr th {\n",
       "        vertical-align: top;\n",
       "    }\n",
       "\n",
       "    .dataframe thead th {\n",
       "        text-align: right;\n",
       "    }\n",
       "</style>\n",
       "<table border=\"1\" class=\"dataframe\">\n",
       "  <thead>\n",
       "    <tr style=\"text-align: right;\">\n",
       "      <th></th>\n",
       "      <th>song_title</th>\n",
       "      <th>year</th>\n",
       "      <th>release</th>\n",
       "      <th>tempo</th>\n",
       "      <th>loudness</th>\n",
       "      <th>duration</th>\n",
       "      <th>song_hotttnesss</th>\n",
       "      <th>artist_name</th>\n",
       "      <th>artist_hotttnesss</th>\n",
       "      <th>artist_familiarity</th>\n",
       "      <th>term</th>\n",
       "      <th>country</th>\n",
       "      <th>decade</th>\n",
       "    </tr>\n",
       "  </thead>\n",
       "  <tbody>\n",
       "    <tr>\n",
       "      <th>0</th>\n",
       "      <td>No One Could Ever</td>\n",
       "      <td>2006.0</td>\n",
       "      <td>Butter</td>\n",
       "      <td>177.768</td>\n",
       "      <td>-2.060</td>\n",
       "      <td>138.97098</td>\n",
       "      <td>0.617871</td>\n",
       "      <td>Hudson Mohawke</td>\n",
       "      <td>0.437504</td>\n",
       "      <td>0.643681</td>\n",
       "      <td>broken beat</td>\n",
       "      <td>United Kingdom</td>\n",
       "      <td>2000</td>\n",
       "    </tr>\n",
       "    <tr>\n",
       "      <th>1</th>\n",
       "      <td>Don't Save It All For Christmas Day</td>\n",
       "      <td>2004.0</td>\n",
       "      <td>Merry Christmas With Love</td>\n",
       "      <td>127.397</td>\n",
       "      <td>-9.149</td>\n",
       "      <td>273.08363</td>\n",
       "      <td>0.732281</td>\n",
       "      <td>Clay Aiken</td>\n",
       "      <td>0.500596</td>\n",
       "      <td>0.852100</td>\n",
       "      <td>teen pop</td>\n",
       "      <td>United States of America</td>\n",
       "      <td>2000</td>\n",
       "    </tr>\n",
       "    <tr>\n",
       "      <th>2</th>\n",
       "      <td>White Lies</td>\n",
       "      <td>2006.0</td>\n",
       "      <td>Rocinate</td>\n",
       "      <td>92.103</td>\n",
       "      <td>-9.323</td>\n",
       "      <td>388.80608</td>\n",
       "      <td>0.417314</td>\n",
       "      <td>Ester Drang</td>\n",
       "      <td>0.330889</td>\n",
       "      <td>0.525616</td>\n",
       "      <td>shoegaze</td>\n",
       "      <td>United States of America</td>\n",
       "      <td>2000</td>\n",
       "    </tr>\n",
       "    <tr>\n",
       "      <th>3</th>\n",
       "      <td>Guess Who I Saw In Paris</td>\n",
       "      <td>1999.0</td>\n",
       "      <td>Sugar Me</td>\n",
       "      <td>105.054</td>\n",
       "      <td>-18.484</td>\n",
       "      <td>170.31791</td>\n",
       "      <td>0.368414</td>\n",
       "      <td>Claudine Longet</td>\n",
       "      <td>0.377489</td>\n",
       "      <td>0.563184</td>\n",
       "      <td>easy listening</td>\n",
       "      <td>France</td>\n",
       "      <td>1990</td>\n",
       "    </tr>\n",
       "    <tr>\n",
       "      <th>4</th>\n",
       "      <td>No More Birthdays (Phil Spector Folk) / San Fr...</td>\n",
       "      <td>2006.0</td>\n",
       "      <td>Born To Please</td>\n",
       "      <td>95.658</td>\n",
       "      <td>-6.141</td>\n",
       "      <td>280.45016</td>\n",
       "      <td>0.000000</td>\n",
       "      <td>Sound Team</td>\n",
       "      <td>0.368423</td>\n",
       "      <td>0.590111</td>\n",
       "      <td>art rock</td>\n",
       "      <td>United States of America</td>\n",
       "      <td>2000</td>\n",
       "    </tr>\n",
       "  </tbody>\n",
       "</table>\n",
       "</div>"
      ],
      "text/plain": [
       "                                          song_title    year  \\\n",
       "0                                  No One Could Ever  2006.0   \n",
       "1                Don't Save It All For Christmas Day  2004.0   \n",
       "2                                         White Lies  2006.0   \n",
       "3                           Guess Who I Saw In Paris  1999.0   \n",
       "4  No More Birthdays (Phil Spector Folk) / San Fr...  2006.0   \n",
       "\n",
       "                     release    tempo  loudness   duration  song_hotttnesss  \\\n",
       "0                     Butter  177.768    -2.060  138.97098         0.617871   \n",
       "1  Merry Christmas With Love  127.397    -9.149  273.08363         0.732281   \n",
       "2                   Rocinate   92.103    -9.323  388.80608         0.417314   \n",
       "3                   Sugar Me  105.054   -18.484  170.31791         0.368414   \n",
       "4             Born To Please   95.658    -6.141  280.45016         0.000000   \n",
       "\n",
       "       artist_name  artist_hotttnesss  artist_familiarity            term  \\\n",
       "0   Hudson Mohawke           0.437504            0.643681     broken beat   \n",
       "1       Clay Aiken           0.500596            0.852100        teen pop   \n",
       "2      Ester Drang           0.330889            0.525616        shoegaze   \n",
       "3  Claudine Longet           0.377489            0.563184  easy listening   \n",
       "4       Sound Team           0.368423            0.590111        art rock   \n",
       "\n",
       "                    country  decade  \n",
       "0            United Kingdom    2000  \n",
       "1  United States of America    2000  \n",
       "2  United States of America    2000  \n",
       "3                    France    1990  \n",
       "4  United States of America    2000  "
      ]
     },
     "execution_count": 18,
     "metadata": {},
     "output_type": "execute_result"
    }
   ],
   "source": [
    "music_dataset = music_dataset.assign(decade=lambda row: (row[YEAR_COLUMN].astype(int) // 10) * 10)\n",
    "music_dataset.head()"
   ]
  },
  {
   "cell_type": "code",
   "execution_count": 19,
   "metadata": {},
   "outputs": [],
   "source": [
    "min_decade = music_dataset[DECADE_COLUMN].min()\n",
    "max_decade = music_dataset[DECADE_COLUMN].max()\n",
    "decade_array = np.arange(min_decade, max_decade + 10, 10, dtype=int)"
   ]
  },
  {
   "cell_type": "markdown",
   "metadata": {},
   "source": [
    "Shartil: Saving music_dataset as a CSV file"
   ]
  },
  {
   "cell_type": "code",
   "execution_count": 20,
   "metadata": {},
   "outputs": [],
   "source": [
    "if not os.path.isdir(MUSIC_DATA_FOLDER_PATH):\n",
    "    os.mkdir(MUSIC_DATA_FOLDER_PATH)\n",
    "\n",
    "music_dataset.to_csv(f\"{MUSIC_DATA_FOLDER_PATH}/music_dataset.csv\", mode='w+')"
   ]
  },
  {
   "cell_type": "markdown",
   "metadata": {},
   "source": [
    "Shartil: I will normalize the numeric columns using min max normalization."
   ]
  },
  {
   "cell_type": "code",
   "execution_count": 21,
   "metadata": {},
   "outputs": [],
   "source": [
    "def min_max_normalize_column(df, column_name):\n",
    "    min_val = df[column_name].min()\n",
    "    max_val = df[column_name].max()\n",
    "    \n",
    "    if min_val == max_val:\n",
    "        raise ValueError(\"Cannot normalize column when all values are the same.\")\n",
    "    \n",
    "    df[column_name] = (df[column_name] - min_val) / (max_val - min_val)"
   ]
  },
  {
   "cell_type": "code",
   "execution_count": 22,
   "metadata": {},
   "outputs": [],
   "source": [
    "normalized_music_dataset = music_dataset.copy()\n",
    "\n",
    "for numeric_column in NUMERIC_COLUMNS_LIST:\n",
    "    min_max_normalize_column(normalized_music_dataset, numeric_column)"
   ]
  },
  {
   "cell_type": "code",
   "execution_count": 23,
   "metadata": {},
   "outputs": [
    {
     "data": {
      "text/html": [
       "<div>\n",
       "<style scoped>\n",
       "    .dataframe tbody tr th:only-of-type {\n",
       "        vertical-align: middle;\n",
       "    }\n",
       "\n",
       "    .dataframe tbody tr th {\n",
       "        vertical-align: top;\n",
       "    }\n",
       "\n",
       "    .dataframe thead th {\n",
       "        text-align: right;\n",
       "    }\n",
       "</style>\n",
       "<table border=\"1\" class=\"dataframe\">\n",
       "  <thead>\n",
       "    <tr style=\"text-align: right;\">\n",
       "      <th></th>\n",
       "      <th>song_title</th>\n",
       "      <th>year</th>\n",
       "      <th>release</th>\n",
       "      <th>tempo</th>\n",
       "      <th>loudness</th>\n",
       "      <th>duration</th>\n",
       "      <th>song_hotttnesss</th>\n",
       "      <th>artist_name</th>\n",
       "      <th>artist_hotttnesss</th>\n",
       "      <th>artist_familiarity</th>\n",
       "      <th>term</th>\n",
       "      <th>country</th>\n",
       "      <th>decade</th>\n",
       "    </tr>\n",
       "  </thead>\n",
       "  <tbody>\n",
       "    <tr>\n",
       "      <th>0</th>\n",
       "      <td>No One Could Ever</td>\n",
       "      <td>0.925926</td>\n",
       "      <td>Butter</td>\n",
       "      <td>0.694103</td>\n",
       "      <td>0.999149</td>\n",
       "      <td>0.076051</td>\n",
       "      <td>0.686709</td>\n",
       "      <td>Hudson Mohawke</td>\n",
       "      <td>0.532471</td>\n",
       "      <td>0.612163</td>\n",
       "      <td>broken beat</td>\n",
       "      <td>United Kingdom</td>\n",
       "      <td>0.833333</td>\n",
       "    </tr>\n",
       "    <tr>\n",
       "      <th>1</th>\n",
       "      <td>Don't Save It All For Christmas Day</td>\n",
       "      <td>0.888889</td>\n",
       "      <td>Merry Christmas With Love</td>\n",
       "      <td>0.455336</td>\n",
       "      <td>0.804487</td>\n",
       "      <td>0.164387</td>\n",
       "      <td>0.813866</td>\n",
       "      <td>Clay Aiken</td>\n",
       "      <td>0.609258</td>\n",
       "      <td>0.889696</td>\n",
       "      <td>teen pop</td>\n",
       "      <td>United States of America</td>\n",
       "      <td>0.833333</td>\n",
       "    </tr>\n",
       "    <tr>\n",
       "      <th>2</th>\n",
       "      <td>White Lies</td>\n",
       "      <td>0.925926</td>\n",
       "      <td>Rocinate</td>\n",
       "      <td>0.288036</td>\n",
       "      <td>0.799709</td>\n",
       "      <td>0.240610</td>\n",
       "      <td>0.463807</td>\n",
       "      <td>Ester Drang</td>\n",
       "      <td>0.402714</td>\n",
       "      <td>0.454948</td>\n",
       "      <td>shoegaze</td>\n",
       "      <td>United States of America</td>\n",
       "      <td>0.833333</td>\n",
       "    </tr>\n",
       "    <tr>\n",
       "      <th>3</th>\n",
       "      <td>Guess Who I Saw In Paris</td>\n",
       "      <td>0.796296</td>\n",
       "      <td>Sugar Me</td>\n",
       "      <td>0.349426</td>\n",
       "      <td>0.548151</td>\n",
       "      <td>0.096698</td>\n",
       "      <td>0.409459</td>\n",
       "      <td>Claudine Longet</td>\n",
       "      <td>0.459429</td>\n",
       "      <td>0.504973</td>\n",
       "      <td>easy listening</td>\n",
       "      <td>France</td>\n",
       "      <td>0.666667</td>\n",
       "    </tr>\n",
       "    <tr>\n",
       "      <th>4</th>\n",
       "      <td>No More Birthdays (Phil Spector Folk) / San Fr...</td>\n",
       "      <td>0.925926</td>\n",
       "      <td>Born To Please</td>\n",
       "      <td>0.304888</td>\n",
       "      <td>0.887086</td>\n",
       "      <td>0.169239</td>\n",
       "      <td>0.000000</td>\n",
       "      <td>Sound Team</td>\n",
       "      <td>0.448395</td>\n",
       "      <td>0.540830</td>\n",
       "      <td>art rock</td>\n",
       "      <td>United States of America</td>\n",
       "      <td>0.833333</td>\n",
       "    </tr>\n",
       "  </tbody>\n",
       "</table>\n",
       "</div>"
      ],
      "text/plain": [
       "                                          song_title      year  \\\n",
       "0                                  No One Could Ever  0.925926   \n",
       "1                Don't Save It All For Christmas Day  0.888889   \n",
       "2                                         White Lies  0.925926   \n",
       "3                           Guess Who I Saw In Paris  0.796296   \n",
       "4  No More Birthdays (Phil Spector Folk) / San Fr...  0.925926   \n",
       "\n",
       "                     release     tempo  loudness  duration  song_hotttnesss  \\\n",
       "0                     Butter  0.694103  0.999149  0.076051         0.686709   \n",
       "1  Merry Christmas With Love  0.455336  0.804487  0.164387         0.813866   \n",
       "2                   Rocinate  0.288036  0.799709  0.240610         0.463807   \n",
       "3                   Sugar Me  0.349426  0.548151  0.096698         0.409459   \n",
       "4             Born To Please  0.304888  0.887086  0.169239         0.000000   \n",
       "\n",
       "       artist_name  artist_hotttnesss  artist_familiarity            term  \\\n",
       "0   Hudson Mohawke           0.532471            0.612163     broken beat   \n",
       "1       Clay Aiken           0.609258            0.889696        teen pop   \n",
       "2      Ester Drang           0.402714            0.454948        shoegaze   \n",
       "3  Claudine Longet           0.459429            0.504973  easy listening   \n",
       "4       Sound Team           0.448395            0.540830        art rock   \n",
       "\n",
       "                    country    decade  \n",
       "0            United Kingdom  0.833333  \n",
       "1  United States of America  0.833333  \n",
       "2  United States of America  0.833333  \n",
       "3                    France  0.666667  \n",
       "4  United States of America  0.833333  "
      ]
     },
     "execution_count": 23,
     "metadata": {},
     "output_type": "execute_result"
    }
   ],
   "source": [
    "normalized_music_dataset.head()"
   ]
  },
  {
   "cell_type": "markdown",
   "metadata": {},
   "source": [
    "Shartil: Now I am going to create the graph"
   ]
  },
  {
   "cell_type": "code",
   "execution_count": 24,
   "metadata": {},
   "outputs": [],
   "source": [
    "music_graph = nx.Graph()"
   ]
  },
  {
   "cell_type": "code",
   "execution_count": 25,
   "metadata": {},
   "outputs": [],
   "source": [
    "for current_index, current_row in normalized_music_dataset.iterrows():\n",
    "    node_data_dict = {}\n",
    "\n",
    "    for current_column in NUMERIC_COLUMNS_LIST:\n",
    "        node_data_dict[current_column] = current_row[current_column]\n",
    "\n",
    "    music_graph.add_node(current_index, **node_data_dict)"
   ]
  },
  {
   "cell_type": "code",
   "execution_count": 26,
   "metadata": {},
   "outputs": [],
   "source": [
    "# Shartil: adding empty nodes for the decades, which function as main nodes\n",
    "# i.e., all the songs from 1950 will be connected to the 1950 node.\n",
    "# This will save complex logic of connecting all the songs from the decade, and ensuring that the resulted graph will be less complicated.\n",
    "music_graph.add_nodes_from(decade_array)"
   ]
  },
  {
   "cell_type": "markdown",
   "metadata": {},
   "source": [
    "Shartil: for now, the graph only has decade nodes & song nodes that contain their matching ID in the dataframe"
   ]
  },
  {
   "cell_type": "code",
   "execution_count": 27,
   "metadata": {},
   "outputs": [
    {
     "name": "stdout",
     "output_type": "stream",
     "text": [
      "Graph with 1007 nodes and 1000 edges\n"
     ]
    }
   ],
   "source": [
    "for index, row in music_dataset.iterrows():\n",
    "    current_decade = row[DECADE_COLUMN]\n",
    "    music_graph.add_edge(current_decade, index)\n",
    "\n",
    "print(music_graph)"
   ]
  },
  {
   "cell_type": "markdown",
   "metadata": {},
   "source": [
    "Shartil: Plotting graph with decade as main nodes<br>\n",
    "Need to imporve the plot"
   ]
  },
  {
   "cell_type": "code",
   "execution_count": 28,
   "metadata": {},
   "outputs": [
    {
     "name": "stderr",
     "output_type": "stream",
     "text": [
      "w:\\Program Files\\Python310\\lib\\site-packages\\networkx\\drawing\\nx_pylab.py:437: UserWarning: No data for colormapping provided via 'c'. Parameters 'cmap' will be ignored\n",
      "  node_collection = ax.scatter(\n"
     ]
    },
    {
     "data": {
      "image/png": "[encoded data removed]",
      "text/plain": [
       "<Figure size 1500x1500 with 1 Axes>"
      ]
     },
     "metadata": {},
     "output_type": "display_data"
    },
    {
     "data": {
      "image/png": "[encoded data removed]",
      "text/plain": [
       "<Figure size 1500x1500 with 1 Axes>"
      ]
     },
     "metadata": {},
     "output_type": "display_data"
    }
   ],
   "source": [
    "# use spring layout\n",
    "pos = nx.spring_layout(music_graph)\n",
    "\n",
    "# compute degree centrality\n",
    "# degree represents the number of edges from each node,\n",
    "# the centrality allows us to undertsand the more 'popular' nodes\n",
    "cent = nx.degree_centrality(music_graph)\n",
    "cent_array = np.array(list(cent.values()))\n",
    "\n",
    "# size of nodes will be proportional to their popularity\n",
    "node_size = list(map(lambda x: x * 500, cent.values()))\n",
    "\n",
    "\n",
    "plt.figure(figsize=(15, 15))\n",
    "\n",
    "#draw nodes\n",
    "nodes = nx.draw_networkx_nodes(music_graph, pos, node_size=node_size,\n",
    "                               cmap=plt.cm.plasma,\n",
    "                               nodelist=list(cent.keys()))\n",
    "# draw edges\n",
    "edges = nx.draw_networkx_edges(music_graph, pos, width=0.25, alpha=0.3)\n",
    "\n",
    "plt.show()"
   ]
  },
  {
   "cell_type": "code",
   "execution_count": 29,
   "metadata": {},
   "outputs": [],
   "source": [
    "def get_songs_by_criteria(music_graph, given_criteria):\n",
    "    selected_songs = [ song for song in music_graph[given_criteria].keys()]\n",
    "    return selected_songs"
   ]
  },
  {
   "cell_type": "code",
   "execution_count": 30,
   "metadata": {},
   "outputs": [],
   "source": [
    "def print_length_and_items(given_list, amont_of_items = 50):\n",
    "    print(len(given_list))\n",
    "    print(given_list[:amont_of_items])"
   ]
  },
  {
   "cell_type": "code",
   "execution_count": 31,
   "metadata": {},
   "outputs": [
    {
     "name": "stdout",
     "output_type": "stream",
     "text": [
      "237\n",
      "[3, 12, 18, 23, 24, 28, 34, 35, 53, 54, 55, 58, 71, 80, 82, 83, 91, 105, 114, 131, 136, 141, 144, 150, 152, 162, 165, 169, 170, 172, 176, 178, 186, 193, 194, 201, 205, 209, 210, 211, 212, 215, 216, 218, 222, 226, 230, 235, 238, 245]\n"
     ]
    }
   ],
   "source": [
    "decade_input = 1990\n",
    "\n",
    "decade_songs = get_songs_by_criteria(music_graph, decade_input)\n",
    "print_length_and_items(decade_songs)"
   ]
  },
  {
   "cell_type": "markdown",
   "metadata": {},
   "source": [
    "Shartil: this code no longer works, since the knowledge graph doesnt contain country data"
   ]
  },
  {
   "cell_type": "code",
   "execution_count": 32,
   "metadata": {},
   "outputs": [],
   "source": [
    "# country_input = \"Sweden\"\n",
    "\n",
    "# country_songs = get_songs_by_criteria(music_graph, country_input)\n",
    "# print_length_and_items(country_songs)"
   ]
  },
  {
   "cell_type": "markdown",
   "metadata": {},
   "source": [
    "Shartil: Now let's get the intersection of the lists<br>\n",
    "This code was taken from this [StackOverflow answer](https://stackoverflow.com/a/3697438/9609586)"
   ]
  },
  {
   "cell_type": "code",
   "execution_count": 33,
   "metadata": {},
   "outputs": [],
   "source": [
    "# print(\"The songs from Sweden that were released in 1990:\")\n",
    "\n",
    "# result_list = list(set(decade_songs) & set(country_songs))\n",
    "# print_length_and_items(result_list)"
   ]
  }
 ],
 "metadata": {
  "kernelspec": {
   "display_name": "Python 3.10.5 64-bit",
   "language": "python",
   "name": "python3"
  },
  "language_info": {
   "codemirror_mode": {
    "name": "ipython",
    "version": 3
   },
   "file_extension": ".py",
   "mimetype": "text/x-python",
   "name": "python",
   "nbconvert_exporter": "python",
   "pygments_lexer": "ipython3",
   "version": "3.10.5"
  },
  "orig_nbformat": 4,
  "vscode": {
   "interpreter": {
    "hash": "3a5cfde8991b0f64e8bcd60a397bea8dc10ed042aefe1441fd3daa2ae2091421"
   }
  }
 },
 "nbformat": 4,
 "nbformat_minor": 2
}
