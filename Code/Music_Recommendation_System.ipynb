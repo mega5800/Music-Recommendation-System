{
 "cells": [
  {
   "cell_type": "markdown",
   "metadata": {},
   "source": [
    "# <center>Music Recommendation System</center>"
   ]
  },
  {
   "cell_type": "markdown",
   "metadata": {},
   "source": [
    "<u><h3>Group Members</h3></u>\n",
    "Shartil Shartilov, 22085025<br>\n",
    "Riaz Khan, 23068308<br>\n",
    "Najeeb Ullah, 23061856\n",
    "<hr>"
   ]
  },
  {
   "cell_type": "markdown",
   "metadata": {},
   "source": [
    "## Data Preprocessing"
   ]
  },
  {
   "cell_type": "markdown",
   "metadata": {},
   "source": [
    "* Pip Install Commands"
   ]
  },
  {
   "cell_type": "code",
   "execution_count": 1,
   "metadata": {
    "ExecuteTime": {
     "end_time": "2024-05-21T22:19:40.205700Z",
     "start_time": "2024-05-21T22:19:31.459736Z"
    }
   },
   "outputs": [
    {
     "name": "stdout",
     "output_type": "stream",
     "text": [
      "Requirement already satisfied: shapely in /Users/mac/anaconda3/lib/python3.11/site-packages (2.0.3)\r\n",
      "Requirement already satisfied: numpy<2,>=1.14 in /Users/mac/anaconda3/lib/python3.11/site-packages (from shapely) (1.24.4)\r\n",
      "Note: you may need to restart the kernel to use updated packages.\n",
      "Requirement already satisfied: node2vec in /Users/mac/anaconda3/lib/python3.11/site-packages (0.4.6)\r\n",
      "Requirement already satisfied: gensim<5.0.0,>=4.1.2 in /Users/mac/anaconda3/lib/python3.11/site-packages (from node2vec) (4.3.0)\r\n",
      "Requirement already satisfied: joblib<2.0.0,>=1.1.0 in /Users/mac/anaconda3/lib/python3.11/site-packages (from node2vec) (1.2.0)\r\n",
      "Requirement already satisfied: networkx<3.0,>=2.5 in /Users/mac/anaconda3/lib/python3.11/site-packages (from node2vec) (2.8.8)\r\n",
      "Requirement already satisfied: numpy<2.0.0,>=1.19.5 in /Users/mac/anaconda3/lib/python3.11/site-packages (from node2vec) (1.24.4)\r\n",
      "Requirement already satisfied: tqdm<5.0.0,>=4.55.1 in /Users/mac/anaconda3/lib/python3.11/site-packages (from node2vec) (4.65.0)\r\n",
      "Requirement already satisfied: scipy>=1.7.0 in /Users/mac/anaconda3/lib/python3.11/site-packages (from gensim<5.0.0,>=4.1.2->node2vec) (1.10.1)\r\n",
      "Requirement already satisfied: smart-open>=1.8.1 in /Users/mac/anaconda3/lib/python3.11/site-packages (from gensim<5.0.0,>=4.1.2->node2vec) (5.2.1)\r\n",
      "Requirement already satisfied: FuzzyTM>=0.4.0 in /Users/mac/anaconda3/lib/python3.11/site-packages (from gensim<5.0.0,>=4.1.2->node2vec) (2.0.9)\r\n",
      "Requirement already satisfied: pandas in /Users/mac/anaconda3/lib/python3.11/site-packages (from FuzzyTM>=0.4.0->gensim<5.0.0,>=4.1.2->node2vec) (1.5.3)\r\n",
      "Requirement already satisfied: pyfume in /Users/mac/anaconda3/lib/python3.11/site-packages (from FuzzyTM>=0.4.0->gensim<5.0.0,>=4.1.2->node2vec) (0.3.4)\r\n",
      "Requirement already satisfied: python-dateutil>=2.8.1 in /Users/mac/anaconda3/lib/python3.11/site-packages (from pandas->FuzzyTM>=0.4.0->gensim<5.0.0,>=4.1.2->node2vec) (2.8.2)\r\n",
      "Requirement already satisfied: pytz>=2020.1 in /Users/mac/anaconda3/lib/python3.11/site-packages (from pandas->FuzzyTM>=0.4.0->gensim<5.0.0,>=4.1.2->node2vec) (2022.7)\r\n",
      "Requirement already satisfied: simpful==2.12.0 in /Users/mac/anaconda3/lib/python3.11/site-packages (from pyfume->FuzzyTM>=0.4.0->gensim<5.0.0,>=4.1.2->node2vec) (2.12.0)\r\n",
      "Requirement already satisfied: fst-pso==1.8.1 in /Users/mac/anaconda3/lib/python3.11/site-packages (from pyfume->FuzzyTM>=0.4.0->gensim<5.0.0,>=4.1.2->node2vec) (1.8.1)\r\n",
      "Requirement already satisfied: miniful in /Users/mac/anaconda3/lib/python3.11/site-packages (from fst-pso==1.8.1->pyfume->FuzzyTM>=0.4.0->gensim<5.0.0,>=4.1.2->node2vec) (0.0.6)\r\n",
      "Requirement already satisfied: six>=1.5 in /Users/mac/anaconda3/lib/python3.11/site-packages (from python-dateutil>=2.8.1->pandas->FuzzyTM>=0.4.0->gensim<5.0.0,>=4.1.2->node2vec) (1.16.0)\r\n",
      "Note: you may need to restart the kernel to use updated packages.\n"
     ]
    }
   ],
   "source": [
    "%pip install shapely\n",
    "%pip install node2vec"
   ]
  },
  {
   "cell_type": "markdown",
   "metadata": {},
   "source": [
    "* Libraries"
   ]
  },
  {
   "cell_type": "code",
   "execution_count": 2,
   "metadata": {
    "ExecuteTime": {
     "end_time": "2024-05-21T22:19:47.812992Z",
     "start_time": "2024-05-21T22:19:40.207634Z"
    }
   },
   "outputs": [],
   "source": [
    "import os\n",
    "import json\n",
    "import numpy as np\n",
    "import pandas as pd\n",
    "import networkx as nx\n",
    "import matplotlib.pyplot as plt\n",
    "\n",
    "from shapely.prepared import prep\n",
    "from shapely.geometry import mapping, shape, Point\n",
    "\n",
    "from node2vec import Node2Vec\n",
    "from sklearn.neighbors import NearestNeighbors"
   ]
  },
  {
   "cell_type": "markdown",
   "metadata": {},
   "source": [
    "* Const Values"
   ]
  },
  {
   "cell_type": "code",
   "execution_count": 3,
   "metadata": {
    "ExecuteTime": {
     "end_time": "2024-05-21T22:19:47.823401Z",
     "start_time": "2024-05-21T22:19:47.812860Z"
    }
   },
   "outputs": [],
   "source": [
    "# column const values\n",
    "YEAR_COLUMN = \"year\"\n",
    "TEMPO_COLUMN = \"tempo\"\n",
    "LOUDNESS_COLUMN = \"loudness\"\n",
    "DURATION_COLUMN = \"duration\"\n",
    "SONG_HOTTTNESSS_COLUMN = \"song_hotttnesss\"\n",
    "ARTIST_HOTTTNESSS_COLUMN = \"artist_hotttnesss\"\n",
    "ARTIST_FAMILIARITY_COLUMN = \"artist_familiarity\"\n",
    "DECADE_COLUMN = \"decade\"\n",
    "\n",
    "# numeric columns name list\n",
    "NUMERIC_COLUMNS_LIST = [\n",
    "    YEAR_COLUMN,\n",
    "    TEMPO_COLUMN,\n",
    "    LOUDNESS_COLUMN,\n",
    "    DURATION_COLUMN,\n",
    "    SONG_HOTTTNESSS_COLUMN,\n",
    "    ARTIST_HOTTTNESSS_COLUMN,\n",
    "    ARTIST_FAMILIARITY_COLUMN,\n",
    "    DECADE_COLUMN\n",
    "]\n",
    "\n",
    "# string column names\n",
    "SONG_TITLE_COLUMN = \"song_title\"\n",
    "COUNTRY_COLUMN = \"country\"\n",
    "\n",
    "# artist location columns \n",
    "ARTIST_LONGITUDE_COLUMN = \"artist_longitude\"\n",
    "ARTIST_LATITUDE_COLUMN = \"artist_latitude\"\n",
    "ARTIST_LOCATION_COLUMN = \"artist_location\"\n",
    "UNKNOWN_COUNTRY_VALUE = \"unknown\"\n",
    "\n",
    "# id columns \n",
    "ARTIST_ID_COLUMN = \"artist_id\"\n",
    "SONG_ID_COLUMN = \"song_id\"\n",
    "\n",
    "# const path values\n",
    "MUSIC_DATA_FOLDER_PATH = \"../Music Data/\"\n",
    "MODELS_FOLDER_PATH = \"../models/\""
   ]
  },
  {
   "cell_type": "markdown",
   "metadata": {},
   "source": [
    "* Methods"
   ]
  },
  {
   "cell_type": "code",
   "execution_count": 4,
   "metadata": {
    "ExecuteTime": {
     "end_time": "2024-05-21T22:19:47.823854Z",
     "start_time": "2024-05-21T22:19:47.819795Z"
    }
   },
   "outputs": [],
   "source": [
    "def get_attribute_node_name(node_type, node_value):\n",
    "    \"This method returns concatenated string of node type and node value\"\n",
    "    return f\"{node_type} {node_value}\""
   ]
  },
  {
   "cell_type": "code",
   "execution_count": 5,
   "metadata": {
    "ExecuteTime": {
     "end_time": "2024-05-21T22:19:47.836346Z",
     "start_time": "2024-05-21T22:19:47.826456Z"
    }
   },
   "outputs": [],
   "source": [
    "def get_country(lon, lat, countries_dict):\n",
    "    \"This method returns country name based on latitude and longitude values\"\n",
    "    point = Point(lon, lat)\n",
    "    for country, geom in countries_dict.items():\n",
    "        if geom.contains(point):\n",
    "            return country\n",
    "\n",
    "    return UNKNOWN_COUNTRY_VALUE"
   ]
  },
  {
   "cell_type": "markdown",
   "metadata": {},
   "source": [
    "First, let's load Songs & Artists datasets"
   ]
  },
  {
   "cell_type": "code",
   "execution_count": 6,
   "metadata": {
    "ExecuteTime": {
     "end_time": "2024-05-21T22:19:52.559981Z",
     "start_time": "2024-05-21T22:19:47.831431Z"
    }
   },
   "outputs": [],
   "source": [
    "raw_songs_dataset = pd.read_csv(\"../Data/songs_dataset.csv\")\n",
    "raw_artists_dataset = pd.read_csv(\"../Data/artist_terms.csv\")"
   ]
  },
  {
   "cell_type": "markdown",
   "metadata": {},
   "source": [
    "Merging datasets based on artist_id<br>\n",
    "In the following cell, duplicate rows based on `artist_id` will be removed and only the first value will be saved."
   ]
  },
  {
   "cell_type": "code",
   "execution_count": 7,
   "metadata": {
    "ExecuteTime": {
     "end_time": "2024-05-21T22:19:53.314952Z",
     "start_time": "2024-05-21T22:19:52.598264Z"
    }
   },
   "outputs": [],
   "source": [
    "# Remove duplicates from the artist dataset based on artist_id\n",
    "raw_artists_dataset = raw_artists_dataset.drop_duplicates(subset=ARTIST_ID_COLUMN, keep='first')\n",
    "\n",
    "# Merge the datasets on artist_id\n",
    "raw_music_dataset = pd.merge(raw_songs_dataset, raw_artists_dataset, on=ARTIST_ID_COLUMN, how='left')"
   ]
  },
  {
   "cell_type": "markdown",
   "metadata": {},
   "source": [
    "In the above cell, the datasets were merged based on artist_id using a left join.<br>\n",
    "This join means that all the keys from the left dataframe (in this case, the raw_songs_dataset dataframe) will be included in the merged dataframe, and only the matching keys from the right dataframe (in this case, the artist_dataset dataframe) will be added.\n",
    "<br><br>\n",
    "In other words, all rows from the left dataframe (raw_songs_dataset) are retained.<br>\n",
    "If there are matching keys (in this case, artist_id) in the right dataframe (artist_dataset), the corresponding data from the right dataframe will be added to the merged dataframe.\n",
    "If there are no matching keys in the right dataframe, the corresponding columns in the merged dataframe will be filled with NaN (missing values)."
   ]
  },
  {
   "cell_type": "markdown",
   "metadata": {},
   "source": [
    "Here is the merged raw dataframe at first glance"
   ]
  },
  {
   "cell_type": "code",
   "execution_count": 8,
   "metadata": {
    "ExecuteTime": {
     "end_time": "2024-05-21T22:19:53.345435Z",
     "start_time": "2024-05-21T22:19:53.315666Z"
    }
   },
   "outputs": [
    {
     "data": {
      "text/plain": "              song_id                                         song_title  \\\n0  SOVFVAK12A8C1350D9                                        Tanssi vaan   \n1  SOGTUKN12AB017F4F1                                  No One Could Ever   \n2  SOBNYVR12A8C13558C                                      Si Vos Querés   \n3  SOHSBXH12A8C13B0DF                                   Tangle Of Aspens   \n4  SOZVAPQ12A8C13B63C  Symphony No. 1 G minor \"Sinfonie Serieuse\"/All...   \n\n     year                               release    tempo  loudness   duration  \\\n0  1995.0                           Karkuteillä  150.778   -10.555  156.55138   \n1  2006.0                                Butter  177.768    -2.060  138.97098   \n2  2003.0                               De Culo   87.433    -4.654  145.05751   \n3     NaN  Rene Ablaze Presents Winter Sessions  140.035    -7.806  514.29832   \n4     NaN      Berwald: Symphonies Nos. 1/2/3/4   90.689   -21.420  816.53506   \n\n   song_hotttnesss           artist_id       artist_name  artist_latitude  \\\n0         0.299877  ARMVN3U1187FB3A1EB  Karkkiautomaatti              NaN   \n1         0.617871  ARGEKB01187FB50750    Hudson Mohawke          55.8578   \n2              NaN  ARNWYLR1187B9B2F9C       Yerba Brava              NaN   \n3              NaN  AREQDTE1269FB37231        Der Mystic              NaN   \n4              NaN  AR2NS5Y1187FB5879D  David Montgomery              NaN   \n\n   artist_longitude    artist_location  artist_hotttnesss  artist_familiarity  \\\n0               NaN                NaN           0.356992            0.439604   \n1          -4.24251  Glasgow, Scotland           0.437504            0.643681   \n2               NaN                NaN           0.372349            0.448501   \n3               NaN                NaN           0.000000            0.000000   \n4               NaN                NaN           0.109626            0.361287   \n\n          term  \n0     pop rock  \n1  broken beat  \n2       cumbia  \n3  hard trance  \n4      ragtime  ",
      "text/html": "<div>\n<style scoped>\n    .dataframe tbody tr th:only-of-type {\n        vertical-align: middle;\n    }\n\n    .dataframe tbody tr th {\n        vertical-align: top;\n    }\n\n    .dataframe thead th {\n        text-align: right;\n    }\n</style>\n<table border=\"1\" class=\"dataframe\">\n  <thead>\n    <tr style=\"text-align: right;\">\n      <th></th>\n      <th>song_id</th>\n      <th>song_title</th>\n      <th>year</th>\n      <th>release</th>\n      <th>tempo</th>\n      <th>loudness</th>\n      <th>duration</th>\n      <th>song_hotttnesss</th>\n      <th>artist_id</th>\n      <th>artist_name</th>\n      <th>artist_latitude</th>\n      <th>artist_longitude</th>\n      <th>artist_location</th>\n      <th>artist_hotttnesss</th>\n      <th>artist_familiarity</th>\n      <th>term</th>\n    </tr>\n  </thead>\n  <tbody>\n    <tr>\n      <th>0</th>\n      <td>SOVFVAK12A8C1350D9</td>\n      <td>Tanssi vaan</td>\n      <td>1995.0</td>\n      <td>Karkuteillä</td>\n      <td>150.778</td>\n      <td>-10.555</td>\n      <td>156.55138</td>\n      <td>0.299877</td>\n      <td>ARMVN3U1187FB3A1EB</td>\n      <td>Karkkiautomaatti</td>\n      <td>NaN</td>\n      <td>NaN</td>\n      <td>NaN</td>\n      <td>0.356992</td>\n      <td>0.439604</td>\n      <td>pop rock</td>\n    </tr>\n    <tr>\n      <th>1</th>\n      <td>SOGTUKN12AB017F4F1</td>\n      <td>No One Could Ever</td>\n      <td>2006.0</td>\n      <td>Butter</td>\n      <td>177.768</td>\n      <td>-2.060</td>\n      <td>138.97098</td>\n      <td>0.617871</td>\n      <td>ARGEKB01187FB50750</td>\n      <td>Hudson Mohawke</td>\n      <td>55.8578</td>\n      <td>-4.24251</td>\n      <td>Glasgow, Scotland</td>\n      <td>0.437504</td>\n      <td>0.643681</td>\n      <td>broken beat</td>\n    </tr>\n    <tr>\n      <th>2</th>\n      <td>SOBNYVR12A8C13558C</td>\n      <td>Si Vos Querés</td>\n      <td>2003.0</td>\n      <td>De Culo</td>\n      <td>87.433</td>\n      <td>-4.654</td>\n      <td>145.05751</td>\n      <td>NaN</td>\n      <td>ARNWYLR1187B9B2F9C</td>\n      <td>Yerba Brava</td>\n      <td>NaN</td>\n      <td>NaN</td>\n      <td>NaN</td>\n      <td>0.372349</td>\n      <td>0.448501</td>\n      <td>cumbia</td>\n    </tr>\n    <tr>\n      <th>3</th>\n      <td>SOHSBXH12A8C13B0DF</td>\n      <td>Tangle Of Aspens</td>\n      <td>NaN</td>\n      <td>Rene Ablaze Presents Winter Sessions</td>\n      <td>140.035</td>\n      <td>-7.806</td>\n      <td>514.29832</td>\n      <td>NaN</td>\n      <td>AREQDTE1269FB37231</td>\n      <td>Der Mystic</td>\n      <td>NaN</td>\n      <td>NaN</td>\n      <td>NaN</td>\n      <td>0.000000</td>\n      <td>0.000000</td>\n      <td>hard trance</td>\n    </tr>\n    <tr>\n      <th>4</th>\n      <td>SOZVAPQ12A8C13B63C</td>\n      <td>Symphony No. 1 G minor \"Sinfonie Serieuse\"/All...</td>\n      <td>NaN</td>\n      <td>Berwald: Symphonies Nos. 1/2/3/4</td>\n      <td>90.689</td>\n      <td>-21.420</td>\n      <td>816.53506</td>\n      <td>NaN</td>\n      <td>AR2NS5Y1187FB5879D</td>\n      <td>David Montgomery</td>\n      <td>NaN</td>\n      <td>NaN</td>\n      <td>NaN</td>\n      <td>0.109626</td>\n      <td>0.361287</td>\n      <td>ragtime</td>\n    </tr>\n  </tbody>\n</table>\n</div>"
     },
     "execution_count": 8,
     "metadata": {},
     "output_type": "execute_result"
    }
   ],
   "source": [
    "raw_music_dataset.head()"
   ]
  },
  {
   "cell_type": "code",
   "execution_count": 9,
   "metadata": {
    "ExecuteTime": {
     "end_time": "2024-05-21T22:19:54.711921Z",
     "start_time": "2024-05-21T22:19:53.336299Z"
    }
   },
   "outputs": [
    {
     "data": {
      "text/plain": "song_id                    0\nsong_title                 0\nyear                  484270\nrelease                    5\ntempo                      0\nloudness                   0\nduration                   0\nsong_hotttnesss       417782\nartist_id                  0\nartist_name                0\nartist_latitude       641766\nartist_longitude      641766\nartist_location       487546\nartist_hotttnesss         12\nartist_familiarity       185\nterm                    3767\ndtype: int64"
     },
     "execution_count": 9,
     "metadata": {},
     "output_type": "execute_result"
    }
   ],
   "source": [
    "raw_music_dataset.isna().sum()"
   ]
  },
  {
   "cell_type": "code",
   "execution_count": 10,
   "metadata": {
    "ExecuteTime": {
     "end_time": "2024-05-21T22:19:55.634833Z",
     "start_time": "2024-05-21T22:19:54.711148Z"
    }
   },
   "outputs": [
    {
     "data": {
      "text/plain": "2677099"
     },
     "execution_count": 10,
     "metadata": {},
     "output_type": "execute_result"
    }
   ],
   "source": [
    "raw_music_dataset.isna().sum().sum()"
   ]
  },
  {
   "cell_type": "markdown",
   "metadata": {},
   "source": [
    "It is clear that the raw dataframe contains plenty of rows with missing data.<br>\n",
    "These rows will be deleted, since we require rows with complete data for our system."
   ]
  },
  {
   "cell_type": "code",
   "execution_count": 11,
   "metadata": {
    "ExecuteTime": {
     "end_time": "2024-05-21T22:19:56.764261Z",
     "start_time": "2024-05-21T22:19:55.856980Z"
    }
   },
   "outputs": [],
   "source": [
    "music_dataset = raw_music_dataset.dropna()"
   ]
  },
  {
   "cell_type": "code",
   "execution_count": 12,
   "metadata": {
    "ExecuteTime": {
     "end_time": "2024-05-21T22:19:56.764963Z",
     "start_time": "2024-05-21T22:19:56.757837Z"
    }
   },
   "outputs": [
    {
     "data": {
      "text/plain": "126905"
     },
     "execution_count": 12,
     "metadata": {},
     "output_type": "execute_result"
    }
   ],
   "source": [
    "len(music_dataset)"
   ]
  },
  {
   "cell_type": "markdown",
   "metadata": {},
   "source": [
    "Our system does not require a vast amount of songs.<br>\n",
    "Instead we will select a small portion of over 1000 songs to work with."
   ]
  },
  {
   "cell_type": "code",
   "execution_count": 13,
   "metadata": {
    "ExecuteTime": {
     "end_time": "2024-05-21T22:19:56.772574Z",
     "start_time": "2024-05-21T22:19:56.761956Z"
    }
   },
   "outputs": [
    {
     "name": "stdout",
     "output_type": "stream",
     "text": [
      "(126905, 16)\n",
      "(1058, 16)\n"
     ]
    }
   ],
   "source": [
    "print(music_dataset.shape)\n",
    "\n",
    "# returns dataframe with (1058, 13)\n",
    "music_dataset = music_dataset.iloc[::120]\n",
    "\n",
    "print(music_dataset.shape)"
   ]
  },
  {
   "cell_type": "markdown",
   "metadata": {},
   "source": [
    "Now, let's introduce a new column \"country\" based on Latitude and Longitude of each artist."
   ]
  },
  {
   "cell_type": "markdown",
   "metadata": {},
   "source": [
    "The code cell below is used to load geographical data from a local GeoJSON file, process it, and subsequently determine which country a given set of latitude and logitude coordinates falls into. The country names extracted from GeoJSON file are then inserted into a new column in a dataset.\n",
    "\n",
    "- The \"json.load\" function reads the file and convert it into a Python dictionary ('geojson_data').\n",
    "\n",
    "- An empty dictionary named 'countries' is initiated to store the coordinated data associated with each country.\n",
    "\n",
    "- The script iterates over each feature in the 'features' array of the 'geojson_data'. Each features represents a country.\n",
    "\n",
    "- For each feature, the geometry ('geom') and the administrative name of the country is extracted.\n",
    "\n",
    "- The geometry is then processed with a function 'prep' applied to 'shape(geom)'. This likely involves creating a geometric shape from the geometry data and preparing it for fast spatial queries. The processed geometry is stored in the 'countries' dictionary with the country name as key.\n",
    "\n",
    "- A function 'get_country' is defined which takes longitudes ('lon') and latitude ('lat') as arguments and creates a ('Point') object from coordinates.\n",
    "\n",
    "- It then iterates  over the 'countries' dictionary and check whether the point is contained within any of the country geometrics using the 'contains' method of the geometry.\n",
    "\n",
    "- If a containing country is found, the function returns the country's name. if no containing country is found, it returns a value UNKNOWN_COUNTRY_VALUE\n",
    "- A new column in the dataset ('music_dataset') is populated by applying 'get_country' function to each row. In this way the country column is added to music_dataset based on latitude and logitude columns."
   ]
  },
  {
   "cell_type": "code",
   "execution_count": 14,
   "metadata": {
    "ExecuteTime": {
     "end_time": "2024-05-21T22:19:57.840307Z",
     "start_time": "2024-05-21T22:19:56.774515Z"
    }
   },
   "outputs": [],
   "source": [
    "# fetch and process the geojson data from a local file\n",
    "with open(r'../Data/countries.geojson.json', 'r') as file:\n",
    "    geojson_data = json.load(file)"
   ]
  },
  {
   "cell_type": "code",
   "execution_count": 15,
   "metadata": {
    "ExecuteTime": {
     "end_time": "2024-05-21T22:19:58.478888Z",
     "start_time": "2024-05-21T22:19:57.841819Z"
    }
   },
   "outputs": [],
   "source": [
    "# fill countries dict with data\n",
    "countries_dict = {}\n",
    "for feature in geojson_data[\"features\"]:\n",
    "    geom = feature[\"geometry\"]\n",
    "    country = feature[\"properties\"][\"ADMIN\"]\n",
    "    countries_dict[country] = prep(shape(geom))"
   ]
  },
  {
   "cell_type": "code",
   "execution_count": 16,
   "metadata": {
    "ExecuteTime": {
     "end_time": "2024-05-21T22:20:00.251680Z",
     "start_time": "2024-05-21T22:19:58.480065Z"
    }
   },
   "outputs": [],
   "source": [
    "# apply the function to create a new 'country' column\n",
    "music_dataset[COUNTRY_COLUMN] = music_dataset.apply(\n",
    "    lambda row: get_country(\n",
    "        row[ARTIST_LONGITUDE_COLUMN], \n",
    "        row[ARTIST_LATITUDE_COLUMN],\n",
    "        countries_dict), \n",
    "        axis=1\n",
    "    )"
   ]
  },
  {
   "cell_type": "markdown",
   "metadata": {},
   "source": [
    "Now, let's delete redundant columns in the music dataframe and songs with unknown coutry value."
   ]
  },
  {
   "cell_type": "code",
   "execution_count": 17,
   "metadata": {
    "ExecuteTime": {
     "end_time": "2024-05-21T22:20:00.263795Z",
     "start_time": "2024-05-21T22:20:00.245154Z"
    }
   },
   "outputs": [],
   "source": [
    "music_dataset = music_dataset.drop(\n",
    "    [\n",
    "        ARTIST_LATITUDE_COLUMN,\n",
    "        ARTIST_LONGITUDE_COLUMN,\n",
    "        ARTIST_LOCATION_COLUMN,\n",
    "        SONG_ID_COLUMN,\n",
    "        ARTIST_ID_COLUMN\n",
    "    ], \n",
    "    axis=1)\n",
    "\n",
    "\n",
    "music_dataset = music_dataset[music_dataset[COUNTRY_COLUMN] != UNKNOWN_COUNTRY_VALUE]\n",
    "music_dataset.reset_index(drop=True, inplace=True)"
   ]
  },
  {
   "cell_type": "markdown",
   "metadata": {},
   "source": [
    "Let's select a final batch of 1000 songs to use in our recommendation system."
   ]
  },
  {
   "cell_type": "code",
   "execution_count": 18,
   "metadata": {
    "ExecuteTime": {
     "end_time": "2024-05-21T22:20:00.267570Z",
     "start_time": "2024-05-21T22:20:00.262613Z"
    }
   },
   "outputs": [
    {
     "name": "stdout",
     "output_type": "stream",
     "text": [
      "(1000, 12)\n"
     ]
    }
   ],
   "source": [
    "# returns dataframe with 1000 songs\n",
    "music_dataset = music_dataset.iloc[:1000]\n",
    "\n",
    "print(music_dataset.shape)"
   ]
  },
  {
   "cell_type": "markdown",
   "metadata": {},
   "source": [
    "Let's expend the music dataset by adding a decade column."
   ]
  },
  {
   "cell_type": "code",
   "execution_count": 19,
   "metadata": {
    "ExecuteTime": {
     "end_time": "2024-05-21T22:20:00.339170Z",
     "start_time": "2024-05-21T22:20:00.268873Z"
    }
   },
   "outputs": [
    {
     "data": {
      "text/plain": "                                          song_title  year  \\\n0                                  No One Could Ever  2006   \n1                Don't Save It All For Christmas Day  2004   \n2                                         White Lies  2006   \n3                           Guess Who I Saw In Paris  1999   \n4  No More Birthdays (Phil Spector Folk) / San Fr...  2006   \n\n                     release    tempo  loudness   duration  song_hotttnesss  \\\n0                     Butter  177.768    -2.060  138.97098         0.617871   \n1  Merry Christmas With Love  127.397    -9.149  273.08363         0.732281   \n2                   Rocinate   92.103    -9.323  388.80608         0.417314   \n3                   Sugar Me  105.054   -18.484  170.31791         0.368414   \n4             Born To Please   95.658    -6.141  280.45016         0.000000   \n\n       artist_name  artist_hotttnesss  artist_familiarity            term  \\\n0   Hudson Mohawke           0.437504            0.643681     broken beat   \n1       Clay Aiken           0.500596            0.852100        teen pop   \n2      Ester Drang           0.330889            0.525616        shoegaze   \n3  Claudine Longet           0.377489            0.563184  easy listening   \n4       Sound Team           0.368423            0.590111        art rock   \n\n                    country  decade  \n0            United Kingdom    2000  \n1  United States of America    2000  \n2  United States of America    2000  \n3                    France    1990  \n4  United States of America    2000  ",
      "text/html": "<div>\n<style scoped>\n    .dataframe tbody tr th:only-of-type {\n        vertical-align: middle;\n    }\n\n    .dataframe tbody tr th {\n        vertical-align: top;\n    }\n\n    .dataframe thead th {\n        text-align: right;\n    }\n</style>\n<table border=\"1\" class=\"dataframe\">\n  <thead>\n    <tr style=\"text-align: right;\">\n      <th></th>\n      <th>song_title</th>\n      <th>year</th>\n      <th>release</th>\n      <th>tempo</th>\n      <th>loudness</th>\n      <th>duration</th>\n      <th>song_hotttnesss</th>\n      <th>artist_name</th>\n      <th>artist_hotttnesss</th>\n      <th>artist_familiarity</th>\n      <th>term</th>\n      <th>country</th>\n      <th>decade</th>\n    </tr>\n  </thead>\n  <tbody>\n    <tr>\n      <th>0</th>\n      <td>No One Could Ever</td>\n      <td>2006</td>\n      <td>Butter</td>\n      <td>177.768</td>\n      <td>-2.060</td>\n      <td>138.97098</td>\n      <td>0.617871</td>\n      <td>Hudson Mohawke</td>\n      <td>0.437504</td>\n      <td>0.643681</td>\n      <td>broken beat</td>\n      <td>United Kingdom</td>\n      <td>2000</td>\n    </tr>\n    <tr>\n      <th>1</th>\n      <td>Don't Save It All For Christmas Day</td>\n      <td>2004</td>\n      <td>Merry Christmas With Love</td>\n      <td>127.397</td>\n      <td>-9.149</td>\n      <td>273.08363</td>\n      <td>0.732281</td>\n      <td>Clay Aiken</td>\n      <td>0.500596</td>\n      <td>0.852100</td>\n      <td>teen pop</td>\n      <td>United States of America</td>\n      <td>2000</td>\n    </tr>\n    <tr>\n      <th>2</th>\n      <td>White Lies</td>\n      <td>2006</td>\n      <td>Rocinate</td>\n      <td>92.103</td>\n      <td>-9.323</td>\n      <td>388.80608</td>\n      <td>0.417314</td>\n      <td>Ester Drang</td>\n      <td>0.330889</td>\n      <td>0.525616</td>\n      <td>shoegaze</td>\n      <td>United States of America</td>\n      <td>2000</td>\n    </tr>\n    <tr>\n      <th>3</th>\n      <td>Guess Who I Saw In Paris</td>\n      <td>1999</td>\n      <td>Sugar Me</td>\n      <td>105.054</td>\n      <td>-18.484</td>\n      <td>170.31791</td>\n      <td>0.368414</td>\n      <td>Claudine Longet</td>\n      <td>0.377489</td>\n      <td>0.563184</td>\n      <td>easy listening</td>\n      <td>France</td>\n      <td>1990</td>\n    </tr>\n    <tr>\n      <th>4</th>\n      <td>No More Birthdays (Phil Spector Folk) / San Fr...</td>\n      <td>2006</td>\n      <td>Born To Please</td>\n      <td>95.658</td>\n      <td>-6.141</td>\n      <td>280.45016</td>\n      <td>0.000000</td>\n      <td>Sound Team</td>\n      <td>0.368423</td>\n      <td>0.590111</td>\n      <td>art rock</td>\n      <td>United States of America</td>\n      <td>2000</td>\n    </tr>\n  </tbody>\n</table>\n</div>"
     },
     "execution_count": 19,
     "metadata": {},
     "output_type": "execute_result"
    }
   ],
   "source": [
    "music_dataset[YEAR_COLUMN] = music_dataset[YEAR_COLUMN].astype(int)\n",
    "music_dataset = music_dataset.assign(decade=lambda row: (row[YEAR_COLUMN].astype(int) // 10) * 10)\n",
    "music_dataset.head()"
   ]
  },
  {
   "cell_type": "code",
   "execution_count": 20,
   "metadata": {
    "ExecuteTime": {
     "end_time": "2024-05-21T22:20:00.339528Z",
     "start_time": "2024-05-21T22:20:00.287269Z"
    }
   },
   "outputs": [],
   "source": [
    "# gather decade data for the knowledge graph creation in the upcoming steps\n",
    "min_decade = music_dataset[DECADE_COLUMN].min()\n",
    "max_decade = music_dataset[DECADE_COLUMN].max()\n",
    "decade_array = np.arange(min_decade, max_decade + 10, 10, dtype=int)"
   ]
  },
  {
   "cell_type": "markdown",
   "metadata": {},
   "source": [
    "Finally, let's save the processed dataset to a CSV file for future use."
   ]
  },
  {
   "cell_type": "code",
   "execution_count": 21,
   "metadata": {
    "ExecuteTime": {
     "end_time": "2024-05-21T22:20:00.340381Z",
     "start_time": "2024-05-21T22:20:00.291251Z"
    }
   },
   "outputs": [],
   "source": [
    "if not os.path.isdir(MUSIC_DATA_FOLDER_PATH):\n",
    "    os.mkdir(MUSIC_DATA_FOLDER_PATH)\n",
    "\n",
    "music_dataset.to_csv(f\"{MUSIC_DATA_FOLDER_PATH}/music_dataset.csv\", mode='w+')"
   ]
  },
  {
   "cell_type": "markdown",
   "metadata": {},
   "source": [
    "### Knowledge Graph Creation"
   ]
  },
  {
   "cell_type": "markdown",
   "metadata": {},
   "source": [
    "* Methods"
   ]
  },
  {
   "cell_type": "code",
   "execution_count": 22,
   "metadata": {
    "ExecuteTime": {
     "end_time": "2024-05-21T22:20:00.340633Z",
     "start_time": "2024-05-21T22:20:00.310676Z"
    }
   },
   "outputs": [],
   "source": [
    "def min_max_normalize_column(df, column_name):\n",
    "    \"This method performs min max standardisation\"\n",
    "    min_val = df[column_name].min()\n",
    "    max_val = df[column_name].max()\n",
    "    \n",
    "    if min_val == max_val:\n",
    "        raise ValueError(\"Cannot normalize column when all values are the same.\")\n",
    "    \n",
    "    df[column_name] = (df[column_name] - min_val) / (max_val - min_val)"
   ]
  },
  {
   "cell_type": "markdown",
   "metadata": {},
   "source": [
    "Let's standardise the numeric columns in the music dataset."
   ]
  },
  {
   "cell_type": "code",
   "execution_count": 23,
   "metadata": {
    "ExecuteTime": {
     "end_time": "2024-05-21T22:20:00.343539Z",
     "start_time": "2024-05-21T22:20:00.317901Z"
    }
   },
   "outputs": [
    {
     "data": {
      "text/plain": "                                          song_title      year  \\\n0                                  No One Could Ever  0.927273   \n1                Don't Save It All For Christmas Day  0.890909   \n2                                         White Lies  0.927273   \n3                           Guess Who I Saw In Paris  0.800000   \n4  No More Birthdays (Phil Spector Folk) / San Fr...  0.927273   \n\n                     release     tempo  loudness  duration  song_hotttnesss  \\\n0                     Butter  0.716171  0.961028  0.100247         0.620488   \n1  Merry Christmas With Love  0.513242  0.763265  0.203325         0.735383   \n2                   Rocinate  0.371054  0.758411  0.292268         0.419082   \n3                   Sugar Me  0.423229  0.502846  0.124340         0.369974   \n4             Born To Please  0.385376  0.847180  0.208987         0.000000   \n\n       artist_name  artist_hotttnesss  artist_familiarity            term  \\\n0   Hudson Mohawke           0.511917            0.671199     broken beat   \n1       Clay Aiken           0.585741            0.906486        teen pop   \n2      Ester Drang           0.387169            0.537915        shoegaze   \n3  Claudine Longet           0.441695            0.580325  easy listening   \n4       Sound Team           0.431087            0.610724        art rock   \n\n                    country    decade  \n0            United Kingdom  0.833333  \n1  United States of America  0.833333  \n2  United States of America  0.833333  \n3                    France  0.666667  \n4  United States of America  0.833333  ",
      "text/html": "<div>\n<style scoped>\n    .dataframe tbody tr th:only-of-type {\n        vertical-align: middle;\n    }\n\n    .dataframe tbody tr th {\n        vertical-align: top;\n    }\n\n    .dataframe thead th {\n        text-align: right;\n    }\n</style>\n<table border=\"1\" class=\"dataframe\">\n  <thead>\n    <tr style=\"text-align: right;\">\n      <th></th>\n      <th>song_title</th>\n      <th>year</th>\n      <th>release</th>\n      <th>tempo</th>\n      <th>loudness</th>\n      <th>duration</th>\n      <th>song_hotttnesss</th>\n      <th>artist_name</th>\n      <th>artist_hotttnesss</th>\n      <th>artist_familiarity</th>\n      <th>term</th>\n      <th>country</th>\n      <th>decade</th>\n    </tr>\n  </thead>\n  <tbody>\n    <tr>\n      <th>0</th>\n      <td>No One Could Ever</td>\n      <td>0.927273</td>\n      <td>Butter</td>\n      <td>0.716171</td>\n      <td>0.961028</td>\n      <td>0.100247</td>\n      <td>0.620488</td>\n      <td>Hudson Mohawke</td>\n      <td>0.511917</td>\n      <td>0.671199</td>\n      <td>broken beat</td>\n      <td>United Kingdom</td>\n      <td>0.833333</td>\n    </tr>\n    <tr>\n      <th>1</th>\n      <td>Don't Save It All For Christmas Day</td>\n      <td>0.890909</td>\n      <td>Merry Christmas With Love</td>\n      <td>0.513242</td>\n      <td>0.763265</td>\n      <td>0.203325</td>\n      <td>0.735383</td>\n      <td>Clay Aiken</td>\n      <td>0.585741</td>\n      <td>0.906486</td>\n      <td>teen pop</td>\n      <td>United States of America</td>\n      <td>0.833333</td>\n    </tr>\n    <tr>\n      <th>2</th>\n      <td>White Lies</td>\n      <td>0.927273</td>\n      <td>Rocinate</td>\n      <td>0.371054</td>\n      <td>0.758411</td>\n      <td>0.292268</td>\n      <td>0.419082</td>\n      <td>Ester Drang</td>\n      <td>0.387169</td>\n      <td>0.537915</td>\n      <td>shoegaze</td>\n      <td>United States of America</td>\n      <td>0.833333</td>\n    </tr>\n    <tr>\n      <th>3</th>\n      <td>Guess Who I Saw In Paris</td>\n      <td>0.800000</td>\n      <td>Sugar Me</td>\n      <td>0.423229</td>\n      <td>0.502846</td>\n      <td>0.124340</td>\n      <td>0.369974</td>\n      <td>Claudine Longet</td>\n      <td>0.441695</td>\n      <td>0.580325</td>\n      <td>easy listening</td>\n      <td>France</td>\n      <td>0.666667</td>\n    </tr>\n    <tr>\n      <th>4</th>\n      <td>No More Birthdays (Phil Spector Folk) / San Fr...</td>\n      <td>0.927273</td>\n      <td>Born To Please</td>\n      <td>0.385376</td>\n      <td>0.847180</td>\n      <td>0.208987</td>\n      <td>0.000000</td>\n      <td>Sound Team</td>\n      <td>0.431087</td>\n      <td>0.610724</td>\n      <td>art rock</td>\n      <td>United States of America</td>\n      <td>0.833333</td>\n    </tr>\n  </tbody>\n</table>\n</div>"
     },
     "execution_count": 23,
     "metadata": {},
     "output_type": "execute_result"
    }
   ],
   "source": [
    "normalized_music_dataset = music_dataset.copy()\n",
    "\n",
    "for numeric_column in NUMERIC_COLUMNS_LIST:\n",
    "    min_max_normalize_column(normalized_music_dataset, numeric_column)\n",
    "\n",
    "normalized_music_dataset.head()"
   ]
  },
  {
   "cell_type": "markdown",
   "metadata": {},
   "source": [
    "After standardising the data, we can create the knowledge graph for our system."
   ]
  },
  {
   "cell_type": "code",
   "execution_count": 24,
   "metadata": {
    "ExecuteTime": {
     "end_time": "2024-05-21T22:20:00.343815Z",
     "start_time": "2024-05-21T22:20:00.334458Z"
    }
   },
   "outputs": [],
   "source": [
    "music_graph = nx.Graph()"
   ]
  },
  {
   "cell_type": "code",
   "execution_count": 25,
   "metadata": {
    "ExecuteTime": {
     "end_time": "2024-05-21T22:20:00.497248Z",
     "start_time": "2024-05-21T22:20:00.338099Z"
    }
   },
   "outputs": [],
   "source": [
    "for current_index, current_row in normalized_music_dataset.iterrows():\n",
    "    # creating a data dict that contains numeric data for each song node\n",
    "    node_data_dict = {}\n",
    "\n",
    "    for current_column in NUMERIC_COLUMNS_LIST:\n",
    "        # filling the data dict with the different numeric values for each song node\n",
    "        node_data_dict[current_column] = current_row[current_column]\n",
    "\n",
    "    # adding a song node to the graph with the numeric data\n",
    "    music_graph.add_node(str(current_index), **node_data_dict)"
   ]
  },
  {
   "cell_type": "code",
   "execution_count": 26,
   "metadata": {
    "ExecuteTime": {
     "end_time": "2024-05-21T22:20:00.497710Z",
     "start_time": "2024-05-21T22:20:00.407369Z"
    }
   },
   "outputs": [],
   "source": [
    "# Adding empty nodes for the decades, which function as main nodes\n",
    "# i.e., all the songs from 1950 will be connected to the 1950 node.\n",
    "# This will save complex logic of connecting all the songs from the decade, and ensuring that the resulted graph will be less complicated.\n",
    "for current_decade in decade_array:\n",
    "    node_name = get_attribute_node_name(DECADE_COLUMN, current_decade)\n",
    "    music_graph.add_node(node_name)"
   ]
  },
  {
   "cell_type": "code",
   "execution_count": 27,
   "metadata": {
    "ExecuteTime": {
     "end_time": "2024-05-21T22:20:00.604296Z",
     "start_time": "2024-05-21T22:20:00.429125Z"
    }
   },
   "outputs": [
    {
     "name": "stdout",
     "output_type": "stream",
     "text": [
      "Graph with 1007 nodes and 1000 edges\n"
     ]
    }
   ],
   "source": [
    "# connecting between the song nodes and the main decade nodes\n",
    "for index, row in music_dataset.iterrows():\n",
    "    current_decade = row[DECADE_COLUMN]\n",
    "    node_name = get_attribute_node_name(DECADE_COLUMN, current_decade)\n",
    "    music_graph.add_edge(node_name, str(index))\n",
    "\n",
    "print(music_graph)"
   ]
  },
  {
   "cell_type": "markdown",
   "metadata": {},
   "source": [
    "Finally, let's plot the created Knowledge graph.<br>\n",
    "Please note that this code was taken from the code notebook from week 8."
   ]
  },
  {
   "cell_type": "code",
   "execution_count": 28,
   "metadata": {
    "ExecuteTime": {
     "end_time": "2024-05-21T22:20:06.328041Z",
     "start_time": "2024-05-21T22:20:00.462258Z"
    }
   },
   "outputs": [
    {
     "name": "stderr",
     "output_type": "stream",
     "text": [
      "/Users/mac/anaconda3/lib/python3.11/site-packages/networkx/drawing/nx_pylab.py:433: UserWarning: No data for colormapping provided via 'c'. Parameters 'cmap' will be ignored\n",
      "  node_collection = ax.scatter(\n"
     ]
    },
    {
     "data": {
      "text/plain": "<Figure size 1000x1000 with 1 Axes>",
      "image/png": "[encoded data removed]"
     },
     "metadata": {},
     "output_type": "display_data"
    }
   ],
   "source": [
    "# use spring layout\n",
    "pos = nx.spring_layout(music_graph)\n",
    "\n",
    "# compute degree centrality\n",
    "# degree represents the number of edges from each node,\n",
    "# the centrality allows us to undertsand the more 'popular' nodes\n",
    "cent = nx.degree_centrality(music_graph)\n",
    "cent_array = np.array(list(cent.values()))\n",
    "\n",
    "# size of nodes will be proportional to their popularity\n",
    "node_size = list(map(lambda x: x * 500, cent.values()))\n",
    "\n",
    "plt.figure(figsize=(10, 10))\n",
    "\n",
    "#draw nodes\n",
    "nodes = nx.draw_networkx_nodes(music_graph, pos, node_size=node_size,\n",
    "                               cmap=plt.cm.plasma,\n",
    "                               nodelist=list(cent.keys()))\n",
    "# draw edges\n",
    "edges = nx.draw_networkx_edges(music_graph, pos, width=0.25, alpha=0.3)\n",
    "\n",
    "plt.show()"
   ]
  },
  {
   "cell_type": "markdown",
   "metadata": {},
   "source": [
    "## Node Embedding and KNN Training"
   ]
  },
  {
   "cell_type": "markdown",
   "metadata": {},
   "source": [
    "First, let's embed the song nodes using Node2Vec algorithm."
   ]
  },
  {
   "cell_type": "code",
   "execution_count": 29,
   "metadata": {
    "ExecuteTime": {
     "end_time": "2024-05-21T22:20:41.609106Z",
     "start_time": "2024-05-21T22:20:06.326049Z"
    }
   },
   "outputs": [
    {
     "data": {
      "text/plain": "Computing transition probabilities:   0%|          | 0/1007 [00:00<?, ?it/s]",
      "application/vnd.jupyter.widget-view+json": {
       "version_major": 2,
       "version_minor": 0,
       "model_id": "6eb3ad2bca18412b98ba6b9f48d56ea0"
      }
     },
     "metadata": {},
     "output_type": "display_data"
    },
    {
     "name": "stderr",
     "output_type": "stream",
     "text": [
      "Generating walks (CPU: 2): 100%|██████████| 25/25 [00:04<00:00,  5.43it/s]\n",
      "Generating walks (CPU: 4): 100%|██████████| 25/25 [00:04<00:00,  5.42it/s]\n",
      "Generating walks (CPU: 3): 100%|██████████| 25/25 [00:04<00:00,  5.43it/s]\n",
      "Generating walks (CPU: 1): 100%|██████████| 25/25 [00:04<00:00,  5.38it/s]\n"
     ]
    }
   ],
   "source": [
    "# precompute probabilities and generate walks - **ON WINDOWS ONLY WORKS WITH workers=1**\n",
    "node2vec = Node2Vec(music_graph, dimensions=64, walk_length=10, num_walks=100, workers=4)\n",
    "\n",
    "# embed graph nodes\n",
    "model = node2vec.fit(window=10, min_count=1, batch_words=4)"
   ]
  },
  {
   "cell_type": "code",
   "execution_count": 30,
   "metadata": {
    "ExecuteTime": {
     "end_time": "2024-05-21T22:20:41.670729Z",
     "start_time": "2024-05-21T22:20:41.609498Z"
    }
   },
   "outputs": [],
   "source": [
    "# save embeddings for future use\n",
    "model.wv.save_word2vec_format(f\"{MODELS_FOLDER_PATH}/embedding\")\n",
    "\n",
    "# save model for future use\n",
    "model.save(f\"{MODELS_FOLDER_PATH}/node2vec_model\")"
   ]
  },
  {
   "cell_type": "markdown",
   "metadata": {},
   "source": [
    "Now, we can train an unsupervised version of the KNN classifier using the received embeddings."
   ]
  },
  {
   "cell_type": "code",
   "execution_count": 31,
   "metadata": {
    "ExecuteTime": {
     "end_time": "2024-05-21T22:20:41.683138Z",
     "start_time": "2024-05-21T22:20:41.670152Z"
    }
   },
   "outputs": [],
   "source": [
    "nodes = list(music_graph.nodes())\n",
    "embeddings = np.array([model.wv[str(node)] for node in nodes])\n",
    "nearestNeighborSelector = NearestNeighbors(n_neighbors=6).fit(embeddings)"
   ]
  },
  {
   "cell_type": "markdown",
   "metadata": {},
   "source": [
    "## Recommendation System User Interface"
   ]
  },
  {
   "cell_type": "markdown",
   "metadata": {},
   "source": [
    "* Methods"
   ]
  },
  {
   "cell_type": "code",
   "execution_count": 32,
   "metadata": {
    "ExecuteTime": {
     "end_time": "2024-05-21T22:20:41.683504Z",
     "start_time": "2024-05-21T22:20:41.679255Z"
    }
   },
   "outputs": [],
   "source": [
    "def get_song_id(song_title):\n",
    "    \"This method returns music dataset ID of a given song name\"\n",
    "    matching_songs = music_dataset[music_dataset[SONG_TITLE_COLUMN].str.lower().str.contains(song_title.lower())]\n",
    "    if not matching_songs.empty:\n",
    "        return matching_songs.iloc[0].name\n",
    "    return None"
   ]
  },
  {
   "cell_type": "code",
   "execution_count": 33,
   "metadata": {
    "ExecuteTime": {
     "end_time": "2024-05-21T22:20:41.696922Z",
     "start_time": "2024-05-21T22:20:41.685961Z"
    }
   },
   "outputs": [],
   "source": [
    "def recommend_songs(query):\n",
    "    \"This method displays song recommendations based on given song name\"\n",
    "    user_song_title = query\n",
    "    song_id = get_song_id(user_song_title)\n",
    "\n",
    "    if song_id is not None:\n",
    "        user_song_embed = model.wv[str(song_id)]\n",
    "        distances, indices = nearestNeighborSelector.kneighbors([user_song_embed])\n",
    "        print(\"Similar songs:\")\n",
    "        similar_songs_df = music_dataset.loc[indices[0]]\n",
    "        display(similar_songs_df)\n",
    "    else:\n",
    "        print(\"Song not found in the dataset.\")"
   ]
  },
  {
   "cell_type": "code",
   "execution_count": 34,
   "metadata": {
    "ExecuteTime": {
     "end_time": "2024-05-21T22:20:41.725731Z",
     "start_time": "2024-05-21T22:20:41.692880Z"
    }
   },
   "outputs": [],
   "source": [
    "def recommend_songs_by_query(query_type, query):\n",
    "    \"This method displays song recommendations based on given query type and query value\"\n",
    "    filtered_music_df = music_dataset[music_dataset[query_type].astype(str).str.lower() == str(query).lower()]\n",
    "    \n",
    "    if len(filtered_music_df) > 0:\n",
    "        chosen_song = filtered_music_df.sample(n=1)\n",
    "        recommend_songs(chosen_song[SONG_TITLE_COLUMN].iloc[0])\n",
    "    else:\n",
    "        print(\"No songs found.\")"
   ]
  },
  {
   "cell_type": "markdown",
   "metadata": {},
   "source": [
    "Finally, let's setup the user interface of the system and start using it!"
   ]
  },
  {
   "cell_type": "code",
   "execution_count": 37,
   "metadata": {
    "ExecuteTime": {
     "end_time": "2024-05-21T23:30:46.373521Z",
     "start_time": "2024-05-21T23:30:46.348454Z"
    }
   },
   "outputs": [],
   "source": [
    "user_options_dict = {\n",
    "    1 : [\"song_title\", \"song title\"],\n",
    "    2 : [\"artist_name\", \"artist name\"],\n",
    "    3 : [\"decade\", \"decade\"],\n",
    "    4 : [\"country\", \"country\"],\n",
    "    5 : [\"term\", \"term\"],\n",
    "    6 : [\"year\", \"year\"]\n",
    "}"
   ]
  },
  {
   "cell_type": "code",
   "execution_count": 36,
   "metadata": {
    "ExecuteTime": {
     "end_time": "2024-05-21T22:20:49.690511Z",
     "start_time": "2024-05-21T22:20:41.704015Z"
    }
   },
   "outputs": [
    {
     "name": "stdout",
     "output_type": "stream",
     "text": [
      "Query by: song_title, artist_name, decade, country, term (genre) or year\n",
      "Similar songs:\n"
     ]
    },
    {
     "data": {
      "text/plain": "              song_title  year                           release    tempo  \\\n166  You Got Me Knockin'  1999                      Supernatural   78.721   \n472    Girl Falling Down  1999                 Manage The Damage   91.001   \n665      World Go 'Round  1995                    Tragic Kingdom  146.626   \n461                  Why  1998               Got Another Answer?  121.603   \n766          Good Things  1991    Best Of Bodeans : Slash & Burn  118.508   \n306       Fact & Fiction  1999  Collected Ambient Tracks '94-'05   93.963   \n\n     loudness   duration  song_hotttnesss       artist_name  \\\n166   -12.246  370.72934         0.473347       Robben Ford   \n472   -10.611  235.54567         0.249066  Jimmy Somerville   \n665    -6.837  248.24118         0.639792          No Doubt   \n461    -7.273  178.25914         0.000000        Looking Up   \n766   -12.860  250.95791         0.675329           BoDeans   \n306   -10.153  172.09424         0.249066         Dj Spooky   \n\n     artist_hotttnesss  artist_familiarity            term  \\\n166           0.383877            0.604820      blues-rock   \n472           0.371165            0.595022         europop   \n665           0.557133            0.796498        ska punk   \n461           0.339996            0.537040  christian rock   \n766           0.405967            0.617609      roots rock   \n306           0.390504            0.612327        illbient   \n\n                      country  decade  \n166  United States of America    1990  \n472            United Kingdom    1990  \n665  United States of America    1990  \n461  United States of America    1990  \n766  United States of America    1990  \n306  United States of America    1990  ",
      "text/html": "<div>\n<style scoped>\n    .dataframe tbody tr th:only-of-type {\n        vertical-align: middle;\n    }\n\n    .dataframe tbody tr th {\n        vertical-align: top;\n    }\n\n    .dataframe thead th {\n        text-align: right;\n    }\n</style>\n<table border=\"1\" class=\"dataframe\">\n  <thead>\n    <tr style=\"text-align: right;\">\n      <th></th>\n      <th>song_title</th>\n      <th>year</th>\n      <th>release</th>\n      <th>tempo</th>\n      <th>loudness</th>\n      <th>duration</th>\n      <th>song_hotttnesss</th>\n      <th>artist_name</th>\n      <th>artist_hotttnesss</th>\n      <th>artist_familiarity</th>\n      <th>term</th>\n      <th>country</th>\n      <th>decade</th>\n    </tr>\n  </thead>\n  <tbody>\n    <tr>\n      <th>166</th>\n      <td>You Got Me Knockin'</td>\n      <td>1999</td>\n      <td>Supernatural</td>\n      <td>78.721</td>\n      <td>-12.246</td>\n      <td>370.72934</td>\n      <td>0.473347</td>\n      <td>Robben Ford</td>\n      <td>0.383877</td>\n      <td>0.604820</td>\n      <td>blues-rock</td>\n      <td>United States of America</td>\n      <td>1990</td>\n    </tr>\n    <tr>\n      <th>472</th>\n      <td>Girl Falling Down</td>\n      <td>1999</td>\n      <td>Manage The Damage</td>\n      <td>91.001</td>\n      <td>-10.611</td>\n      <td>235.54567</td>\n      <td>0.249066</td>\n      <td>Jimmy Somerville</td>\n      <td>0.371165</td>\n      <td>0.595022</td>\n      <td>europop</td>\n      <td>United Kingdom</td>\n      <td>1990</td>\n    </tr>\n    <tr>\n      <th>665</th>\n      <td>World Go 'Round</td>\n      <td>1995</td>\n      <td>Tragic Kingdom</td>\n      <td>146.626</td>\n      <td>-6.837</td>\n      <td>248.24118</td>\n      <td>0.639792</td>\n      <td>No Doubt</td>\n      <td>0.557133</td>\n      <td>0.796498</td>\n      <td>ska punk</td>\n      <td>United States of America</td>\n      <td>1990</td>\n    </tr>\n    <tr>\n      <th>461</th>\n      <td>Why</td>\n      <td>1998</td>\n      <td>Got Another Answer?</td>\n      <td>121.603</td>\n      <td>-7.273</td>\n      <td>178.25914</td>\n      <td>0.000000</td>\n      <td>Looking Up</td>\n      <td>0.339996</td>\n      <td>0.537040</td>\n      <td>christian rock</td>\n      <td>United States of America</td>\n      <td>1990</td>\n    </tr>\n    <tr>\n      <th>766</th>\n      <td>Good Things</td>\n      <td>1991</td>\n      <td>Best Of Bodeans : Slash &amp; Burn</td>\n      <td>118.508</td>\n      <td>-12.860</td>\n      <td>250.95791</td>\n      <td>0.675329</td>\n      <td>BoDeans</td>\n      <td>0.405967</td>\n      <td>0.617609</td>\n      <td>roots rock</td>\n      <td>United States of America</td>\n      <td>1990</td>\n    </tr>\n    <tr>\n      <th>306</th>\n      <td>Fact &amp; Fiction</td>\n      <td>1999</td>\n      <td>Collected Ambient Tracks '94-'05</td>\n      <td>93.963</td>\n      <td>-10.153</td>\n      <td>172.09424</td>\n      <td>0.249066</td>\n      <td>Dj Spooky</td>\n      <td>0.390504</td>\n      <td>0.612327</td>\n      <td>illbient</td>\n      <td>United States of America</td>\n      <td>1990</td>\n    </tr>\n  </tbody>\n</table>\n</div>"
     },
     "metadata": {},
     "output_type": "display_data"
    }
   ],
   "source": [
    "try:\n",
    "    print(\"Query by: song_title, artist_name, decade, country, term (genre) or year\")\n",
    "    input_text = \"Enter your query type (provide number only):\"\n",
    "\n",
    "    for user_option_id, user_option in user_options_dict.items():\n",
    "        input_text += f\"\\n{user_option_id} -> {user_option[0]}\"\n",
    "\n",
    "    user_query_input = int(input(input_text))\n",
    "    query_type = user_options_dict[user_query_input][0]\n",
    "    query = input(f\"Enter value for the {user_options_dict[user_query_input][1]}\")\n",
    "\n",
    "    if query_type == 'song_title':\n",
    "        recommend_songs(query)\n",
    "    else:\n",
    "        recommend_songs_by_query(query_type, query)\n",
    "except ValueError as ex:\n",
    "    print('Please provide valid input')"
   ]
  }
 ],
 "metadata": {
  "kernelspec": {
   "display_name": "Python 3.10.5 64-bit",
   "language": "python",
   "name": "python3"
  },
  "language_info": {
   "codemirror_mode": {
    "name": "ipython",
    "version": 3
   },
   "file_extension": ".py",
   "mimetype": "text/x-python",
   "name": "python",
   "nbconvert_exporter": "python",
   "pygments_lexer": "ipython3",
   "version": "3.10.5"
  },
  "orig_nbformat": 4,
  "vscode": {
   "interpreter": {
    "hash": "3a5cfde8991b0f64e8bcd60a397bea8dc10ed042aefe1441fd3daa2ae2091421"
   }
  }
 },
 "nbformat": 4,
 "nbformat_minor": 2
}
